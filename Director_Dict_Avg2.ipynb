{
 "cells": [
  {
   "cell_type": "code",
   "execution_count": 11,
   "id": "b65145cc-c6e5-49ae-ade8-a5c2689f2fb0",
   "metadata": {
    "tags": []
   },
   "outputs": [
    {
     "data": {
      "text/plain": [
       "0                      Nikolai Izvolov, Dziga Vertov\n",
       "1                                           Musidora\n",
       "2                                  Eva López Sánchez\n",
       "3                                      James Mangold\n",
       "4                                    Michael Radford\n",
       "5                                     Hans Steinhoff\n",
       "6                                    Patricio Guzmán\n",
       "7                                    Jürgen Böttcher\n",
       "8                                       Egon Günther\n",
       "9                                  Jerzy Skolimowski\n",
       "10                      Raúl Ruiz, Valeria Sarmiento\n",
       "11                                    Michael Roemer\n",
       "12                                 Gavriil Egiazarov\n",
       "13                                        Zdenek Tyc\n",
       "14                                     Claude d'Anna\n",
       "15                                     Chen-Kuo Chao\n",
       "16                                        Godfrey Ho\n",
       "17                  Cirio H. Santiago, Allan Holzman\n",
       "18                                   Budd Boetticher\n",
       "19                                    Aleksey German\n",
       "20                                      Heiner Carow\n",
       "21                                      Satyajit Ray\n",
       "22                                       Arch Oboler\n",
       "23                                José María Zabalza\n",
       "24                                      Orson Welles\n",
       "25                                         Raúl Ruiz\n",
       "26                      Raúl Ruiz, Valeria Sarmiento\n",
       "27                                      Gyula Gazdag\n",
       "28    Curtis Hanson, Larry Spiegel, Peter S. Traynor\n",
       "29                                   Richard Brander\n",
       "Name: OMDB_Director, dtype: object"
      ]
     },
     "execution_count": 11,
     "metadata": {},
     "output_type": "execute_result"
    }
   ],
   "source": [
    "import pandas as pd\n",
    "\n",
    "# Define the file path\n",
    "file_path = \"Resources/larger_movies_formatted.csv\"\n",
    "\n",
    "# Load the CSV file into a DataFrame\n",
    "df = pd.read_csv(file_path)\n",
    "\n",
    "# Display the DataFrame\n",
    "df['OMDB_Director'].head(30)"
   ]
  },
  {
   "cell_type": "code",
   "execution_count": 12,
   "id": "2f527127-30b4-4af1-bad4-209e62050204",
   "metadata": {
    "tags": []
   },
   "outputs": [],
   "source": [
    "# Initialize an empty dictionary to store director instances\n",
    "director_dict = {}"
   ]
  },
  {
   "cell_type": "code",
   "execution_count": 13,
   "id": "84b171a7-50a1-4442-b131-8f30db7e7d0f",
   "metadata": {
    "tags": []
   },
   "outputs": [],
   "source": [
    "# Initialize a variable to keep track of the running sum of various columns for each director\n",
    "running_sum = {'box_office': {}, 'production_budget': {}, 'metascore': {}, 'imdb_rating': {}}"
   ]
  },
  {
   "cell_type": "code",
   "execution_count": 14,
   "id": "4c556150-ab87-4780-bf81-42388eea1a52",
   "metadata": {
    "tags": []
   },
   "outputs": [
    {
     "ename": "TypeError",
     "evalue": "can only concatenate str (not \"float\") to str",
     "output_type": "error",
     "traceback": [
      "\u001b[1;31m---------------------------------------------------------------------------\u001b[0m",
      "\u001b[1;31mTypeError\u001b[0m                                 Traceback (most recent call last)",
      "Cell \u001b[1;32mIn[14], line 23\u001b[0m\n\u001b[0;32m     20\u001b[0m director_dict[director][\u001b[38;5;124m'\u001b[39m\u001b[38;5;124minstances\u001b[39m\u001b[38;5;124m'\u001b[39m] \u001b[38;5;241m+\u001b[39m\u001b[38;5;241m=\u001b[39m \u001b[38;5;241m1\u001b[39m\n\u001b[0;32m     22\u001b[0m \u001b[38;5;66;03m# Add the values to the running sum for the director\u001b[39;00m\n\u001b[1;32m---> 23\u001b[0m running_sum[\u001b[38;5;124m'\u001b[39m\u001b[38;5;124mbox_office\u001b[39m\u001b[38;5;124m'\u001b[39m][director] \u001b[38;5;241m=\u001b[39m \u001b[43mrunning_sum\u001b[49m\u001b[43m[\u001b[49m\u001b[38;5;124;43m'\u001b[39;49m\u001b[38;5;124;43mbox_office\u001b[39;49m\u001b[38;5;124;43m'\u001b[39;49m\u001b[43m]\u001b[49m\u001b[38;5;241;43m.\u001b[39;49m\u001b[43mget\u001b[49m\u001b[43m(\u001b[49m\u001b[43mdirector\u001b[49m\u001b[43m,\u001b[49m\u001b[43m \u001b[49m\u001b[38;5;241;43m0\u001b[39;49m\u001b[43m)\u001b[49m\u001b[43m \u001b[49m\u001b[38;5;241;43m+\u001b[39;49m\u001b[43m \u001b[49m\u001b[43mbox_office\u001b[49m\n\u001b[0;32m     24\u001b[0m running_sum[\u001b[38;5;124m'\u001b[39m\u001b[38;5;124mmetascore\u001b[39m\u001b[38;5;124m'\u001b[39m][director] \u001b[38;5;241m=\u001b[39m running_sum[\u001b[38;5;124m'\u001b[39m\u001b[38;5;124mmetascore\u001b[39m\u001b[38;5;124m'\u001b[39m]\u001b[38;5;241m.\u001b[39mget(director, \u001b[38;5;241m0\u001b[39m) \u001b[38;5;241m+\u001b[39m metascore\n\u001b[0;32m     25\u001b[0m running_sum[\u001b[38;5;124m'\u001b[39m\u001b[38;5;124mimdb_rating\u001b[39m\u001b[38;5;124m'\u001b[39m][director] \u001b[38;5;241m=\u001b[39m running_sum[\u001b[38;5;124m'\u001b[39m\u001b[38;5;124mimdb_rating\u001b[39m\u001b[38;5;124m'\u001b[39m]\u001b[38;5;241m.\u001b[39mget(director, \u001b[38;5;241m0\u001b[39m) \u001b[38;5;241m+\u001b[39m imdb_rating\n",
      "\u001b[1;31mTypeError\u001b[0m: can only concatenate str (not \"float\") to str"
     ]
    }
   ],
   "source": [
    "# Iterate through the DataFrame rows\n",
    "for index, row in df.iterrows():\n",
    "    # Get director names from the 'OMDB_Director' column\n",
    "    directors = row['OMDB_Director']\n",
    "    \n",
    "    # Check if the value is not NaN and is a string\n",
    "    if pd.notna(directors) and isinstance(directors, str):\n",
    "        # Split director names separated by commas\n",
    "        director_list = [director.strip() for director in directors.split(',')]\n",
    "        \n",
    "        # Get the corresponding values for various columns\n",
    "        box_office = row['OMDB_BoxOffice']\n",
    "        metascore = row['OMDB_Metascore']\n",
    "        imdb_rating = row['OMDB_imdbRating']\n",
    "        \n",
    "        # Iterate through director names and update the director_dict\n",
    "        for director in director_list:\n",
    "            if director in director_dict:\n",
    "                # Increment the instance count if the director is already in the dictionary\n",
    "                director_dict[director]['instances'] += 1\n",
    "                \n",
    "                # Add the values to the running sum for the director\n",
    "                running_sum['box_office'][director] = running_sum['box_office'].get(director, 0) + box_office\n",
    "                running_sum['metascore'][director] = running_sum['metascore'].get(director, 0) + metascore\n",
    "                running_sum['imdb_rating'][director] = running_sum['imdb_rating'].get(director, 0) + imdb_rating\n",
    "                \n",
    "                # Update the total values in the director_dict\n",
    "                director_dict[director]['total_box_office'] = running_sum['box_office'][director]\n",
    "                director_dict[director]['total_metascore'] = running_sum['metascore'][director]\n",
    "                director_dict[director]['total_imdb_rating'] = running_sum['imdb_rating'][director]\n",
    "            else:\n",
    "                # Add the director to the dictionary with an initial instance count of 1\n",
    "                director_dict[director] = {\n",
    "                    'instances': 1,\n",
    "                    'total_box_office': box_office,\n",
    "                    'total_metascore': metascore,\n",
    "                    'total_imdb_rating': imdb_rating\n",
    "                }\n",
    "                \n",
    "                # Initialize the running sum for the director\n",
    "                running_sum['box_office'][director] = box_office\n",
    "                running_sum['metascore'][director] = metascore\n",
    "                running_sum['imdb_rating'][director] = imdb_rating\n"
   ]
  },
  {
   "cell_type": "code",
   "execution_count": 5,
   "id": "2a72b0d3-1faf-4a53-b18f-7ac088eec6e1",
   "metadata": {
    "tags": []
   },
   "outputs": [],
   "source": [
    "# Display the populated director dictionary\n",
    "#print(director_dict)"
   ]
  },
  {
   "cell_type": "code",
   "execution_count": 6,
   "id": "4fb84813-b4ce-41f3-a055-a9f71c3f77e8",
   "metadata": {
    "tags": []
   },
   "outputs": [],
   "source": [
    "# Initialize an empty dictionary to store writer instances and running totals\n",
    "writer_dict = {}\n",
    "# Initialize a variable to keep track of the running sum of various columns for each writer\n",
    "running_sum_writers = {'box_office': {}, 'production_budget': {}, 'metascore': {}, 'imdb_rating': {}}"
   ]
  },
  {
   "cell_type": "code",
   "execution_count": 7,
   "id": "551277bb-3c4d-4818-9ca7-32a902f8c1be",
   "metadata": {
    "tags": []
   },
   "outputs": [],
   "source": [
    "# Iterate through the DataFrame rows\n",
    "for index, row in df.iterrows():\n",
    "    # Get writer names from the 'OMDB_Writer' column\n",
    "    writers = row['OMDB_Writer']\n",
    "    \n",
    "    # Check if the value is not NaN and is a string\n",
    "    if pd.notna(writers) and isinstance(writers, str):\n",
    "        # Split writer names separated by commas\n",
    "        writer_list = [writer.strip() for writer in writers.split(',')]\n",
    "        \n",
    "        # Get the corresponding values for various columns\n",
    "        box_office = row['OMDB_BoxOffice']\n",
    "        \n",
    "        # Check if 'OMDB_Metascore' column is present in the DataFrame\n",
    "        if 'OMDB_Metascore' in df.columns:\n",
    "            metascore = row['OMDB_Metascore']\n",
    "        else:\n",
    "            metascore = 0  # Set a default value if the column is not present\n",
    "        \n",
    "        # Check if 'OMDB_imdbRating' column is present in the DataFrame\n",
    "        if 'OMDB_imdbRating' in df.columns:\n",
    "            imdb_rating = row['OMDB_imdbRating']\n",
    "        else:\n",
    "            imdb_rating = 0  # Set a default value if the column is not present\n",
    "        \n",
    "        # Iterate through writer names and update the writer_dict\n",
    "        for writer in writer_list:\n",
    "            if writer in writer_dict:\n",
    "                # Increment the instance count if the writer is already in the dictionary\n",
    "                writer_dict[writer]['instances'] += 1\n",
    "                \n",
    "                # Add the values to the running sum for the writer\n",
    "                running_sum_writers['box_office'][writer] = running_sum_writers['box_office'].get(writer, 0) + box_office\n",
    "                running_sum_writers['production_budget'][writer] = running_sum_writers['production_budget'].get(writer, 0) + production_budget\n",
    "                running_sum_writers['metascore'][writer] = running_sum_writers['metascore'].get(writer, 0) + metascore\n",
    "                running_sum_writers['imdb_rating'][writer] = running_sum_writers['imdb_rating'].get(writer, 0) + imdb_rating\n",
    "                \n",
    "                # Update the total values in the writer_dict\n",
    "                writer_dict[writer]['total_box_office'] = running_sum_writers['box_office'][writer]\n",
    "                writer_dict[writer]['total_production_budget'] = running_sum_writers['production_budget'][writer]\n",
    "                writer_dict[writer]['total_metascore'] = running_sum_writers['metascore'][writer]\n",
    "                writer_dict[writer]['total_imdb_rating'] = running_sum_writers['imdb_rating'][writer]\n",
    "            else:\n",
    "                # Add the writer to the dictionary with an initial instance count of 1\n",
    "                writer_dict[writer] = {\n",
    "                    'instances': 1,\n",
    "                    'total_box_office': box_office,\n",
    "                    'total_production_budget': production_budget,\n",
    "                    'total_metascore': metascore,\n",
    "                    'total_imdb_rating': imdb_rating\n",
    "                }\n",
    "                \n",
    "                # Initialize the running sum for the writer\n",
    "                running_sum_writers['box_office'][writer] = box_office\n",
    "                running_sum_writers['production_budget'][writer] = production_budget\n",
    "                running_sum_writers['metascore'][writer] = metascore\n",
    "                running_sum_writers['imdb_rating'][writer] = imdb_rating"
   ]
  },
  {
   "cell_type": "code",
   "execution_count": 8,
   "id": "a1cc5648-1e3d-42d4-96d9-a65f2b3c220b",
   "metadata": {
    "tags": []
   },
   "outputs": [],
   "source": [
    "# Display the populated writer dictionary\n",
    "#print(writer_dict)"
   ]
  },
  {
   "cell_type": "code",
   "execution_count": 9,
   "id": "7905db2b-a1ad-40fd-8832-c0ac042c5ab8",
   "metadata": {
    "tags": []
   },
   "outputs": [],
   "source": [
    "# Initialize an empty dictionary to store actor instances and running totals\n",
    "actor_dict = {}\n",
    "\n",
    "# Initialize a variable to keep track of the running sum of various columns for each actor\n",
    "running_sum_actors = {'box_office': {}, 'production_budget': {}, 'metascore': {}, 'imdb_rating': {}}\n"
   ]
  },
  {
   "cell_type": "code",
   "execution_count": 10,
   "id": "a7d01189-3fb5-4895-8fcd-b16d2e47206b",
   "metadata": {
    "tags": []
   },
   "outputs": [],
   "source": [
    "# Iterate through the DataFrame rows\n",
    "for index, row in df.iterrows():\n",
    "    # Get actor names from the 'OMDB_Actors' column\n",
    "    actors = row['OMDB_Actors']\n",
    "    \n",
    "    # Check if the value is not NaN and is a string\n",
    "    if pd.notna(actors) and isinstance(actors, str):\n",
    "        # Split actor names separated by commas\n",
    "        actor_list = [actor.strip() for actor in actors.split(',')]\n",
    "        \n",
    "        # Get the corresponding values for various columns\n",
    "        box_office = row['OMDB_BoxOffice']\n",
    "        \n",
    "        # Check if 'OMDB_Metascore' column is present in the DataFrame\n",
    "        if 'OMDB_Metascore' in df.columns:\n",
    "            metascore = row['OMDB_Metascore']\n",
    "        else:\n",
    "            metascore = 0  # Set a default value if the column is not present\n",
    "        \n",
    "        # Check if 'OMDB_imdbRating' column is present in the DataFrame\n",
    "        if 'OMDB_imdbRating' in df.columns:\n",
    "            imdb_rating = row['OMDB_imdbRating']\n",
    "        else:\n",
    "            imdb_rating = 0  # Set a default value if the column is not present\n",
    "        \n",
    "        # Iterate through actor names and update the actor_dict\n",
    "        for actor in actor_list:\n",
    "            if actor in actor_dict:\n",
    "                # Increment the instance count if the actor is already in the dictionary\n",
    "                actor_dict[actor]['instances'] += 1\n",
    "                \n",
    "                # Add the values to the running sum for the actor\n",
    "                running_sum_actors['box_office'][actor] = running_sum_actors['box_office'].get(actor, 0) + box_office\n",
    "                running_sum_actors['production_budget'][actor] = running_sum_actors['production_budget'].get(actor, 0) + production_budget\n",
    "                running_sum_actors['metascore'][actor] = running_sum_actors['metascore'].get(actor, 0) + metascore\n",
    "                running_sum_actors['imdb_rating'][actor] = running_sum_actors['imdb_rating'].get(actor, 0) + imdb_rating\n",
    "                \n",
    "                # Update the total values in the actor_dict\n",
    "                actor_dict[actor]['total_box_office'] = running_sum_actors['box_office'][actor]\n",
    "                actor_dict[actor]['total_production_budget'] = running_sum_actors['production_budget'][actor]\n",
    "                actor_dict[actor]['total_metascore'] = running_sum_actors['metascore'][actor]\n",
    "                actor_dict[actor]['total_imdb_rating'] = running_sum_actors['imdb_rating'][actor]\n",
    "            else:\n",
    "                # Add the actor to the dictionary with an initial instance count of 1\n",
    "                actor_dict[actor] = {\n",
    "                    'instances': 1,\n",
    "                    'total_box_office': box_office,\n",
    "                    'total_production_budget': production_budget,\n",
    "                    'total_metascore': metascore,\n",
    "                    'total_imdb_rating': imdb_rating\n",
    "                }\n",
    "                \n",
    "                # Initialize the running sum for the actor\n",
    "                running_sum_actors['box_office'][actor] = box_office\n",
    "                running_sum_actors['production_budget'][actor] = production_budget\n",
    "                running_sum_actors['metascore'][actor] = metascore\n",
    "                running_sum_actors['imdb_rating'][actor] = imdb_rating\n"
   ]
  },
  {
   "cell_type": "code",
   "execution_count": null,
   "id": "c17ea26f-fc32-4e0b-8214-dd332070ef3b",
   "metadata": {
    "tags": []
   },
   "outputs": [],
   "source": [
    "# Display the populated actor dictionary\n",
    "#print(actor_dict)"
   ]
  },
  {
   "cell_type": "code",
   "execution_count": 12,
   "id": "c94bf848-d247-41cb-b81e-7cd9596076a8",
   "metadata": {
    "tags": []
   },
   "outputs": [],
   "source": [
    "import csv\n",
    "import math  # Import math to handle nan\n",
    "# Specify the file path for the CSV file\n",
    "output_csv_path_director = 'Resources/larger_director_data_avg.csv'\n",
    "output_csv_path_writer = 'Resources/larger_data_avg.csv'\n",
    "output_csv_path_actor = 'Resources/larger_data_avg.csv'"
   ]
  },
  {
   "cell_type": "code",
   "execution_count": 13,
   "id": "dd45bc59-1b8e-401b-8cdd-923bc9802cc9",
   "metadata": {
    "tags": []
   },
   "outputs": [],
   "source": [
    "# Define the column headers based on the structure of the dictionary\n",
    "column_headers_director = ['Director', 'Instances', 'Total_Box_Office', 'Total_Production_Budget', 'Total_Metascore', 'Total_IMDB_Rating', 'Average_Box_Office', 'Average_IMDB_Rating', 'Success_Metric']\n",
    "# Define the column headers based on the structure of the dictionary\n",
    "column_headers_writer = ['Writer', 'Instances', 'Total_Box_Office', 'Total_Production_Budget', 'Total_Metascore', 'Total_IMDB_Rating', 'Average_Box_Office', 'Average_IMDB_Rating', 'Success_Metric']\n",
    "# Define the column headers based on the structure of the dictionary\n",
    "column_headers_actor = ['Actor', 'Instances', 'Total_Box_Office', 'Total_Production_Budget', 'Total_Metascore', 'Total_IMDB_Rating', 'Average_Box_Office', 'Average_IMDB_Rating', 'Success_Metric']\n"
   ]
  },
  {
   "cell_type": "code",
   "execution_count": 17,
   "id": "c58f4ddc-e168-41af-95aa-4f192a4a3490",
   "metadata": {
    "tags": []
   },
   "outputs": [],
   "source": [
    "# Write director data to CSV\n",
    "with open(output_csv_path_director, 'w', newline='', encoding='utf-8') as csvfile:\n",
    "    writer = csv.DictWriter(csvfile, fieldnames=column_headers_director)\n",
    "    \n",
    "    # Write the header\n",
    "    writer.writeheader()\n",
    "    \n",
    "    # Write the data\n",
    "    for director, data in director_dict.items():\n",
    "        writer.writerow({'Director': director, 'Instances': data['instances'], \n",
    "                         'Total_Box_Office': data['total_box_office'], \n",
    "                         'Total_Production_Budget': data['total_production_budget'], \n",
    "                         'Total_Metascore': data['total_metascore'], \n",
    "                         'Total_IMDB_Rating': data['total_imdb_rating'],\n",
    "                         'Average_Box_Office': data['total_box_office']/data['instances'],\n",
    "                         'Average_IMDB_Rating': data['total_imdb_rating']/data['instances'],\n",
    "                         'Success_Metric': (data['total_imdb_rating']/data['instances'] + data['total_box_office']/data['instances']/50000000)\n",
    "                        })\n"
   ]
  },
  {
   "cell_type": "code",
   "execution_count": 18,
   "id": "db34e215-718c-4a48-aebd-ab5f4096c807",
   "metadata": {
    "tags": []
   },
   "outputs": [],
   "source": [
    "# Write actor data to CSV\n",
    "with open(output_csv_path_actor, 'w', newline='', encoding='utf-8') as csvfile:\n",
    "    writer = csv.DictWriter(csvfile, fieldnames=column_headers_actor)\n",
    "    \n",
    "    # Write the header\n",
    "    writer.writeheader()\n",
    "    \n",
    "    # Write the data\n",
    "    for actor, data in actor_dict.items():\n",
    "        writer.writerow({'Actor': actor, 'Instances': data['instances'], \n",
    "                         'Total_Box_Office': data['total_box_office'], \n",
    "                         'Total_Production_Budget': data['total_production_budget'], \n",
    "                         'Total_Metascore': data['total_metascore'], \n",
    "                         'Total_IMDB_Rating': data['total_imdb_rating'],\n",
    "                         'Average_Box_Office': data['total_box_office']/data['instances'],\n",
    "                         'Average_IMDB_Rating': data['total_imdb_rating']/data['instances'],\n",
    "                         'Success_Metric': (data['total_imdb_rating']/data['instances'] + data['total_box_office']/data['instances']/50000000)\n",
    "                        })\n"
   ]
  },
  {
   "cell_type": "code",
   "execution_count": 19,
   "id": "1e4cf90e-db96-4663-ab63-fbe7e5eb3858",
   "metadata": {
    "tags": []
   },
   "outputs": [],
   "source": [
    "# Write writer data to CSV\n",
    "with open(output_csv_path_writer, 'w', newline='', encoding='utf-8') as csvfile:\n",
    "    writer = csv.DictWriter(csvfile, fieldnames=column_headers_writer)\n",
    "    \n",
    "    # Write the header\n",
    "    writer.writeheader()\n",
    "    \n",
    "    # Write the data\n",
    "    for writer_value, data in writer_dict.items():\n",
    "        writer.writerow({'Writer': writer_value, 'Instances': data['instances'], \n",
    "                         'Total_Box_Office': data['total_box_office'], \n",
    "                         'Total_Production_Budget': data['total_production_budget'], \n",
    "                         'Total_Metascore': data['total_metascore'], \n",
    "                         'Total_IMDB_Rating': data['total_imdb_rating'],\n",
    "                         'Average_Box_Office': data['total_box_office']/data['instances'],\n",
    "                         'Average_IMDB_Rating': data['total_imdb_rating']/data['instances'],\n",
    "                         'Success_Metric': (data['total_imdb_rating']/data['instances'] + data['total_box_office']/data['instances']/50000000)\n",
    "                        })\n"
   ]
  },
  {
   "cell_type": "code",
   "execution_count": null,
   "id": "1a0dbbc6-8ccd-4093-80d1-796a3840844b",
   "metadata": {},
   "outputs": [],
   "source": []
  }
 ],
 "metadata": {
  "kernelspec": {
   "display_name": "Python 3 (ipykernel)",
   "language": "python",
   "name": "python3"
  },
  "language_info": {
   "codemirror_mode": {
    "name": "ipython",
    "version": 3
   },
   "file_extension": ".py",
   "mimetype": "text/x-python",
   "name": "python",
   "nbconvert_exporter": "python",
   "pygments_lexer": "ipython3",
   "version": "3.10.11"
  }
 },
 "nbformat": 4,
 "nbformat_minor": 5
}
