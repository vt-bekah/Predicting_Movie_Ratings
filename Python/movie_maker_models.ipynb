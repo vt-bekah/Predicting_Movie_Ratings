{
 "cells": [
  {
   "cell_type": "markdown",
   "metadata": {
    "id": "Xklk3cDrVzx-"
   },
   "source": [
    "## Load Data"
   ]
  },
  {
   "cell_type": "code",
   "execution_count": 1,
   "metadata": {
    "colab": {
     "base_uri": "https://localhost:8080/",
     "height": 206
    },
    "id": "o82ihmoMVzyA",
    "outputId": "5ac99d53-20fd-4097-cb52-bf864b0118dc",
    "tags": []
   },
   "outputs": [
    {
     "name": "stdout",
     "output_type": "stream",
     "text": [
      "Using TensorFlow backend\n"
     ]
    },
    {
     "data": {
      "text/html": [
       "<div>\n",
       "<style scoped>\n",
       "    .dataframe tbody tr th:only-of-type {\n",
       "        vertical-align: middle;\n",
       "    }\n",
       "\n",
       "    .dataframe tbody tr th {\n",
       "        vertical-align: top;\n",
       "    }\n",
       "\n",
       "    .dataframe thead th {\n",
       "        text-align: right;\n",
       "    }\n",
       "</style>\n",
       "<table border=\"1\" class=\"dataframe\">\n",
       "  <thead>\n",
       "    <tr style=\"text-align: right;\">\n",
       "      <th></th>\n",
       "      <th>Unnamed: 0</th>\n",
       "      <th>Movie</th>\n",
       "      <th>ProductionBudget</th>\n",
       "      <th>DomesticGross</th>\n",
       "      <th>WorldwideGross</th>\n",
       "      <th>OMDB_Title</th>\n",
       "      <th>OMDB_Rated</th>\n",
       "      <th>OMDB_Runtime</th>\n",
       "      <th>OMDB_Genre</th>\n",
       "      <th>OMDB_Director</th>\n",
       "      <th>...</th>\n",
       "      <th>ReleaseMonth</th>\n",
       "      <th>Director_Avg_Box</th>\n",
       "      <th>Director_Avg_Rating</th>\n",
       "      <th>Director_Score</th>\n",
       "      <th>Writer_Avg_Box</th>\n",
       "      <th>Writer_Avg_Rating</th>\n",
       "      <th>Writer_Score</th>\n",
       "      <th>Actor_Avg_Box</th>\n",
       "      <th>Actor_Avg_Rating</th>\n",
       "      <th>Actor_Score</th>\n",
       "    </tr>\n",
       "  </thead>\n",
       "  <tbody>\n",
       "    <tr>\n",
       "      <th>0</th>\n",
       "      <td>0</td>\n",
       "      <td>Avatar: The Way of Water</td>\n",
       "      <td>460000000</td>\n",
       "      <td>684075767</td>\n",
       "      <td>2319591720</td>\n",
       "      <td>Avatar: The Way of Water</td>\n",
       "      <td>teens</td>\n",
       "      <td>192.0</td>\n",
       "      <td>Action, Adventure, Fantasy</td>\n",
       "      <td>James Cameron</td>\n",
       "      <td>...</td>\n",
       "      <td>12.0</td>\n",
       "      <td>3.342183e+08</td>\n",
       "      <td>7.91</td>\n",
       "      <td>14.60</td>\n",
       "      <td>2.850750e+08</td>\n",
       "      <td>7.33</td>\n",
       "      <td>13.03</td>\n",
       "      <td>1.616679e+08</td>\n",
       "      <td>6.53</td>\n",
       "      <td>9.77</td>\n",
       "    </tr>\n",
       "    <tr>\n",
       "      <th>1</th>\n",
       "      <td>1</td>\n",
       "      <td>Avengers: Endgame</td>\n",
       "      <td>400000000</td>\n",
       "      <td>858373000</td>\n",
       "      <td>2788912285</td>\n",
       "      <td>Avengers: Endgame</td>\n",
       "      <td>teens</td>\n",
       "      <td>181.0</td>\n",
       "      <td>Action, Adventure, Drama</td>\n",
       "      <td>Anthony Russo, Joe Russo</td>\n",
       "      <td>...</td>\n",
       "      <td>4.0</td>\n",
       "      <td>NaN</td>\n",
       "      <td>7.18</td>\n",
       "      <td>NaN</td>\n",
       "      <td>4.218914e+08</td>\n",
       "      <td>7.16</td>\n",
       "      <td>15.53</td>\n",
       "      <td>1.688389e+08</td>\n",
       "      <td>6.97</td>\n",
       "      <td>10.38</td>\n",
       "    </tr>\n",
       "    <tr>\n",
       "      <th>2</th>\n",
       "      <td>2</td>\n",
       "      <td>Pirates of the Caribbean: On Stranger Tides</td>\n",
       "      <td>379000000</td>\n",
       "      <td>241071802</td>\n",
       "      <td>1045713802</td>\n",
       "      <td>Pirates of the Caribbean: On Stranger Tides</td>\n",
       "      <td>teens</td>\n",
       "      <td>136.0</td>\n",
       "      <td>Action, Adventure, Fantasy</td>\n",
       "      <td>Rob Marshall</td>\n",
       "      <td>...</td>\n",
       "      <td>5.0</td>\n",
       "      <td>1.314813e+08</td>\n",
       "      <td>6.58</td>\n",
       "      <td>9.21</td>\n",
       "      <td>1.762009e+08</td>\n",
       "      <td>6.81</td>\n",
       "      <td>10.33</td>\n",
       "      <td>8.391134e+07</td>\n",
       "      <td>6.50</td>\n",
       "      <td>8.44</td>\n",
       "    </tr>\n",
       "    <tr>\n",
       "      <th>3</th>\n",
       "      <td>3</td>\n",
       "      <td>Avengers: Age of Ultron</td>\n",
       "      <td>365000000</td>\n",
       "      <td>459005868</td>\n",
       "      <td>1395316979</td>\n",
       "      <td>Avengers: Age of Ultron</td>\n",
       "      <td>teens</td>\n",
       "      <td>141.0</td>\n",
       "      <td>Action, Adventure, Sci-Fi</td>\n",
       "      <td>Joss Whedon</td>\n",
       "      <td>...</td>\n",
       "      <td>5.0</td>\n",
       "      <td>3.513501e+08</td>\n",
       "      <td>7.78</td>\n",
       "      <td>14.81</td>\n",
       "      <td>3.273985e+08</td>\n",
       "      <td>6.71</td>\n",
       "      <td>13.71</td>\n",
       "      <td>1.688389e+08</td>\n",
       "      <td>6.97</td>\n",
       "      <td>10.38</td>\n",
       "    </tr>\n",
       "    <tr>\n",
       "      <th>4</th>\n",
       "      <td>4</td>\n",
       "      <td>Fast X</td>\n",
       "      <td>340000000</td>\n",
       "      <td>145960660</td>\n",
       "      <td>714414576</td>\n",
       "      <td>Fast X</td>\n",
       "      <td>teens</td>\n",
       "      <td>141.0</td>\n",
       "      <td>Action, Adventure, Crime</td>\n",
       "      <td>Louis Leterrier</td>\n",
       "      <td>...</td>\n",
       "      <td>5.0</td>\n",
       "      <td>1.081561e+08</td>\n",
       "      <td>6.31</td>\n",
       "      <td>8.48</td>\n",
       "      <td>9.776042e+07</td>\n",
       "      <td>5.97</td>\n",
       "      <td>7.81</td>\n",
       "      <td>9.731984e+07</td>\n",
       "      <td>6.17</td>\n",
       "      <td>8.09</td>\n",
       "    </tr>\n",
       "  </tbody>\n",
       "</table>\n",
       "<p>5 rows × 30 columns</p>\n",
       "</div>"
      ],
      "text/plain": [
       "   Unnamed: 0                                        Movie  ProductionBudget  \\\n",
       "0           0                     Avatar: The Way of Water         460000000   \n",
       "1           1                            Avengers: Endgame         400000000   \n",
       "2           2  Pirates of the Caribbean: On Stranger Tides         379000000   \n",
       "3           3                      Avengers: Age of Ultron         365000000   \n",
       "4           4                                       Fast X         340000000   \n",
       "\n",
       "   DomesticGross  WorldwideGross                                   OMDB_Title  \\\n",
       "0      684075767      2319591720                     Avatar: The Way of Water   \n",
       "1      858373000      2788912285                            Avengers: Endgame   \n",
       "2      241071802      1045713802  Pirates of the Caribbean: On Stranger Tides   \n",
       "3      459005868      1395316979                      Avengers: Age of Ultron   \n",
       "4      145960660       714414576                                       Fast X   \n",
       "\n",
       "  OMDB_Rated  OMDB_Runtime                  OMDB_Genre  \\\n",
       "0      teens         192.0  Action, Adventure, Fantasy   \n",
       "1      teens         181.0    Action, Adventure, Drama   \n",
       "2      teens         136.0  Action, Adventure, Fantasy   \n",
       "3      teens         141.0   Action, Adventure, Sci-Fi   \n",
       "4      teens         141.0    Action, Adventure, Crime   \n",
       "\n",
       "              OMDB_Director  ... ReleaseMonth Director_Avg_Box  \\\n",
       "0             James Cameron  ...         12.0     3.342183e+08   \n",
       "1  Anthony Russo, Joe Russo  ...          4.0              NaN   \n",
       "2              Rob Marshall  ...          5.0     1.314813e+08   \n",
       "3               Joss Whedon  ...          5.0     3.513501e+08   \n",
       "4           Louis Leterrier  ...          5.0     1.081561e+08   \n",
       "\n",
       "  Director_Avg_Rating Director_Score  Writer_Avg_Box  Writer_Avg_Rating  \\\n",
       "0                7.91          14.60    2.850750e+08               7.33   \n",
       "1                7.18            NaN    4.218914e+08               7.16   \n",
       "2                6.58           9.21    1.762009e+08               6.81   \n",
       "3                7.78          14.81    3.273985e+08               6.71   \n",
       "4                6.31           8.48    9.776042e+07               5.97   \n",
       "\n",
       "   Writer_Score  Actor_Avg_Box Actor_Avg_Rating  Actor_Score  \n",
       "0         13.03   1.616679e+08             6.53         9.77  \n",
       "1         15.53   1.688389e+08             6.97        10.38  \n",
       "2         10.33   8.391134e+07             6.50         8.44  \n",
       "3         13.71   1.688389e+08             6.97        10.38  \n",
       "4          7.81   9.731984e+07             6.17         8.09  \n",
       "\n",
       "[5 rows x 30 columns]"
      ]
     },
     "execution_count": 1,
     "metadata": {},
     "output_type": "execute_result"
    }
   ],
   "source": [
    "# Import our dependencies\n",
    "from sklearn.model_selection import train_test_split\n",
    "from sklearn.preprocessing import StandardScaler\n",
    "from sklearn.ensemble import RandomForestClassifier, RandomForestRegressor\n",
    "from sklearn.metrics import confusion_matrix, accuracy_score, classification_report, mean_squared_error\n",
    "import pandas as pd\n",
    "import tensorflow as tf\n",
    "from tensorflow import keras\n",
    "import keras_tuner as kt\n",
    "\n",
    "#  Import and read the data\n",
    "application_df = pd.read_csv(\"./Resources/Numbers_OMDB_FINAL.csv\")\n",
    "application_df.head()"
   ]
  },
  {
   "cell_type": "code",
   "execution_count": 2,
   "metadata": {
    "tags": []
   },
   "outputs": [
    {
     "data": {
      "text/plain": [
       "Index(['Unnamed: 0', 'Movie', 'ProductionBudget', 'DomesticGross',\n",
       "       'WorldwideGross', 'OMDB_Title', 'OMDB_Rated', 'OMDB_Runtime',\n",
       "       'OMDB_Genre', 'OMDB_Director', 'OMDB_Writer', 'OMDB_Actors',\n",
       "       'OMDB_Language', 'OMDB_Country', 'OMDB_Metascore', 'OMDB_imdbRating',\n",
       "       'OMDB_imdbVotes', 'OMDB_BoxOffice', 'OMDB_Production', 'ReleaseYear',\n",
       "       'ReleaseMonth', 'Director_Avg_Box', 'Director_Avg_Rating',\n",
       "       'Director_Score', 'Writer_Avg_Box', 'Writer_Avg_Rating', 'Writer_Score',\n",
       "       'Actor_Avg_Box', 'Actor_Avg_Rating', 'Actor_Score'],\n",
       "      dtype='object')"
      ]
     },
     "execution_count": 2,
     "metadata": {},
     "output_type": "execute_result"
    }
   ],
   "source": [
    "application_df.columns"
   ]
  },
  {
   "cell_type": "markdown",
   "metadata": {},
   "source": [
    "## Select the data to be used in the model\n",
    "\n",
    "**Features**\n",
    "* Our customer is the Writer, Director combo evaluating how the movie might do before pulling in actors so we are using Writer & Director ratings\n",
    "* While our initial data review did not show a relationship between release month and movie rating, it did show a relationship to box office returns so we are going to keep it in as a potential complex additive\n",
    "* Budget alone had almost no relationship with movie rating; however, we are going to keep it in as a potential complex additive\n",
    "* Runtime showed a very small relationship to IMDB rating alone\n",
    "\n",
    "Note: kids vs. teens vs. adults as considered but showed little relevance in early experiments\n",
    "\n",
    "**Target**\n",
    "\n",
    "Our customers want to understand how popular the movie will be so we will be using the IMDB Rating."
   ]
  },
  {
   "cell_type": "code",
   "execution_count": 3,
   "metadata": {},
   "outputs": [
    {
     "name": "stdout",
     "output_type": "stream",
     "text": [
      "5542\n"
     ]
    },
    {
     "data": {
      "text/html": [
       "<div>\n",
       "<style scoped>\n",
       "    .dataframe tbody tr th:only-of-type {\n",
       "        vertical-align: middle;\n",
       "    }\n",
       "\n",
       "    .dataframe tbody tr th {\n",
       "        vertical-align: top;\n",
       "    }\n",
       "\n",
       "    .dataframe thead th {\n",
       "        text-align: right;\n",
       "    }\n",
       "</style>\n",
       "<table border=\"1\" class=\"dataframe\">\n",
       "  <thead>\n",
       "    <tr style=\"text-align: right;\">\n",
       "      <th></th>\n",
       "      <th>ProductionBudget</th>\n",
       "      <th>Director_Avg_Rating</th>\n",
       "      <th>OMDB_Runtime</th>\n",
       "      <th>ReleaseMonth</th>\n",
       "      <th>Writer_Avg_Rating</th>\n",
       "      <th>OMDB_imdbRating</th>\n",
       "    </tr>\n",
       "  </thead>\n",
       "  <tbody>\n",
       "    <tr>\n",
       "      <th>0</th>\n",
       "      <td>460000000</td>\n",
       "      <td>7.91</td>\n",
       "      <td>192.0</td>\n",
       "      <td>12.0</td>\n",
       "      <td>7.33</td>\n",
       "      <td>7.6</td>\n",
       "    </tr>\n",
       "    <tr>\n",
       "      <th>1</th>\n",
       "      <td>400000000</td>\n",
       "      <td>7.18</td>\n",
       "      <td>181.0</td>\n",
       "      <td>4.0</td>\n",
       "      <td>7.16</td>\n",
       "      <td>8.4</td>\n",
       "    </tr>\n",
       "    <tr>\n",
       "      <th>2</th>\n",
       "      <td>379000000</td>\n",
       "      <td>6.58</td>\n",
       "      <td>136.0</td>\n",
       "      <td>5.0</td>\n",
       "      <td>6.81</td>\n",
       "      <td>6.6</td>\n",
       "    </tr>\n",
       "    <tr>\n",
       "      <th>3</th>\n",
       "      <td>365000000</td>\n",
       "      <td>7.78</td>\n",
       "      <td>141.0</td>\n",
       "      <td>5.0</td>\n",
       "      <td>6.71</td>\n",
       "      <td>7.3</td>\n",
       "    </tr>\n",
       "    <tr>\n",
       "      <th>4</th>\n",
       "      <td>340000000</td>\n",
       "      <td>6.31</td>\n",
       "      <td>141.0</td>\n",
       "      <td>5.0</td>\n",
       "      <td>5.97</td>\n",
       "      <td>5.8</td>\n",
       "    </tr>\n",
       "  </tbody>\n",
       "</table>\n",
       "</div>"
      ],
      "text/plain": [
       "   ProductionBudget  Director_Avg_Rating  OMDB_Runtime  ReleaseMonth  \\\n",
       "0         460000000                 7.91         192.0          12.0   \n",
       "1         400000000                 7.18         181.0           4.0   \n",
       "2         379000000                 6.58         136.0           5.0   \n",
       "3         365000000                 7.78         141.0           5.0   \n",
       "4         340000000                 6.31         141.0           5.0   \n",
       "\n",
       "   Writer_Avg_Rating  OMDB_imdbRating  \n",
       "0               7.33              7.6  \n",
       "1               7.16              8.4  \n",
       "2               6.81              6.6  \n",
       "3               6.71              7.3  \n",
       "4               5.97              5.8  "
      ]
     },
     "execution_count": 3,
     "metadata": {},
     "output_type": "execute_result"
    }
   ],
   "source": [
    "# Create the dataframe for the features and target\n",
    "df_rating = application_df[['ProductionBudget', 'Director_Avg_Rating', 'OMDB_Runtime', \n",
    "                            'ReleaseMonth', 'Writer_Avg_Rating', 'OMDB_imdbRating']]\n",
    "# Drop rows with NaN values\n",
    "df_rating = df_rating.dropna()\n",
    "\n",
    "# View the dataframe and row count\n",
    "print(len(df_rating))\n",
    "df_rating.head()"
   ]
  },
  {
   "cell_type": "markdown",
   "metadata": {},
   "source": [
    "## Split the data into training and test sets"
   ]
  },
  {
   "cell_type": "code",
   "execution_count": 4,
   "metadata": {},
   "outputs": [],
   "source": [
    "# Define features as X, target as y\n",
    "y = df_rating['OMDB_imdbRating']\n",
    "X = df_rating.drop(columns='OMDB_imdbRating')\n",
    "\n",
    "# Split the data into training and testing sets\n",
    "X_train, X_test, y_train, y_test = train_test_split(X, y, test_size=0.2, random_state=42)"
   ]
  },
  {
   "cell_type": "markdown",
   "metadata": {},
   "source": [
    "## Scale the data"
   ]
  },
  {
   "cell_type": "code",
   "execution_count": 5,
   "metadata": {
    "tags": []
   },
   "outputs": [],
   "source": [
    "# Create a StandardScaler instances\n",
    "scaler = StandardScaler()\n",
    "\n",
    "# Fit the StandardScaler\n",
    "X_scaler = scaler.fit(X_train)\n",
    "\n",
    "# Scale the data\n",
    "X_train_scaled = X_scaler.transform(X_train)\n",
    "X_test_scaled = X_scaler.transform(X_test)"
   ]
  },
  {
   "cell_type": "markdown",
   "metadata": {},
   "source": [
    "## Define the Random Forest Regression model; train it, test it, evaluate it"
   ]
  },
  {
   "cell_type": "code",
   "execution_count": 6,
   "metadata": {
    "tags": []
   },
   "outputs": [
    {
     "name": "stdout",
     "output_type": "stream",
     "text": [
      "Mean Squared Error: 0.20949117132551856\n"
     ]
    },
    {
     "data": {
      "text/plain": [
       "[(0.7650085946133273, 'Writer_Avg_Rating'),\n",
       " (0.1506891806639987, 'Director_Avg_Rating'),\n",
       " (0.034104837973160156, 'ProductionBudget'),\n",
       " (0.03110344823736731, 'OMDB_Runtime'),\n",
       " (0.019093938512146535, 'ReleaseMonth')]"
      ]
     },
     "execution_count": 6,
     "metadata": {},
     "output_type": "execute_result"
    }
   ],
   "source": [
    "# Initialize the Random Forest Regressor\n",
    "rf_model_rating = RandomForestRegressor(n_estimators=100, random_state=42)\n",
    "\n",
    "# Train the model\n",
    "rf_model_rating.fit(X_train_scaled, y_train)\n",
    "\n",
    "# Make predictions on the test set\n",
    "rating_predictions = rf_model_rating.predict(X_test_scaled)\n",
    "\n",
    "# Evaluate the model\n",
    "mse = mean_squared_error(y_test, rating_predictions)\n",
    "print(f'Mean Squared Error: {mse}')\n",
    "\n",
    "# Random Forests in sklearn will automatically calculate feature importance\n",
    "importances = rf_model_rating.feature_importances_\n",
    "# We can sort the features by their importance\n",
    "sorted(zip(rf_model_rating.feature_importances_, X.columns), reverse=True)"
   ]
  },
  {
   "cell_type": "markdown",
   "metadata": {
    "tags": []
   },
   "source": [
    "## Plot the predictions and actuals together for Test Data"
   ]
  },
  {
   "cell_type": "code",
   "execution_count": 7,
   "metadata": {
    "tags": []
   },
   "outputs": [
    {
     "data": {
      "image/png": "[encoded data removed]",
      "text/plain": [
       "<Figure size 640x480 with 1 Axes>"
      ]
     },
     "metadata": {},
     "output_type": "display_data"
    }
   ],
   "source": [
    "# Create a dataframe for the actual and prediction values\n",
    "test_compare = pd.DataFrame({'orig_index':y_test.index, 'actual':y_test.values})\n",
    "test_compare['predictions'] = rating_predictions\n",
    "test_compare = test_compare.sort_values('actual').reset_index(drop=True)\n",
    "\n",
    "# Plot the dataframe\n",
    "# test_compare = test_compare[['predictions', 'actual']]\n",
    "test_lines = test_compare[['predictions', 'actual']].plot.line()"
   ]
  },
  {
   "cell_type": "markdown",
   "metadata": {},
   "source": [
    "## Check model predictions of training data against actual training data"
   ]
  },
  {
   "cell_type": "code",
   "execution_count": 8,
   "metadata": {
    "tags": []
   },
   "outputs": [
    {
     "data": {
      "text/plain": [
       "0.02545556778705168"
      ]
     },
     "execution_count": 8,
     "metadata": {},
     "output_type": "execute_result"
    }
   ],
   "source": [
    "# Check the model against the training data - if mse is much lower than the model is overfitting\n",
    "y_train_pred = rf_model_rating.predict(X_train_scaled)\n",
    "mse_train = mean_squared_error(y_train, y_train_pred)\n",
    "mse_train"
   ]
  },
  {
   "cell_type": "markdown",
   "metadata": {},
   "source": [
    "## Plot the predictions and actuals together for Training Data"
   ]
  },
  {
   "cell_type": "code",
   "execution_count": 9,
   "metadata": {},
   "outputs": [
    {
     "data": {
      "image/png": "[encoded data removed]",
      "text/plain": [
       "<Figure size 640x480 with 1 Axes>"
      ]
     },
     "metadata": {},
     "output_type": "display_data"
    }
   ],
   "source": [
    "# Create a dataframe for the actual and prediction values\n",
    "train_compare = pd.DataFrame({'orig_index':y_train.index, 'actual':y_train.values})\n",
    "train_compare['predictions'] = y_train_pred\n",
    "train_compare = train_compare.sort_values('actual').reset_index(drop=True)\n",
    "\n",
    "# Plot the dataframe\n",
    "# train_compare = train_compare[['predictions', 'actual']]\n",
    "train_lines = train_compare[['predictions', 'actual']].plot.line()"
   ]
  },
  {
   "cell_type": "markdown",
   "metadata": {},
   "source": [
    "# Applying Keras Tuner"
   ]
  },
  {
   "cell_type": "code",
   "execution_count": 10,
   "metadata": {
    "tags": []
   },
   "outputs": [],
   "source": [
    "# Define the keras tuner parameters\n",
    "def create_model(hp):\n",
    "    movie_model = tf.keras.models.Sequential()\n",
    "\n",
    "    # Allow kerastuner to decide which activation function to use in hidden layers\n",
    "    activation = hp.Choice('activation',['relu','tanh','sigmoid'])\n",
    "\n",
    "    # Allow kerastuner to decide which optimizer\n",
    "    optimizer = hp.Choice('opt', values=['adam', 'sgd', 'rmsprop'])\n",
    "    \n",
    "    # Allow kerastuner to decide number of neurons in first layer\n",
    "    movie_model.add(tf.keras.layers.Dense(units=hp.Int('first_units', min_value=1, max_value=10, step=2), \n",
    "                                          activation=activation, input_dim=5))\n",
    "\n",
    "    # Allow kerastuner to decide number of hidden layers and neurons in hidden layers\n",
    "    for i in range(hp.Int('num_layers', 1, 6)):\n",
    "        movie_model.add(tf.keras.layers.Dense(units=hp.Int('units_' + str(i),\n",
    "            min_value=1,\n",
    "            max_value=10,\n",
    "            step=2),\n",
    "            activation=activation))\n",
    "\n",
    "    movie_model.add(tf.keras.layers.Dense(units=1, activation=\"sigmoid\"))\n",
    "\n",
    "    # learning_rate = hp.Choice('learning_rate', values=[1e-2, 1e-3, 1e-4])\n",
    "    \n",
    "    # Compile the model\n",
    "    movie_model.compile(loss=\"mse\", optimizer=optimizer, metrics=[tf.keras.metrics.MeanSquaredError()])\n",
    "\n",
    "    return movie_model"
   ]
  },
  {
   "cell_type": "code",
   "execution_count": 11,
   "metadata": {
    "tags": []
   },
   "outputs": [
    {
     "name": "stdout",
     "output_type": "stream",
     "text": [
      "Reloading Tuner from .\\movie_makers\\tuner0.json\n"
     ]
    }
   ],
   "source": [
    "tuner = kt.Hyperband(\n",
    "    create_model,\n",
    "    objective=\"val_loss\",\n",
    "    max_epochs=20,\n",
    "    hyperband_iterations=2, \n",
    "    project_name='movie_makers')"
   ]
  },
  {
   "cell_type": "code",
   "execution_count": 12,
   "metadata": {
    "tags": []
   },
   "outputs": [],
   "source": [
    "# Run the kerastuner search for best hyperparameters\n",
    "tuner.search(X_train_scaled,y_train,epochs=20,validation_data=(X_test_scaled,y_test))"
   ]
  },
  {
   "cell_type": "code",
   "execution_count": 13,
   "metadata": {
    "tags": []
   },
   "outputs": [
    {
     "data": {
      "text/plain": [
       "{'activation': 'relu',\n",
       " 'opt': 'rmsprop',\n",
       " 'first_units': 5,\n",
       " 'num_layers': 2,\n",
       " 'units_0': 9,\n",
       " 'units_1': 5,\n",
       " 'units_2': 7,\n",
       " 'units_3': 7,\n",
       " 'units_4': 7,\n",
       " 'units_5': 7,\n",
       " 'tuner/epochs': 20,\n",
       " 'tuner/initial_epoch': 7,\n",
       " 'tuner/bracket': 1,\n",
       " 'tuner/round': 1,\n",
       " 'tuner/trial_id': '0050'}"
      ]
     },
     "execution_count": 13,
     "metadata": {},
     "output_type": "execute_result"
    }
   ],
   "source": [
    "# Get best model hyperparameters\n",
    "best_hyper = tuner.get_best_hyperparameters(1)[0]\n",
    "best_hyper.values"
   ]
  },
  {
   "cell_type": "code",
   "execution_count": 14,
   "metadata": {
    "tags": []
   },
   "outputs": [
    {
     "name": "stdout",
     "output_type": "stream",
     "text": [
      "35/35 - 0s - loss: 29.3803 - mean_squared_error: 29.3803 - 306ms/epoch - 9ms/step\n",
      "Loss: 29.38028907775879, MSE: 29.38028907775879\n"
     ]
    }
   ],
   "source": [
    "# Evaluate best model against full test data\n",
    "best_model = tuner.get_best_models(1)[0]\n",
    "model_loss, model_accuracy = best_model.evaluate(X_test_scaled,y_test,verbose=2)\n",
    "print(f\"Loss: {model_loss}, MSE: {model_accuracy}\")"
   ]
  },
  {
   "cell_type": "code",
   "execution_count": 15,
   "metadata": {
    "tags": []
   },
   "outputs": [
    {
     "name": "stdout",
     "output_type": "stream",
     "text": [
      "139/139 - 0s - loss: 29.5945 - mean_squared_error: 29.5945 - 280ms/epoch - 2ms/step\n",
      "Loss: 29.594507217407227, MSE: 29.594507217407227\n"
     ]
    }
   ],
   "source": [
    "# Check the model against the training data - if mse is much lower than the model is overtraining\n",
    "model_loss_train, model_accuracy_train = best_model.evaluate(X_train_scaled,y_train,verbose=2)\n",
    "print(f\"Loss: {model_loss_train}, MSE: {model_accuracy_train}\")"
   ]
  },
  {
   "cell_type": "code",
   "execution_count": 16,
   "metadata": {
    "tags": []
   },
   "outputs": [
    {
     "name": "stdout",
     "output_type": "stream",
     "text": [
      "Model: \"sequential\"\n",
      "_________________________________________________________________\n",
      " Layer (type)                Output Shape              Param #   \n",
      "=================================================================\n",
      " dense (Dense)               (None, 5)                 30        \n",
      "                                                                 \n",
      " dense_1 (Dense)             (None, 9)                 54        \n",
      "                                                                 \n",
      " dense_2 (Dense)             (None, 5)                 50        \n",
      "                                                                 \n",
      " dense_3 (Dense)             (None, 1)                 6         \n",
      "                                                                 \n",
      "=================================================================\n",
      "Total params: 140 (560.00 Byte)\n",
      "Trainable params: 140 (560.00 Byte)\n",
      "Non-trainable params: 0 (0.00 Byte)\n",
      "_________________________________________________________________\n"
     ]
    }
   ],
   "source": [
    "best_model.summary()"
   ]
  },
  {
   "cell_type": "markdown",
   "metadata": {},
   "source": [
    "# Merge Dataframes to have a single Dataframe of Features + Target + Prediction"
   ]
  },
  {
   "cell_type": "code",
   "execution_count": 17,
   "metadata": {
    "tags": []
   },
   "outputs": [
    {
     "name": "stdout",
     "output_type": "stream",
     "text": [
      "df_rating length: 5542\n"
     ]
    },
    {
     "data": {
      "text/html": [
       "<div>\n",
       "<style scoped>\n",
       "    .dataframe tbody tr th:only-of-type {\n",
       "        vertical-align: middle;\n",
       "    }\n",
       "\n",
       "    .dataframe tbody tr th {\n",
       "        vertical-align: top;\n",
       "    }\n",
       "\n",
       "    .dataframe thead th {\n",
       "        text-align: right;\n",
       "    }\n",
       "</style>\n",
       "<table border=\"1\" class=\"dataframe\">\n",
       "  <thead>\n",
       "    <tr style=\"text-align: right;\">\n",
       "      <th></th>\n",
       "      <th>ProductionBudget</th>\n",
       "      <th>Director_Avg_Rating</th>\n",
       "      <th>OMDB_Runtime</th>\n",
       "      <th>ReleaseMonth</th>\n",
       "      <th>Writer_Avg_Rating</th>\n",
       "      <th>OMDB_imdbRating</th>\n",
       "    </tr>\n",
       "  </thead>\n",
       "  <tbody>\n",
       "    <tr>\n",
       "      <th>0</th>\n",
       "      <td>460000000</td>\n",
       "      <td>7.91</td>\n",
       "      <td>192.0</td>\n",
       "      <td>12.0</td>\n",
       "      <td>7.33</td>\n",
       "      <td>7.6</td>\n",
       "    </tr>\n",
       "    <tr>\n",
       "      <th>1</th>\n",
       "      <td>400000000</td>\n",
       "      <td>7.18</td>\n",
       "      <td>181.0</td>\n",
       "      <td>4.0</td>\n",
       "      <td>7.16</td>\n",
       "      <td>8.4</td>\n",
       "    </tr>\n",
       "  </tbody>\n",
       "</table>\n",
       "</div>"
      ],
      "text/plain": [
       "   ProductionBudget  Director_Avg_Rating  OMDB_Runtime  ReleaseMonth  \\\n",
       "0         460000000                 7.91         192.0          12.0   \n",
       "1         400000000                 7.18         181.0           4.0   \n",
       "\n",
       "   Writer_Avg_Rating  OMDB_imdbRating  \n",
       "0               7.33              7.6  \n",
       "1               7.16              8.4  "
      ]
     },
     "execution_count": 17,
     "metadata": {},
     "output_type": "execute_result"
    }
   ],
   "source": [
    "print(f'df_rating length: {len(df_rating)}')\n",
    "df_rating.head(2)"
   ]
  },
  {
   "cell_type": "code",
   "execution_count": 18,
   "metadata": {
    "tags": []
   },
   "outputs": [
    {
     "name": "stdout",
     "output_type": "stream",
     "text": [
      "test_compare length: 1109\n"
     ]
    },
    {
     "data": {
      "text/html": [
       "<div>\n",
       "<style scoped>\n",
       "    .dataframe tbody tr th:only-of-type {\n",
       "        vertical-align: middle;\n",
       "    }\n",
       "\n",
       "    .dataframe tbody tr th {\n",
       "        vertical-align: top;\n",
       "    }\n",
       "\n",
       "    .dataframe thead th {\n",
       "        text-align: right;\n",
       "    }\n",
       "</style>\n",
       "<table border=\"1\" class=\"dataframe\">\n",
       "  <thead>\n",
       "    <tr style=\"text-align: right;\">\n",
       "      <th></th>\n",
       "      <th>orig_index</th>\n",
       "      <th>actual</th>\n",
       "      <th>predictions</th>\n",
       "    </tr>\n",
       "  </thead>\n",
       "  <tbody>\n",
       "    <tr>\n",
       "      <th>0</th>\n",
       "      <td>2732</td>\n",
       "      <td>1.9</td>\n",
       "      <td>3.023</td>\n",
       "    </tr>\n",
       "    <tr>\n",
       "      <th>1</th>\n",
       "      <td>4101</td>\n",
       "      <td>2.1</td>\n",
       "      <td>2.239</td>\n",
       "    </tr>\n",
       "    <tr>\n",
       "      <th>2</th>\n",
       "      <td>460</td>\n",
       "      <td>2.3</td>\n",
       "      <td>2.137</td>\n",
       "    </tr>\n",
       "  </tbody>\n",
       "</table>\n",
       "</div>"
      ],
      "text/plain": [
       "   orig_index  actual  predictions\n",
       "0        2732     1.9        3.023\n",
       "1        4101     2.1        2.239\n",
       "2         460     2.3        2.137"
      ]
     },
     "execution_count": 18,
     "metadata": {},
     "output_type": "execute_result"
    }
   ],
   "source": [
    "print(f'test_compare length: {len(test_compare)}')\n",
    "test_compare.head(3)"
   ]
  },
  {
   "cell_type": "code",
   "execution_count": 19,
   "metadata": {
    "tags": []
   },
   "outputs": [
    {
     "name": "stdout",
     "output_type": "stream",
     "text": [
      "train_compare length: 4433\n"
     ]
    },
    {
     "data": {
      "text/html": [
       "<div>\n",
       "<style scoped>\n",
       "    .dataframe tbody tr th:only-of-type {\n",
       "        vertical-align: middle;\n",
       "    }\n",
       "\n",
       "    .dataframe tbody tr th {\n",
       "        vertical-align: top;\n",
       "    }\n",
       "\n",
       "    .dataframe thead th {\n",
       "        text-align: right;\n",
       "    }\n",
       "</style>\n",
       "<table border=\"1\" class=\"dataframe\">\n",
       "  <thead>\n",
       "    <tr style=\"text-align: right;\">\n",
       "      <th></th>\n",
       "      <th>orig_index</th>\n",
       "      <th>actual</th>\n",
       "      <th>predictions</th>\n",
       "    </tr>\n",
       "  </thead>\n",
       "  <tbody>\n",
       "    <tr>\n",
       "      <th>0</th>\n",
       "      <td>1422</td>\n",
       "      <td>1.3</td>\n",
       "      <td>1.501</td>\n",
       "    </tr>\n",
       "    <tr>\n",
       "      <th>1</th>\n",
       "      <td>2760</td>\n",
       "      <td>1.5</td>\n",
       "      <td>1.825</td>\n",
       "    </tr>\n",
       "  </tbody>\n",
       "</table>\n",
       "</div>"
      ],
      "text/plain": [
       "   orig_index  actual  predictions\n",
       "0        1422     1.3        1.501\n",
       "1        2760     1.5        1.825"
      ]
     },
     "execution_count": 19,
     "metadata": {},
     "output_type": "execute_result"
    }
   ],
   "source": [
    "print(f'train_compare length: {len(train_compare)}')\n",
    "train_compare.head(2)"
   ]
  },
  {
   "cell_type": "code",
   "execution_count": 20,
   "metadata": {
    "tags": []
   },
   "outputs": [
    {
     "name": "stdout",
     "output_type": "stream",
     "text": [
      "predict_compare length: 5542\n"
     ]
    },
    {
     "data": {
      "text/html": [
       "<div>\n",
       "<style scoped>\n",
       "    .dataframe tbody tr th:only-of-type {\n",
       "        vertical-align: middle;\n",
       "    }\n",
       "\n",
       "    .dataframe tbody tr th {\n",
       "        vertical-align: top;\n",
       "    }\n",
       "\n",
       "    .dataframe thead th {\n",
       "        text-align: right;\n",
       "    }\n",
       "</style>\n",
       "<table border=\"1\" class=\"dataframe\">\n",
       "  <thead>\n",
       "    <tr style=\"text-align: right;\">\n",
       "      <th></th>\n",
       "      <th>orig_index</th>\n",
       "      <th>actual</th>\n",
       "      <th>predictions</th>\n",
       "    </tr>\n",
       "  </thead>\n",
       "  <tbody>\n",
       "    <tr>\n",
       "      <th>0</th>\n",
       "      <td>2732</td>\n",
       "      <td>1.9</td>\n",
       "      <td>3.023</td>\n",
       "    </tr>\n",
       "    <tr>\n",
       "      <th>1</th>\n",
       "      <td>4101</td>\n",
       "      <td>2.1</td>\n",
       "      <td>2.239</td>\n",
       "    </tr>\n",
       "  </tbody>\n",
       "</table>\n",
       "</div>"
      ],
      "text/plain": [
       "   orig_index  actual  predictions\n",
       "0        2732     1.9        3.023\n",
       "1        4101     2.1        2.239"
      ]
     },
     "execution_count": 20,
     "metadata": {},
     "output_type": "execute_result"
    }
   ],
   "source": [
    "predict_compare = pd.concat([test_compare, train_compare])\n",
    "print(f'predict_compare length: {len(predict_compare)}')\n",
    "predict_compare.head(2)"
   ]
  },
  {
   "cell_type": "code",
   "execution_count": 21,
   "metadata": {
    "tags": []
   },
   "outputs": [
    {
     "data": {
      "text/html": [
       "<div>\n",
       "<style scoped>\n",
       "    .dataframe tbody tr th:only-of-type {\n",
       "        vertical-align: middle;\n",
       "    }\n",
       "\n",
       "    .dataframe tbody tr th {\n",
       "        vertical-align: top;\n",
       "    }\n",
       "\n",
       "    .dataframe thead th {\n",
       "        text-align: right;\n",
       "    }\n",
       "</style>\n",
       "<table border=\"1\" class=\"dataframe\">\n",
       "  <thead>\n",
       "    <tr style=\"text-align: right;\">\n",
       "      <th></th>\n",
       "      <th>ProductionBudget</th>\n",
       "      <th>Director_Avg_Rating</th>\n",
       "      <th>OMDB_Runtime</th>\n",
       "      <th>ReleaseMonth</th>\n",
       "      <th>Writer_Avg_Rating</th>\n",
       "      <th>OMDB_imdbRating</th>\n",
       "      <th>orig_index</th>\n",
       "      <th>actual</th>\n",
       "      <th>predictions</th>\n",
       "    </tr>\n",
       "  </thead>\n",
       "  <tbody>\n",
       "    <tr>\n",
       "      <th>0</th>\n",
       "      <td>460000000</td>\n",
       "      <td>7.91</td>\n",
       "      <td>192.0</td>\n",
       "      <td>12.0</td>\n",
       "      <td>7.33</td>\n",
       "      <td>7.6</td>\n",
       "      <td>0</td>\n",
       "      <td>7.6</td>\n",
       "      <td>7.766</td>\n",
       "    </tr>\n",
       "    <tr>\n",
       "      <th>1</th>\n",
       "      <td>400000000</td>\n",
       "      <td>7.18</td>\n",
       "      <td>181.0</td>\n",
       "      <td>4.0</td>\n",
       "      <td>7.16</td>\n",
       "      <td>8.4</td>\n",
       "      <td>1</td>\n",
       "      <td>8.4</td>\n",
       "      <td>8.268</td>\n",
       "    </tr>\n",
       "    <tr>\n",
       "      <th>2</th>\n",
       "      <td>379000000</td>\n",
       "      <td>6.58</td>\n",
       "      <td>136.0</td>\n",
       "      <td>5.0</td>\n",
       "      <td>6.81</td>\n",
       "      <td>6.6</td>\n",
       "      <td>2</td>\n",
       "      <td>6.6</td>\n",
       "      <td>6.655</td>\n",
       "    </tr>\n",
       "    <tr>\n",
       "      <th>3</th>\n",
       "      <td>365000000</td>\n",
       "      <td>7.78</td>\n",
       "      <td>141.0</td>\n",
       "      <td>5.0</td>\n",
       "      <td>6.71</td>\n",
       "      <td>7.3</td>\n",
       "      <td>3</td>\n",
       "      <td>7.3</td>\n",
       "      <td>7.287</td>\n",
       "    </tr>\n",
       "    <tr>\n",
       "      <th>4</th>\n",
       "      <td>340000000</td>\n",
       "      <td>6.31</td>\n",
       "      <td>141.0</td>\n",
       "      <td>5.0</td>\n",
       "      <td>5.97</td>\n",
       "      <td>5.8</td>\n",
       "      <td>4</td>\n",
       "      <td>5.8</td>\n",
       "      <td>5.714</td>\n",
       "    </tr>\n",
       "    <tr>\n",
       "      <th>...</th>\n",
       "      <td>...</td>\n",
       "      <td>...</td>\n",
       "      <td>...</td>\n",
       "      <td>...</td>\n",
       "      <td>...</td>\n",
       "      <td>...</td>\n",
       "      <td>...</td>\n",
       "      <td>...</td>\n",
       "      <td>...</td>\n",
       "    </tr>\n",
       "    <tr>\n",
       "      <th>5537</th>\n",
       "      <td>7000</td>\n",
       "      <td>6.00</td>\n",
       "      <td>80.0</td>\n",
       "      <td>3.0</td>\n",
       "      <td>6.00</td>\n",
       "      <td>6.0</td>\n",
       "      <td>5665</td>\n",
       "      <td>6.0</td>\n",
       "      <td>6.016</td>\n",
       "    </tr>\n",
       "    <tr>\n",
       "      <th>5538</th>\n",
       "      <td>7000</td>\n",
       "      <td>7.80</td>\n",
       "      <td>84.0</td>\n",
       "      <td>4.0</td>\n",
       "      <td>7.80</td>\n",
       "      <td>7.8</td>\n",
       "      <td>5666</td>\n",
       "      <td>7.8</td>\n",
       "      <td>7.784</td>\n",
       "    </tr>\n",
       "    <tr>\n",
       "      <th>5539</th>\n",
       "      <td>7000</td>\n",
       "      <td>6.50</td>\n",
       "      <td>86.0</td>\n",
       "      <td>6.0</td>\n",
       "      <td>5.62</td>\n",
       "      <td>5.0</td>\n",
       "      <td>5667</td>\n",
       "      <td>5.0</td>\n",
       "      <td>6.169</td>\n",
       "    </tr>\n",
       "    <tr>\n",
       "      <th>5540</th>\n",
       "      <td>6000</td>\n",
       "      <td>8.19</td>\n",
       "      <td>69.0</td>\n",
       "      <td>11.0</td>\n",
       "      <td>8.18</td>\n",
       "      <td>7.5</td>\n",
       "      <td>5668</td>\n",
       "      <td>7.5</td>\n",
       "      <td>7.783</td>\n",
       "    </tr>\n",
       "    <tr>\n",
       "      <th>5541</th>\n",
       "      <td>1400</td>\n",
       "      <td>5.70</td>\n",
       "      <td>76.0</td>\n",
       "      <td>1.0</td>\n",
       "      <td>5.70</td>\n",
       "      <td>5.7</td>\n",
       "      <td>5670</td>\n",
       "      <td>5.7</td>\n",
       "      <td>5.685</td>\n",
       "    </tr>\n",
       "  </tbody>\n",
       "</table>\n",
       "<p>5542 rows × 9 columns</p>\n",
       "</div>"
      ],
      "text/plain": [
       "      ProductionBudget  Director_Avg_Rating  OMDB_Runtime  ReleaseMonth  \\\n",
       "0            460000000                 7.91         192.0          12.0   \n",
       "1            400000000                 7.18         181.0           4.0   \n",
       "2            379000000                 6.58         136.0           5.0   \n",
       "3            365000000                 7.78         141.0           5.0   \n",
       "4            340000000                 6.31         141.0           5.0   \n",
       "...                ...                  ...           ...           ...   \n",
       "5537              7000                 6.00          80.0           3.0   \n",
       "5538              7000                 7.80          84.0           4.0   \n",
       "5539              7000                 6.50          86.0           6.0   \n",
       "5540              6000                 8.19          69.0          11.0   \n",
       "5541              1400                 5.70          76.0           1.0   \n",
       "\n",
       "      Writer_Avg_Rating  OMDB_imdbRating  orig_index  actual  predictions  \n",
       "0                  7.33              7.6           0     7.6        7.766  \n",
       "1                  7.16              8.4           1     8.4        8.268  \n",
       "2                  6.81              6.6           2     6.6        6.655  \n",
       "3                  6.71              7.3           3     7.3        7.287  \n",
       "4                  5.97              5.8           4     5.8        5.714  \n",
       "...                 ...              ...         ...     ...          ...  \n",
       "5537               6.00              6.0        5665     6.0        6.016  \n",
       "5538               7.80              7.8        5666     7.8        7.784  \n",
       "5539               5.62              5.0        5667     5.0        6.169  \n",
       "5540               8.18              7.5        5668     7.5        7.783  \n",
       "5541               5.70              5.7        5670     5.7        5.685  \n",
       "\n",
       "[5542 rows x 9 columns]"
      ]
     },
     "execution_count": 21,
     "metadata": {},
     "output_type": "execute_result"
    }
   ],
   "source": [
    "movie_predictions = df_rating.merge(predict_compare, left_on=df_rating.index, right_on='orig_index')\n",
    "movie_predictions"
   ]
  },
  {
   "cell_type": "code",
   "execution_count": 22,
   "metadata": {
    "tags": []
   },
   "outputs": [],
   "source": [
    "movie_predictions.to_csv(\"./Resources/movie_maker_model_results.csv\")"
   ]
  }
 ],
 "metadata": {
  "colab": {
   "provenance": []
  },
  "kernelspec": {
   "display_name": "Python 3 (ipykernel)",
   "language": "python",
   "name": "python3"
  },
  "language_info": {
   "codemirror_mode": {
    "name": "ipython",
    "version": 3
   },
   "file_extension": ".py",
   "mimetype": "text/x-python",
   "name": "python",
   "nbconvert_exporter": "python",
   "pygments_lexer": "ipython3",
   "version": "3.10.11"
  },
  "vscode": {
   "interpreter": {
    "hash": "31f2aee4e71d21fbe5cf8b01ff0e069b9275f58929596ceb00d14d90e3e16cd6"
   }
  }
 },
 "nbformat": 4,
 "nbformat_minor": 4
}
