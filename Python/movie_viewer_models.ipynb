{
 "cells": [
  {
   "cell_type": "markdown",
   "metadata": {
    "id": "Xklk3cDrVzx-"
   },
   "source": [
    "## Load Data"
   ]
  },
  {
   "cell_type": "code",
   "execution_count": 1,
   "metadata": {
    "colab": {
     "base_uri": "https://localhost:8080/",
     "height": 206
    },
    "id": "o82ihmoMVzyA",
    "outputId": "5ac99d53-20fd-4097-cb52-bf864b0118dc",
    "tags": []
   },
   "outputs": [
    {
     "name": "stdout",
     "output_type": "stream",
     "text": [
      "Using TensorFlow backend\n",
      "dataframe length: 221933\n"
     ]
    },
    {
     "data": {
      "text/html": [
       "<div>\n",
       "<style scoped>\n",
       "    .dataframe tbody tr th:only-of-type {\n",
       "        vertical-align: middle;\n",
       "    }\n",
       "\n",
       "    .dataframe tbody tr th {\n",
       "        vertical-align: top;\n",
       "    }\n",
       "\n",
       "    .dataframe thead th {\n",
       "        text-align: right;\n",
       "    }\n",
       "</style>\n",
       "<table border=\"1\" class=\"dataframe\">\n",
       "  <thead>\n",
       "    <tr style=\"text-align: right;\">\n",
       "      <th></th>\n",
       "      <th>Unnamed: 0</th>\n",
       "      <th>tconst</th>\n",
       "      <th>averageRating</th>\n",
       "      <th>numVotes</th>\n",
       "      <th>isAdult</th>\n",
       "      <th>startYear</th>\n",
       "      <th>runtimeMinutes</th>\n",
       "      <th>genres</th>\n",
       "      <th>Movie</th>\n",
       "      <th>OMDB_Title</th>\n",
       "      <th>...</th>\n",
       "      <th>OMDB_Metascore</th>\n",
       "      <th>OMDB_imdbRating</th>\n",
       "      <th>OMDB_imdbVotes</th>\n",
       "      <th>OMDB_BoxOffice</th>\n",
       "      <th>OMDB_Production</th>\n",
       "      <th>ReleaseYear</th>\n",
       "      <th>ReleaseMonth</th>\n",
       "      <th>Director_Avg_Rating</th>\n",
       "      <th>Writer_Avg_Rating</th>\n",
       "      <th>Actor_Avg_Rating</th>\n",
       "    </tr>\n",
       "  </thead>\n",
       "  <tbody>\n",
       "    <tr>\n",
       "      <th>0</th>\n",
       "      <td>0</td>\n",
       "      <td>tt0013274</td>\n",
       "      <td>6.8</td>\n",
       "      <td>59</td>\n",
       "      <td>0</td>\n",
       "      <td>2021</td>\n",
       "      <td>94</td>\n",
       "      <td>Documentary</td>\n",
       "      <td>Istoriya grazhdanskoy voyny</td>\n",
       "      <td>Istoriya grazhdanskoy voyny</td>\n",
       "      <td>...</td>\n",
       "      <td>NaN</td>\n",
       "      <td>NaN</td>\n",
       "      <td>58.0</td>\n",
       "      <td>NaN</td>\n",
       "      <td>NaN</td>\n",
       "      <td>2022.0</td>\n",
       "      <td>5.0</td>\n",
       "      <td>6.80</td>\n",
       "      <td>NaN</td>\n",
       "      <td>NaN</td>\n",
       "    </tr>\n",
       "    <tr>\n",
       "      <th>1</th>\n",
       "      <td>1</td>\n",
       "      <td>tt0015414</td>\n",
       "      <td>5.2</td>\n",
       "      <td>16</td>\n",
       "      <td>0</td>\n",
       "      <td>2000</td>\n",
       "      <td>60</td>\n",
       "      <td>0</td>\n",
       "      <td>La tierra de los toros</td>\n",
       "      <td>La tierra de los toros</td>\n",
       "      <td>...</td>\n",
       "      <td>NaN</td>\n",
       "      <td>6.6</td>\n",
       "      <td>16.0</td>\n",
       "      <td>NaN</td>\n",
       "      <td>NaN</td>\n",
       "      <td>NaN</td>\n",
       "      <td>NaN</td>\n",
       "      <td>5.20</td>\n",
       "      <td>NaN</td>\n",
       "      <td>5.20</td>\n",
       "    </tr>\n",
       "    <tr>\n",
       "      <th>2</th>\n",
       "      <td>2</td>\n",
       "      <td>tt0015724</td>\n",
       "      <td>6.1</td>\n",
       "      <td>27</td>\n",
       "      <td>0</td>\n",
       "      <td>1993</td>\n",
       "      <td>102</td>\n",
       "      <td>Drama,Mystery,Romance</td>\n",
       "      <td>Dama de noche</td>\n",
       "      <td>Dama de noche</td>\n",
       "      <td>...</td>\n",
       "      <td>NaN</td>\n",
       "      <td>5.8</td>\n",
       "      <td>27.0</td>\n",
       "      <td>NaN</td>\n",
       "      <td>NaN</td>\n",
       "      <td>1993.0</td>\n",
       "      <td>3.0</td>\n",
       "      <td>6.03</td>\n",
       "      <td>6.07</td>\n",
       "      <td>6.10</td>\n",
       "    </tr>\n",
       "    <tr>\n",
       "      <th>3</th>\n",
       "      <td>3</td>\n",
       "      <td>tt0035423</td>\n",
       "      <td>6.4</td>\n",
       "      <td>87965</td>\n",
       "      <td>0</td>\n",
       "      <td>2001</td>\n",
       "      <td>118</td>\n",
       "      <td>Comedy,Fantasy,Romance</td>\n",
       "      <td>Kate &amp; Leopold</td>\n",
       "      <td>Kate &amp; Leopold</td>\n",
       "      <td>...</td>\n",
       "      <td>44.0</td>\n",
       "      <td>6.4</td>\n",
       "      <td>87977.0</td>\n",
       "      <td>47121859.0</td>\n",
       "      <td>NaN</td>\n",
       "      <td>2001.0</td>\n",
       "      <td>12.0</td>\n",
       "      <td>7.17</td>\n",
       "      <td>6.86</td>\n",
       "      <td>6.51</td>\n",
       "    </tr>\n",
       "    <tr>\n",
       "      <th>4</th>\n",
       "      <td>4</td>\n",
       "      <td>tt0036606</td>\n",
       "      <td>6.5</td>\n",
       "      <td>345</td>\n",
       "      <td>0</td>\n",
       "      <td>1983</td>\n",
       "      <td>118</td>\n",
       "      <td>Drama,War</td>\n",
       "      <td>Another Time, Another Place</td>\n",
       "      <td>Another Time, Another Place</td>\n",
       "      <td>...</td>\n",
       "      <td>NaN</td>\n",
       "      <td>6.5</td>\n",
       "      <td>338.0</td>\n",
       "      <td>NaN</td>\n",
       "      <td>NaN</td>\n",
       "      <td>1984.0</td>\n",
       "      <td>5.0</td>\n",
       "      <td>6.62</td>\n",
       "      <td>6.50</td>\n",
       "      <td>6.22</td>\n",
       "    </tr>\n",
       "  </tbody>\n",
       "</table>\n",
       "<p>5 rows × 29 columns</p>\n",
       "</div>"
      ],
      "text/plain": [
       "   Unnamed: 0     tconst  averageRating  numVotes  isAdult  startYear  \\\n",
       "0           0  tt0013274            6.8        59        0       2021   \n",
       "1           1  tt0015414            5.2        16        0       2000   \n",
       "2           2  tt0015724            6.1        27        0       1993   \n",
       "3           3  tt0035423            6.4     87965        0       2001   \n",
       "4           4  tt0036606            6.5       345        0       1983   \n",
       "\n",
       "   runtimeMinutes                  genres                        Movie  \\\n",
       "0              94             Documentary  Istoriya grazhdanskoy voyny   \n",
       "1              60                       0       La tierra de los toros   \n",
       "2             102   Drama,Mystery,Romance                Dama de noche   \n",
       "3             118  Comedy,Fantasy,Romance               Kate & Leopold   \n",
       "4             118               Drama,War  Another Time, Another Place   \n",
       "\n",
       "                    OMDB_Title  ... OMDB_Metascore  OMDB_imdbRating  \\\n",
       "0  Istoriya grazhdanskoy voyny  ...            NaN              NaN   \n",
       "1       La tierra de los toros  ...            NaN              6.6   \n",
       "2                Dama de noche  ...            NaN              5.8   \n",
       "3               Kate & Leopold  ...           44.0              6.4   \n",
       "4  Another Time, Another Place  ...            NaN              6.5   \n",
       "\n",
       "  OMDB_imdbVotes OMDB_BoxOffice OMDB_Production ReleaseYear ReleaseMonth  \\\n",
       "0           58.0            NaN             NaN      2022.0          5.0   \n",
       "1           16.0            NaN             NaN         NaN          NaN   \n",
       "2           27.0            NaN             NaN      1993.0          3.0   \n",
       "3        87977.0     47121859.0             NaN      2001.0         12.0   \n",
       "4          338.0            NaN             NaN      1984.0          5.0   \n",
       "\n",
       "  Director_Avg_Rating Writer_Avg_Rating  Actor_Avg_Rating  \n",
       "0                6.80               NaN               NaN  \n",
       "1                5.20               NaN              5.20  \n",
       "2                6.03              6.07              6.10  \n",
       "3                7.17              6.86              6.51  \n",
       "4                6.62              6.50              6.22  \n",
       "\n",
       "[5 rows x 29 columns]"
      ]
     },
     "execution_count": 1,
     "metadata": {},
     "output_type": "execute_result"
    }
   ],
   "source": [
    "# Import our dependencies\n",
    "from sklearn.model_selection import train_test_split\n",
    "from sklearn.preprocessing import StandardScaler, LabelEncoder\n",
    "from sklearn.ensemble import RandomForestClassifier, RandomForestRegressor\n",
    "from sklearn.metrics import confusion_matrix, accuracy_score, classification_report, mean_squared_error\n",
    "import pandas as pd\n",
    "import tensorflow as tf\n",
    "from tensorflow import keras\n",
    "import keras_tuner as kt\n",
    "import time\n",
    "\n",
    "#  Import and read the data\n",
    "application_df = pd.read_csv(\"../Resources/IMDB_OMDB_FINAL.csv\")\n",
    "print(f'dataframe length: {len(application_df)}')\n",
    "application_df.head()"
   ]
  },
  {
   "cell_type": "code",
   "execution_count": 2,
   "metadata": {
    "tags": []
   },
   "outputs": [
    {
     "data": {
      "text/plain": [
       "Index(['Unnamed: 0', 'tconst', 'averageRating', 'numVotes', 'isAdult',\n",
       "       'startYear', 'runtimeMinutes', 'genres', 'Movie', 'OMDB_Title',\n",
       "       'OMDB_Rated', 'OMDB_Runtime', 'OMDB_Genre', 'OMDB_Director',\n",
       "       'OMDB_Writer', 'OMDB_Actors', 'OMDB_Language', 'OMDB_Country',\n",
       "       'OMDB_Type', 'OMDB_Metascore', 'OMDB_imdbRating', 'OMDB_imdbVotes',\n",
       "       'OMDB_BoxOffice', 'OMDB_Production', 'ReleaseYear', 'ReleaseMonth',\n",
       "       'Director_Avg_Rating', 'Writer_Avg_Rating', 'Actor_Avg_Rating'],\n",
       "      dtype='object')"
      ]
     },
     "execution_count": 2,
     "metadata": {},
     "output_type": "execute_result"
    }
   ],
   "source": [
    "application_df.columns"
   ]
  },
  {
   "cell_type": "code",
   "execution_count": 3,
   "metadata": {
    "tags": []
   },
   "outputs": [
    {
     "data": {
      "text/plain": [
       "Drama                         36688\n",
       "Documentary                   29813\n",
       "Comedy                        16384\n",
       "Comedy,Drama                   7789\n",
       "Horror                         6407\n",
       "                              ...  \n",
       "Musical,Sci-Fi,Thriller           1\n",
       "Adventure,Horror,Western          1\n",
       "Biography,Romance,War             1\n",
       "Biography,Fantasy,Horror          1\n",
       "Action,Documentary,Mystery        1\n",
       "Name: genres, Length: 1155, dtype: int64"
      ]
     },
     "execution_count": 3,
     "metadata": {},
     "output_type": "execute_result"
    }
   ],
   "source": [
    "application_df['genres'].value_counts()"
   ]
  },
  {
   "cell_type": "markdown",
   "metadata": {
    "tags": []
   },
   "source": [
    "# Reduce genre to a single category prioritized by basic genres in priority of uniqueness / original counts\n",
    "Ref: https://www.premiumbeat.com/blog/guide-to-basic-film-genres/ for primary list <br>\n",
    "Combine the following categories: \n",
    "* Documentary to include Biography, Histroy, News in addition to Documentary\n",
    "* Sci-Fi to include both Sci Fi & Fantasy\n",
    "* Action include both Action, Adventure, & Sport\n",
    "* Music to include Music & Musical\n",
    "* Drama to include Drama & War\n",
    "* Mystery to include Mystery & Crime\n",
    "* Family to include Family & Animation\n",
    "* Categories left as is: Comedy, Horror, Thriller, Romance, Western\n",
    "* Unknown will include '0' and the Reality-TV (21) + Talk-Show (7)\n",
    "Using counts of movies with single genre out of this ~220k list and uniqueness of category, the priority:\n",
    "0. Adult\n",
    "1. Comedy\n",
    "2. Horror\n",
    "3. Thriller\n",
    "4. Romance\n",
    "5. Western\n",
    "6. Drama\n",
    "7. Documentary\n",
    "8. Action\n",
    "9. Family\n",
    "10. Mystery\n",
    "11. Sci-Fi\n",
    "12. Music\n",
    "13. Unknown"
   ]
  },
  {
   "cell_type": "code",
   "execution_count": 4,
   "metadata": {
    "tags": []
   },
   "outputs": [
    {
     "name": "stdout",
     "output_type": "stream",
     "text": [
      "working on index: 0\n",
      "working on index: 50000\n",
      "working on index: 100000\n",
      "working on index: 150000\n",
      "working on index: 200000\n",
      "--- 167.84 seconds ---\n"
     ]
    },
    {
     "data": {
      "text/plain": [
       "Drama          59649\n",
       "Comedy         51852\n",
       "Documentary    40944\n",
       "Horror         16389\n",
       "Thriller       15847\n",
       "Romance        12218\n",
       "Action          9135\n",
       "Unknown         6290\n",
       "Family          2779\n",
       "Adult           2343\n",
       "Mystery         1673\n",
       "Sci-Fi          1319\n",
       "Music            911\n",
       "Western          584\n",
       "Name: genres, dtype: int64"
      ]
     },
     "execution_count": 4,
     "metadata": {},
     "output_type": "execute_result"
    }
   ],
   "source": [
    "# Grab start time\n",
    "start_time = time.time()\n",
    "\n",
    "# Loop through every row of the movies_df\n",
    "for index, row in application_df.iterrows():\n",
    "    # print something to indicate still working...\n",
    "    if index%50000 == 0:\n",
    "        print(f'working on index: {index}')\n",
    "    \n",
    "    # grab the genre cell\n",
    "    movie_genres = row['genres']\n",
    "\n",
    "    # Only take action if the cell is populated \n",
    "    if movie_genres != \"\" :\n",
    "        # Convert the comma separated list of directors into a list\n",
    "        genre_list = movie_genres.split(\",\")\n",
    "\n",
    "        # if there is only one value, substitue to reduced genre category list as appropriate; \n",
    "        # Comedy, Horror, Thriller, Romance, Adult, Western, Documentary, Sci-Fi, Action, Music, Drama, Mystery, Family will not change\n",
    "        if len(genre_list) == 1:\n",
    "            if genre_list[0] in ['Biography', 'History', 'News']:\n",
    "                application_df.loc[index,'genres'] = 'Documentary'\n",
    "            elif genre_list[0] == 'Fantasy':\n",
    "                application_df.loc[index,'genres'] = 'Sci-Fi'\n",
    "            elif genre_list[0] in ['Adventure', 'Sport']:\n",
    "                application_df.loc[index,'genres'] = 'Action'\n",
    "            elif genre_list[0] == 'Musical':\n",
    "                application_df.loc[index,'genres'] = 'Music'\n",
    "            elif genre_list[0] == 'War':\n",
    "                application_df.loc[index,'genres'] = 'Drama'\n",
    "            elif genre_list[0] == 'Crime':\n",
    "                application_df.loc[index,'genres'] = 'Mystery'\n",
    "            elif genre_list[0] == 'Animation':\n",
    "                application_df.loc[index,'genres'] = 'Family'\n",
    "            elif genre_list[0] in ['Reality-TV', 'Talk-Show', 0, '0']:\n",
    "                application_df.loc[index,'genres'] = 'Unknown'\n",
    "        if len(genre_list) > 1:\n",
    "            if any(item in genre_list for item in ['Adult']):\n",
    "                application_df.loc[index,'genres'] = 'Adult'\n",
    "            elif any(item in genre_list for item in ['Comedy']):\n",
    "                application_df.loc[index,'genres'] = 'Comedy'\n",
    "            elif any(item in genre_list for item in ['Horror']):\n",
    "                application_df.loc[index,'genres'] = 'Horror'\n",
    "            elif any(item in genre_list for item in ['Thriller']):\n",
    "                application_df.loc[index,'genres'] = 'Thriller'\n",
    "            elif any(item in genre_list for item in ['Romance']):\n",
    "                application_df.loc[index,'genres'] = 'Romance'\n",
    "            elif any(item in genre_list for item in ['Western']):\n",
    "                application_df.loc[index,'genres'] = 'Western'\n",
    "            elif any(item in genre_list for item in ['Drama', 'War']):\n",
    "                application_df.loc[index,'genres'] = 'Drama'\n",
    "            elif any(item in genre_list for item in ['Documentary', 'Biography', 'History', 'News']):\n",
    "                application_df.loc[index,'genres'] = 'Documentary'\n",
    "            elif any(item in genre_list for item in ['Action', 'Adventure', 'Sport']):\n",
    "                application_df.loc[index,'genres'] = 'Action'\n",
    "            elif any(item in genre_list for item in ['Family', 'Animation']):\n",
    "                application_df.loc[index,'genres'] = 'Family'\n",
    "            elif any(item in genre_list for item in ['Mystery', 'Crime']):\n",
    "                application_df.loc[index,'genres'] = 'Mystery'\n",
    "            elif any(item in genre_list for item in ['Sci-Fi', 'Fantasy']):\n",
    "                application_df.loc[index,'genres'] = 'Sci-Fi'\n",
    "            elif any(item in genre_list for item in ['Music', 'Musical']):\n",
    "                application_df.loc[index,'genres'] = 'Music'\n",
    "            elif any(item in genre_list for item in ['Reality-TV', 'Talk-Show', 0, '0']):\n",
    "                application_df.loc[index,'genres'] = 'Unknown'\n",
    "\n",
    "\n",
    "# Print time taken\n",
    "print(\"--- %s seconds ---\" % round((time.time() - start_time),2))\n",
    "\n",
    "application_df['genres'].value_counts()"
   ]
  },
  {
   "cell_type": "markdown",
   "metadata": {},
   "source": [
    "## Select the data to be used in the model\n",
    "\n",
    "**Features**\n",
    "* Our customers are movie goers for which Writer, Director, and key Actors are known so we are using Writer, Director, & Actor ratings\n",
    "* While our initial data review did not show a relationship between release month and movie rating, it did show a relationship to box office returns so we are going to keep it in as a potential complex additive\n",
    "* Runtime showed a very small relationship to IMDB rating alone\n",
    "\n",
    "Notes: \n",
    "* We wanted to use a critic's score (Metascore as a proxy) that is available prior to the movie release which does show a positive correlation with IMDB ratings. However the availability reduces our row count from 160k to 16k and does not result in better performing machine learning models\n",
    "* Budget is not available in this larger dataset\n",
    "* kids vs. teens vs. adults as considered but showed little relevance in early experiments\n",
    "\n",
    "**Target**\n",
    "\n",
    "Our customers are the viewers that will provide the IMDB Rating after release so our target is the IMDB Rating: averageRating."
   ]
  },
  {
   "cell_type": "code",
   "execution_count": 5,
   "metadata": {},
   "outputs": [
    {
     "name": "stdout",
     "output_type": "stream",
     "text": [
      "16525\n"
     ]
    },
    {
     "data": {
      "text/html": [
       "<div>\n",
       "<style scoped>\n",
       "    .dataframe tbody tr th:only-of-type {\n",
       "        vertical-align: middle;\n",
       "    }\n",
       "\n",
       "    .dataframe tbody tr th {\n",
       "        vertical-align: top;\n",
       "    }\n",
       "\n",
       "    .dataframe thead th {\n",
       "        text-align: right;\n",
       "    }\n",
       "</style>\n",
       "<table border=\"1\" class=\"dataframe\">\n",
       "  <thead>\n",
       "    <tr style=\"text-align: right;\">\n",
       "      <th></th>\n",
       "      <th>Writer_Avg_Rating</th>\n",
       "      <th>Director_Avg_Rating</th>\n",
       "      <th>Actor_Avg_Rating</th>\n",
       "      <th>runtimeMinutes</th>\n",
       "      <th>OMDB_Metascore</th>\n",
       "      <th>genres</th>\n",
       "      <th>OMDB_Rated</th>\n",
       "      <th>ReleaseMonth</th>\n",
       "      <th>averageRating</th>\n",
       "    </tr>\n",
       "  </thead>\n",
       "  <tbody>\n",
       "    <tr>\n",
       "      <th>3</th>\n",
       "      <td>6.86</td>\n",
       "      <td>7.17</td>\n",
       "      <td>6.51</td>\n",
       "      <td>118</td>\n",
       "      <td>44.0</td>\n",
       "      <td>Comedy</td>\n",
       "      <td>teens</td>\n",
       "      <td>12.0</td>\n",
       "      <td>6.4</td>\n",
       "    </tr>\n",
       "    <tr>\n",
       "      <th>24</th>\n",
       "      <td>5.39</td>\n",
       "      <td>6.88</td>\n",
       "      <td>6.73</td>\n",
       "      <td>122</td>\n",
       "      <td>79.0</td>\n",
       "      <td>Drama</td>\n",
       "      <td>adults</td>\n",
       "      <td>11.0</td>\n",
       "      <td>6.7</td>\n",
       "    </tr>\n",
       "    <tr>\n",
       "      <th>219</th>\n",
       "      <td>5.73</td>\n",
       "      <td>5.90</td>\n",
       "      <td>6.04</td>\n",
       "      <td>94</td>\n",
       "      <td>45.0</td>\n",
       "      <td>Comedy</td>\n",
       "      <td>unknown</td>\n",
       "      <td>5.0</td>\n",
       "      <td>5.9</td>\n",
       "    </tr>\n",
       "    <tr>\n",
       "      <th>263</th>\n",
       "      <td>6.40</td>\n",
       "      <td>6.68</td>\n",
       "      <td>5.91</td>\n",
       "      <td>103</td>\n",
       "      <td>60.0</td>\n",
       "      <td>Horror</td>\n",
       "      <td>adults</td>\n",
       "      <td>1.0</td>\n",
       "      <td>6.7</td>\n",
       "    </tr>\n",
       "    <tr>\n",
       "      <th>282</th>\n",
       "      <td>6.80</td>\n",
       "      <td>6.93</td>\n",
       "      <td>6.36</td>\n",
       "      <td>116</td>\n",
       "      <td>79.0</td>\n",
       "      <td>Comedy</td>\n",
       "      <td>kids</td>\n",
       "      <td>11.0</td>\n",
       "      <td>6.9</td>\n",
       "    </tr>\n",
       "  </tbody>\n",
       "</table>\n",
       "</div>"
      ],
      "text/plain": [
       "     Writer_Avg_Rating  Director_Avg_Rating  Actor_Avg_Rating  runtimeMinutes  \\\n",
       "3                 6.86                 7.17              6.51             118   \n",
       "24                5.39                 6.88              6.73             122   \n",
       "219               5.73                 5.90              6.04              94   \n",
       "263               6.40                 6.68              5.91             103   \n",
       "282               6.80                 6.93              6.36             116   \n",
       "\n",
       "     OMDB_Metascore  genres OMDB_Rated  ReleaseMonth  averageRating  \n",
       "3              44.0  Comedy      teens          12.0            6.4  \n",
       "24             79.0   Drama     adults          11.0            6.7  \n",
       "219            45.0  Comedy    unknown           5.0            5.9  \n",
       "263            60.0  Horror     adults           1.0            6.7  \n",
       "282            79.0  Comedy       kids          11.0            6.9  "
      ]
     },
     "execution_count": 5,
     "metadata": {},
     "output_type": "execute_result"
    }
   ],
   "source": [
    "# Create the dataframe for the features and target\n",
    "df_rating = application_df[['Writer_Avg_Rating', 'Director_Avg_Rating', 'Actor_Avg_Rating', 'runtimeMinutes', \n",
    "                            'OMDB_Metascore', 'genres', 'OMDB_Rated', 'ReleaseMonth', 'averageRating']]\n",
    "\n",
    "# # Grab a single genre & drop column\n",
    "# df_rating = df_rating[df_rating['genres'] == 'Horror']\n",
    "# df_rating = df_rating.drop(columns='genres')\n",
    "\n",
    "# Drop rows with NaN values\n",
    "df_rating = df_rating.dropna()\n",
    "\n",
    "# View the dataframe and row count\n",
    "print(len(df_rating))\n",
    "df_rating.head()"
   ]
  },
  {
   "cell_type": "markdown",
   "metadata": {},
   "source": [
    "## Encode categorical data for Random Forest"
   ]
  },
  {
   "cell_type": "code",
   "execution_count": 6,
   "metadata": {},
   "outputs": [],
   "source": [
    "# using a copy of the dataframe for encoding and future Random Forest use\n",
    "rf_df_rating = df_rating.copy()\n",
    "\n",
    "# For simplicity, let's encode 'OMDB_Rated' using Label Encoding\n",
    "le = LabelEncoder()\n",
    "rf_df_rating['OMDB_Rated'] = le.fit_transform(rf_df_rating['OMDB_Rated'])\n",
    "rf_df_rating['genres'] = le.fit_transform(rf_df_rating['genres'])"
   ]
  },
  {
   "cell_type": "markdown",
   "metadata": {},
   "source": [
    "## Split the data into sets for Random Forest"
   ]
  },
  {
   "cell_type": "code",
   "execution_count": 7,
   "metadata": {},
   "outputs": [],
   "source": [
    "# Define features as X, target as y\n",
    "y_rf = rf_df_rating['averageRating']\n",
    "X_rf = rf_df_rating.drop(columns='averageRating')\n",
    "\n",
    "# Split the data into training and testing sets\n",
    "X_train_rf, X_test_rf, y_train_rf, y_test_rf = train_test_split(X_rf, y_rf, test_size=0.2, random_state=42)"
   ]
  },
  {
   "cell_type": "markdown",
   "metadata": {},
   "source": [
    "## Define the Random Forest Regression model; train it, test it, evaluate it"
   ]
  },
  {
   "cell_type": "code",
   "execution_count": 8,
   "metadata": {
    "tags": []
   },
   "outputs": [
    {
     "name": "stdout",
     "output_type": "stream",
     "text": [
      "--- 35.8 seconds ---\n",
      "Mean Squared Error: 0.21426000073962004\n"
     ]
    },
    {
     "data": {
      "text/plain": [
       "[(0.6579436243797498, 'Writer_Avg_Rating'),\n",
       " (0.09936223644111046, 'Actor_Avg_Rating'),\n",
       " (0.09640839270901885, 'OMDB_Metascore'),\n",
       " (0.05561826708494587, 'Director_Avg_Rating'),\n",
       " (0.04341037562646269, 'runtimeMinutes'),\n",
       " (0.02068484525162882, 'ReleaseMonth'),\n",
       " (0.014030636907469614, 'genres'),\n",
       " (0.012541621599613887, 'OMDB_Rated')]"
      ]
     },
     "execution_count": 8,
     "metadata": {},
     "output_type": "execute_result"
    }
   ],
   "source": [
    "# Grab start time\n",
    "start_time = time.time()\n",
    "\n",
    "# Initialize the Random Forest Regressor\n",
    "rf_model_rating = RandomForestRegressor(n_estimators=300, random_state=42)\n",
    "\n",
    "# Train the model\n",
    "rf_model_rating.fit(X_train_rf, y_train_rf)\n",
    "\n",
    "# Make predictions on the test set\n",
    "rating_predictions = rf_model_rating.predict(X_test_rf)\n",
    "\n",
    "# Print time taken\n",
    "print(\"--- %s seconds ---\" % round(((time.time() - start_time)),2))\n",
    "\n",
    "# Evaluate the model\n",
    "mse = mean_squared_error(y_test_rf, rating_predictions)\n",
    "print(f'Mean Squared Error: {mse}')\n",
    "\n",
    "# Random Forests in sklearn will automatically calculate feature importance\n",
    "importances = rf_model_rating.feature_importances_\n",
    "# We can sort the features by their importance\n",
    "sorted(zip(rf_model_rating.feature_importances_, X_rf.columns), reverse=True)"
   ]
  },
  {
   "cell_type": "markdown",
   "metadata": {
    "tags": []
   },
   "source": [
    "## Plot the Test predictions and actuals together"
   ]
  },
  {
   "cell_type": "code",
   "execution_count": 9,
   "metadata": {
    "tags": []
   },
   "outputs": [
    {
     "data": {
      "image/png": "[encoded data removed]",
      "text/plain": [
       "<Figure size 640x480 with 1 Axes>"
      ]
     },
     "metadata": {},
     "output_type": "display_data"
    }
   ],
   "source": [
    "# Create a dataframe for the actual and prediction values\n",
    "test_compare = pd.DataFrame({'orig_index':y_test_rf.index, 'actual':y_test_rf.values})\n",
    "test_compare['predictions'] = rating_predictions\n",
    "test_compare = test_compare.sort_values('actual').reset_index(drop=True)\n",
    "\n",
    "# Plot the dataframe\n",
    "test_lines = test_compare[['predictions', 'actual']].plot.line()"
   ]
  },
  {
   "cell_type": "markdown",
   "metadata": {},
   "source": [
    "## Plot the Training predictions and actuals together"
   ]
  },
  {
   "cell_type": "code",
   "execution_count": 10,
   "metadata": {
    "tags": []
   },
   "outputs": [
    {
     "data": {
      "text/plain": [
       "0.028885164220877464"
      ]
     },
     "execution_count": 10,
     "metadata": {},
     "output_type": "execute_result"
    }
   ],
   "source": [
    "# Check the model against the training data - if mse is much lower than the model is overfitting\n",
    "y_train_pred = rf_model_rating.predict(X_train_rf)\n",
    "mse_train = mean_squared_error(y_train_rf, y_train_pred)\n",
    "mse_train"
   ]
  },
  {
   "cell_type": "code",
   "execution_count": 11,
   "metadata": {
    "tags": []
   },
   "outputs": [
    {
     "data": {
      "image/png": "[encoded data removed]",
      "text/plain": [
       "<Figure size 640x480 with 1 Axes>"
      ]
     },
     "metadata": {},
     "output_type": "display_data"
    }
   ],
   "source": [
    "# Create a dataframe for the actual and prediction values\n",
    "train_compare = pd.DataFrame({'orig_index':y_train_rf.index, 'actual':y_train_rf.values})\n",
    "train_compare['predictions'] = y_train_pred\n",
    "train_compare = train_compare.sort_values('actual').reset_index(drop=True)\n",
    "\n",
    "# Plot the dataframe\n",
    "train_lines = train_compare[['predictions', 'actual']].plot.line()"
   ]
  },
  {
   "cell_type": "markdown",
   "metadata": {},
   "source": [
    "# Applying Keras Tuner"
   ]
  },
  {
   "cell_type": "markdown",
   "metadata": {},
   "source": [
    "## Convert categorical data into dummy columns for Keras Tuner"
   ]
  },
  {
   "cell_type": "code",
   "execution_count": 12,
   "metadata": {
    "tags": []
   },
   "outputs": [
    {
     "data": {
      "text/html": [
       "<div>\n",
       "<style scoped>\n",
       "    .dataframe tbody tr th:only-of-type {\n",
       "        vertical-align: middle;\n",
       "    }\n",
       "\n",
       "    .dataframe tbody tr th {\n",
       "        vertical-align: top;\n",
       "    }\n",
       "\n",
       "    .dataframe thead th {\n",
       "        text-align: right;\n",
       "    }\n",
       "</style>\n",
       "<table border=\"1\" class=\"dataframe\">\n",
       "  <thead>\n",
       "    <tr style=\"text-align: right;\">\n",
       "      <th></th>\n",
       "      <th>Writer_Avg_Rating</th>\n",
       "      <th>Director_Avg_Rating</th>\n",
       "      <th>Actor_Avg_Rating</th>\n",
       "      <th>runtimeMinutes</th>\n",
       "      <th>OMDB_Metascore</th>\n",
       "      <th>ReleaseMonth</th>\n",
       "      <th>averageRating</th>\n",
       "      <th>genres_Action</th>\n",
       "      <th>genres_Adult</th>\n",
       "      <th>genres_Comedy</th>\n",
       "      <th>...</th>\n",
       "      <th>genres_Mystery</th>\n",
       "      <th>genres_Romance</th>\n",
       "      <th>genres_Sci-Fi</th>\n",
       "      <th>genres_Thriller</th>\n",
       "      <th>genres_Unknown</th>\n",
       "      <th>genres_Western</th>\n",
       "      <th>OMDB_Rated_adults</th>\n",
       "      <th>OMDB_Rated_kids</th>\n",
       "      <th>OMDB_Rated_teens</th>\n",
       "      <th>OMDB_Rated_unknown</th>\n",
       "    </tr>\n",
       "  </thead>\n",
       "  <tbody>\n",
       "    <tr>\n",
       "      <th>3</th>\n",
       "      <td>6.86</td>\n",
       "      <td>7.17</td>\n",
       "      <td>6.51</td>\n",
       "      <td>118</td>\n",
       "      <td>44.0</td>\n",
       "      <td>12.0</td>\n",
       "      <td>6.4</td>\n",
       "      <td>0</td>\n",
       "      <td>0</td>\n",
       "      <td>1</td>\n",
       "      <td>...</td>\n",
       "      <td>0</td>\n",
       "      <td>0</td>\n",
       "      <td>0</td>\n",
       "      <td>0</td>\n",
       "      <td>0</td>\n",
       "      <td>0</td>\n",
       "      <td>0</td>\n",
       "      <td>0</td>\n",
       "      <td>1</td>\n",
       "      <td>0</td>\n",
       "    </tr>\n",
       "    <tr>\n",
       "      <th>24</th>\n",
       "      <td>5.39</td>\n",
       "      <td>6.88</td>\n",
       "      <td>6.73</td>\n",
       "      <td>122</td>\n",
       "      <td>79.0</td>\n",
       "      <td>11.0</td>\n",
       "      <td>6.7</td>\n",
       "      <td>0</td>\n",
       "      <td>0</td>\n",
       "      <td>0</td>\n",
       "      <td>...</td>\n",
       "      <td>0</td>\n",
       "      <td>0</td>\n",
       "      <td>0</td>\n",
       "      <td>0</td>\n",
       "      <td>0</td>\n",
       "      <td>0</td>\n",
       "      <td>1</td>\n",
       "      <td>0</td>\n",
       "      <td>0</td>\n",
       "      <td>0</td>\n",
       "    </tr>\n",
       "    <tr>\n",
       "      <th>219</th>\n",
       "      <td>5.73</td>\n",
       "      <td>5.90</td>\n",
       "      <td>6.04</td>\n",
       "      <td>94</td>\n",
       "      <td>45.0</td>\n",
       "      <td>5.0</td>\n",
       "      <td>5.9</td>\n",
       "      <td>0</td>\n",
       "      <td>0</td>\n",
       "      <td>1</td>\n",
       "      <td>...</td>\n",
       "      <td>0</td>\n",
       "      <td>0</td>\n",
       "      <td>0</td>\n",
       "      <td>0</td>\n",
       "      <td>0</td>\n",
       "      <td>0</td>\n",
       "      <td>0</td>\n",
       "      <td>0</td>\n",
       "      <td>0</td>\n",
       "      <td>1</td>\n",
       "    </tr>\n",
       "    <tr>\n",
       "      <th>263</th>\n",
       "      <td>6.40</td>\n",
       "      <td>6.68</td>\n",
       "      <td>5.91</td>\n",
       "      <td>103</td>\n",
       "      <td>60.0</td>\n",
       "      <td>1.0</td>\n",
       "      <td>6.7</td>\n",
       "      <td>0</td>\n",
       "      <td>0</td>\n",
       "      <td>0</td>\n",
       "      <td>...</td>\n",
       "      <td>0</td>\n",
       "      <td>0</td>\n",
       "      <td>0</td>\n",
       "      <td>0</td>\n",
       "      <td>0</td>\n",
       "      <td>0</td>\n",
       "      <td>1</td>\n",
       "      <td>0</td>\n",
       "      <td>0</td>\n",
       "      <td>0</td>\n",
       "    </tr>\n",
       "    <tr>\n",
       "      <th>282</th>\n",
       "      <td>6.80</td>\n",
       "      <td>6.93</td>\n",
       "      <td>6.36</td>\n",
       "      <td>116</td>\n",
       "      <td>79.0</td>\n",
       "      <td>11.0</td>\n",
       "      <td>6.9</td>\n",
       "      <td>0</td>\n",
       "      <td>0</td>\n",
       "      <td>1</td>\n",
       "      <td>...</td>\n",
       "      <td>0</td>\n",
       "      <td>0</td>\n",
       "      <td>0</td>\n",
       "      <td>0</td>\n",
       "      <td>0</td>\n",
       "      <td>0</td>\n",
       "      <td>0</td>\n",
       "      <td>1</td>\n",
       "      <td>0</td>\n",
       "      <td>0</td>\n",
       "    </tr>\n",
       "  </tbody>\n",
       "</table>\n",
       "<p>5 rows × 25 columns</p>\n",
       "</div>"
      ],
      "text/plain": [
       "     Writer_Avg_Rating  Director_Avg_Rating  Actor_Avg_Rating  runtimeMinutes  \\\n",
       "3                 6.86                 7.17              6.51             118   \n",
       "24                5.39                 6.88              6.73             122   \n",
       "219               5.73                 5.90              6.04              94   \n",
       "263               6.40                 6.68              5.91             103   \n",
       "282               6.80                 6.93              6.36             116   \n",
       "\n",
       "     OMDB_Metascore  ReleaseMonth  averageRating  genres_Action  genres_Adult  \\\n",
       "3              44.0          12.0            6.4              0             0   \n",
       "24             79.0          11.0            6.7              0             0   \n",
       "219            45.0           5.0            5.9              0             0   \n",
       "263            60.0           1.0            6.7              0             0   \n",
       "282            79.0          11.0            6.9              0             0   \n",
       "\n",
       "     genres_Comedy  ...  genres_Mystery  genres_Romance  genres_Sci-Fi  \\\n",
       "3                1  ...               0               0              0   \n",
       "24               0  ...               0               0              0   \n",
       "219              1  ...               0               0              0   \n",
       "263              0  ...               0               0              0   \n",
       "282              1  ...               0               0              0   \n",
       "\n",
       "     genres_Thriller  genres_Unknown  genres_Western  OMDB_Rated_adults  \\\n",
       "3                  0               0               0                  0   \n",
       "24                 0               0               0                  1   \n",
       "219                0               0               0                  0   \n",
       "263                0               0               0                  1   \n",
       "282                0               0               0                  0   \n",
       "\n",
       "     OMDB_Rated_kids  OMDB_Rated_teens  OMDB_Rated_unknown  \n",
       "3                  0                 1                   0  \n",
       "24                 0                 0                   0  \n",
       "219                0                 0                   1  \n",
       "263                0                 0                   0  \n",
       "282                1                 0                   0  \n",
       "\n",
       "[5 rows x 25 columns]"
      ]
     },
     "execution_count": 12,
     "metadata": {},
     "output_type": "execute_result"
    }
   ],
   "source": [
    "df_rating = pd.get_dummies(data=df_rating, columns=['genres', 'OMDB_Rated'])\n",
    "df_rating.head()"
   ]
  },
  {
   "cell_type": "markdown",
   "metadata": {},
   "source": [
    "## Split the data into training and test sets"
   ]
  },
  {
   "cell_type": "code",
   "execution_count": 13,
   "metadata": {},
   "outputs": [],
   "source": [
    "# Define features as X, target as y\n",
    "y = df_rating['averageRating']\n",
    "X = df_rating.drop(columns='averageRating')\n",
    "\n",
    "# Split the data into training and testing sets\n",
    "X_train, X_test, y_train, y_test = train_test_split(X, y, test_size=0.2, random_state=42)"
   ]
  },
  {
   "cell_type": "markdown",
   "metadata": {},
   "source": [
    "## Scale the data"
   ]
  },
  {
   "cell_type": "code",
   "execution_count": 14,
   "metadata": {
    "tags": []
   },
   "outputs": [],
   "source": [
    "# Create a StandardScaler instances\n",
    "scaler = StandardScaler()\n",
    "\n",
    "# Fit the StandardScaler\n",
    "X_scaler = scaler.fit(X_train)\n",
    "\n",
    "# Scale the data\n",
    "X_train_scaled = X_scaler.transform(X_train)\n",
    "X_test_scaled = X_scaler.transform(X_test)"
   ]
  },
  {
   "cell_type": "markdown",
   "metadata": {},
   "source": [
    "## Define the keras tuner behavior and execute"
   ]
  },
  {
   "cell_type": "code",
   "execution_count": 15,
   "metadata": {
    "tags": []
   },
   "outputs": [],
   "source": [
    "# Define the keras tuner parameters\n",
    "def create_model(hp):\n",
    "    movie_model = tf.keras.models.Sequential()\n",
    "\n",
    "    # Allow kerastuner to decide which activation function to use in hidden layers\n",
    "    activation = hp.Choice('activation',['relu','tanh','sigmoid'])\n",
    "\n",
    "    # Allow kerastuner to decide which optimizer\n",
    "    optimizer = hp.Choice('opt', values=['adam', 'sgd', 'rmsprop'])\n",
    "    \n",
    "    # Allow kerastuner to decide number of neurons in first layer\n",
    "    movie_model.add(tf.keras.layers.Dense(units=hp.Int('first_units', min_value=1, max_value=10, step=2), \n",
    "                                          activation=activation, input_dim=24))\n",
    "\n",
    "    # Allow kerastuner to decide number of hidden layers and neurons in hidden layers\n",
    "    for i in range(hp.Int('num_layers', 1, 6)):\n",
    "        movie_model.add(tf.keras.layers.Dense(units=hp.Int('units_' + str(i),\n",
    "            min_value=1,\n",
    "            max_value=10,\n",
    "            step=2),\n",
    "            activation=activation))\n",
    "\n",
    "    movie_model.add(tf.keras.layers.Dense(units=1, activation=\"sigmoid\"))\n",
    "\n",
    "    # learning_rate = hp.Choice('learning_rate', values=[1e-2, 1e-3, 1e-4])\n",
    "    \n",
    "    # Compile the model\n",
    "    movie_model.compile(loss=\"mse\", optimizer=optimizer, metrics=[tf.keras.metrics.MeanSquaredError()])\n",
    "\n",
    "    return movie_model"
   ]
  },
  {
   "cell_type": "code",
   "execution_count": 16,
   "metadata": {
    "tags": []
   },
   "outputs": [],
   "source": [
    "tuner = kt.Hyperband(\n",
    "    create_model,\n",
    "    objective=\"val_loss\",\n",
    "    max_epochs=20,\n",
    "    hyperband_iterations=2, \n",
    "    project_name='movie_viewers')"
   ]
  },
  {
   "cell_type": "code",
   "execution_count": 17,
   "metadata": {
    "tags": []
   },
   "outputs": [
    {
     "name": "stdout",
     "output_type": "stream",
     "text": [
      "Trial 60 Complete [00h 00m 34s]\n",
      "val_loss: 29.397062301635742\n",
      "\n",
      "Best val_loss So Far: 29.39705467224121\n",
      "Total elapsed time: 00h 12m 58s\n",
      "--- 12.96 minutes ---\n"
     ]
    }
   ],
   "source": [
    "# Grab start time\n",
    "start_time = time.time()\n",
    "\n",
    "# Run the kerastuner search for best hyperparameters\n",
    "tuner.search(X_train_scaled,y_train,epochs=20,validation_data=(X_test_scaled,y_test))\n",
    "\n",
    "# Print time taken\n",
    "print(\"--- %s minutes ---\" % round(((time.time() - start_time)/60),2))\n",
    "\n",
    "# 181k rows, 22 dimensions = 104 minutes"
   ]
  },
  {
   "cell_type": "code",
   "execution_count": 18,
   "metadata": {
    "tags": []
   },
   "outputs": [
    {
     "data": {
      "text/plain": [
       "{'activation': 'relu',\n",
       " 'opt': 'rmsprop',\n",
       " 'first_units': 9,\n",
       " 'num_layers': 2,\n",
       " 'units_0': 3,\n",
       " 'units_1': 7,\n",
       " 'units_2': 9,\n",
       " 'units_3': 1,\n",
       " 'units_4': 3,\n",
       " 'units_5': 1,\n",
       " 'tuner/epochs': 3,\n",
       " 'tuner/initial_epoch': 0,\n",
       " 'tuner/bracket': 2,\n",
       " 'tuner/round': 0}"
      ]
     },
     "execution_count": 18,
     "metadata": {},
     "output_type": "execute_result"
    }
   ],
   "source": [
    "# Get best model hyperparameters\n",
    "best_hyper = tuner.get_best_hyperparameters(1)[0]\n",
    "best_hyper.values"
   ]
  },
  {
   "cell_type": "code",
   "execution_count": 19,
   "metadata": {
    "tags": []
   },
   "outputs": [
    {
     "name": "stdout",
     "output_type": "stream",
     "text": [
      "104/104 - 0s - loss: 29.3971 - mean_squared_error: 29.3971 - 346ms/epoch - 3ms/step\n",
      "Loss: 29.39705467224121, MSE: 29.39705467224121\n"
     ]
    }
   ],
   "source": [
    "# Evaluate best model against full test data\n",
    "best_model = tuner.get_best_models(1)[0]\n",
    "model_loss, model_accuracy = best_model.evaluate(X_test_scaled,y_test,verbose=2)\n",
    "print(f\"Loss: {model_loss}, MSE: {model_accuracy}\")"
   ]
  },
  {
   "cell_type": "code",
   "execution_count": 20,
   "metadata": {
    "tags": []
   },
   "outputs": [
    {
     "name": "stdout",
     "output_type": "stream",
     "text": [
      "414/414 - 1s - loss: 29.4675 - mean_squared_error: 29.4675 - 787ms/epoch - 2ms/step\n",
      "Loss: 29.4675235748291, MSE: 29.4675235748291\n"
     ]
    }
   ],
   "source": [
    "# Check the model against the training data - if mse is much lower than the model is overtraining\n",
    "model_loss_train, model_accuracy_train = best_model.evaluate(X_train_scaled,y_train,verbose=2)\n",
    "print(f\"Loss: {model_loss_train}, MSE: {model_accuracy_train}\")"
   ]
  },
  {
   "cell_type": "code",
   "execution_count": 21,
   "metadata": {
    "tags": []
   },
   "outputs": [
    {
     "name": "stdout",
     "output_type": "stream",
     "text": [
      "Model: \"sequential\"\n",
      "_________________________________________________________________\n",
      " Layer (type)                Output Shape              Param #   \n",
      "=================================================================\n",
      " dense (Dense)               (None, 9)                 225       \n",
      "                                                                 \n",
      " dense_1 (Dense)             (None, 3)                 30        \n",
      "                                                                 \n",
      " dense_2 (Dense)             (None, 7)                 28        \n",
      "                                                                 \n",
      " dense_3 (Dense)             (None, 1)                 8         \n",
      "                                                                 \n",
      "=================================================================\n",
      "Total params: 291 (1.14 KB)\n",
      "Trainable params: 291 (1.14 KB)\n",
      "Non-trainable params: 0 (0.00 Byte)\n",
      "_________________________________________________________________\n"
     ]
    }
   ],
   "source": [
    "best_model.summary()"
   ]
  },
  {
   "cell_type": "markdown",
   "metadata": {},
   "source": [
    "# Create, Train, and Evaluate a Model based on Keras Tuner Output Using More Epochs"
   ]
  },
  {
   "cell_type": "code",
   "execution_count": 22,
   "metadata": {
    "tags": []
   },
   "outputs": [
    {
     "name": "stdout",
     "output_type": "stream",
     "text": [
      "Model: \"sequential_1\"\n",
      "_________________________________________________________________\n",
      " Layer (type)                Output Shape              Param #   \n",
      "=================================================================\n",
      " dense_4 (Dense)             (None, 9)                 225       \n",
      "                                                                 \n",
      " dense_5 (Dense)             (None, 3)                 30        \n",
      "                                                                 \n",
      " dense_6 (Dense)             (None, 7)                 28        \n",
      "                                                                 \n",
      " dense_7 (Dense)             (None, 1)                 8         \n",
      "                                                                 \n",
      "=================================================================\n",
      "Total params: 291 (1.14 KB)\n",
      "Trainable params: 291 (1.14 KB)\n",
      "Non-trainable params: 0 (0.00 Byte)\n",
      "_________________________________________________________________\n"
     ]
    }
   ],
   "source": [
    "# Define the model - deep neural net, i.e., the number of input features and hidden nodes for each layer.\n",
    "nn = tf.keras.models.Sequential()\n",
    "\n",
    "# First hidden layer\n",
    "nn.add(tf.keras.layers.Dense(units=9, activation=\"relu\", input_dim=24))\n",
    "\n",
    "# Second hidden layer\n",
    "nn.add(tf.keras.layers.Dense(units=3, activation=\"relu\"))\n",
    "\n",
    "# Third hidden layer\n",
    "nn.add(tf.keras.layers.Dense(units=7, activation=\"relu\"))\n",
    "\n",
    "# Output layer\n",
    "nn.add(tf.keras.layers.Dense(units=1, activation=\"relu\"))\n",
    "\n",
    "# Check the structure of the model\n",
    "nn.summary()"
   ]
  },
  {
   "cell_type": "code",
   "execution_count": 23,
   "metadata": {},
   "outputs": [
    {
     "name": "stdout",
     "output_type": "stream",
     "text": [
      "Epoch 1/100\n",
      "414/414 [==============================] - 2s 3ms/step - loss: 16.3543 - mean_squared_error: 16.3543\n",
      "Epoch 2/100\n",
      "414/414 [==============================] - 1s 2ms/step - loss: 0.5688 - mean_squared_error: 0.5688\n",
      "Epoch 3/100\n",
      "414/414 [==============================] - 1s 2ms/step - loss: 0.2912 - mean_squared_error: 0.2912\n",
      "Epoch 4/100\n",
      "414/414 [==============================] - 1s 2ms/step - loss: 0.2507 - mean_squared_error: 0.2507\n",
      "Epoch 5/100\n",
      "414/414 [==============================] - 1s 3ms/step - loss: 0.2365 - mean_squared_error: 0.2365\n",
      "Epoch 6/100\n",
      "414/414 [==============================] - 1s 3ms/step - loss: 0.2295 - mean_squared_error: 0.2295\n",
      "Epoch 7/100\n",
      "414/414 [==============================] - 1s 2ms/step - loss: 0.2249 - mean_squared_error: 0.2249\n",
      "Epoch 8/100\n",
      "414/414 [==============================] - 1s 3ms/step - loss: 0.2230 - mean_squared_error: 0.2230\n",
      "Epoch 9/100\n",
      "414/414 [==============================] - 1s 3ms/step - loss: 0.2199 - mean_squared_error: 0.2199\n",
      "Epoch 10/100\n",
      "414/414 [==============================] - 1s 2ms/step - loss: 0.2184 - mean_squared_error: 0.2184\n",
      "Epoch 11/100\n",
      "414/414 [==============================] - 1s 2ms/step - loss: 0.2174 - mean_squared_error: 0.2174\n",
      "Epoch 12/100\n",
      "414/414 [==============================] - 1s 2ms/step - loss: 0.2163 - mean_squared_error: 0.2163\n",
      "Epoch 13/100\n",
      "414/414 [==============================] - 1s 2ms/step - loss: 0.2147 - mean_squared_error: 0.2147\n",
      "Epoch 14/100\n",
      "414/414 [==============================] - 1s 3ms/step - loss: 0.2142 - mean_squared_error: 0.2142\n",
      "Epoch 15/100\n",
      "414/414 [==============================] - 1s 3ms/step - loss: 0.2131 - mean_squared_error: 0.2131\n",
      "Epoch 16/100\n",
      "414/414 [==============================] - 1s 3ms/step - loss: 0.2122 - mean_squared_error: 0.2122\n",
      "Epoch 17/100\n",
      "414/414 [==============================] - 1s 3ms/step - loss: 0.2117 - mean_squared_error: 0.2117\n",
      "Epoch 18/100\n",
      "414/414 [==============================] - 1s 3ms/step - loss: 0.2118 - mean_squared_error: 0.2118\n",
      "Epoch 19/100\n",
      "414/414 [==============================] - 1s 3ms/step - loss: 0.2112 - mean_squared_error: 0.2112\n",
      "Epoch 20/100\n",
      "414/414 [==============================] - 1s 2ms/step - loss: 0.2112 - mean_squared_error: 0.2112\n",
      "Epoch 21/100\n",
      "414/414 [==============================] - 1s 2ms/step - loss: 0.2103 - mean_squared_error: 0.2103\n",
      "Epoch 22/100\n",
      "414/414 [==============================] - 1s 2ms/step - loss: 0.2099 - mean_squared_error: 0.2099\n",
      "Epoch 23/100\n",
      "414/414 [==============================] - 1s 2ms/step - loss: 0.2094 - mean_squared_error: 0.2094\n",
      "Epoch 24/100\n",
      "414/414 [==============================] - 1s 2ms/step - loss: 0.2091 - mean_squared_error: 0.2091\n",
      "Epoch 25/100\n",
      "414/414 [==============================] - 1s 2ms/step - loss: 0.2092 - mean_squared_error: 0.2092\n",
      "Epoch 26/100\n",
      "414/414 [==============================] - 1s 3ms/step - loss: 0.2088 - mean_squared_error: 0.2088\n",
      "Epoch 27/100\n",
      "414/414 [==============================] - 1s 3ms/step - loss: 0.2087 - mean_squared_error: 0.2087\n",
      "Epoch 28/100\n",
      "414/414 [==============================] - 1s 3ms/step - loss: 0.2083 - mean_squared_error: 0.2083\n",
      "Epoch 29/100\n",
      "414/414 [==============================] - 1s 3ms/step - loss: 0.2080 - mean_squared_error: 0.2080\n",
      "Epoch 30/100\n",
      "414/414 [==============================] - 1s 2ms/step - loss: 0.2084 - mean_squared_error: 0.2084\n",
      "Epoch 31/100\n",
      "414/414 [==============================] - 1s 3ms/step - loss: 0.2076 - mean_squared_error: 0.2076\n",
      "Epoch 32/100\n",
      "414/414 [==============================] - 1s 3ms/step - loss: 0.2083 - mean_squared_error: 0.2083\n",
      "Epoch 33/100\n",
      "414/414 [==============================] - 1s 2ms/step - loss: 0.2078 - mean_squared_error: 0.2078\n",
      "Epoch 34/100\n",
      "414/414 [==============================] - 1s 3ms/step - loss: 0.2076 - mean_squared_error: 0.2076\n",
      "Epoch 35/100\n",
      "414/414 [==============================] - 1s 3ms/step - loss: 0.2070 - mean_squared_error: 0.2070\n",
      "Epoch 36/100\n",
      "414/414 [==============================] - 1s 3ms/step - loss: 0.2075 - mean_squared_error: 0.2075\n",
      "Epoch 37/100\n",
      "414/414 [==============================] - 1s 3ms/step - loss: 0.2076 - mean_squared_error: 0.2076\n",
      "Epoch 38/100\n",
      "414/414 [==============================] - 1s 2ms/step - loss: 0.2071 - mean_squared_error: 0.2071\n",
      "Epoch 39/100\n",
      "414/414 [==============================] - 1s 2ms/step - loss: 0.2075 - mean_squared_error: 0.2075\n",
      "Epoch 40/100\n",
      "414/414 [==============================] - 1s 3ms/step - loss: 0.2074 - mean_squared_error: 0.2074\n",
      "Epoch 41/100\n",
      "414/414 [==============================] - 1s 3ms/step - loss: 0.2071 - mean_squared_error: 0.2071\n",
      "Epoch 42/100\n",
      "414/414 [==============================] - 1s 3ms/step - loss: 0.2075 - mean_squared_error: 0.2075\n",
      "Epoch 43/100\n",
      "414/414 [==============================] - 1s 3ms/step - loss: 0.2073 - mean_squared_error: 0.2073\n",
      "Epoch 44/100\n",
      "414/414 [==============================] - 1s 2ms/step - loss: 0.2070 - mean_squared_error: 0.2070\n",
      "Epoch 45/100\n",
      "414/414 [==============================] - 1s 2ms/step - loss: 0.2071 - mean_squared_error: 0.2071\n",
      "Epoch 46/100\n",
      "414/414 [==============================] - 1s 2ms/step - loss: 0.2065 - mean_squared_error: 0.2065\n",
      "Epoch 47/100\n",
      "414/414 [==============================] - 1s 2ms/step - loss: 0.2069 - mean_squared_error: 0.2069\n",
      "Epoch 48/100\n",
      "414/414 [==============================] - 1s 2ms/step - loss: 0.2065 - mean_squared_error: 0.2065\n",
      "Epoch 49/100\n",
      "414/414 [==============================] - 1s 2ms/step - loss: 0.2065 - mean_squared_error: 0.2065\n",
      "Epoch 50/100\n",
      "414/414 [==============================] - 1s 3ms/step - loss: 0.2068 - mean_squared_error: 0.2068\n",
      "Epoch 51/100\n",
      "414/414 [==============================] - 1s 2ms/step - loss: 0.2072 - mean_squared_error: 0.2072\n",
      "Epoch 52/100\n",
      "414/414 [==============================] - 1s 3ms/step - loss: 0.2063 - mean_squared_error: 0.2063\n",
      "Epoch 53/100\n",
      "414/414 [==============================] - 1s 2ms/step - loss: 0.2065 - mean_squared_error: 0.2065\n",
      "Epoch 54/100\n",
      "414/414 [==============================] - 1s 3ms/step - loss: 0.2059 - mean_squared_error: 0.2059\n",
      "Epoch 55/100\n",
      "414/414 [==============================] - 1s 3ms/step - loss: 0.2064 - mean_squared_error: 0.2064\n",
      "Epoch 56/100\n",
      "414/414 [==============================] - 1s 2ms/step - loss: 0.2063 - mean_squared_error: 0.2063\n",
      "Epoch 57/100\n",
      "414/414 [==============================] - 1s 3ms/step - loss: 0.2064 - mean_squared_error: 0.2064\n",
      "Epoch 58/100\n",
      "414/414 [==============================] - 1s 2ms/step - loss: 0.2058 - mean_squared_error: 0.2058\n",
      "Epoch 59/100\n",
      "414/414 [==============================] - 1s 3ms/step - loss: 0.2061 - mean_squared_error: 0.2061\n",
      "Epoch 60/100\n",
      "414/414 [==============================] - 1s 3ms/step - loss: 0.2065 - mean_squared_error: 0.2065\n",
      "Epoch 61/100\n",
      "414/414 [==============================] - 1s 3ms/step - loss: 0.2062 - mean_squared_error: 0.2062\n",
      "Epoch 62/100\n",
      "414/414 [==============================] - 1s 3ms/step - loss: 0.2056 - mean_squared_error: 0.2056\n",
      "Epoch 63/100\n",
      "414/414 [==============================] - 1s 2ms/step - loss: 0.2059 - mean_squared_error: 0.2059\n",
      "Epoch 64/100\n",
      "414/414 [==============================] - 1s 2ms/step - loss: 0.2061 - mean_squared_error: 0.2061\n",
      "Epoch 65/100\n",
      "414/414 [==============================] - 1s 3ms/step - loss: 0.2060 - mean_squared_error: 0.2060\n",
      "Epoch 66/100\n",
      "414/414 [==============================] - 1s 3ms/step - loss: 0.2060 - mean_squared_error: 0.2060\n",
      "Epoch 67/100\n",
      "414/414 [==============================] - 1s 3ms/step - loss: 0.2054 - mean_squared_error: 0.2054\n",
      "Epoch 68/100\n",
      "414/414 [==============================] - 1s 2ms/step - loss: 0.2058 - mean_squared_error: 0.2058\n",
      "Epoch 69/100\n",
      "414/414 [==============================] - 1s 2ms/step - loss: 0.2054 - mean_squared_error: 0.2054\n",
      "Epoch 70/100\n",
      "414/414 [==============================] - 1s 3ms/step - loss: 0.2054 - mean_squared_error: 0.2054\n",
      "Epoch 71/100\n",
      "414/414 [==============================] - 1s 3ms/step - loss: 0.2051 - mean_squared_error: 0.2051\n",
      "Epoch 72/100\n",
      "414/414 [==============================] - 1s 2ms/step - loss: 0.2059 - mean_squared_error: 0.2059\n",
      "Epoch 73/100\n",
      "414/414 [==============================] - 1s 2ms/step - loss: 0.2050 - mean_squared_error: 0.2050\n",
      "Epoch 74/100\n",
      "414/414 [==============================] - 1s 3ms/step - loss: 0.2054 - mean_squared_error: 0.2054\n",
      "Epoch 75/100\n",
      "414/414 [==============================] - 1s 3ms/step - loss: 0.2052 - mean_squared_error: 0.2052\n",
      "Epoch 76/100\n",
      "414/414 [==============================] - 1s 2ms/step - loss: 0.2055 - mean_squared_error: 0.2055\n",
      "Epoch 77/100\n",
      "414/414 [==============================] - 1s 3ms/step - loss: 0.2056 - mean_squared_error: 0.2056\n",
      "Epoch 78/100\n",
      "414/414 [==============================] - 1s 3ms/step - loss: 0.2051 - mean_squared_error: 0.2051\n",
      "Epoch 79/100\n",
      "414/414 [==============================] - 1s 3ms/step - loss: 0.2053 - mean_squared_error: 0.2053\n",
      "Epoch 80/100\n",
      "414/414 [==============================] - 1s 3ms/step - loss: 0.2052 - mean_squared_error: 0.2052\n",
      "Epoch 81/100\n",
      "414/414 [==============================] - 1s 2ms/step - loss: 0.2051 - mean_squared_error: 0.2051\n",
      "Epoch 82/100\n",
      "414/414 [==============================] - 1s 3ms/step - loss: 0.2052 - mean_squared_error: 0.2052\n",
      "Epoch 83/100\n",
      "414/414 [==============================] - 1s 3ms/step - loss: 0.2054 - mean_squared_error: 0.2054\n",
      "Epoch 84/100\n",
      "414/414 [==============================] - 1s 3ms/step - loss: 0.2051 - mean_squared_error: 0.2051\n",
      "Epoch 85/100\n",
      "414/414 [==============================] - 1s 2ms/step - loss: 0.2043 - mean_squared_error: 0.2043\n",
      "Epoch 86/100\n",
      "414/414 [==============================] - 1s 2ms/step - loss: 0.2048 - mean_squared_error: 0.2048\n",
      "Epoch 87/100\n",
      "414/414 [==============================] - 1s 2ms/step - loss: 0.2047 - mean_squared_error: 0.2047\n",
      "Epoch 88/100\n",
      "414/414 [==============================] - 1s 2ms/step - loss: 0.2047 - mean_squared_error: 0.2047\n",
      "Epoch 89/100\n",
      "414/414 [==============================] - 1s 2ms/step - loss: 0.2054 - mean_squared_error: 0.2054\n",
      "Epoch 90/100\n",
      "414/414 [==============================] - 1s 3ms/step - loss: 0.2051 - mean_squared_error: 0.2051\n",
      "Epoch 91/100\n",
      "414/414 [==============================] - 1s 2ms/step - loss: 0.2049 - mean_squared_error: 0.2049\n",
      "Epoch 92/100\n",
      "414/414 [==============================] - 1s 2ms/step - loss: 0.2052 - mean_squared_error: 0.2052\n",
      "Epoch 93/100\n",
      "414/414 [==============================] - 1s 3ms/step - loss: 0.2048 - mean_squared_error: 0.2048\n",
      "Epoch 94/100\n",
      "414/414 [==============================] - 1s 2ms/step - loss: 0.2050 - mean_squared_error: 0.2050\n",
      "Epoch 95/100\n",
      "414/414 [==============================] - 1s 2ms/step - loss: 0.2045 - mean_squared_error: 0.2045\n",
      "Epoch 96/100\n",
      "414/414 [==============================] - 1s 2ms/step - loss: 0.2047 - mean_squared_error: 0.2047\n",
      "Epoch 97/100\n",
      "414/414 [==============================] - 1s 2ms/step - loss: 0.2050 - mean_squared_error: 0.2050\n",
      "Epoch 98/100\n",
      "414/414 [==============================] - 1s 3ms/step - loss: 0.2048 - mean_squared_error: 0.2048\n",
      "Epoch 99/100\n",
      "414/414 [==============================] - 1s 2ms/step - loss: 0.2051 - mean_squared_error: 0.2051\n",
      "Epoch 100/100\n",
      "414/414 [==============================] - 1s 2ms/step - loss: 0.2044 - mean_squared_error: 0.2044\n",
      "--- 1.75 minutes ---\n"
     ]
    }
   ],
   "source": [
    "# Grab start time\n",
    "start_time = time.time()\n",
    "\n",
    "# Compile the model \n",
    "nn.compile(loss=\"mse\", optimizer=\"rmsprop\", metrics=[tf.keras.metrics.MeanSquaredError()])\n",
    "\n",
    "# Train the model over 100 epochs\n",
    "fit_model = nn.fit(X_train_scaled, y_train, epochs=100)\n",
    "\n",
    "# Print time taken\n",
    "print(\"--- %s minutes ---\" % round(((time.time() - start_time)/60),2))"
   ]
  },
  {
   "cell_type": "code",
   "execution_count": 24,
   "metadata": {},
   "outputs": [
    {
     "name": "stdout",
     "output_type": "stream",
     "text": [
      "104/104 - 0s - loss: 0.2299 - mean_squared_error: 0.2299 - 360ms/epoch - 3ms/step\n",
      "Loss: 0.22991560399532318, Accuracy: 0.22991560399532318\n"
     ]
    }
   ],
   "source": [
    "# Evaluate the model using the test data\n",
    "model_loss, model_accuracy = nn.evaluate(X_test_scaled,y_test,verbose=2)\n",
    "print(f\"Loss: {model_loss}, Accuracy: {model_accuracy}\")"
   ]
  },
  {
   "cell_type": "markdown",
   "metadata": {},
   "source": [
    "# Export the Random Forest Results"
   ]
  },
  {
   "cell_type": "code",
   "execution_count": 25,
   "metadata": {},
   "outputs": [
    {
     "name": "stdout",
     "output_type": "stream",
     "text": [
      "rf_df_rating length: 16525\n",
      "rf_df_rating columns: 9\n",
      "test_compare length: 3305\n",
      "test_compare columns: 3\n",
      "train_compare length: 13220\n",
      "train_compare columns: 3\n"
     ]
    }
   ],
   "source": [
    "print(f'rf_df_rating length: {len(rf_df_rating)}')\n",
    "print(f'rf_df_rating columns: {len(rf_df_rating.columns)}')\n",
    "print(f'test_compare length: {len(test_compare)}')\n",
    "print(f'test_compare columns: {len(test_compare.columns)}')\n",
    "print(f'train_compare length: {len(train_compare)}')\n",
    "print(f'train_compare columns: {len(train_compare.columns)}')"
   ]
  },
  {
   "cell_type": "code",
   "execution_count": 26,
   "metadata": {},
   "outputs": [
    {
     "name": "stdout",
     "output_type": "stream",
     "text": [
      "predict_compare length: 16525\n"
     ]
    },
    {
     "data": {
      "text/html": [
       "<div>\n",
       "<style scoped>\n",
       "    .dataframe tbody tr th:only-of-type {\n",
       "        vertical-align: middle;\n",
       "    }\n",
       "\n",
       "    .dataframe tbody tr th {\n",
       "        vertical-align: top;\n",
       "    }\n",
       "\n",
       "    .dataframe thead th {\n",
       "        text-align: right;\n",
       "    }\n",
       "</style>\n",
       "<table border=\"1\" class=\"dataframe\">\n",
       "  <thead>\n",
       "    <tr style=\"text-align: right;\">\n",
       "      <th></th>\n",
       "      <th>orig_index</th>\n",
       "      <th>actual</th>\n",
       "      <th>predictions</th>\n",
       "    </tr>\n",
       "  </thead>\n",
       "  <tbody>\n",
       "    <tr>\n",
       "      <th>0</th>\n",
       "      <td>112306</td>\n",
       "      <td>1.7</td>\n",
       "      <td>2.363667</td>\n",
       "    </tr>\n",
       "    <tr>\n",
       "      <th>1</th>\n",
       "      <td>90042</td>\n",
       "      <td>1.9</td>\n",
       "      <td>2.497333</td>\n",
       "    </tr>\n",
       "  </tbody>\n",
       "</table>\n",
       "</div>"
      ],
      "text/plain": [
       "   orig_index  actual  predictions\n",
       "0      112306     1.7     2.363667\n",
       "1       90042     1.9     2.497333"
      ]
     },
     "execution_count": 26,
     "metadata": {},
     "output_type": "execute_result"
    }
   ],
   "source": [
    "predict_compare = pd.concat([test_compare, train_compare])\n",
    "print(f'predict_compare length: {len(predict_compare)}')\n",
    "predict_compare.head(2)"
   ]
  },
  {
   "cell_type": "code",
   "execution_count": 35,
   "metadata": {},
   "outputs": [
    {
     "data": {
      "text/html": [
       "<div>\n",
       "<style scoped>\n",
       "    .dataframe tbody tr th:only-of-type {\n",
       "        vertical-align: middle;\n",
       "    }\n",
       "\n",
       "    .dataframe tbody tr th {\n",
       "        vertical-align: top;\n",
       "    }\n",
       "\n",
       "    .dataframe thead th {\n",
       "        text-align: right;\n",
       "    }\n",
       "</style>\n",
       "<table border=\"1\" class=\"dataframe\">\n",
       "  <thead>\n",
       "    <tr style=\"text-align: right;\">\n",
       "      <th></th>\n",
       "      <th>Writer_Avg_Rating</th>\n",
       "      <th>Director_Avg_Rating</th>\n",
       "      <th>Actor_Avg_Rating</th>\n",
       "      <th>runtimeMinutes</th>\n",
       "      <th>OMDB_Metascore</th>\n",
       "      <th>genres</th>\n",
       "      <th>OMDB_Rated</th>\n",
       "      <th>ReleaseMonth</th>\n",
       "      <th>averageRating</th>\n",
       "      <th>actual</th>\n",
       "      <th>predictions</th>\n",
       "    </tr>\n",
       "  </thead>\n",
       "  <tbody>\n",
       "    <tr>\n",
       "      <th>0</th>\n",
       "      <td>6.86</td>\n",
       "      <td>7.17</td>\n",
       "      <td>6.51</td>\n",
       "      <td>118</td>\n",
       "      <td>44.0</td>\n",
       "      <td>2</td>\n",
       "      <td>2</td>\n",
       "      <td>12.0</td>\n",
       "      <td>6.4</td>\n",
       "      <td>6.4</td>\n",
       "      <td>6.802333</td>\n",
       "    </tr>\n",
       "    <tr>\n",
       "      <th>1</th>\n",
       "      <td>5.39</td>\n",
       "      <td>6.88</td>\n",
       "      <td>6.73</td>\n",
       "      <td>122</td>\n",
       "      <td>79.0</td>\n",
       "      <td>4</td>\n",
       "      <td>0</td>\n",
       "      <td>11.0</td>\n",
       "      <td>6.7</td>\n",
       "      <td>6.7</td>\n",
       "      <td>6.843000</td>\n",
       "    </tr>\n",
       "    <tr>\n",
       "      <th>2</th>\n",
       "      <td>5.73</td>\n",
       "      <td>5.90</td>\n",
       "      <td>6.04</td>\n",
       "      <td>94</td>\n",
       "      <td>45.0</td>\n",
       "      <td>2</td>\n",
       "      <td>3</td>\n",
       "      <td>5.0</td>\n",
       "      <td>5.9</td>\n",
       "      <td>5.9</td>\n",
       "      <td>5.819333</td>\n",
       "    </tr>\n",
       "    <tr>\n",
       "      <th>3</th>\n",
       "      <td>6.40</td>\n",
       "      <td>6.68</td>\n",
       "      <td>5.91</td>\n",
       "      <td>103</td>\n",
       "      <td>60.0</td>\n",
       "      <td>6</td>\n",
       "      <td>0</td>\n",
       "      <td>1.0</td>\n",
       "      <td>6.7</td>\n",
       "      <td>6.7</td>\n",
       "      <td>6.263667</td>\n",
       "    </tr>\n",
       "    <tr>\n",
       "      <th>4</th>\n",
       "      <td>6.80</td>\n",
       "      <td>6.93</td>\n",
       "      <td>6.36</td>\n",
       "      <td>116</td>\n",
       "      <td>79.0</td>\n",
       "      <td>2</td>\n",
       "      <td>1</td>\n",
       "      <td>11.0</td>\n",
       "      <td>6.9</td>\n",
       "      <td>6.9</td>\n",
       "      <td>7.011667</td>\n",
       "    </tr>\n",
       "    <tr>\n",
       "      <th>...</th>\n",
       "      <td>...</td>\n",
       "      <td>...</td>\n",
       "      <td>...</td>\n",
       "      <td>...</td>\n",
       "      <td>...</td>\n",
       "      <td>...</td>\n",
       "      <td>...</td>\n",
       "      <td>...</td>\n",
       "      <td>...</td>\n",
       "      <td>...</td>\n",
       "      <td>...</td>\n",
       "    </tr>\n",
       "    <tr>\n",
       "      <th>16520</th>\n",
       "      <td>6.40</td>\n",
       "      <td>6.40</td>\n",
       "      <td>6.17</td>\n",
       "      <td>91</td>\n",
       "      <td>64.0</td>\n",
       "      <td>2</td>\n",
       "      <td>3</td>\n",
       "      <td>1.0</td>\n",
       "      <td>6.0</td>\n",
       "      <td>6.0</td>\n",
       "      <td>6.380000</td>\n",
       "    </tr>\n",
       "    <tr>\n",
       "      <th>16521</th>\n",
       "      <td>7.15</td>\n",
       "      <td>7.15</td>\n",
       "      <td>5.63</td>\n",
       "      <td>101</td>\n",
       "      <td>57.0</td>\n",
       "      <td>2</td>\n",
       "      <td>2</td>\n",
       "      <td>2.0</td>\n",
       "      <td>6.1</td>\n",
       "      <td>6.1</td>\n",
       "      <td>6.369333</td>\n",
       "    </tr>\n",
       "    <tr>\n",
       "      <th>16522</th>\n",
       "      <td>5.20</td>\n",
       "      <td>6.50</td>\n",
       "      <td>5.71</td>\n",
       "      <td>88</td>\n",
       "      <td>35.0</td>\n",
       "      <td>2</td>\n",
       "      <td>0</td>\n",
       "      <td>4.0</td>\n",
       "      <td>5.2</td>\n",
       "      <td>5.2</td>\n",
       "      <td>5.341000</td>\n",
       "    </tr>\n",
       "    <tr>\n",
       "      <th>16523</th>\n",
       "      <td>6.82</td>\n",
       "      <td>6.63</td>\n",
       "      <td>6.88</td>\n",
       "      <td>97</td>\n",
       "      <td>70.0</td>\n",
       "      <td>4</td>\n",
       "      <td>0</td>\n",
       "      <td>1.0</td>\n",
       "      <td>7.0</td>\n",
       "      <td>7.0</td>\n",
       "      <td>6.921000</td>\n",
       "    </tr>\n",
       "    <tr>\n",
       "      <th>16524</th>\n",
       "      <td>6.80</td>\n",
       "      <td>6.70</td>\n",
       "      <td>5.64</td>\n",
       "      <td>111</td>\n",
       "      <td>62.0</td>\n",
       "      <td>6</td>\n",
       "      <td>0</td>\n",
       "      <td>2.0</td>\n",
       "      <td>6.2</td>\n",
       "      <td>6.2</td>\n",
       "      <td>6.403667</td>\n",
       "    </tr>\n",
       "  </tbody>\n",
       "</table>\n",
       "<p>16525 rows × 11 columns</p>\n",
       "</div>"
      ],
      "text/plain": [
       "       Writer_Avg_Rating  Director_Avg_Rating  Actor_Avg_Rating  \\\n",
       "0                   6.86                 7.17              6.51   \n",
       "1                   5.39                 6.88              6.73   \n",
       "2                   5.73                 5.90              6.04   \n",
       "3                   6.40                 6.68              5.91   \n",
       "4                   6.80                 6.93              6.36   \n",
       "...                  ...                  ...               ...   \n",
       "16520               6.40                 6.40              6.17   \n",
       "16521               7.15                 7.15              5.63   \n",
       "16522               5.20                 6.50              5.71   \n",
       "16523               6.82                 6.63              6.88   \n",
       "16524               6.80                 6.70              5.64   \n",
       "\n",
       "       runtimeMinutes  OMDB_Metascore  genres  OMDB_Rated  ReleaseMonth  \\\n",
       "0                 118            44.0       2           2          12.0   \n",
       "1                 122            79.0       4           0          11.0   \n",
       "2                  94            45.0       2           3           5.0   \n",
       "3                 103            60.0       6           0           1.0   \n",
       "4                 116            79.0       2           1          11.0   \n",
       "...               ...             ...     ...         ...           ...   \n",
       "16520              91            64.0       2           3           1.0   \n",
       "16521             101            57.0       2           2           2.0   \n",
       "16522              88            35.0       2           0           4.0   \n",
       "16523              97            70.0       4           0           1.0   \n",
       "16524             111            62.0       6           0           2.0   \n",
       "\n",
       "       averageRating  actual  predictions  \n",
       "0                6.4     6.4     6.802333  \n",
       "1                6.7     6.7     6.843000  \n",
       "2                5.9     5.9     5.819333  \n",
       "3                6.7     6.7     6.263667  \n",
       "4                6.9     6.9     7.011667  \n",
       "...              ...     ...          ...  \n",
       "16520            6.0     6.0     6.380000  \n",
       "16521            6.1     6.1     6.369333  \n",
       "16522            5.2     5.2     5.341000  \n",
       "16523            7.0     7.0     6.921000  \n",
       "16524            6.2     6.2     6.403667  \n",
       "\n",
       "[16525 rows x 11 columns]"
      ]
     },
     "execution_count": 35,
     "metadata": {},
     "output_type": "execute_result"
    }
   ],
   "source": [
    "user_movie_predictions = rf_df_rating.merge(predict_compare, left_on=rf_df_rating.index, right_on='orig_index')\n",
    "user_movie_predictions = user_movie_predictions.drop(columns='orig_index')\n",
    "user_movie_predictions"
   ]
  },
  {
   "cell_type": "code",
   "execution_count": 36,
   "metadata": {
    "tags": []
   },
   "outputs": [],
   "source": [
    "user_movie_predictions.to_csv(\"../Resources/movie_viewers_model_results.csv\")"
   ]
  },
  {
   "cell_type": "code",
   "execution_count": null,
   "metadata": {},
   "outputs": [],
   "source": []
  }
 ],
 "metadata": {
  "colab": {
   "provenance": []
  },
  "kernelspec": {
   "display_name": "Python 3 (ipykernel)",
   "language": "python",
   "name": "python3"
  },
  "language_info": {
   "codemirror_mode": {
    "name": "ipython",
    "version": 3
   },
   "file_extension": ".py",
   "mimetype": "text/x-python",
   "name": "python",
   "nbconvert_exporter": "python",
   "pygments_lexer": "ipython3",
   "version": "3.10.11"
  },
  "vscode": {
   "interpreter": {
    "hash": "31f2aee4e71d21fbe5cf8b01ff0e069b9275f58929596ceb00d14d90e3e16cd6"
   }
  }
 },
 "nbformat": 4,
 "nbformat_minor": 4
}
