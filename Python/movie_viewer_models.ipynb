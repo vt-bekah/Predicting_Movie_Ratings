{
 "cells": [
  {
   "cell_type": "markdown",
   "metadata": {
    "id": "Xklk3cDrVzx-"
   },
   "source": [
    "## Load Data"
   ]
  },
  {
   "cell_type": "code",
   "execution_count": 1,
   "metadata": {
    "colab": {
     "base_uri": "https://localhost:8080/",
     "height": 206
    },
    "id": "o82ihmoMVzyA",
    "outputId": "5ac99d53-20fd-4097-cb52-bf864b0118dc",
    "tags": []
   },
   "outputs": [
    {
     "name": "stdout",
     "output_type": "stream",
     "text": [
      "Using TensorFlow backend\n",
      "dataframe length: 224162\n"
     ]
    },
    {
     "data": {
      "text/html": [
       "<div>\n",
       "<style scoped>\n",
       "    .dataframe tbody tr th:only-of-type {\n",
       "        vertical-align: middle;\n",
       "    }\n",
       "\n",
       "    .dataframe tbody tr th {\n",
       "        vertical-align: top;\n",
       "    }\n",
       "\n",
       "    .dataframe thead th {\n",
       "        text-align: right;\n",
       "    }\n",
       "</style>\n",
       "<table border=\"1\" class=\"dataframe\">\n",
       "  <thead>\n",
       "    <tr style=\"text-align: right;\">\n",
       "      <th></th>\n",
       "      <th>Unnamed: 0</th>\n",
       "      <th>tconst</th>\n",
       "      <th>averageRating</th>\n",
       "      <th>numVotes</th>\n",
       "      <th>isAdult</th>\n",
       "      <th>startYear</th>\n",
       "      <th>runtimeMinutes</th>\n",
       "      <th>genres</th>\n",
       "      <th>Movie</th>\n",
       "      <th>OMDB_Title</th>\n",
       "      <th>...</th>\n",
       "      <th>OMDB_Metascore</th>\n",
       "      <th>OMDB_imdbRating</th>\n",
       "      <th>OMDB_imdbVotes</th>\n",
       "      <th>OMDB_BoxOffice</th>\n",
       "      <th>OMDB_Production</th>\n",
       "      <th>ReleaseYear</th>\n",
       "      <th>ReleaseMonth</th>\n",
       "      <th>Director_Avg_Rating</th>\n",
       "      <th>Writer_Avg_Rating</th>\n",
       "      <th>Actor_Avg_Rating</th>\n",
       "    </tr>\n",
       "  </thead>\n",
       "  <tbody>\n",
       "    <tr>\n",
       "      <th>0</th>\n",
       "      <td>0</td>\n",
       "      <td>tt10048376</td>\n",
       "      <td>4.8</td>\n",
       "      <td>30</td>\n",
       "      <td>0</td>\n",
       "      <td>2019</td>\n",
       "      <td>101.0</td>\n",
       "      <td>Drama</td>\n",
       "      <td>Ya podaryu tebe pobedu</td>\n",
       "      <td>Ya podaryu tebe pobedu</td>\n",
       "      <td>...</td>\n",
       "      <td>NaN</td>\n",
       "      <td>5.1</td>\n",
       "      <td>22.0</td>\n",
       "      <td>NaN</td>\n",
       "      <td>NaN</td>\n",
       "      <td>2019.0</td>\n",
       "      <td>4.0</td>\n",
       "      <td>6.05</td>\n",
       "      <td>6.05</td>\n",
       "      <td>5.03</td>\n",
       "    </tr>\n",
       "    <tr>\n",
       "      <th>1</th>\n",
       "      <td>1</td>\n",
       "      <td>tt10048556</td>\n",
       "      <td>3.7</td>\n",
       "      <td>340</td>\n",
       "      <td>0</td>\n",
       "      <td>2019</td>\n",
       "      <td>88.0</td>\n",
       "      <td>Thriller</td>\n",
       "      <td>Staged Killer</td>\n",
       "      <td>Staged Killer</td>\n",
       "      <td>...</td>\n",
       "      <td>NaN</td>\n",
       "      <td>3.7</td>\n",
       "      <td>339.0</td>\n",
       "      <td>NaN</td>\n",
       "      <td>NaN</td>\n",
       "      <td>2019.0</td>\n",
       "      <td>6.0</td>\n",
       "      <td>3.89</td>\n",
       "      <td>4.68</td>\n",
       "      <td>4.94</td>\n",
       "    </tr>\n",
       "    <tr>\n",
       "      <th>2</th>\n",
       "      <td>2</td>\n",
       "      <td>tt10049110</td>\n",
       "      <td>7.8</td>\n",
       "      <td>96</td>\n",
       "      <td>0</td>\n",
       "      <td>2019</td>\n",
       "      <td>93.0</td>\n",
       "      <td>Documentary</td>\n",
       "      <td>Die Wiese</td>\n",
       "      <td>Die Wiese</td>\n",
       "      <td>...</td>\n",
       "      <td>NaN</td>\n",
       "      <td>7.8</td>\n",
       "      <td>95.0</td>\n",
       "      <td>NaN</td>\n",
       "      <td>NaN</td>\n",
       "      <td>2019.0</td>\n",
       "      <td>4.0</td>\n",
       "      <td>7.54</td>\n",
       "      <td>7.74</td>\n",
       "      <td>7.80</td>\n",
       "    </tr>\n",
       "    <tr>\n",
       "      <th>3</th>\n",
       "      <td>3</td>\n",
       "      <td>tt10049238</td>\n",
       "      <td>7.1</td>\n",
       "      <td>41</td>\n",
       "      <td>0</td>\n",
       "      <td>2018</td>\n",
       "      <td>61.0</td>\n",
       "      <td>Documentary</td>\n",
       "      <td>Joan Miró: The Inner Fire</td>\n",
       "      <td>Miró contra Miró</td>\n",
       "      <td>...</td>\n",
       "      <td>NaN</td>\n",
       "      <td>7.0</td>\n",
       "      <td>32.0</td>\n",
       "      <td>NaN</td>\n",
       "      <td>NaN</td>\n",
       "      <td>2018.0</td>\n",
       "      <td>10.0</td>\n",
       "      <td>7.48</td>\n",
       "      <td>NaN</td>\n",
       "      <td>7.17</td>\n",
       "    </tr>\n",
       "    <tr>\n",
       "      <th>4</th>\n",
       "      <td>4</td>\n",
       "      <td>tt10049262</td>\n",
       "      <td>5.4</td>\n",
       "      <td>176</td>\n",
       "      <td>0</td>\n",
       "      <td>2020</td>\n",
       "      <td>107.0</td>\n",
       "      <td>Comedy</td>\n",
       "      <td>James &amp; Pat &amp; Dave</td>\n",
       "      <td>James &amp; Pat &amp; Dave</td>\n",
       "      <td>...</td>\n",
       "      <td>NaN</td>\n",
       "      <td>5.4</td>\n",
       "      <td>174.0</td>\n",
       "      <td>NaN</td>\n",
       "      <td>NaN</td>\n",
       "      <td>2020.0</td>\n",
       "      <td>2.0</td>\n",
       "      <td>5.93</td>\n",
       "      <td>5.29</td>\n",
       "      <td>5.90</td>\n",
       "    </tr>\n",
       "  </tbody>\n",
       "</table>\n",
       "<p>5 rows × 28 columns</p>\n",
       "</div>"
      ],
      "text/plain": [
       "   Unnamed: 0      tconst  averageRating  numVotes  isAdult  startYear  \\\n",
       "0           0  tt10048376            4.8        30        0       2019   \n",
       "1           1  tt10048556            3.7       340        0       2019   \n",
       "2           2  tt10049110            7.8        96        0       2019   \n",
       "3           3  tt10049238            7.1        41        0       2018   \n",
       "4           4  tt10049262            5.4       176        0       2020   \n",
       "\n",
       "   runtimeMinutes       genres                      Movie  \\\n",
       "0           101.0        Drama     Ya podaryu tebe pobedu   \n",
       "1            88.0     Thriller              Staged Killer   \n",
       "2            93.0  Documentary                  Die Wiese   \n",
       "3            61.0  Documentary  Joan Miró: The Inner Fire   \n",
       "4           107.0       Comedy         James & Pat & Dave   \n",
       "\n",
       "               OMDB_Title  ... OMDB_Metascore  OMDB_imdbRating OMDB_imdbVotes  \\\n",
       "0  Ya podaryu tebe pobedu  ...            NaN              5.1           22.0   \n",
       "1           Staged Killer  ...            NaN              3.7          339.0   \n",
       "2               Die Wiese  ...            NaN              7.8           95.0   \n",
       "3        Miró contra Miró  ...            NaN              7.0           32.0   \n",
       "4      James & Pat & Dave  ...            NaN              5.4          174.0   \n",
       "\n",
       "  OMDB_BoxOffice OMDB_Production ReleaseYear ReleaseMonth Director_Avg_Rating  \\\n",
       "0            NaN             NaN      2019.0          4.0                6.05   \n",
       "1            NaN             NaN      2019.0          6.0                3.89   \n",
       "2            NaN             NaN      2019.0          4.0                7.54   \n",
       "3            NaN             NaN      2018.0         10.0                7.48   \n",
       "4            NaN             NaN      2020.0          2.0                5.93   \n",
       "\n",
       "   Writer_Avg_Rating  Actor_Avg_Rating  \n",
       "0               6.05              5.03  \n",
       "1               4.68              4.94  \n",
       "2               7.74              7.80  \n",
       "3                NaN              7.17  \n",
       "4               5.29              5.90  \n",
       "\n",
       "[5 rows x 28 columns]"
      ]
     },
     "execution_count": 1,
     "metadata": {},
     "output_type": "execute_result"
    }
   ],
   "source": [
    "# Import our dependencies\n",
    "from sklearn.model_selection import train_test_split\n",
    "from sklearn.preprocessing import StandardScaler, LabelEncoder\n",
    "from sklearn.ensemble import RandomForestClassifier, RandomForestRegressor\n",
    "from sklearn.metrics import confusion_matrix, accuracy_score, classification_report, mean_squared_error\n",
    "import pandas as pd\n",
    "import tensorflow as tf\n",
    "from tensorflow import keras\n",
    "import keras_tuner as kt\n",
    "import time\n",
    "\n",
    "#  Import and read the data\n",
    "application_df = pd.read_csv(\"../Resources/IMDB_OMDB_FINAL.csv\")\n",
    "print(f'dataframe length: {len(application_df)}')\n",
    "application_df.head()"
   ]
  },
  {
   "cell_type": "code",
   "execution_count": 2,
   "metadata": {
    "tags": []
   },
   "outputs": [
    {
     "data": {
      "text/plain": [
       "Index(['Unnamed: 0', 'tconst', 'averageRating', 'numVotes', 'isAdult',\n",
       "       'startYear', 'runtimeMinutes', 'genres', 'Movie', 'OMDB_Title',\n",
       "       'OMDB_Rated', 'OMDB_Runtime', 'OMDB_Genre', 'OMDB_Director',\n",
       "       'OMDB_Writer', 'OMDB_Actors', 'OMDB_Language', 'OMDB_Country',\n",
       "       'OMDB_Metascore', 'OMDB_imdbRating', 'OMDB_imdbVotes', 'OMDB_BoxOffice',\n",
       "       'OMDB_Production', 'ReleaseYear', 'ReleaseMonth', 'Director_Avg_Rating',\n",
       "       'Writer_Avg_Rating', 'Actor_Avg_Rating'],\n",
       "      dtype='object')"
      ]
     },
     "execution_count": 2,
     "metadata": {},
     "output_type": "execute_result"
    }
   ],
   "source": [
    "application_df.columns"
   ]
  },
  {
   "cell_type": "markdown",
   "metadata": {},
   "source": [
    "## Select the data to be used in the model\n",
    "\n",
    "**Features**\n",
    "* Our customers are movie goers for which Writer, Director, and key Actors are known so we are using Writer, Director, & Actor ratings\n",
    "* While our initial data review did not show a relationship between release month and movie rating, it did show a relationship to box office returns so we are going to keep it in as a potential complex additive\n",
    "* Runtime showed a very small relationship to IMDB rating alone\n",
    "\n",
    "Notes: \n",
    "* We wanted to use a critic's score (Metascore as a proxy) that is available prior to the movie release which does show a positive correlation with IMDB ratings. However the availability reduces our row count from 160k to 16k and does not result in better performing machine learning models\n",
    "* Budget is not available in this larger dataset\n",
    "* kids vs. teens vs. adults as considered but showed little relevance in early experiments\n",
    "\n",
    "**Target**\n",
    "\n",
    "Our customers are the viewers that will provide the IMDB Rating after release so our target is the IMDB Rating: averageRating."
   ]
  },
  {
   "cell_type": "code",
   "execution_count": 3,
   "metadata": {},
   "outputs": [
    {
     "name": "stdout",
     "output_type": "stream",
     "text": [
      "16594\n"
     ]
    },
    {
     "data": {
      "text/html": [
       "<div>\n",
       "<style scoped>\n",
       "    .dataframe tbody tr th:only-of-type {\n",
       "        vertical-align: middle;\n",
       "    }\n",
       "\n",
       "    .dataframe tbody tr th {\n",
       "        vertical-align: top;\n",
       "    }\n",
       "\n",
       "    .dataframe thead th {\n",
       "        text-align: right;\n",
       "    }\n",
       "</style>\n",
       "<table border=\"1\" class=\"dataframe\">\n",
       "  <thead>\n",
       "    <tr style=\"text-align: right;\">\n",
       "      <th></th>\n",
       "      <th>Writer_Avg_Rating</th>\n",
       "      <th>Director_Avg_Rating</th>\n",
       "      <th>Actor_Avg_Rating</th>\n",
       "      <th>runtimeMinutes</th>\n",
       "      <th>OMDB_Metascore</th>\n",
       "      <th>genres</th>\n",
       "      <th>OMDB_Rated</th>\n",
       "      <th>ReleaseMonth</th>\n",
       "      <th>averageRating</th>\n",
       "    </tr>\n",
       "  </thead>\n",
       "  <tbody>\n",
       "    <tr>\n",
       "      <th>33</th>\n",
       "      <td>7.03</td>\n",
       "      <td>7.36</td>\n",
       "      <td>6.61</td>\n",
       "      <td>77.0</td>\n",
       "      <td>79.0</td>\n",
       "      <td>Documentary</td>\n",
       "      <td>kids</td>\n",
       "      <td>4.0</td>\n",
       "      <td>7.4</td>\n",
       "    </tr>\n",
       "    <tr>\n",
       "      <th>54</th>\n",
       "      <td>6.22</td>\n",
       "      <td>5.90</td>\n",
       "      <td>6.25</td>\n",
       "      <td>90.0</td>\n",
       "      <td>40.0</td>\n",
       "      <td>Thriller</td>\n",
       "      <td>adults</td>\n",
       "      <td>8.0</td>\n",
       "      <td>6.0</td>\n",
       "    </tr>\n",
       "    <tr>\n",
       "      <th>65</th>\n",
       "      <td>6.04</td>\n",
       "      <td>6.20</td>\n",
       "      <td>6.09</td>\n",
       "      <td>114.0</td>\n",
       "      <td>61.0</td>\n",
       "      <td>Horror</td>\n",
       "      <td>unknown</td>\n",
       "      <td>10.0</td>\n",
       "      <td>5.4</td>\n",
       "    </tr>\n",
       "    <tr>\n",
       "      <th>86</th>\n",
       "      <td>5.80</td>\n",
       "      <td>5.80</td>\n",
       "      <td>5.92</td>\n",
       "      <td>105.0</td>\n",
       "      <td>43.0</td>\n",
       "      <td>Horror</td>\n",
       "      <td>adults</td>\n",
       "      <td>9.0</td>\n",
       "      <td>5.8</td>\n",
       "    </tr>\n",
       "    <tr>\n",
       "      <th>133</th>\n",
       "      <td>5.77</td>\n",
       "      <td>5.45</td>\n",
       "      <td>6.03</td>\n",
       "      <td>91.0</td>\n",
       "      <td>47.0</td>\n",
       "      <td>Comedy</td>\n",
       "      <td>teens</td>\n",
       "      <td>8.0</td>\n",
       "      <td>5.5</td>\n",
       "    </tr>\n",
       "  </tbody>\n",
       "</table>\n",
       "</div>"
      ],
      "text/plain": [
       "     Writer_Avg_Rating  Director_Avg_Rating  Actor_Avg_Rating  runtimeMinutes  \\\n",
       "33                7.03                 7.36              6.61            77.0   \n",
       "54                6.22                 5.90              6.25            90.0   \n",
       "65                6.04                 6.20              6.09           114.0   \n",
       "86                5.80                 5.80              5.92           105.0   \n",
       "133               5.77                 5.45              6.03            91.0   \n",
       "\n",
       "     OMDB_Metascore       genres OMDB_Rated  ReleaseMonth  averageRating  \n",
       "33             79.0  Documentary       kids           4.0            7.4  \n",
       "54             40.0     Thriller     adults           8.0            6.0  \n",
       "65             61.0       Horror    unknown          10.0            5.4  \n",
       "86             43.0       Horror     adults           9.0            5.8  \n",
       "133            47.0       Comedy      teens           8.0            5.5  "
      ]
     },
     "execution_count": 3,
     "metadata": {},
     "output_type": "execute_result"
    }
   ],
   "source": [
    "# Create the dataframe for the features and target\n",
    "df_rating = application_df[['Writer_Avg_Rating', 'Director_Avg_Rating', 'Actor_Avg_Rating', 'runtimeMinutes', \n",
    "                            'OMDB_Metascore', 'genres', 'OMDB_Rated', 'ReleaseMonth', 'averageRating']]\n",
    "\n",
    "# # Grab a single genre & drop column\n",
    "# df_rating = df_rating[df_rating['genres'] == 'Horror']\n",
    "# df_rating = df_rating.drop(columns='genres')\n",
    "\n",
    "# Drop rows with NaN values\n",
    "df_rating = df_rating.dropna()\n",
    "\n",
    "# View the dataframe and row count\n",
    "print(len(df_rating))\n",
    "df_rating.head()"
   ]
  },
  {
   "cell_type": "markdown",
   "metadata": {},
   "source": [
    "## Encode categorical data for Random Forest"
   ]
  },
  {
   "cell_type": "code",
   "execution_count": 4,
   "metadata": {},
   "outputs": [],
   "source": [
    "# using a copy of the dataframe for encoding and future Random Forest use\n",
    "rf_df_rating = df_rating.copy()\n",
    "\n",
    "# For simplicity, let's encode 'OMDB_Rated' using Label Encoding\n",
    "le = LabelEncoder()\n",
    "rf_df_rating['OMDB_Rated'] = le.fit_transform(rf_df_rating['OMDB_Rated'])\n",
    "rf_df_rating['genres'] = le.fit_transform(rf_df_rating['genres'])"
   ]
  },
  {
   "cell_type": "markdown",
   "metadata": {},
   "source": [
    "## Split the data into sets for Random Forest"
   ]
  },
  {
   "cell_type": "code",
   "execution_count": 5,
   "metadata": {},
   "outputs": [],
   "source": [
    "# Define features as X, target as y\n",
    "y_rf = rf_df_rating['averageRating']\n",
    "X_rf = rf_df_rating.drop(columns='averageRating')\n",
    "\n",
    "# Split the data into training and testing sets\n",
    "X_train_rf, X_test_rf, y_train_rf, y_test_rf = train_test_split(X_rf, y_rf, test_size=0.2, random_state=42)"
   ]
  },
  {
   "cell_type": "markdown",
   "metadata": {},
   "source": [
    "## Define the Random Forest Regression model; train it, test it, evaluate it"
   ]
  },
  {
   "cell_type": "code",
   "execution_count": 6,
   "metadata": {
    "tags": []
   },
   "outputs": [
    {
     "name": "stdout",
     "output_type": "stream",
     "text": [
      "--- 17.13 seconds ---\n",
      "Mean Squared Error: 0.21203883073884372\n"
     ]
    },
    {
     "data": {
      "text/plain": [
       "[(0.6519250358961095, 'Writer_Avg_Rating'),\n",
       " (0.09965806242222075, 'OMDB_Metascore'),\n",
       " (0.09880606578349418, 'Actor_Avg_Rating'),\n",
       " (0.0559913409671581, 'Director_Avg_Rating'),\n",
       " (0.04441745153470949, 'runtimeMinutes'),\n",
       " (0.021500367037527585, 'ReleaseMonth'),\n",
       " (0.014557240986055224, 'genres'),\n",
       " (0.013144435372725163, 'OMDB_Rated')]"
      ]
     },
     "execution_count": 6,
     "metadata": {},
     "output_type": "execute_result"
    }
   ],
   "source": [
    "# Grab start time\n",
    "start_time = time.time()\n",
    "\n",
    "# Initialize the Random Forest Regressor\n",
    "rf_model_rating = RandomForestRegressor(n_estimators=300, random_state=42)\n",
    "\n",
    "# Train the model\n",
    "rf_model_rating.fit(X_train_rf, y_train_rf)\n",
    "\n",
    "# Make predictions on the test set\n",
    "rating_predictions = rf_model_rating.predict(X_test_rf)\n",
    "\n",
    "# Print time taken\n",
    "print(\"--- %s seconds ---\" % round(((time.time() - start_time)),2))\n",
    "\n",
    "# Evaluate the model\n",
    "mse = mean_squared_error(y_test_rf, rating_predictions)\n",
    "print(f'Mean Squared Error: {mse}')\n",
    "\n",
    "# Random Forests in sklearn will automatically calculate feature importance\n",
    "importances = rf_model_rating.feature_importances_\n",
    "# We can sort the features by their importance\n",
    "sorted(zip(rf_model_rating.feature_importances_, X_rf.columns), reverse=True)"
   ]
  },
  {
   "cell_type": "markdown",
   "metadata": {
    "tags": []
   },
   "source": [
    "## Plot the Test predictions and actuals together"
   ]
  },
  {
   "cell_type": "code",
   "execution_count": 7,
   "metadata": {
    "tags": []
   },
   "outputs": [
    {
     "data": {
      "image/png": "[encoded data removed]",
      "text/plain": [
       "<Figure size 640x480 with 1 Axes>"
      ]
     },
     "metadata": {},
     "output_type": "display_data"
    }
   ],
   "source": [
    "# Create a dataframe for the actual and prediction values\n",
    "test_compare = pd.DataFrame({'orig_index':y_test_rf.index, 'actual':y_test_rf.values})\n",
    "test_compare['predictions'] = rating_predictions\n",
    "test_compare = test_compare.sort_values('actual').reset_index(drop=True)\n",
    "\n",
    "# Plot the dataframe\n",
    "test_lines = test_compare[['predictions', 'actual']].plot.line()"
   ]
  },
  {
   "cell_type": "markdown",
   "metadata": {},
   "source": [
    "## Plot the Training predictions and actuals together"
   ]
  },
  {
   "cell_type": "code",
   "execution_count": 8,
   "metadata": {
    "tags": []
   },
   "outputs": [
    {
     "data": {
      "text/plain": [
       "0.02916691498639883"
      ]
     },
     "execution_count": 8,
     "metadata": {},
     "output_type": "execute_result"
    }
   ],
   "source": [
    "# Check the model against the training data - if mse is much lower than the model is overfitting\n",
    "y_train_pred = rf_model_rating.predict(X_train_rf)\n",
    "mse_train = mean_squared_error(y_train_rf, y_train_pred)\n",
    "mse_train"
   ]
  },
  {
   "cell_type": "code",
   "execution_count": 9,
   "metadata": {
    "tags": []
   },
   "outputs": [
    {
     "data": {
      "image/png": "[encoded data removed]",
      "text/plain": [
       "<Figure size 640x480 with 1 Axes>"
      ]
     },
     "metadata": {},
     "output_type": "display_data"
    }
   ],
   "source": [
    "# Create a dataframe for the actual and prediction values\n",
    "train_compare = pd.DataFrame({'orig_index':y_train_rf.index, 'actual':y_train_rf.values})\n",
    "train_compare['predictions'] = y_train_pred\n",
    "train_compare = train_compare.sort_values('actual').reset_index(drop=True)\n",
    "\n",
    "# Plot the dataframe\n",
    "train_lines = train_compare[['predictions', 'actual']].plot.line()"
   ]
  },
  {
   "cell_type": "markdown",
   "metadata": {},
   "source": [
    "# Applying Keras Tuner"
   ]
  },
  {
   "cell_type": "markdown",
   "metadata": {},
   "source": [
    "## Convert categorical data into dummy columns for Keras Tuner"
   ]
  },
  {
   "cell_type": "code",
   "execution_count": 10,
   "metadata": {
    "tags": []
   },
   "outputs": [
    {
     "data": {
      "text/html": [
       "<div>\n",
       "<style scoped>\n",
       "    .dataframe tbody tr th:only-of-type {\n",
       "        vertical-align: middle;\n",
       "    }\n",
       "\n",
       "    .dataframe tbody tr th {\n",
       "        vertical-align: top;\n",
       "    }\n",
       "\n",
       "    .dataframe thead th {\n",
       "        text-align: right;\n",
       "    }\n",
       "</style>\n",
       "<table border=\"1\" class=\"dataframe\">\n",
       "  <thead>\n",
       "    <tr style=\"text-align: right;\">\n",
       "      <th></th>\n",
       "      <th>Writer_Avg_Rating</th>\n",
       "      <th>Director_Avg_Rating</th>\n",
       "      <th>Actor_Avg_Rating</th>\n",
       "      <th>runtimeMinutes</th>\n",
       "      <th>OMDB_Metascore</th>\n",
       "      <th>ReleaseMonth</th>\n",
       "      <th>averageRating</th>\n",
       "      <th>genres_Action</th>\n",
       "      <th>genres_Adult</th>\n",
       "      <th>genres_Comedy</th>\n",
       "      <th>...</th>\n",
       "      <th>genres_Mystery</th>\n",
       "      <th>genres_N</th>\n",
       "      <th>genres_Romance</th>\n",
       "      <th>genres_Sci-Fi</th>\n",
       "      <th>genres_Thriller</th>\n",
       "      <th>genres_Western</th>\n",
       "      <th>OMDB_Rated_adults</th>\n",
       "      <th>OMDB_Rated_kids</th>\n",
       "      <th>OMDB_Rated_teens</th>\n",
       "      <th>OMDB_Rated_unknown</th>\n",
       "    </tr>\n",
       "  </thead>\n",
       "  <tbody>\n",
       "    <tr>\n",
       "      <th>33</th>\n",
       "      <td>7.03</td>\n",
       "      <td>7.36</td>\n",
       "      <td>6.61</td>\n",
       "      <td>77.0</td>\n",
       "      <td>79.0</td>\n",
       "      <td>4.0</td>\n",
       "      <td>7.4</td>\n",
       "      <td>0</td>\n",
       "      <td>0</td>\n",
       "      <td>0</td>\n",
       "      <td>...</td>\n",
       "      <td>0</td>\n",
       "      <td>0</td>\n",
       "      <td>0</td>\n",
       "      <td>0</td>\n",
       "      <td>0</td>\n",
       "      <td>0</td>\n",
       "      <td>0</td>\n",
       "      <td>1</td>\n",
       "      <td>0</td>\n",
       "      <td>0</td>\n",
       "    </tr>\n",
       "    <tr>\n",
       "      <th>54</th>\n",
       "      <td>6.22</td>\n",
       "      <td>5.90</td>\n",
       "      <td>6.25</td>\n",
       "      <td>90.0</td>\n",
       "      <td>40.0</td>\n",
       "      <td>8.0</td>\n",
       "      <td>6.0</td>\n",
       "      <td>0</td>\n",
       "      <td>0</td>\n",
       "      <td>0</td>\n",
       "      <td>...</td>\n",
       "      <td>0</td>\n",
       "      <td>0</td>\n",
       "      <td>0</td>\n",
       "      <td>0</td>\n",
       "      <td>1</td>\n",
       "      <td>0</td>\n",
       "      <td>1</td>\n",
       "      <td>0</td>\n",
       "      <td>0</td>\n",
       "      <td>0</td>\n",
       "    </tr>\n",
       "    <tr>\n",
       "      <th>65</th>\n",
       "      <td>6.04</td>\n",
       "      <td>6.20</td>\n",
       "      <td>6.09</td>\n",
       "      <td>114.0</td>\n",
       "      <td>61.0</td>\n",
       "      <td>10.0</td>\n",
       "      <td>5.4</td>\n",
       "      <td>0</td>\n",
       "      <td>0</td>\n",
       "      <td>0</td>\n",
       "      <td>...</td>\n",
       "      <td>0</td>\n",
       "      <td>0</td>\n",
       "      <td>0</td>\n",
       "      <td>0</td>\n",
       "      <td>0</td>\n",
       "      <td>0</td>\n",
       "      <td>0</td>\n",
       "      <td>0</td>\n",
       "      <td>0</td>\n",
       "      <td>1</td>\n",
       "    </tr>\n",
       "    <tr>\n",
       "      <th>86</th>\n",
       "      <td>5.80</td>\n",
       "      <td>5.80</td>\n",
       "      <td>5.92</td>\n",
       "      <td>105.0</td>\n",
       "      <td>43.0</td>\n",
       "      <td>9.0</td>\n",
       "      <td>5.8</td>\n",
       "      <td>0</td>\n",
       "      <td>0</td>\n",
       "      <td>0</td>\n",
       "      <td>...</td>\n",
       "      <td>0</td>\n",
       "      <td>0</td>\n",
       "      <td>0</td>\n",
       "      <td>0</td>\n",
       "      <td>0</td>\n",
       "      <td>0</td>\n",
       "      <td>1</td>\n",
       "      <td>0</td>\n",
       "      <td>0</td>\n",
       "      <td>0</td>\n",
       "    </tr>\n",
       "    <tr>\n",
       "      <th>133</th>\n",
       "      <td>5.77</td>\n",
       "      <td>5.45</td>\n",
       "      <td>6.03</td>\n",
       "      <td>91.0</td>\n",
       "      <td>47.0</td>\n",
       "      <td>8.0</td>\n",
       "      <td>5.5</td>\n",
       "      <td>0</td>\n",
       "      <td>0</td>\n",
       "      <td>1</td>\n",
       "      <td>...</td>\n",
       "      <td>0</td>\n",
       "      <td>0</td>\n",
       "      <td>0</td>\n",
       "      <td>0</td>\n",
       "      <td>0</td>\n",
       "      <td>0</td>\n",
       "      <td>0</td>\n",
       "      <td>0</td>\n",
       "      <td>1</td>\n",
       "      <td>0</td>\n",
       "    </tr>\n",
       "  </tbody>\n",
       "</table>\n",
       "<p>5 rows × 25 columns</p>\n",
       "</div>"
      ],
      "text/plain": [
       "     Writer_Avg_Rating  Director_Avg_Rating  Actor_Avg_Rating  runtimeMinutes  \\\n",
       "33                7.03                 7.36              6.61            77.0   \n",
       "54                6.22                 5.90              6.25            90.0   \n",
       "65                6.04                 6.20              6.09           114.0   \n",
       "86                5.80                 5.80              5.92           105.0   \n",
       "133               5.77                 5.45              6.03            91.0   \n",
       "\n",
       "     OMDB_Metascore  ReleaseMonth  averageRating  genres_Action  genres_Adult  \\\n",
       "33             79.0           4.0            7.4              0             0   \n",
       "54             40.0           8.0            6.0              0             0   \n",
       "65             61.0          10.0            5.4              0             0   \n",
       "86             43.0           9.0            5.8              0             0   \n",
       "133            47.0           8.0            5.5              0             0   \n",
       "\n",
       "     genres_Comedy  ...  genres_Mystery  genres_N  genres_Romance  \\\n",
       "33               0  ...               0         0               0   \n",
       "54               0  ...               0         0               0   \n",
       "65               0  ...               0         0               0   \n",
       "86               0  ...               0         0               0   \n",
       "133              1  ...               0         0               0   \n",
       "\n",
       "     genres_Sci-Fi  genres_Thriller  genres_Western  OMDB_Rated_adults  \\\n",
       "33               0                0               0                  0   \n",
       "54               0                1               0                  1   \n",
       "65               0                0               0                  0   \n",
       "86               0                0               0                  1   \n",
       "133              0                0               0                  0   \n",
       "\n",
       "     OMDB_Rated_kids  OMDB_Rated_teens  OMDB_Rated_unknown  \n",
       "33                 1                 0                   0  \n",
       "54                 0                 0                   0  \n",
       "65                 0                 0                   1  \n",
       "86                 0                 0                   0  \n",
       "133                0                 1                   0  \n",
       "\n",
       "[5 rows x 25 columns]"
      ]
     },
     "execution_count": 10,
     "metadata": {},
     "output_type": "execute_result"
    }
   ],
   "source": [
    "df_rating = pd.get_dummies(data=df_rating, columns=['genres', 'OMDB_Rated'])\n",
    "df_rating.head()"
   ]
  },
  {
   "cell_type": "markdown",
   "metadata": {},
   "source": [
    "## Split the data into training and test sets"
   ]
  },
  {
   "cell_type": "code",
   "execution_count": 11,
   "metadata": {},
   "outputs": [],
   "source": [
    "# Define features as X, target as y\n",
    "y = df_rating['averageRating']\n",
    "X = df_rating.drop(columns='averageRating')\n",
    "\n",
    "# Split the data into training and testing sets\n",
    "X_train, X_test, y_train, y_test = train_test_split(X, y, test_size=0.2, random_state=42)"
   ]
  },
  {
   "cell_type": "markdown",
   "metadata": {},
   "source": [
    "## Scale the data"
   ]
  },
  {
   "cell_type": "code",
   "execution_count": 12,
   "metadata": {
    "tags": []
   },
   "outputs": [],
   "source": [
    "# Create a StandardScaler instances\n",
    "scaler = StandardScaler()\n",
    "\n",
    "# Fit the StandardScaler\n",
    "X_scaler = scaler.fit(X_train)\n",
    "\n",
    "# Scale the data\n",
    "X_train_scaled = X_scaler.transform(X_train)\n",
    "X_test_scaled = X_scaler.transform(X_test)"
   ]
  },
  {
   "cell_type": "markdown",
   "metadata": {},
   "source": [
    "## Define the keras tuner behavior and execute"
   ]
  },
  {
   "cell_type": "code",
   "execution_count": 13,
   "metadata": {
    "tags": []
   },
   "outputs": [],
   "source": [
    "# Define the keras tuner parameters\n",
    "def create_model(hp):\n",
    "    movie_model = tf.keras.models.Sequential()\n",
    "\n",
    "    # Allow kerastuner to decide which activation function to use in hidden layers\n",
    "    activation = hp.Choice('activation',['relu','tanh','sigmoid'])\n",
    "\n",
    "    # Allow kerastuner to decide which optimizer\n",
    "    optimizer = hp.Choice('opt', values=['adam', 'sgd', 'rmsprop'])\n",
    "    \n",
    "    # Allow kerastuner to decide number of neurons in first layer\n",
    "    movie_model.add(tf.keras.layers.Dense(units=hp.Int('first_units', min_value=1, max_value=10, step=2), \n",
    "                                          activation=activation, input_dim=24))\n",
    "\n",
    "    # Allow kerastuner to decide number of hidden layers and neurons in hidden layers\n",
    "    for i in range(hp.Int('num_layers', 1, 6)):\n",
    "        movie_model.add(tf.keras.layers.Dense(units=hp.Int('units_' + str(i),\n",
    "            min_value=1,\n",
    "            max_value=10,\n",
    "            step=2),\n",
    "            activation=activation))\n",
    "\n",
    "    movie_model.add(tf.keras.layers.Dense(units=1, activation=\"sigmoid\"))\n",
    "\n",
    "    # learning_rate = hp.Choice('learning_rate', values=[1e-2, 1e-3, 1e-4])\n",
    "    \n",
    "    # Compile the model\n",
    "    movie_model.compile(loss=\"mse\", optimizer=optimizer, metrics=[tf.keras.metrics.MeanSquaredError()])\n",
    "\n",
    "    return movie_model"
   ]
  },
  {
   "cell_type": "code",
   "execution_count": 14,
   "metadata": {
    "tags": []
   },
   "outputs": [],
   "source": [
    "tuner = kt.Hyperband(\n",
    "    create_model,\n",
    "    objective=\"val_loss\",\n",
    "    max_epochs=20,\n",
    "    hyperband_iterations=2, \n",
    "    project_name='movie_viewers')"
   ]
  },
  {
   "cell_type": "code",
   "execution_count": 15,
   "metadata": {
    "tags": []
   },
   "outputs": [
    {
     "name": "stdout",
     "output_type": "stream",
     "text": [
      "Trial 60 Complete [00h 00m 13s]\n",
      "val_loss: 29.40654182434082\n",
      "\n",
      "Best val_loss So Far: 29.406538009643555\n",
      "Total elapsed time: 00h 05m 55s\n",
      "--- 5.92 minutes ---\n"
     ]
    }
   ],
   "source": [
    "# Grab start time\n",
    "start_time = time.time()\n",
    "\n",
    "# Run the kerastuner search for best hyperparameters\n",
    "tuner.search(X_train_scaled,y_train,epochs=20,validation_data=(X_test_scaled,y_test))\n",
    "\n",
    "# Print time taken\n",
    "print(\"--- %s minutes ---\" % round(((time.time() - start_time)/60),2))\n",
    "\n",
    "# 181k rows, 22 dimensions = 104 minutes"
   ]
  },
  {
   "cell_type": "code",
   "execution_count": 16,
   "metadata": {
    "tags": []
   },
   "outputs": [
    {
     "data": {
      "text/plain": [
       "{'activation': 'relu',\n",
       " 'opt': 'rmsprop',\n",
       " 'first_units': 9,\n",
       " 'num_layers': 3,\n",
       " 'units_0': 5,\n",
       " 'units_1': 5,\n",
       " 'units_2': 9,\n",
       " 'units_3': 1,\n",
       " 'units_4': 3,\n",
       " 'units_5': 5,\n",
       " 'tuner/epochs': 3,\n",
       " 'tuner/initial_epoch': 0,\n",
       " 'tuner/bracket': 2,\n",
       " 'tuner/round': 0}"
      ]
     },
     "execution_count": 16,
     "metadata": {},
     "output_type": "execute_result"
    }
   ],
   "source": [
    "# Get best model hyperparameters\n",
    "best_hyper = tuner.get_best_hyperparameters(1)[0]\n",
    "best_hyper.values"
   ]
  },
  {
   "cell_type": "code",
   "execution_count": 17,
   "metadata": {
    "tags": []
   },
   "outputs": [
    {
     "name": "stdout",
     "output_type": "stream",
     "text": [
      "104/104 - 0s - loss: 29.4065 - mean_squared_error: 29.4065 - 150ms/epoch - 1ms/step\n",
      "Loss: 29.406538009643555, MSE: 29.406538009643555\n"
     ]
    }
   ],
   "source": [
    "# Evaluate best model against full test data\n",
    "best_model = tuner.get_best_models(1)[0]\n",
    "model_loss, model_accuracy = best_model.evaluate(X_test_scaled,y_test,verbose=2)\n",
    "print(f\"Loss: {model_loss}, MSE: {model_accuracy}\")"
   ]
  },
  {
   "cell_type": "code",
   "execution_count": 18,
   "metadata": {
    "tags": []
   },
   "outputs": [
    {
     "name": "stdout",
     "output_type": "stream",
     "text": [
      "415/415 - 0s - loss: 29.4719 - mean_squared_error: 29.4719 - 343ms/epoch - 827us/step\n",
      "Loss: 29.471920013427734, MSE: 29.471920013427734\n"
     ]
    }
   ],
   "source": [
    "# Check the model against the training data - if mse is much lower than the model is overtraining\n",
    "model_loss_train, model_accuracy_train = best_model.evaluate(X_train_scaled,y_train,verbose=2)\n",
    "print(f\"Loss: {model_loss_train}, MSE: {model_accuracy_train}\")"
   ]
  },
  {
   "cell_type": "code",
   "execution_count": 19,
   "metadata": {
    "tags": []
   },
   "outputs": [
    {
     "name": "stdout",
     "output_type": "stream",
     "text": [
      "Model: \"sequential\"\n",
      "_________________________________________________________________\n",
      " Layer (type)                Output Shape              Param #   \n",
      "=================================================================\n",
      " dense (Dense)               (None, 9)                 225       \n",
      "                                                                 \n",
      " dense_1 (Dense)             (None, 5)                 50        \n",
      "                                                                 \n",
      " dense_2 (Dense)             (None, 5)                 30        \n",
      "                                                                 \n",
      " dense_3 (Dense)             (None, 9)                 54        \n",
      "                                                                 \n",
      " dense_4 (Dense)             (None, 1)                 10        \n",
      "                                                                 \n",
      "=================================================================\n",
      "Total params: 369 (1.44 KB)\n",
      "Trainable params: 369 (1.44 KB)\n",
      "Non-trainable params: 0 (0.00 Byte)\n",
      "_________________________________________________________________\n"
     ]
    }
   ],
   "source": [
    "best_model.summary()"
   ]
  },
  {
   "cell_type": "markdown",
   "metadata": {},
   "source": [
    "# Create, Train, and Evaluate a Model based on Keras Tuner Output Using More Epochs"
   ]
  },
  {
   "cell_type": "code",
   "execution_count": 27,
   "metadata": {
    "tags": []
   },
   "outputs": [
    {
     "name": "stdout",
     "output_type": "stream",
     "text": [
      "Model: \"sequential_2\"\n",
      "_________________________________________________________________\n",
      " Layer (type)                Output Shape              Param #   \n",
      "=================================================================\n",
      " dense_9 (Dense)             (None, 9)                 225       \n",
      "                                                                 \n",
      " dense_10 (Dense)            (None, 5)                 50        \n",
      "                                                                 \n",
      " dense_11 (Dense)            (None, 5)                 30        \n",
      "                                                                 \n",
      " dense_12 (Dense)            (None, 9)                 54        \n",
      "                                                                 \n",
      " dense_13 (Dense)            (None, 1)                 10        \n",
      "                                                                 \n",
      "=================================================================\n",
      "Total params: 369 (1.44 KB)\n",
      "Trainable params: 369 (1.44 KB)\n",
      "Non-trainable params: 0 (0.00 Byte)\n",
      "_________________________________________________________________\n"
     ]
    }
   ],
   "source": [
    "# Define the model - deep neural net, i.e., the number of input features and hidden nodes for each layer.\n",
    "nn = tf.keras.models.Sequential()\n",
    "\n",
    "# First hidden layer\n",
    "nn.add(tf.keras.layers.Dense(units=9, activation=\"relu\", input_dim=24))\n",
    "\n",
    "# Second hidden layer\n",
    "nn.add(tf.keras.layers.Dense(units=5, activation=\"relu\"))\n",
    "\n",
    "# Third hidden layer\n",
    "nn.add(tf.keras.layers.Dense(units=5, activation=\"relu\"))\n",
    "\n",
    "# Fourth hidden layer\n",
    "nn.add(tf.keras.layers.Dense(units=9, activation=\"relu\"))\n",
    "\n",
    "# Output layer\n",
    "nn.add(tf.keras.layers.Dense(units=1, activation=\"relu\"))\n",
    "\n",
    "# Check the structure of the model\n",
    "nn.summary()"
   ]
  },
  {
   "cell_type": "code",
   "execution_count": 28,
   "metadata": {},
   "outputs": [
    {
     "name": "stdout",
     "output_type": "stream",
     "text": [
      "Epoch 1/100\n",
      "415/415 [==============================] - 1s 1ms/step - loss: 14.5418 - mean_squared_error: 14.5418\n",
      "Epoch 2/100\n",
      "415/415 [==============================] - 1s 1ms/step - loss: 0.4497 - mean_squared_error: 0.4497\n",
      "Epoch 3/100\n",
      "415/415 [==============================] - 1s 1ms/step - loss: 0.2745 - mean_squared_error: 0.2745\n",
      "Epoch 4/100\n",
      "415/415 [==============================] - 1s 1ms/step - loss: 0.2502 - mean_squared_error: 0.2502\n",
      "Epoch 5/100\n",
      "415/415 [==============================] - 1s 1ms/step - loss: 0.2400 - mean_squared_error: 0.2400\n",
      "Epoch 6/100\n",
      "415/415 [==============================] - 1s 1ms/step - loss: 0.2343 - mean_squared_error: 0.2343\n",
      "Epoch 7/100\n",
      "415/415 [==============================] - 1s 1ms/step - loss: 0.2315 - mean_squared_error: 0.2315\n",
      "Epoch 8/100\n",
      "415/415 [==============================] - 1s 1ms/step - loss: 0.2286 - mean_squared_error: 0.2286\n",
      "Epoch 9/100\n",
      "415/415 [==============================] - 1s 1ms/step - loss: 0.2257 - mean_squared_error: 0.2257\n",
      "Epoch 10/100\n",
      "415/415 [==============================] - 1s 1ms/step - loss: 0.2232 - mean_squared_error: 0.2232\n",
      "Epoch 11/100\n",
      "415/415 [==============================] - 1s 1ms/step - loss: 0.2220 - mean_squared_error: 0.2220\n",
      "Epoch 12/100\n",
      "415/415 [==============================] - 1s 1ms/step - loss: 0.2210 - mean_squared_error: 0.2210\n",
      "Epoch 13/100\n",
      "415/415 [==============================] - 1s 1ms/step - loss: 0.2206 - mean_squared_error: 0.2206\n",
      "Epoch 14/100\n",
      "415/415 [==============================] - 1s 1ms/step - loss: 0.2195 - mean_squared_error: 0.2195\n",
      "Epoch 15/100\n",
      "415/415 [==============================] - 1s 1ms/step - loss: 0.2194 - mean_squared_error: 0.2194\n",
      "Epoch 16/100\n",
      "415/415 [==============================] - 1s 1ms/step - loss: 0.2173 - mean_squared_error: 0.2173\n",
      "Epoch 17/100\n",
      "415/415 [==============================] - 1s 1ms/step - loss: 0.2182 - mean_squared_error: 0.2182\n",
      "Epoch 18/100\n",
      "415/415 [==============================] - 1s 1ms/step - loss: 0.2178 - mean_squared_error: 0.2178\n",
      "Epoch 19/100\n",
      "415/415 [==============================] - 1s 1ms/step - loss: 0.2170 - mean_squared_error: 0.2170\n",
      "Epoch 20/100\n",
      "415/415 [==============================] - 1s 1ms/step - loss: 0.2168 - mean_squared_error: 0.2168\n",
      "Epoch 21/100\n",
      "415/415 [==============================] - 1s 1ms/step - loss: 0.2170 - mean_squared_error: 0.2170\n",
      "Epoch 22/100\n",
      "415/415 [==============================] - 1s 1ms/step - loss: 0.2167 - mean_squared_error: 0.2167\n",
      "Epoch 23/100\n",
      "415/415 [==============================] - 1s 1ms/step - loss: 0.2164 - mean_squared_error: 0.2164\n",
      "Epoch 24/100\n",
      "415/415 [==============================] - 1s 1ms/step - loss: 0.2164 - mean_squared_error: 0.2164\n",
      "Epoch 25/100\n",
      "415/415 [==============================] - 1s 1ms/step - loss: 0.2161 - mean_squared_error: 0.2161\n",
      "Epoch 26/100\n",
      "415/415 [==============================] - 1s 1ms/step - loss: 0.2158 - mean_squared_error: 0.2158\n",
      "Epoch 27/100\n",
      "415/415 [==============================] - 1s 1ms/step - loss: 0.2162 - mean_squared_error: 0.2162\n",
      "Epoch 28/100\n",
      "415/415 [==============================] - 1s 1ms/step - loss: 0.2155 - mean_squared_error: 0.2155\n",
      "Epoch 29/100\n",
      "415/415 [==============================] - 1s 1ms/step - loss: 0.2158 - mean_squared_error: 0.2158\n",
      "Epoch 30/100\n",
      "415/415 [==============================] - 1s 1ms/step - loss: 0.2154 - mean_squared_error: 0.2154\n",
      "Epoch 31/100\n",
      "415/415 [==============================] - 1s 1ms/step - loss: 0.2149 - mean_squared_error: 0.2149\n",
      "Epoch 32/100\n",
      "415/415 [==============================] - 1s 2ms/step - loss: 0.2152 - mean_squared_error: 0.2152\n",
      "Epoch 33/100\n",
      "415/415 [==============================] - 1s 1ms/step - loss: 0.2150 - mean_squared_error: 0.2150\n",
      "Epoch 34/100\n",
      "415/415 [==============================] - 1s 1ms/step - loss: 0.2148 - mean_squared_error: 0.2148\n",
      "Epoch 35/100\n",
      "415/415 [==============================] - 1s 1ms/step - loss: 0.2149 - mean_squared_error: 0.2149\n",
      "Epoch 36/100\n",
      "415/415 [==============================] - 1s 1ms/step - loss: 0.2151 - mean_squared_error: 0.2151\n",
      "Epoch 37/100\n",
      "415/415 [==============================] - 1s 1ms/step - loss: 0.2146 - mean_squared_error: 0.2146\n",
      "Epoch 38/100\n",
      "415/415 [==============================] - 1s 1ms/step - loss: 0.2144 - mean_squared_error: 0.2144\n",
      "Epoch 39/100\n",
      "415/415 [==============================] - 1s 1ms/step - loss: 0.2145 - mean_squared_error: 0.2145\n",
      "Epoch 40/100\n",
      "415/415 [==============================] - 1s 1ms/step - loss: 0.2148 - mean_squared_error: 0.2148\n",
      "Epoch 41/100\n",
      "415/415 [==============================] - 1s 1ms/step - loss: 0.2144 - mean_squared_error: 0.2144\n",
      "Epoch 42/100\n",
      "415/415 [==============================] - 1s 1ms/step - loss: 0.2144 - mean_squared_error: 0.2144\n",
      "Epoch 43/100\n",
      "415/415 [==============================] - 1s 1ms/step - loss: 0.2147 - mean_squared_error: 0.2147\n",
      "Epoch 44/100\n",
      "415/415 [==============================] - 1s 1ms/step - loss: 0.2141 - mean_squared_error: 0.2141\n",
      "Epoch 45/100\n",
      "415/415 [==============================] - 1s 1ms/step - loss: 0.2139 - mean_squared_error: 0.2139\n",
      "Epoch 46/100\n",
      "415/415 [==============================] - 1s 1ms/step - loss: 0.2139 - mean_squared_error: 0.2139\n",
      "Epoch 47/100\n",
      "415/415 [==============================] - 1s 1ms/step - loss: 0.2135 - mean_squared_error: 0.2135\n",
      "Epoch 48/100\n",
      "415/415 [==============================] - 1s 1ms/step - loss: 0.2139 - mean_squared_error: 0.2139\n",
      "Epoch 49/100\n",
      "415/415 [==============================] - 1s 1ms/step - loss: 0.2133 - mean_squared_error: 0.2133\n",
      "Epoch 50/100\n",
      "415/415 [==============================] - 1s 1ms/step - loss: 0.2137 - mean_squared_error: 0.2137\n",
      "Epoch 51/100\n",
      "415/415 [==============================] - 1s 1ms/step - loss: 0.2135 - mean_squared_error: 0.2135\n",
      "Epoch 52/100\n",
      "415/415 [==============================] - 1s 2ms/step - loss: 0.2131 - mean_squared_error: 0.2131\n",
      "Epoch 53/100\n",
      "415/415 [==============================] - 1s 1ms/step - loss: 0.2137 - mean_squared_error: 0.2137\n",
      "Epoch 54/100\n",
      "415/415 [==============================] - 1s 1ms/step - loss: 0.2125 - mean_squared_error: 0.2125\n",
      "Epoch 55/100\n",
      "415/415 [==============================] - 1s 1ms/step - loss: 0.2129 - mean_squared_error: 0.2129\n",
      "Epoch 56/100\n",
      "415/415 [==============================] - 1s 1ms/step - loss: 0.2133 - mean_squared_error: 0.2133\n",
      "Epoch 57/100\n",
      "415/415 [==============================] - 1s 1ms/step - loss: 0.2129 - mean_squared_error: 0.2129\n",
      "Epoch 58/100\n",
      "415/415 [==============================] - 1s 1ms/step - loss: 0.2138 - mean_squared_error: 0.2138\n",
      "Epoch 59/100\n",
      "415/415 [==============================] - 1s 1ms/step - loss: 0.2134 - mean_squared_error: 0.2134\n",
      "Epoch 60/100\n",
      "415/415 [==============================] - 1s 1ms/step - loss: 0.2131 - mean_squared_error: 0.2131\n",
      "Epoch 61/100\n",
      "415/415 [==============================] - 1s 1ms/step - loss: 0.2131 - mean_squared_error: 0.2131\n",
      "Epoch 62/100\n",
      "415/415 [==============================] - 1s 1ms/step - loss: 0.2128 - mean_squared_error: 0.2128\n",
      "Epoch 63/100\n",
      "415/415 [==============================] - 1s 1ms/step - loss: 0.2127 - mean_squared_error: 0.2127\n",
      "Epoch 64/100\n",
      "415/415 [==============================] - 1s 1ms/step - loss: 0.2129 - mean_squared_error: 0.2129\n",
      "Epoch 65/100\n",
      "415/415 [==============================] - 1s 1ms/step - loss: 0.2129 - mean_squared_error: 0.2129\n",
      "Epoch 66/100\n",
      "415/415 [==============================] - 1s 1ms/step - loss: 0.2127 - mean_squared_error: 0.2127\n",
      "Epoch 67/100\n",
      "415/415 [==============================] - 1s 1ms/step - loss: 0.2128 - mean_squared_error: 0.2128\n",
      "Epoch 68/100\n",
      "415/415 [==============================] - 1s 1ms/step - loss: 0.2126 - mean_squared_error: 0.2126\n",
      "Epoch 69/100\n",
      "415/415 [==============================] - 1s 2ms/step - loss: 0.2122 - mean_squared_error: 0.2122\n",
      "Epoch 70/100\n",
      "415/415 [==============================] - 1s 2ms/step - loss: 0.2121 - mean_squared_error: 0.2121\n",
      "Epoch 71/100\n",
      "415/415 [==============================] - 1s 1ms/step - loss: 0.2122 - mean_squared_error: 0.2122\n",
      "Epoch 72/100\n",
      "415/415 [==============================] - 1s 1ms/step - loss: 0.2122 - mean_squared_error: 0.2122\n",
      "Epoch 73/100\n",
      "415/415 [==============================] - 1s 1ms/step - loss: 0.2122 - mean_squared_error: 0.2122\n",
      "Epoch 74/100\n",
      "415/415 [==============================] - 1s 1ms/step - loss: 0.2121 - mean_squared_error: 0.2121\n",
      "Epoch 75/100\n",
      "415/415 [==============================] - 1s 1ms/step - loss: 0.2119 - mean_squared_error: 0.2119\n",
      "Epoch 76/100\n",
      "415/415 [==============================] - 1s 1ms/step - loss: 0.2121 - mean_squared_error: 0.2121\n",
      "Epoch 77/100\n",
      "415/415 [==============================] - 1s 2ms/step - loss: 0.2122 - mean_squared_error: 0.2122\n",
      "Epoch 78/100\n",
      "415/415 [==============================] - 1s 2ms/step - loss: 0.2121 - mean_squared_error: 0.2121\n",
      "Epoch 79/100\n",
      "415/415 [==============================] - 1s 1ms/step - loss: 0.2121 - mean_squared_error: 0.2121\n",
      "Epoch 80/100\n",
      "415/415 [==============================] - 1s 1ms/step - loss: 0.2119 - mean_squared_error: 0.2119\n",
      "Epoch 81/100\n",
      "415/415 [==============================] - 1s 1ms/step - loss: 0.2119 - mean_squared_error: 0.2119\n",
      "Epoch 82/100\n",
      "415/415 [==============================] - 1s 1ms/step - loss: 0.2121 - mean_squared_error: 0.2121\n",
      "Epoch 83/100\n",
      "415/415 [==============================] - 1s 1ms/step - loss: 0.2120 - mean_squared_error: 0.2120\n",
      "Epoch 84/100\n",
      "415/415 [==============================] - 1s 1ms/step - loss: 0.2123 - mean_squared_error: 0.2123\n",
      "Epoch 85/100\n",
      "415/415 [==============================] - 1s 1ms/step - loss: 0.2114 - mean_squared_error: 0.2114\n",
      "Epoch 86/100\n",
      "415/415 [==============================] - 1s 1ms/step - loss: 0.2120 - mean_squared_error: 0.2120\n",
      "Epoch 87/100\n",
      "415/415 [==============================] - 1s 1ms/step - loss: 0.2117 - mean_squared_error: 0.2117\n",
      "Epoch 88/100\n",
      "415/415 [==============================] - 1s 1ms/step - loss: 0.2116 - mean_squared_error: 0.2116\n",
      "Epoch 89/100\n",
      "415/415 [==============================] - 1s 1ms/step - loss: 0.2118 - mean_squared_error: 0.2118\n",
      "Epoch 90/100\n",
      "415/415 [==============================] - 1s 2ms/step - loss: 0.2120 - mean_squared_error: 0.2120\n",
      "Epoch 91/100\n",
      "415/415 [==============================] - 1s 2ms/step - loss: 0.2112 - mean_squared_error: 0.2112\n",
      "Epoch 92/100\n",
      "415/415 [==============================] - 1s 1ms/step - loss: 0.2109 - mean_squared_error: 0.2109\n",
      "Epoch 93/100\n",
      "415/415 [==============================] - 1s 1ms/step - loss: 0.2112 - mean_squared_error: 0.2112\n",
      "Epoch 94/100\n",
      "415/415 [==============================] - 1s 1ms/step - loss: 0.2114 - mean_squared_error: 0.2114\n",
      "Epoch 95/100\n",
      "415/415 [==============================] - 1s 1ms/step - loss: 0.2116 - mean_squared_error: 0.2116\n",
      "Epoch 96/100\n",
      "415/415 [==============================] - 1s 1ms/step - loss: 0.2117 - mean_squared_error: 0.2117\n",
      "Epoch 97/100\n",
      "415/415 [==============================] - 1s 1ms/step - loss: 0.2110 - mean_squared_error: 0.2110\n",
      "Epoch 98/100\n",
      "415/415 [==============================] - 1s 1ms/step - loss: 0.2112 - mean_squared_error: 0.2112\n",
      "Epoch 99/100\n",
      "415/415 [==============================] - 1s 1ms/step - loss: 0.2111 - mean_squared_error: 0.2111\n",
      "Epoch 100/100\n",
      "415/415 [==============================] - 1s 1ms/step - loss: 0.2110 - mean_squared_error: 0.2110\n",
      "--- 0.96 minutes ---\n"
     ]
    }
   ],
   "source": [
    "# Grab start time\n",
    "start_time = time.time()\n",
    "\n",
    "# Compile the model \n",
    "nn.compile(loss=\"mse\", optimizer=\"rmsprop\", metrics=[tf.keras.metrics.MeanSquaredError()])\n",
    "\n",
    "# Train the model over 100 epochs\n",
    "fit_model = nn.fit(X_train_scaled, y_train, epochs=100)\n",
    "\n",
    "# Print time taken\n",
    "print(\"--- %s minutes ---\" % round(((time.time() - start_time)/60),2))"
   ]
  },
  {
   "cell_type": "code",
   "execution_count": 29,
   "metadata": {},
   "outputs": [
    {
     "name": "stdout",
     "output_type": "stream",
     "text": [
      "104/104 - 0s - loss: 0.2168 - mean_squared_error: 0.2168 - 264ms/epoch - 3ms/step\n",
      "Loss: 0.21681563556194305, Accuracy: 0.21681563556194305\n"
     ]
    }
   ],
   "source": [
    "# Evaluate the model using the test data\n",
    "model_loss, model_accuracy = nn.evaluate(X_test_scaled,y_test,verbose=2)\n",
    "print(f\"Loss: {model_loss}, Accuracy: {model_accuracy}\")"
   ]
  },
  {
   "cell_type": "markdown",
   "metadata": {},
   "source": [
    "# Export the Random Forest Results"
   ]
  },
  {
   "cell_type": "code",
   "execution_count": 23,
   "metadata": {},
   "outputs": [
    {
     "name": "stdout",
     "output_type": "stream",
     "text": [
      "rf_df_rating length: 16594\n",
      "rf_df_rating columns: 9\n",
      "test_compare length: 3319\n",
      "test_compare columns: 3\n",
      "train_compare length: 13275\n",
      "train_compare columns: 3\n"
     ]
    }
   ],
   "source": [
    "print(f'rf_df_rating length: {len(rf_df_rating)}')\n",
    "print(f'rf_df_rating columns: {len(rf_df_rating.columns)}')\n",
    "print(f'test_compare length: {len(test_compare)}')\n",
    "print(f'test_compare columns: {len(test_compare.columns)}')\n",
    "print(f'train_compare length: {len(train_compare)}')\n",
    "print(f'train_compare columns: {len(train_compare.columns)}')"
   ]
  },
  {
   "cell_type": "code",
   "execution_count": 24,
   "metadata": {},
   "outputs": [
    {
     "name": "stdout",
     "output_type": "stream",
     "text": [
      "predict_compare length: 16594\n"
     ]
    },
    {
     "data": {
      "text/html": [
       "<div>\n",
       "<style scoped>\n",
       "    .dataframe tbody tr th:only-of-type {\n",
       "        vertical-align: middle;\n",
       "    }\n",
       "\n",
       "    .dataframe tbody tr th {\n",
       "        vertical-align: top;\n",
       "    }\n",
       "\n",
       "    .dataframe thead th {\n",
       "        text-align: right;\n",
       "    }\n",
       "</style>\n",
       "<table border=\"1\" class=\"dataframe\">\n",
       "  <thead>\n",
       "    <tr style=\"text-align: right;\">\n",
       "      <th></th>\n",
       "      <th>orig_index</th>\n",
       "      <th>actual</th>\n",
       "      <th>predictions</th>\n",
       "    </tr>\n",
       "  </thead>\n",
       "  <tbody>\n",
       "    <tr>\n",
       "      <th>0</th>\n",
       "      <td>189744</td>\n",
       "      <td>1.5</td>\n",
       "      <td>3.258333</td>\n",
       "    </tr>\n",
       "    <tr>\n",
       "      <th>1</th>\n",
       "      <td>57939</td>\n",
       "      <td>1.9</td>\n",
       "      <td>2.899000</td>\n",
       "    </tr>\n",
       "  </tbody>\n",
       "</table>\n",
       "</div>"
      ],
      "text/plain": [
       "   orig_index  actual  predictions\n",
       "0      189744     1.5     3.258333\n",
       "1       57939     1.9     2.899000"
      ]
     },
     "execution_count": 24,
     "metadata": {},
     "output_type": "execute_result"
    }
   ],
   "source": [
    "predict_compare = pd.concat([test_compare, train_compare])\n",
    "print(f'predict_compare length: {len(predict_compare)}')\n",
    "predict_compare.head(2)"
   ]
  },
  {
   "cell_type": "code",
   "execution_count": 25,
   "metadata": {},
   "outputs": [
    {
     "data": {
      "text/html": [
       "<div>\n",
       "<style scoped>\n",
       "    .dataframe tbody tr th:only-of-type {\n",
       "        vertical-align: middle;\n",
       "    }\n",
       "\n",
       "    .dataframe tbody tr th {\n",
       "        vertical-align: top;\n",
       "    }\n",
       "\n",
       "    .dataframe thead th {\n",
       "        text-align: right;\n",
       "    }\n",
       "</style>\n",
       "<table border=\"1\" class=\"dataframe\">\n",
       "  <thead>\n",
       "    <tr style=\"text-align: right;\">\n",
       "      <th></th>\n",
       "      <th>Writer_Avg_Rating</th>\n",
       "      <th>Director_Avg_Rating</th>\n",
       "      <th>Actor_Avg_Rating</th>\n",
       "      <th>runtimeMinutes</th>\n",
       "      <th>OMDB_Metascore</th>\n",
       "      <th>genres</th>\n",
       "      <th>OMDB_Rated</th>\n",
       "      <th>ReleaseMonth</th>\n",
       "      <th>averageRating</th>\n",
       "      <th>actual</th>\n",
       "      <th>predictions</th>\n",
       "    </tr>\n",
       "  </thead>\n",
       "  <tbody>\n",
       "    <tr>\n",
       "      <th>0</th>\n",
       "      <td>7.03</td>\n",
       "      <td>7.36</td>\n",
       "      <td>6.61</td>\n",
       "      <td>77.0</td>\n",
       "      <td>79.0</td>\n",
       "      <td>3</td>\n",
       "      <td>1</td>\n",
       "      <td>4.0</td>\n",
       "      <td>7.4</td>\n",
       "      <td>7.4</td>\n",
       "      <td>7.278667</td>\n",
       "    </tr>\n",
       "    <tr>\n",
       "      <th>1</th>\n",
       "      <td>6.22</td>\n",
       "      <td>5.90</td>\n",
       "      <td>6.25</td>\n",
       "      <td>90.0</td>\n",
       "      <td>40.0</td>\n",
       "      <td>12</td>\n",
       "      <td>0</td>\n",
       "      <td>8.0</td>\n",
       "      <td>6.0</td>\n",
       "      <td>6.0</td>\n",
       "      <td>6.008667</td>\n",
       "    </tr>\n",
       "    <tr>\n",
       "      <th>2</th>\n",
       "      <td>6.04</td>\n",
       "      <td>6.20</td>\n",
       "      <td>6.09</td>\n",
       "      <td>114.0</td>\n",
       "      <td>61.0</td>\n",
       "      <td>6</td>\n",
       "      <td>3</td>\n",
       "      <td>10.0</td>\n",
       "      <td>5.4</td>\n",
       "      <td>5.4</td>\n",
       "      <td>5.734000</td>\n",
       "    </tr>\n",
       "    <tr>\n",
       "      <th>3</th>\n",
       "      <td>5.80</td>\n",
       "      <td>5.80</td>\n",
       "      <td>5.92</td>\n",
       "      <td>105.0</td>\n",
       "      <td>43.0</td>\n",
       "      <td>6</td>\n",
       "      <td>0</td>\n",
       "      <td>9.0</td>\n",
       "      <td>5.8</td>\n",
       "      <td>5.8</td>\n",
       "      <td>5.814333</td>\n",
       "    </tr>\n",
       "    <tr>\n",
       "      <th>4</th>\n",
       "      <td>5.77</td>\n",
       "      <td>5.45</td>\n",
       "      <td>6.03</td>\n",
       "      <td>91.0</td>\n",
       "      <td>47.0</td>\n",
       "      <td>2</td>\n",
       "      <td>2</td>\n",
       "      <td>8.0</td>\n",
       "      <td>5.5</td>\n",
       "      <td>5.5</td>\n",
       "      <td>5.704000</td>\n",
       "    </tr>\n",
       "    <tr>\n",
       "      <th>...</th>\n",
       "      <td>...</td>\n",
       "      <td>...</td>\n",
       "      <td>...</td>\n",
       "      <td>...</td>\n",
       "      <td>...</td>\n",
       "      <td>...</td>\n",
       "      <td>...</td>\n",
       "      <td>...</td>\n",
       "      <td>...</td>\n",
       "      <td>...</td>\n",
       "      <td>...</td>\n",
       "    </tr>\n",
       "    <tr>\n",
       "      <th>16589</th>\n",
       "      <td>6.90</td>\n",
       "      <td>6.90</td>\n",
       "      <td>6.90</td>\n",
       "      <td>96.0</td>\n",
       "      <td>58.0</td>\n",
       "      <td>3</td>\n",
       "      <td>2</td>\n",
       "      <td>4.0</td>\n",
       "      <td>6.9</td>\n",
       "      <td>6.9</td>\n",
       "      <td>6.905000</td>\n",
       "    </tr>\n",
       "    <tr>\n",
       "      <th>16590</th>\n",
       "      <td>7.20</td>\n",
       "      <td>7.65</td>\n",
       "      <td>7.64</td>\n",
       "      <td>92.0</td>\n",
       "      <td>58.0</td>\n",
       "      <td>3</td>\n",
       "      <td>1</td>\n",
       "      <td>9.0</td>\n",
       "      <td>7.2</td>\n",
       "      <td>7.2</td>\n",
       "      <td>7.310000</td>\n",
       "    </tr>\n",
       "    <tr>\n",
       "      <th>16591</th>\n",
       "      <td>6.70</td>\n",
       "      <td>6.70</td>\n",
       "      <td>6.51</td>\n",
       "      <td>85.0</td>\n",
       "      <td>77.0</td>\n",
       "      <td>4</td>\n",
       "      <td>3</td>\n",
       "      <td>6.0</td>\n",
       "      <td>6.7</td>\n",
       "      <td>6.7</td>\n",
       "      <td>6.701667</td>\n",
       "    </tr>\n",
       "    <tr>\n",
       "      <th>16592</th>\n",
       "      <td>5.40</td>\n",
       "      <td>5.40</td>\n",
       "      <td>5.82</td>\n",
       "      <td>90.0</td>\n",
       "      <td>31.0</td>\n",
       "      <td>6</td>\n",
       "      <td>2</td>\n",
       "      <td>10.0</td>\n",
       "      <td>5.4</td>\n",
       "      <td>5.4</td>\n",
       "      <td>5.369333</td>\n",
       "    </tr>\n",
       "    <tr>\n",
       "      <th>16593</th>\n",
       "      <td>5.60</td>\n",
       "      <td>5.60</td>\n",
       "      <td>5.88</td>\n",
       "      <td>85.0</td>\n",
       "      <td>69.0</td>\n",
       "      <td>10</td>\n",
       "      <td>3</td>\n",
       "      <td>12.0</td>\n",
       "      <td>5.3</td>\n",
       "      <td>5.3</td>\n",
       "      <td>5.405000</td>\n",
       "    </tr>\n",
       "  </tbody>\n",
       "</table>\n",
       "<p>16594 rows × 11 columns</p>\n",
       "</div>"
      ],
      "text/plain": [
       "       Writer_Avg_Rating  Director_Avg_Rating  Actor_Avg_Rating  \\\n",
       "0                   7.03                 7.36              6.61   \n",
       "1                   6.22                 5.90              6.25   \n",
       "2                   6.04                 6.20              6.09   \n",
       "3                   5.80                 5.80              5.92   \n",
       "4                   5.77                 5.45              6.03   \n",
       "...                  ...                  ...               ...   \n",
       "16589               6.90                 6.90              6.90   \n",
       "16590               7.20                 7.65              7.64   \n",
       "16591               6.70                 6.70              6.51   \n",
       "16592               5.40                 5.40              5.82   \n",
       "16593               5.60                 5.60              5.88   \n",
       "\n",
       "       runtimeMinutes  OMDB_Metascore  genres  OMDB_Rated  ReleaseMonth  \\\n",
       "0                77.0            79.0       3           1           4.0   \n",
       "1                90.0            40.0      12           0           8.0   \n",
       "2               114.0            61.0       6           3          10.0   \n",
       "3               105.0            43.0       6           0           9.0   \n",
       "4                91.0            47.0       2           2           8.0   \n",
       "...               ...             ...     ...         ...           ...   \n",
       "16589            96.0            58.0       3           2           4.0   \n",
       "16590            92.0            58.0       3           1           9.0   \n",
       "16591            85.0            77.0       4           3           6.0   \n",
       "16592            90.0            31.0       6           2          10.0   \n",
       "16593            85.0            69.0      10           3          12.0   \n",
       "\n",
       "       averageRating  actual  predictions  \n",
       "0                7.4     7.4     7.278667  \n",
       "1                6.0     6.0     6.008667  \n",
       "2                5.4     5.4     5.734000  \n",
       "3                5.8     5.8     5.814333  \n",
       "4                5.5     5.5     5.704000  \n",
       "...              ...     ...          ...  \n",
       "16589            6.9     6.9     6.905000  \n",
       "16590            7.2     7.2     7.310000  \n",
       "16591            6.7     6.7     6.701667  \n",
       "16592            5.4     5.4     5.369333  \n",
       "16593            5.3     5.3     5.405000  \n",
       "\n",
       "[16594 rows x 11 columns]"
      ]
     },
     "execution_count": 25,
     "metadata": {},
     "output_type": "execute_result"
    }
   ],
   "source": [
    "user_movie_predictions = rf_df_rating.merge(predict_compare, left_on=rf_df_rating.index, right_on='orig_index')\n",
    "user_movie_predictions = user_movie_predictions.drop(columns='orig_index')\n",
    "user_movie_predictions"
   ]
  },
  {
   "cell_type": "code",
   "execution_count": 26,
   "metadata": {
    "tags": []
   },
   "outputs": [],
   "source": [
    "user_movie_predictions.to_csv(\"../Resources/movie_viewers_model_results.csv\")"
   ]
  },
  {
   "cell_type": "code",
   "execution_count": null,
   "metadata": {},
   "outputs": [],
   "source": []
  }
 ],
 "metadata": {
  "colab": {
   "provenance": []
  },
  "kernelspec": {
   "display_name": "Python 3 (ipykernel)",
   "language": "python",
   "name": "python3"
  },
  "language_info": {
   "codemirror_mode": {
    "name": "ipython",
    "version": 3
   },
   "file_extension": ".py",
   "mimetype": "text/x-python",
   "name": "python",
   "nbconvert_exporter": "python",
   "pygments_lexer": "ipython3",
   "version": "3.10.11"
  },
  "vscode": {
   "interpreter": {
    "hash": "31f2aee4e71d21fbe5cf8b01ff0e069b9275f58929596ceb00d14d90e3e16cd6"
   }
  }
 },
 "nbformat": 4,
 "nbformat_minor": 4
}
