{
 "cells": [
  {
   "cell_type": "markdown",
   "id": "aa216d04-4550-42f0-a72a-00db1295948f",
   "metadata": {},
   "source": [
    "# **NOTE: that running this notebook will take TENS of minutes due to the OMDB API calls!**\n",
    "220k rows of OMDB API calls ia lmost 8 hours"
   ]
  },
  {
   "cell_type": "markdown",
   "id": "9822d1d8-b5d0-4e1c-8f73-144b8d7e71ca",
   "metadata": {},
   "source": [
    "## Load Dependencies"
   ]
  },
  {
   "cell_type": "code",
   "execution_count": 1,
   "id": "d89b7e9c-01fe-426b-9580-4b0818ea8bc4",
   "metadata": {
    "tags": []
   },
   "outputs": [],
   "source": [
    "import pandas as pd\n",
    "import requests\n",
    "from requests.exceptions import ReadTimeout\n",
    "import numpy as np\n",
    "import time\n",
    "import matplotlib.pyplot as plt\n",
    "from scipy.stats import linregress"
   ]
  },
  {
   "cell_type": "markdown",
   "id": "d9563bba-375c-4da6-abd0-2f5ebd612136",
   "metadata": {},
   "source": [
    "## Load IMDB data from SQL output"
   ]
  },
  {
   "cell_type": "code",
   "execution_count": 2,
   "id": "aff93c0e-7106-4f2c-807f-7b992f542475",
   "metadata": {
    "tags": []
   },
   "outputs": [
    {
     "name": "stdout",
     "output_type": "stream",
     "text": [
      "ratings_df length: 224198\n"
     ]
    },
    {
     "data": {
      "text/html": [
       "<div>\n",
       "<style scoped>\n",
       "    .dataframe tbody tr th:only-of-type {\n",
       "        vertical-align: middle;\n",
       "    }\n",
       "\n",
       "    .dataframe tbody tr th {\n",
       "        vertical-align: top;\n",
       "    }\n",
       "\n",
       "    .dataframe thead th {\n",
       "        text-align: right;\n",
       "    }\n",
       "</style>\n",
       "<table border=\"1\" class=\"dataframe\">\n",
       "  <thead>\n",
       "    <tr style=\"text-align: right;\">\n",
       "      <th></th>\n",
       "      <th>tconst</th>\n",
       "      <th>averagerating</th>\n",
       "      <th>numvotes</th>\n",
       "    </tr>\n",
       "  </thead>\n",
       "  <tbody>\n",
       "    <tr>\n",
       "      <th>0</th>\n",
       "      <td>tt0013274</td>\n",
       "      <td>6.8</td>\n",
       "      <td>59</td>\n",
       "    </tr>\n",
       "    <tr>\n",
       "      <th>1</th>\n",
       "      <td>tt0015414</td>\n",
       "      <td>5.2</td>\n",
       "      <td>16</td>\n",
       "    </tr>\n",
       "    <tr>\n",
       "      <th>2</th>\n",
       "      <td>tt0015724</td>\n",
       "      <td>6.1</td>\n",
       "      <td>27</td>\n",
       "    </tr>\n",
       "  </tbody>\n",
       "</table>\n",
       "</div>"
      ],
      "text/plain": [
       "      tconst  averagerating  numvotes\n",
       "0  tt0013274            6.8        59\n",
       "1  tt0015414            5.2        16\n",
       "2  tt0015724            6.1        27"
      ]
     },
     "execution_count": 2,
     "metadata": {},
     "output_type": "execute_result"
    }
   ],
   "source": [
    "ratings_df = pd.read_csv('../Resources/IMDB_SQL_Ratings.csv')\n",
    "print(f'ratings_df length: {len(ratings_df)}')\n",
    "ratings_df.head(3)"
   ]
  },
  {
   "cell_type": "code",
   "execution_count": 3,
   "id": "963a995e-0f2b-4c4c-a7a0-b99fa4d0ff62",
   "metadata": {
    "tags": []
   },
   "outputs": [
    {
     "name": "stdout",
     "output_type": "stream",
     "text": [
      "titles_df length: 404054\n"
     ]
    },
    {
     "data": {
      "text/html": [
       "<div>\n",
       "<style scoped>\n",
       "    .dataframe tbody tr th:only-of-type {\n",
       "        vertical-align: middle;\n",
       "    }\n",
       "\n",
       "    .dataframe tbody tr th {\n",
       "        vertical-align: top;\n",
       "    }\n",
       "\n",
       "    .dataframe thead th {\n",
       "        text-align: right;\n",
       "    }\n",
       "</style>\n",
       "<table border=\"1\" class=\"dataframe\">\n",
       "  <thead>\n",
       "    <tr style=\"text-align: right;\">\n",
       "      <th></th>\n",
       "      <th>tconst</th>\n",
       "      <th>titletype</th>\n",
       "      <th>primarytitle</th>\n",
       "      <th>originaltitle</th>\n",
       "      <th>isadult</th>\n",
       "      <th>startyear</th>\n",
       "      <th>endyear</th>\n",
       "      <th>runtimeminutes</th>\n",
       "      <th>genres</th>\n",
       "    </tr>\n",
       "  </thead>\n",
       "  <tbody>\n",
       "    <tr>\n",
       "      <th>0</th>\n",
       "      <td>tt10048376</td>\n",
       "      <td>movie</td>\n",
       "      <td>Ya podaryu tebe pobedu</td>\n",
       "      <td>Ya podaryu tebe pobedu</td>\n",
       "      <td>0</td>\n",
       "      <td>2019</td>\n",
       "      <td>N</td>\n",
       "      <td>101</td>\n",
       "      <td>Drama</td>\n",
       "    </tr>\n",
       "    <tr>\n",
       "      <th>1</th>\n",
       "      <td>tt10048408</td>\n",
       "      <td>movie</td>\n",
       "      <td>La ola de crímenes</td>\n",
       "      <td>La ola de crímenes</td>\n",
       "      <td>0</td>\n",
       "      <td>2017</td>\n",
       "      <td>N</td>\n",
       "      <td>70</td>\n",
       "      <td>Drama</td>\n",
       "    </tr>\n",
       "    <tr>\n",
       "      <th>2</th>\n",
       "      <td>tt10048556</td>\n",
       "      <td>movie</td>\n",
       "      <td>Staged Killer</td>\n",
       "      <td>Staged Killer</td>\n",
       "      <td>0</td>\n",
       "      <td>2019</td>\n",
       "      <td>N</td>\n",
       "      <td>88</td>\n",
       "      <td>Thriller</td>\n",
       "    </tr>\n",
       "  </tbody>\n",
       "</table>\n",
       "</div>"
      ],
      "text/plain": [
       "       tconst titletype            primarytitle           originaltitle  \\\n",
       "0  tt10048376     movie  Ya podaryu tebe pobedu  Ya podaryu tebe pobedu   \n",
       "1  tt10048408     movie      La ola de crímenes      La ola de crímenes   \n",
       "2  tt10048556     movie           Staged Killer           Staged Killer   \n",
       "\n",
       "   isadult  startyear endyear runtimeminutes    genres  \n",
       "0        0       2019       N            101     Drama  \n",
       "1        0       2017       N             70     Drama  \n",
       "2        0       2019       N             88  Thriller  "
      ]
     },
     "execution_count": 3,
     "metadata": {},
     "output_type": "execute_result"
    }
   ],
   "source": [
    "titles_df = pd.read_csv('../Resources/IMDB_SQL_Titles.csv')\n",
    "print(f'titles_df length: {len(titles_df)}')\n",
    "titles_df.head(3)"
   ]
  },
  {
   "cell_type": "code",
   "execution_count": 4,
   "id": "2c8b8f1b-f0cb-4847-bbe6-948348a82192",
   "metadata": {
    "tags": []
   },
   "outputs": [
    {
     "name": "stdout",
     "output_type": "stream",
     "text": [
      "imdb_df length: 224198\n"
     ]
    },
    {
     "data": {
      "text/html": [
       "<div>\n",
       "<style scoped>\n",
       "    .dataframe tbody tr th:only-of-type {\n",
       "        vertical-align: middle;\n",
       "    }\n",
       "\n",
       "    .dataframe tbody tr th {\n",
       "        vertical-align: top;\n",
       "    }\n",
       "\n",
       "    .dataframe thead th {\n",
       "        text-align: right;\n",
       "    }\n",
       "</style>\n",
       "<table border=\"1\" class=\"dataframe\">\n",
       "  <thead>\n",
       "    <tr style=\"text-align: right;\">\n",
       "      <th></th>\n",
       "      <th>tconst</th>\n",
       "      <th>titletype</th>\n",
       "      <th>primarytitle</th>\n",
       "      <th>originaltitle</th>\n",
       "      <th>isadult</th>\n",
       "      <th>startyear</th>\n",
       "      <th>endyear</th>\n",
       "      <th>runtimeminutes</th>\n",
       "      <th>genres</th>\n",
       "      <th>averagerating</th>\n",
       "      <th>numvotes</th>\n",
       "    </tr>\n",
       "  </thead>\n",
       "  <tbody>\n",
       "    <tr>\n",
       "      <th>0</th>\n",
       "      <td>tt10048376</td>\n",
       "      <td>movie</td>\n",
       "      <td>Ya podaryu tebe pobedu</td>\n",
       "      <td>Ya podaryu tebe pobedu</td>\n",
       "      <td>0</td>\n",
       "      <td>2019</td>\n",
       "      <td>N</td>\n",
       "      <td>101</td>\n",
       "      <td>Drama</td>\n",
       "      <td>4.8</td>\n",
       "      <td>30</td>\n",
       "    </tr>\n",
       "    <tr>\n",
       "      <th>1</th>\n",
       "      <td>tt10048556</td>\n",
       "      <td>movie</td>\n",
       "      <td>Staged Killer</td>\n",
       "      <td>Staged Killer</td>\n",
       "      <td>0</td>\n",
       "      <td>2019</td>\n",
       "      <td>N</td>\n",
       "      <td>88</td>\n",
       "      <td>Thriller</td>\n",
       "      <td>3.7</td>\n",
       "      <td>340</td>\n",
       "    </tr>\n",
       "    <tr>\n",
       "      <th>2</th>\n",
       "      <td>tt10049110</td>\n",
       "      <td>movie</td>\n",
       "      <td>Die Wiese</td>\n",
       "      <td>Die Wiese</td>\n",
       "      <td>0</td>\n",
       "      <td>2019</td>\n",
       "      <td>N</td>\n",
       "      <td>93</td>\n",
       "      <td>Documentary</td>\n",
       "      <td>7.8</td>\n",
       "      <td>96</td>\n",
       "    </tr>\n",
       "  </tbody>\n",
       "</table>\n",
       "</div>"
      ],
      "text/plain": [
       "       tconst titletype            primarytitle           originaltitle  \\\n",
       "0  tt10048376     movie  Ya podaryu tebe pobedu  Ya podaryu tebe pobedu   \n",
       "1  tt10048556     movie           Staged Killer           Staged Killer   \n",
       "2  tt10049110     movie               Die Wiese               Die Wiese   \n",
       "\n",
       "   isadult  startyear endyear runtimeminutes       genres  averagerating  \\\n",
       "0        0       2019       N            101        Drama            4.8   \n",
       "1        0       2019       N             88     Thriller            3.7   \n",
       "2        0       2019       N             93  Documentary            7.8   \n",
       "\n",
       "   numvotes  \n",
       "0        30  \n",
       "1       340  \n",
       "2        96  "
      ]
     },
     "execution_count": 4,
     "metadata": {},
     "output_type": "execute_result"
    }
   ],
   "source": [
    "# Merge the two dataframes into one\n",
    "imdb_df = pd.merge(titles_df, ratings_df, on='tconst', how='inner')\n",
    "print(f'imdb_df length: {len(imdb_df)}')\n",
    "imdb_df.head(3)"
   ]
  },
  {
   "cell_type": "code",
   "execution_count": 5,
   "id": "b3f7bfc5-52a2-465c-a434-1e070bc83b5a",
   "metadata": {
    "tags": []
   },
   "outputs": [
    {
     "data": {
      "text/plain": [
       "tconst             object\n",
       "titletype          object\n",
       "primarytitle       object\n",
       "originaltitle      object\n",
       "isadult             int64\n",
       "startyear           int64\n",
       "endyear           float64\n",
       "runtimeminutes    float64\n",
       "genres             object\n",
       "averagerating     float64\n",
       "numvotes            int64\n",
       "dtype: object"
      ]
     },
     "execution_count": 5,
     "metadata": {},
     "output_type": "execute_result"
    }
   ],
   "source": [
    "# Convert what should be numeric columns to numerics\n",
    "# Using errors='coerce' to drop the values such as \"N\"\n",
    "imdb_df[['endyear', 'runtimeminutes', 'numvotes']] = imdb_df[['endyear', 'runtimeminutes', 'numvotes']].apply(pd.to_numeric, errors='coerce')\n",
    "imdb_df.dtypes"
   ]
  },
  {
   "cell_type": "code",
   "execution_count": 6,
   "id": "e4f08480-f0a2-4513-8b58-8f5b52edc3fd",
   "metadata": {
    "tags": []
   },
   "outputs": [
    {
     "data": {
      "text/html": [
       "<div>\n",
       "<style scoped>\n",
       "    .dataframe tbody tr th:only-of-type {\n",
       "        vertical-align: middle;\n",
       "    }\n",
       "\n",
       "    .dataframe tbody tr th {\n",
       "        vertical-align: top;\n",
       "    }\n",
       "\n",
       "    .dataframe thead th {\n",
       "        text-align: right;\n",
       "    }\n",
       "</style>\n",
       "<table border=\"1\" class=\"dataframe\">\n",
       "  <thead>\n",
       "    <tr style=\"text-align: right;\">\n",
       "      <th></th>\n",
       "      <th>tconst</th>\n",
       "      <th>averageRating</th>\n",
       "      <th>numVotes</th>\n",
       "      <th>isAdult</th>\n",
       "      <th>startYear</th>\n",
       "      <th>runtimeMinutes</th>\n",
       "      <th>genres</th>\n",
       "      <th>Movie</th>\n",
       "    </tr>\n",
       "  </thead>\n",
       "  <tbody>\n",
       "    <tr>\n",
       "      <th>0</th>\n",
       "      <td>tt10048376</td>\n",
       "      <td>4.8</td>\n",
       "      <td>30</td>\n",
       "      <td>0</td>\n",
       "      <td>2019</td>\n",
       "      <td>101.0</td>\n",
       "      <td>Drama</td>\n",
       "      <td>Ya podaryu tebe pobedu</td>\n",
       "    </tr>\n",
       "    <tr>\n",
       "      <th>1</th>\n",
       "      <td>tt10048556</td>\n",
       "      <td>3.7</td>\n",
       "      <td>340</td>\n",
       "      <td>0</td>\n",
       "      <td>2019</td>\n",
       "      <td>88.0</td>\n",
       "      <td>Thriller</td>\n",
       "      <td>Staged Killer</td>\n",
       "    </tr>\n",
       "    <tr>\n",
       "      <th>2</th>\n",
       "      <td>tt10049110</td>\n",
       "      <td>7.8</td>\n",
       "      <td>96</td>\n",
       "      <td>0</td>\n",
       "      <td>2019</td>\n",
       "      <td>93.0</td>\n",
       "      <td>Documentary</td>\n",
       "      <td>Die Wiese</td>\n",
       "    </tr>\n",
       "  </tbody>\n",
       "</table>\n",
       "</div>"
      ],
      "text/plain": [
       "       tconst  averageRating  numVotes  isAdult  startYear  runtimeMinutes  \\\n",
       "0  tt10048376            4.8        30        0       2019           101.0   \n",
       "1  tt10048556            3.7       340        0       2019            88.0   \n",
       "2  tt10049110            7.8        96        0       2019            93.0   \n",
       "\n",
       "        genres                   Movie  \n",
       "0        Drama  Ya podaryu tebe pobedu  \n",
       "1     Thriller           Staged Killer  \n",
       "2  Documentary               Die Wiese  "
      ]
     },
     "execution_count": 6,
     "metadata": {},
     "output_type": "execute_result"
    }
   ],
   "source": [
    "# Keep required columns only and rename for readability\n",
    "imdb_df = imdb_df[['tconst', 'averagerating', 'numvotes', 'isadult', 'startyear', 'runtimeminutes', 'genres', 'primarytitle']]\n",
    "imdb_df.rename(columns={'averagerating':'averageRating', 'numvotes':'numVotes', 'isadult':'isAdult', 'startyear':'startYear', \n",
    "                        'runtimeminutes':'runtimeMinutes', 'primarytitle':'Movie'}, inplace=True)\n",
    "imdb_df.head(3)"
   ]
  },
  {
   "cell_type": "markdown",
   "id": "c5a9a600-4ca6-4ee0-a20a-0517051fb14f",
   "metadata": {},
   "source": [
    "# Pull the OMDBAPI Data\n",
    "\n",
    "**NOTE THIS QUERY TAKES HOURS TO COMPLETE**"
   ]
  },
  {
   "cell_type": "code",
   "execution_count": 7,
   "id": "e80d34e6-c445-43e4-a0fa-303540e0fea4",
   "metadata": {},
   "outputs": [],
   "source": [
    "# Define the OMDB API Call\n",
    "api_key = 'ac6cb27f'\n",
    "omdb_url = 'http://www.omdbapi.com/'\n",
    "\n",
    "def get_movie_details(imdb_id):\n",
    "    params = {'apikey': api_key, 'i': imdb_id}\n",
    "    \n",
    "    # Set a maximum number of retries\n",
    "    max_retries = 3\n",
    "    \n",
    "    for _ in range(max_retries):\n",
    "        try:\n",
    "            response = requests.get(omdb_url, params=params, timeout=(5, 10))  # Set timeout values as needed\n",
    "            response.raise_for_status()  # Raise an exception for HTTP errors (4xx and 5xx)\n",
    "            data = response.json()\n",
    "            return data\n",
    "        except ReadTimeout:\n",
    "            print(f\"Read timeout occurred for movie with IMDb ID {imdb_id}. Retrying...\")\n",
    "        except requests.exceptions.RequestException as e:\n",
    "            print(f\"Error: {e}\")\n",
    "            break  # Break out of the loop for other types of exceptions\n",
    "    \n",
    "    # Handle the case where the request was unsuccessful after retries\n",
    "    print(f\"Unable to fetch data for movie with IMDb ID {imdb_id}\")\n",
    "    return None\n",
    "\n",
    "# Define the fields to extract\n",
    "fields_to_extract = ['Title', 'Rated', 'Released', 'Runtime', 'Genre', 'Director', \n",
    "                     'Writer', 'Actors', 'Language', 'Country', 'Type', 'Metascore', \n",
    "                     'imdbRating', 'imdbVotes', 'BoxOffice', 'Production']\n",
    "\n",
    "# Create a Copy of the IMDB df and ddd new columns to dataframe\n",
    "df = imdb_df.copy()\n",
    "for field in fields_to_extract:\n",
    "    df[f'OMDB_{field}'] = np.nan"
   ]
  },
  {
   "cell_type": "code",
   "execution_count": 8,
   "id": "cac3d200-1639-46fc-92e2-55daad978212",
   "metadata": {
    "tags": []
   },
   "outputs": [
    {
     "name": "stdout",
     "output_type": "stream",
     "text": [
      "working on index: 0\n",
      "working on index: 10000\n",
      "working on index: 20000\n",
      "working on index: 30000\n",
      "working on index: 40000\n",
      "working on index: 50000\n",
      "working on index: 60000\n",
      "working on index: 70000\n",
      "working on index: 80000\n",
      "working on index: 90000\n",
      "working on index: 100000\n",
      "Read timeout occurred for movie with IMDb ID tt4526792. Retrying...\n",
      "Error: 502 Server Error: Bad Gateway for url: http://www.omdbapi.com/?apikey=ac6cb27f&i=tt4652164\n",
      "Unable to fetch data for movie with IMDb ID tt4652164\n",
      "Error: 502 Server Error: Bad Gateway for url: http://www.omdbapi.com/?apikey=ac6cb27f&i=tt4718104\n",
      "Unable to fetch data for movie with IMDb ID tt4718104\n",
      "Error: 502 Server Error: Bad Gateway for url: http://www.omdbapi.com/?apikey=ac6cb27f&i=tt4826734\n",
      "Unable to fetch data for movie with IMDb ID tt4826734\n",
      "Error: 502 Server Error: Bad Gateway for url: http://www.omdbapi.com/?apikey=ac6cb27f&i=tt4854126\n",
      "Unable to fetch data for movie with IMDb ID tt4854126\n",
      "Error: 502 Server Error: Bad Gateway for url: http://www.omdbapi.com/?apikey=ac6cb27f&i=tt4870924\n",
      "Unable to fetch data for movie with IMDb ID tt4870924\n",
      "Error: 502 Server Error: Bad Gateway for url: http://www.omdbapi.com/?apikey=ac6cb27f&i=tt4898360\n",
      "Unable to fetch data for movie with IMDb ID tt4898360\n",
      "Error: 502 Server Error: Bad Gateway for url: http://www.omdbapi.com/?apikey=ac6cb27f&i=tt4926770\n",
      "Unable to fetch data for movie with IMDb ID tt4926770\n",
      "Error: 502 Server Error: Bad Gateway for url: http://www.omdbapi.com/?apikey=ac6cb27f&i=tt4956122\n",
      "Unable to fetch data for movie with IMDb ID tt4956122\n",
      "working on index: 110000\n",
      "Error: 502 Server Error: Bad Gateway for url: http://www.omdbapi.com/?apikey=ac6cb27f&i=tt5032026\n",
      "Unable to fetch data for movie with IMDb ID tt5032026\n",
      "Error: 502 Server Error: Bad Gateway for url: http://www.omdbapi.com/?apikey=ac6cb27f&i=tt5368302\n",
      "Unable to fetch data for movie with IMDb ID tt5368302\n",
      "Error: 502 Server Error: Bad Gateway for url: http://www.omdbapi.com/?apikey=ac6cb27f&i=tt5463370\n",
      "Unable to fetch data for movie with IMDb ID tt5463370\n",
      "Read timeout occurred for movie with IMDb ID tt5504810. Retrying...\n",
      "Read timeout occurred for movie with IMDb ID tt5527054. Retrying...\n",
      "Read timeout occurred for movie with IMDb ID tt5648966. Retrying...\n",
      "Read timeout occurred for movie with IMDb ID tt5649218. Retrying...\n",
      "Read timeout occurred for movie with IMDb ID tt5656994. Retrying...\n",
      "Read timeout occurred for movie with IMDb ID tt5679554. Retrying...\n",
      "working on index: 120000\n",
      "working on index: 130000\n",
      "working on index: 140000\n",
      "working on index: 150000\n",
      "working on index: 160000\n",
      "working on index: 170000\n",
      "working on index: 180000\n",
      "working on index: 190000\n",
      "working on index: 200000\n",
      "working on index: 210000\n",
      "working on index: 220000\n",
      "Error: ('Connection aborted.', ConnectionResetError(10054, 'An existing connection was forcibly closed by the remote host', None, 10054, None))\n",
      "Unable to fetch data for movie with IMDb ID tt0848554\n",
      "--- 467.54 minutes ---\n"
     ]
    }
   ],
   "source": [
    "# Grab start time\n",
    "start_time = time.time()\n",
    "\n",
    "# Iterate through each row in the DataFrame and append selected fields from the API response\n",
    "for index, row in df.iterrows():\n",
    "    # Print an update on progress as it processes\n",
    "    if index%10000 == 0:\n",
    "        print(f'working on index: {index}')\n",
    "    \n",
    "    # Check if the relevant fields are already populated\n",
    "    if all(pd.notna(row[f'OMDB_{field}']) for field in fields_to_extract):\n",
    "        continue  # Skip making API call for rows where data is already present\n",
    "    \n",
    "    movie_title = row['tconst']\n",
    "    movie_details = get_movie_details(movie_title)\n",
    "\n",
    "    # Check if movie details were retrieved successfully\n",
    "    if movie_details:\n",
    "        # Append selected fields to the DataFrame\n",
    "        for field in fields_to_extract:\n",
    "            column_name = f'OMDB_{field}'\n",
    "            df.at[index, column_name] = movie_details.get(field, '')\n",
    "    else:\n",
    "        # Handle the case where movie details were not retrieved\n",
    "        # You can choose to skip the row, set default values, or handle it in another way\n",
    "        pass\n",
    "\n",
    "# Print time taken\n",
    "print(\"--- %s minutes ---\" % round(((time.time() - start_time)/60),2))"
   ]
  },
  {
   "cell_type": "code",
   "execution_count": 10,
   "id": "01f9869e-3e0c-4fba-895b-344603e33f84",
   "metadata": {
    "tags": []
   },
   "outputs": [],
   "source": [
    "df.to_csv(\"../Resources/IMDB_OMDB_movies_raw.csv\")"
   ]
  },
  {
   "cell_type": "markdown",
   "id": "146d017f-eb6e-402c-92f5-0ac78b5eba29",
   "metadata": {},
   "source": [
    "# Format column data types from objects to numbers"
   ]
  },
  {
   "cell_type": "code",
   "execution_count": 11,
   "id": "e5afd7c4-c80a-4eb2-bd36-281f39fc36d4",
   "metadata": {
    "tags": []
   },
   "outputs": [],
   "source": [
    "# # Import and read the data if you screwed up :)\n",
    "# movies_df = pd.read_csv(\"../Resources/IMDB_OMDB_movies_raw.csv\")\n",
    "# movies_df = movies_df[['tconst', 'averageRating', 'numVotes', 'isAdult', 'startYear', 'runtimeMinutes', \n",
    "#                        'genres', 'Movie', 'OMDB_Title', 'OMDB_Rated', 'OMDB_Runtime', 'OMDB_Genre', \n",
    "#                        'OMDB_Director', 'OMDB_Writer', 'OMDB_Actors', 'OMDB_Language', 'OMDB_Country', \n",
    "#                        'OMDB_Type', 'OMDB_Metascore', 'OMDB_imdbRating', 'OMDB_imdbVotes', \n",
    "#                        'OMDB_BoxOffice', 'OMDB_Production']]\n",
    "# movies_df.head()"
   ]
  },
  {
   "cell_type": "code",
   "execution_count": 12,
   "id": "27cd73af-42d4-4e34-8a9b-3ea9018cd01d",
   "metadata": {
    "tags": []
   },
   "outputs": [
    {
     "data": {
      "text/plain": [
       "tconst              object\n",
       "averageRating      float64\n",
       "numVotes             int64\n",
       "isAdult              int64\n",
       "startYear            int64\n",
       "runtimeMinutes     float64\n",
       "genres              object\n",
       "Movie               object\n",
       "OMDB_Title          object\n",
       "OMDB_Rated          object\n",
       "OMDB_Released       object\n",
       "OMDB_Runtime        object\n",
       "OMDB_Genre          object\n",
       "OMDB_Director       object\n",
       "OMDB_Writer         object\n",
       "OMDB_Actors         object\n",
       "OMDB_Language       object\n",
       "OMDB_Country        object\n",
       "OMDB_Type           object\n",
       "OMDB_Metascore      object\n",
       "OMDB_imdbRating     object\n",
       "OMDB_imdbVotes      object\n",
       "OMDB_BoxOffice      object\n",
       "OMDB_Production     object\n",
       "dtype: object"
      ]
     },
     "execution_count": 12,
     "metadata": {},
     "output_type": "execute_result"
    }
   ],
   "source": [
    "# Examine data type of each column\n",
    "movies_df=df\n",
    "movies_df.dtypes"
   ]
  },
  {
   "cell_type": "code",
   "execution_count": 13,
   "id": "edbbcbd3-b2ea-4051-b37f-bec50a4e8132",
   "metadata": {
    "tags": []
   },
   "outputs": [
    {
     "data": {
      "text/plain": [
       "tconst                     object\n",
       "averageRating             float64\n",
       "numVotes                    int64\n",
       "isAdult                     int64\n",
       "startYear                   int64\n",
       "runtimeMinutes            float64\n",
       "genres                     object\n",
       "Movie                      object\n",
       "OMDB_Title                 object\n",
       "OMDB_Rated                 object\n",
       "OMDB_Released      datetime64[ns]\n",
       "OMDB_Runtime              float64\n",
       "OMDB_Genre                 object\n",
       "OMDB_Director              object\n",
       "OMDB_Writer                object\n",
       "OMDB_Actors                object\n",
       "OMDB_Language              object\n",
       "OMDB_Country               object\n",
       "OMDB_Type                  object\n",
       "OMDB_Metascore            float64\n",
       "OMDB_imdbRating           float64\n",
       "OMDB_imdbVotes            float64\n",
       "OMDB_BoxOffice            float64\n",
       "OMDB_Production            object\n",
       "dtype: object"
      ]
     },
     "execution_count": 13,
     "metadata": {},
     "output_type": "execute_result"
    }
   ],
   "source": [
    "# delate all \"N/A\"\n",
    "movies_df = movies_df.replace('N/A', '')\n",
    "\n",
    "# Convert $ objects to floats\n",
    "movies_df[['OMDB_BoxOffice']] = movies_df[['OMDB_BoxOffice']].replace('[\\$,\\s]', '', regex=True)\n",
    "movies_df[['OMDB_BoxOffice']] = movies_df[['OMDB_BoxOffice']].apply(pd.to_numeric, errors='coerce')\n",
    "\n",
    "# Convert number strings with comma to float\n",
    "movies_df[['OMDB_imdbVotes']] = movies_df[['OMDB_imdbVotes']].replace('[,\\s]', '', regex=True)\n",
    "movies_df['OMDB_imdbVotes'] = pd.to_numeric(movies_df['OMDB_imdbVotes'], errors='coerce')\n",
    "\n",
    "# Convert runtime to float after removing \" min\"\n",
    "movies_df[['OMDB_Runtime']] = movies_df[['OMDB_Runtime']].replace('[min\\s]', '', regex=True)\n",
    "movies_df['OMDB_Runtime'] = pd.to_numeric(movies_df['OMDB_Runtime'], errors='coerce')\n",
    "\n",
    "# Convert the number strings to numeric\n",
    "movies_df[['OMDB_imdbRating', 'OMDB_Metascore']] = movies_df[['OMDB_imdbRating', 'OMDB_Metascore']].apply(pd.to_numeric, errors='coerce')\n",
    "\n",
    "# Change date to datetime type (Note \"ReleaseDate\" has inconsistent formatting / typos)\n",
    "movies_df[\"OMDB_Released\"] = pd.to_datetime(movies_df[\"OMDB_Released\"])\n",
    "\n",
    "movies_df.dtypes"
   ]
  },
  {
   "cell_type": "code",
   "execution_count": 14,
   "id": "8c6fb5b0-d878-432c-a4aa-c52a4d4a61ac",
   "metadata": {
    "tags": []
   },
   "outputs": [],
   "source": [
    "movies_df.to_csv(\"../Resources/IMDB_OMDB_formatted.csv\")"
   ]
  },
  {
   "cell_type": "markdown",
   "id": "3f878cdd-d9f3-4184-966e-44aed1857686",
   "metadata": {},
   "source": [
    "# Minor Processing"
   ]
  },
  {
   "cell_type": "markdown",
   "id": "d272e10a-d5d0-49aa-a363-f92b8788c016",
   "metadata": {},
   "source": [
    "## Convert dates into year and month columns removing date columns"
   ]
  },
  {
   "cell_type": "code",
   "execution_count": null,
   "id": "e98b794d-89e7-4ae7-a6e4-ef4d9017f997",
   "metadata": {},
   "outputs": [],
   "source": [
    "# # Import and read the data if you screwed up :)\n",
    "# movies_df = pd.read_csv(\"../Resources/IMDB_OMDB_formatted.csv\")\n",
    "# movies_df = movies_df[['tconst', 'averageRating', 'numVotes', 'isAdult', 'startYear', 'runtimeMinutes', \n",
    "#                        'genres', 'Movie', 'OMDB_Title', 'OMDB_Rated', 'OMDB_Runtime', 'OMDB_Genre', \n",
    "#                        'OMDB_Director', 'OMDB_Writer', 'OMDB_Actors', 'OMDB_Language', 'OMDB_Country', \n",
    "#                        'OMDB_Type', 'OMDB_Metascore', 'OMDB_imdbRating', 'OMDB_imdbVotes', \n",
    "#                        'OMDB_BoxOffice', 'OMDB_Production']]\n",
    "# movies_df.head()"
   ]
  },
  {
   "cell_type": "code",
   "execution_count": 15,
   "id": "ce3f1f72-8890-4043-8afc-4a905f13c150",
   "metadata": {
    "tags": []
   },
   "outputs": [
    {
     "data": {
      "text/html": [
       "<div>\n",
       "<style scoped>\n",
       "    .dataframe tbody tr th:only-of-type {\n",
       "        vertical-align: middle;\n",
       "    }\n",
       "\n",
       "    .dataframe tbody tr th {\n",
       "        vertical-align: top;\n",
       "    }\n",
       "\n",
       "    .dataframe thead th {\n",
       "        text-align: right;\n",
       "    }\n",
       "</style>\n",
       "<table border=\"1\" class=\"dataframe\">\n",
       "  <thead>\n",
       "    <tr style=\"text-align: right;\">\n",
       "      <th></th>\n",
       "      <th>tconst</th>\n",
       "      <th>averageRating</th>\n",
       "      <th>numVotes</th>\n",
       "      <th>isAdult</th>\n",
       "      <th>startYear</th>\n",
       "      <th>runtimeMinutes</th>\n",
       "      <th>genres</th>\n",
       "      <th>Movie</th>\n",
       "      <th>OMDB_Title</th>\n",
       "      <th>OMDB_Rated</th>\n",
       "      <th>...</th>\n",
       "      <th>OMDB_Writer</th>\n",
       "      <th>OMDB_Actors</th>\n",
       "      <th>OMDB_Language</th>\n",
       "      <th>OMDB_Country</th>\n",
       "      <th>OMDB_Type</th>\n",
       "      <th>OMDB_Metascore</th>\n",
       "      <th>OMDB_imdbRating</th>\n",
       "      <th>OMDB_imdbVotes</th>\n",
       "      <th>OMDB_BoxOffice</th>\n",
       "      <th>OMDB_Production</th>\n",
       "    </tr>\n",
       "  </thead>\n",
       "  <tbody>\n",
       "    <tr>\n",
       "      <th>0</th>\n",
       "      <td>tt10048376</td>\n",
       "      <td>4.8</td>\n",
       "      <td>30</td>\n",
       "      <td>0</td>\n",
       "      <td>2019</td>\n",
       "      <td>101.0</td>\n",
       "      <td>Drama</td>\n",
       "      <td>Ya podaryu tebe pobedu</td>\n",
       "      <td>Ya podaryu tebe pobedu</td>\n",
       "      <td></td>\n",
       "      <td>...</td>\n",
       "      <td>Arsen Agadzhanyan</td>\n",
       "      <td>Tigran Agadzhanyan, Maria Atlas, Valeriy Barinov</td>\n",
       "      <td>Russian</td>\n",
       "      <td>Russia</td>\n",
       "      <td>movie</td>\n",
       "      <td>NaN</td>\n",
       "      <td>5.1</td>\n",
       "      <td>22.0</td>\n",
       "      <td>NaN</td>\n",
       "      <td></td>\n",
       "    </tr>\n",
       "    <tr>\n",
       "      <th>1</th>\n",
       "      <td>tt10048556</td>\n",
       "      <td>3.7</td>\n",
       "      <td>340</td>\n",
       "      <td>0</td>\n",
       "      <td>2019</td>\n",
       "      <td>88.0</td>\n",
       "      <td>Thriller</td>\n",
       "      <td>Staged Killer</td>\n",
       "      <td>Staged Killer</td>\n",
       "      <td>TV-14</td>\n",
       "      <td>...</td>\n",
       "      <td>Lindsay Hartley, Jason-Shane Scott</td>\n",
       "      <td>Chrishell Stause, Nicole Bilderback, Jason Dolley</td>\n",
       "      <td>English</td>\n",
       "      <td>United States</td>\n",
       "      <td>movie</td>\n",
       "      <td>NaN</td>\n",
       "      <td>3.7</td>\n",
       "      <td>339.0</td>\n",
       "      <td>NaN</td>\n",
       "      <td></td>\n",
       "    </tr>\n",
       "    <tr>\n",
       "      <th>2</th>\n",
       "      <td>tt10049110</td>\n",
       "      <td>7.8</td>\n",
       "      <td>96</td>\n",
       "      <td>0</td>\n",
       "      <td>2019</td>\n",
       "      <td>93.0</td>\n",
       "      <td>Documentary</td>\n",
       "      <td>Die Wiese</td>\n",
       "      <td>Die Wiese</td>\n",
       "      <td></td>\n",
       "      <td>...</td>\n",
       "      <td>Jan Haft, Michael Miersch</td>\n",
       "      <td>Sebastian Winkler</td>\n",
       "      <td>German</td>\n",
       "      <td>Germany</td>\n",
       "      <td>movie</td>\n",
       "      <td>NaN</td>\n",
       "      <td>7.8</td>\n",
       "      <td>95.0</td>\n",
       "      <td>NaN</td>\n",
       "      <td></td>\n",
       "    </tr>\n",
       "    <tr>\n",
       "      <th>3</th>\n",
       "      <td>tt10049238</td>\n",
       "      <td>7.1</td>\n",
       "      <td>41</td>\n",
       "      <td>0</td>\n",
       "      <td>2018</td>\n",
       "      <td>61.0</td>\n",
       "      <td>Documentary</td>\n",
       "      <td>Joan Miró: The Inner Fire</td>\n",
       "      <td>Miró contra Miró</td>\n",
       "      <td></td>\n",
       "      <td>...</td>\n",
       "      <td></td>\n",
       "      <td>Hester Wilcox, Joan Miró, Joan Punyet Miró</td>\n",
       "      <td>Spanish, French, English</td>\n",
       "      <td>France, Spain</td>\n",
       "      <td>movie</td>\n",
       "      <td>NaN</td>\n",
       "      <td>7.0</td>\n",
       "      <td>32.0</td>\n",
       "      <td>NaN</td>\n",
       "      <td></td>\n",
       "    </tr>\n",
       "    <tr>\n",
       "      <th>4</th>\n",
       "      <td>tt10049262</td>\n",
       "      <td>5.4</td>\n",
       "      <td>176</td>\n",
       "      <td>0</td>\n",
       "      <td>2020</td>\n",
       "      <td>107.0</td>\n",
       "      <td>Comedy,Romance</td>\n",
       "      <td>James &amp; Pat &amp; Dave</td>\n",
       "      <td>James &amp; Pat &amp; Dave</td>\n",
       "      <td></td>\n",
       "      <td>...</td>\n",
       "      <td>Daisy Cayanan, Marionne Dominique Mancol</td>\n",
       "      <td>Ronnie Alonte, Loisa Andalio, Donny Pangilinan</td>\n",
       "      <td>Tagalog, Filipino</td>\n",
       "      <td>Philippines</td>\n",
       "      <td>movie</td>\n",
       "      <td>NaN</td>\n",
       "      <td>5.4</td>\n",
       "      <td>174.0</td>\n",
       "      <td>NaN</td>\n",
       "      <td></td>\n",
       "    </tr>\n",
       "    <tr>\n",
       "      <th>...</th>\n",
       "      <td>...</td>\n",
       "      <td>...</td>\n",
       "      <td>...</td>\n",
       "      <td>...</td>\n",
       "      <td>...</td>\n",
       "      <td>...</td>\n",
       "      <td>...</td>\n",
       "      <td>...</td>\n",
       "      <td>...</td>\n",
       "      <td>...</td>\n",
       "      <td>...</td>\n",
       "      <td>...</td>\n",
       "      <td>...</td>\n",
       "      <td>...</td>\n",
       "      <td>...</td>\n",
       "      <td>...</td>\n",
       "      <td>...</td>\n",
       "      <td>...</td>\n",
       "      <td>...</td>\n",
       "      <td>...</td>\n",
       "      <td>...</td>\n",
       "    </tr>\n",
       "    <tr>\n",
       "      <th>224193</th>\n",
       "      <td>tt10047128</td>\n",
       "      <td>6.4</td>\n",
       "      <td>5</td>\n",
       "      <td>0</td>\n",
       "      <td>2015</td>\n",
       "      <td>90.0</td>\n",
       "      <td>Drama</td>\n",
       "      <td>De hormigón armado</td>\n",
       "      <td>De hormigón armado</td>\n",
       "      <td></td>\n",
       "      <td>...</td>\n",
       "      <td>Felipe Restrepo</td>\n",
       "      <td>Román Tanoni, Lucila Madeo, Pablo Pili, Esteba...</td>\n",
       "      <td>Spanish</td>\n",
       "      <td>Argentina</td>\n",
       "      <td>movie</td>\n",
       "      <td>NaN</td>\n",
       "      <td>NaN</td>\n",
       "      <td>NaN</td>\n",
       "      <td>NaN</td>\n",
       "      <td></td>\n",
       "    </tr>\n",
       "    <tr>\n",
       "      <th>224194</th>\n",
       "      <td>tt10047356</td>\n",
       "      <td>5.5</td>\n",
       "      <td>15</td>\n",
       "      <td>0</td>\n",
       "      <td>2018</td>\n",
       "      <td>92.0</td>\n",
       "      <td>Mystery</td>\n",
       "      <td>Eises Kälte - Frozen in Time</td>\n",
       "      <td>Eises Kälte - Frozen in Time</td>\n",
       "      <td></td>\n",
       "      <td>...</td>\n",
       "      <td>Klaus Korman, Klaus Uhlenbrock</td>\n",
       "      <td>Isabelle Aring, Andre Brüggemann, Marjorie Hag...</td>\n",
       "      <td>German</td>\n",
       "      <td>Germany</td>\n",
       "      <td>movie</td>\n",
       "      <td>NaN</td>\n",
       "      <td>5.1</td>\n",
       "      <td>15.0</td>\n",
       "      <td>NaN</td>\n",
       "      <td></td>\n",
       "    </tr>\n",
       "    <tr>\n",
       "      <th>224195</th>\n",
       "      <td>tt10047904</td>\n",
       "      <td>6.9</td>\n",
       "      <td>844</td>\n",
       "      <td>0</td>\n",
       "      <td>2022</td>\n",
       "      <td>104.0</td>\n",
       "      <td>Drama,Horror</td>\n",
       "      <td>Darkling</td>\n",
       "      <td>Darkling</td>\n",
       "      <td></td>\n",
       "      <td>...</td>\n",
       "      <td>Dusan Milic</td>\n",
       "      <td>Danica Curcic, Darren Pettie, Slavko Stimac</td>\n",
       "      <td>Serbian, English, Italian</td>\n",
       "      <td>Serbia, Denmark, Bulgaria, Greece, Italy</td>\n",
       "      <td>movie</td>\n",
       "      <td>NaN</td>\n",
       "      <td>6.9</td>\n",
       "      <td>820.0</td>\n",
       "      <td>NaN</td>\n",
       "      <td></td>\n",
       "    </tr>\n",
       "    <tr>\n",
       "      <th>224196</th>\n",
       "      <td>tt10047958</td>\n",
       "      <td>3.5</td>\n",
       "      <td>4628</td>\n",
       "      <td>0</td>\n",
       "      <td>2021</td>\n",
       "      <td>90.0</td>\n",
       "      <td>Comedy,Fantasy</td>\n",
       "      <td>Bad President</td>\n",
       "      <td>Bad President</td>\n",
       "      <td></td>\n",
       "      <td>...</td>\n",
       "      <td>John Buchanan, Param Gill</td>\n",
       "      <td>Eddie Griffin, Robert Amico, Zang Angelfire</td>\n",
       "      <td>English</td>\n",
       "      <td>United States</td>\n",
       "      <td>movie</td>\n",
       "      <td>NaN</td>\n",
       "      <td>3.5</td>\n",
       "      <td>4626.0</td>\n",
       "      <td>NaN</td>\n",
       "      <td></td>\n",
       "    </tr>\n",
       "    <tr>\n",
       "      <th>224197</th>\n",
       "      <td>tt10048128</td>\n",
       "      <td>8.8</td>\n",
       "      <td>51</td>\n",
       "      <td>0</td>\n",
       "      <td>2019</td>\n",
       "      <td>92.0</td>\n",
       "      <td>Documentary,Music</td>\n",
       "      <td>Maurice Hines: Bring Them Back</td>\n",
       "      <td>Maurice Hines: Bring Them Back</td>\n",
       "      <td></td>\n",
       "      <td>...</td>\n",
       "      <td>Tracy E. Hopkins</td>\n",
       "      <td>Debbie Allen, Tanya Bagnato, Shaun Baker</td>\n",
       "      <td>English</td>\n",
       "      <td>United States</td>\n",
       "      <td>movie</td>\n",
       "      <td>NaN</td>\n",
       "      <td>8.8</td>\n",
       "      <td>51.0</td>\n",
       "      <td>NaN</td>\n",
       "      <td></td>\n",
       "    </tr>\n",
       "  </tbody>\n",
       "</table>\n",
       "<p>224198 rows × 24 columns</p>\n",
       "</div>"
      ],
      "text/plain": [
       "            tconst  averageRating  numVotes  isAdult  startYear  \\\n",
       "0       tt10048376            4.8        30        0       2019   \n",
       "1       tt10048556            3.7       340        0       2019   \n",
       "2       tt10049110            7.8        96        0       2019   \n",
       "3       tt10049238            7.1        41        0       2018   \n",
       "4       tt10049262            5.4       176        0       2020   \n",
       "...            ...            ...       ...      ...        ...   \n",
       "224193  tt10047128            6.4         5        0       2015   \n",
       "224194  tt10047356            5.5        15        0       2018   \n",
       "224195  tt10047904            6.9       844        0       2022   \n",
       "224196  tt10047958            3.5      4628        0       2021   \n",
       "224197  tt10048128            8.8        51        0       2019   \n",
       "\n",
       "        runtimeMinutes             genres                           Movie  \\\n",
       "0                101.0              Drama          Ya podaryu tebe pobedu   \n",
       "1                 88.0           Thriller                   Staged Killer   \n",
       "2                 93.0        Documentary                       Die Wiese   \n",
       "3                 61.0        Documentary       Joan Miró: The Inner Fire   \n",
       "4                107.0     Comedy,Romance              James & Pat & Dave   \n",
       "...                ...                ...                             ...   \n",
       "224193            90.0              Drama              De hormigón armado   \n",
       "224194            92.0            Mystery    Eises Kälte - Frozen in Time   \n",
       "224195           104.0       Drama,Horror                        Darkling   \n",
       "224196            90.0     Comedy,Fantasy                   Bad President   \n",
       "224197            92.0  Documentary,Music  Maurice Hines: Bring Them Back   \n",
       "\n",
       "                            OMDB_Title OMDB_Rated  ...  \\\n",
       "0               Ya podaryu tebe pobedu             ...   \n",
       "1                        Staged Killer      TV-14  ...   \n",
       "2                            Die Wiese             ...   \n",
       "3                     Miró contra Miró             ...   \n",
       "4                   James & Pat & Dave             ...   \n",
       "...                                ...        ...  ...   \n",
       "224193              De hormigón armado             ...   \n",
       "224194    Eises Kälte - Frozen in Time             ...   \n",
       "224195                        Darkling             ...   \n",
       "224196                   Bad President             ...   \n",
       "224197  Maurice Hines: Bring Them Back             ...   \n",
       "\n",
       "                                     OMDB_Writer  \\\n",
       "0                              Arsen Agadzhanyan   \n",
       "1             Lindsay Hartley, Jason-Shane Scott   \n",
       "2                      Jan Haft, Michael Miersch   \n",
       "3                                                  \n",
       "4       Daisy Cayanan, Marionne Dominique Mancol   \n",
       "...                                          ...   \n",
       "224193                           Felipe Restrepo   \n",
       "224194            Klaus Korman, Klaus Uhlenbrock   \n",
       "224195                               Dusan Milic   \n",
       "224196                 John Buchanan, Param Gill   \n",
       "224197                          Tracy E. Hopkins   \n",
       "\n",
       "                                              OMDB_Actors  \\\n",
       "0        Tigran Agadzhanyan, Maria Atlas, Valeriy Barinov   \n",
       "1       Chrishell Stause, Nicole Bilderback, Jason Dolley   \n",
       "2                                       Sebastian Winkler   \n",
       "3              Hester Wilcox, Joan Miró, Joan Punyet Miró   \n",
       "4          Ronnie Alonte, Loisa Andalio, Donny Pangilinan   \n",
       "...                                                   ...   \n",
       "224193  Román Tanoni, Lucila Madeo, Pablo Pili, Esteba...   \n",
       "224194  Isabelle Aring, Andre Brüggemann, Marjorie Hag...   \n",
       "224195        Danica Curcic, Darren Pettie, Slavko Stimac   \n",
       "224196        Eddie Griffin, Robert Amico, Zang Angelfire   \n",
       "224197           Debbie Allen, Tanya Bagnato, Shaun Baker   \n",
       "\n",
       "                    OMDB_Language                              OMDB_Country  \\\n",
       "0                         Russian                                    Russia   \n",
       "1                         English                             United States   \n",
       "2                          German                                   Germany   \n",
       "3        Spanish, French, English                             France, Spain   \n",
       "4               Tagalog, Filipino                               Philippines   \n",
       "...                           ...                                       ...   \n",
       "224193                    Spanish                                 Argentina   \n",
       "224194                     German                                   Germany   \n",
       "224195  Serbian, English, Italian  Serbia, Denmark, Bulgaria, Greece, Italy   \n",
       "224196                    English                             United States   \n",
       "224197                    English                             United States   \n",
       "\n",
       "       OMDB_Type OMDB_Metascore OMDB_imdbRating OMDB_imdbVotes OMDB_BoxOffice  \\\n",
       "0          movie            NaN             5.1           22.0            NaN   \n",
       "1          movie            NaN             3.7          339.0            NaN   \n",
       "2          movie            NaN             7.8           95.0            NaN   \n",
       "3          movie            NaN             7.0           32.0            NaN   \n",
       "4          movie            NaN             5.4          174.0            NaN   \n",
       "...          ...            ...             ...            ...            ...   \n",
       "224193     movie            NaN             NaN            NaN            NaN   \n",
       "224194     movie            NaN             5.1           15.0            NaN   \n",
       "224195     movie            NaN             6.9          820.0            NaN   \n",
       "224196     movie            NaN             3.5         4626.0            NaN   \n",
       "224197     movie            NaN             8.8           51.0            NaN   \n",
       "\n",
       "        OMDB_Production  \n",
       "0                        \n",
       "1                        \n",
       "2                        \n",
       "3                        \n",
       "4                        \n",
       "...                 ...  \n",
       "224193                   \n",
       "224194                   \n",
       "224195                   \n",
       "224196                   \n",
       "224197                   \n",
       "\n",
       "[224198 rows x 24 columns]"
      ]
     },
     "execution_count": 15,
     "metadata": {},
     "output_type": "execute_result"
    }
   ],
   "source": [
    "# Change date to datetime type (Note \"ReleaseDate\" has inconsistent formatting / typos)\n",
    "movies_df[\"OMDB_Released\"] = pd.to_datetime(movies_df[\"OMDB_Released\"])\n",
    "movies_df"
   ]
  },
  {
   "cell_type": "code",
   "execution_count": 16,
   "id": "2fa5dea4-3df4-4cb3-8b20-f84bccc80818",
   "metadata": {
    "tags": []
   },
   "outputs": [
    {
     "data": {
      "text/plain": [
       "tconst                     object\n",
       "averageRating             float64\n",
       "numVotes                    int64\n",
       "isAdult                     int64\n",
       "startYear                   int64\n",
       "runtimeMinutes            float64\n",
       "genres                     object\n",
       "Movie                      object\n",
       "OMDB_Title                 object\n",
       "OMDB_Rated                 object\n",
       "OMDB_Released      datetime64[ns]\n",
       "OMDB_Runtime              float64\n",
       "OMDB_Genre                 object\n",
       "OMDB_Director              object\n",
       "OMDB_Writer                object\n",
       "OMDB_Actors                object\n",
       "OMDB_Language              object\n",
       "OMDB_Country               object\n",
       "OMDB_Type                  object\n",
       "OMDB_Metascore            float64\n",
       "OMDB_imdbRating           float64\n",
       "OMDB_imdbVotes            float64\n",
       "OMDB_BoxOffice            float64\n",
       "OMDB_Production            object\n",
       "dtype: object"
      ]
     },
     "execution_count": 16,
     "metadata": {},
     "output_type": "execute_result"
    }
   ],
   "source": [
    "movies_df.dtypes"
   ]
  },
  {
   "cell_type": "code",
   "execution_count": 17,
   "id": "2bcf482a-e247-4508-8e5c-64ff6f778198",
   "metadata": {
    "tags": []
   },
   "outputs": [
    {
     "data": {
      "text/html": [
       "<div>\n",
       "<style scoped>\n",
       "    .dataframe tbody tr th:only-of-type {\n",
       "        vertical-align: middle;\n",
       "    }\n",
       "\n",
       "    .dataframe tbody tr th {\n",
       "        vertical-align: top;\n",
       "    }\n",
       "\n",
       "    .dataframe thead th {\n",
       "        text-align: right;\n",
       "    }\n",
       "</style>\n",
       "<table border=\"1\" class=\"dataframe\">\n",
       "  <thead>\n",
       "    <tr style=\"text-align: right;\">\n",
       "      <th></th>\n",
       "      <th>tconst</th>\n",
       "      <th>averageRating</th>\n",
       "      <th>numVotes</th>\n",
       "      <th>isAdult</th>\n",
       "      <th>startYear</th>\n",
       "      <th>runtimeMinutes</th>\n",
       "      <th>genres</th>\n",
       "      <th>Movie</th>\n",
       "      <th>OMDB_Title</th>\n",
       "      <th>OMDB_Rated</th>\n",
       "      <th>...</th>\n",
       "      <th>OMDB_Language</th>\n",
       "      <th>OMDB_Country</th>\n",
       "      <th>OMDB_Type</th>\n",
       "      <th>OMDB_Metascore</th>\n",
       "      <th>OMDB_imdbRating</th>\n",
       "      <th>OMDB_imdbVotes</th>\n",
       "      <th>OMDB_BoxOffice</th>\n",
       "      <th>OMDB_Production</th>\n",
       "      <th>ReleaseYear</th>\n",
       "      <th>ReleaseMonth</th>\n",
       "    </tr>\n",
       "  </thead>\n",
       "  <tbody>\n",
       "    <tr>\n",
       "      <th>0</th>\n",
       "      <td>tt10048376</td>\n",
       "      <td>4.8</td>\n",
       "      <td>30</td>\n",
       "      <td>0</td>\n",
       "      <td>2019</td>\n",
       "      <td>101.0</td>\n",
       "      <td>Drama</td>\n",
       "      <td>Ya podaryu tebe pobedu</td>\n",
       "      <td>Ya podaryu tebe pobedu</td>\n",
       "      <td></td>\n",
       "      <td>...</td>\n",
       "      <td>Russian</td>\n",
       "      <td>Russia</td>\n",
       "      <td>movie</td>\n",
       "      <td>NaN</td>\n",
       "      <td>5.1</td>\n",
       "      <td>22.0</td>\n",
       "      <td>NaN</td>\n",
       "      <td></td>\n",
       "      <td>2019.0</td>\n",
       "      <td>4.0</td>\n",
       "    </tr>\n",
       "    <tr>\n",
       "      <th>1</th>\n",
       "      <td>tt10048556</td>\n",
       "      <td>3.7</td>\n",
       "      <td>340</td>\n",
       "      <td>0</td>\n",
       "      <td>2019</td>\n",
       "      <td>88.0</td>\n",
       "      <td>Thriller</td>\n",
       "      <td>Staged Killer</td>\n",
       "      <td>Staged Killer</td>\n",
       "      <td>TV-14</td>\n",
       "      <td>...</td>\n",
       "      <td>English</td>\n",
       "      <td>United States</td>\n",
       "      <td>movie</td>\n",
       "      <td>NaN</td>\n",
       "      <td>3.7</td>\n",
       "      <td>339.0</td>\n",
       "      <td>NaN</td>\n",
       "      <td></td>\n",
       "      <td>2019.0</td>\n",
       "      <td>6.0</td>\n",
       "    </tr>\n",
       "    <tr>\n",
       "      <th>2</th>\n",
       "      <td>tt10049110</td>\n",
       "      <td>7.8</td>\n",
       "      <td>96</td>\n",
       "      <td>0</td>\n",
       "      <td>2019</td>\n",
       "      <td>93.0</td>\n",
       "      <td>Documentary</td>\n",
       "      <td>Die Wiese</td>\n",
       "      <td>Die Wiese</td>\n",
       "      <td></td>\n",
       "      <td>...</td>\n",
       "      <td>German</td>\n",
       "      <td>Germany</td>\n",
       "      <td>movie</td>\n",
       "      <td>NaN</td>\n",
       "      <td>7.8</td>\n",
       "      <td>95.0</td>\n",
       "      <td>NaN</td>\n",
       "      <td></td>\n",
       "      <td>2019.0</td>\n",
       "      <td>4.0</td>\n",
       "    </tr>\n",
       "    <tr>\n",
       "      <th>3</th>\n",
       "      <td>tt10049238</td>\n",
       "      <td>7.1</td>\n",
       "      <td>41</td>\n",
       "      <td>0</td>\n",
       "      <td>2018</td>\n",
       "      <td>61.0</td>\n",
       "      <td>Documentary</td>\n",
       "      <td>Joan Miró: The Inner Fire</td>\n",
       "      <td>Miró contra Miró</td>\n",
       "      <td></td>\n",
       "      <td>...</td>\n",
       "      <td>Spanish, French, English</td>\n",
       "      <td>France, Spain</td>\n",
       "      <td>movie</td>\n",
       "      <td>NaN</td>\n",
       "      <td>7.0</td>\n",
       "      <td>32.0</td>\n",
       "      <td>NaN</td>\n",
       "      <td></td>\n",
       "      <td>2018.0</td>\n",
       "      <td>10.0</td>\n",
       "    </tr>\n",
       "    <tr>\n",
       "      <th>4</th>\n",
       "      <td>tt10049262</td>\n",
       "      <td>5.4</td>\n",
       "      <td>176</td>\n",
       "      <td>0</td>\n",
       "      <td>2020</td>\n",
       "      <td>107.0</td>\n",
       "      <td>Comedy,Romance</td>\n",
       "      <td>James &amp; Pat &amp; Dave</td>\n",
       "      <td>James &amp; Pat &amp; Dave</td>\n",
       "      <td></td>\n",
       "      <td>...</td>\n",
       "      <td>Tagalog, Filipino</td>\n",
       "      <td>Philippines</td>\n",
       "      <td>movie</td>\n",
       "      <td>NaN</td>\n",
       "      <td>5.4</td>\n",
       "      <td>174.0</td>\n",
       "      <td>NaN</td>\n",
       "      <td></td>\n",
       "      <td>2020.0</td>\n",
       "      <td>2.0</td>\n",
       "    </tr>\n",
       "  </tbody>\n",
       "</table>\n",
       "<p>5 rows × 25 columns</p>\n",
       "</div>"
      ],
      "text/plain": [
       "       tconst  averageRating  numVotes  isAdult  startYear  runtimeMinutes  \\\n",
       "0  tt10048376            4.8        30        0       2019           101.0   \n",
       "1  tt10048556            3.7       340        0       2019            88.0   \n",
       "2  tt10049110            7.8        96        0       2019            93.0   \n",
       "3  tt10049238            7.1        41        0       2018            61.0   \n",
       "4  tt10049262            5.4       176        0       2020           107.0   \n",
       "\n",
       "           genres                      Movie              OMDB_Title  \\\n",
       "0           Drama     Ya podaryu tebe pobedu  Ya podaryu tebe pobedu   \n",
       "1        Thriller              Staged Killer           Staged Killer   \n",
       "2     Documentary                  Die Wiese               Die Wiese   \n",
       "3     Documentary  Joan Miró: The Inner Fire        Miró contra Miró   \n",
       "4  Comedy,Romance         James & Pat & Dave      James & Pat & Dave   \n",
       "\n",
       "  OMDB_Rated  ...             OMDB_Language   OMDB_Country OMDB_Type  \\\n",
       "0             ...                   Russian         Russia     movie   \n",
       "1      TV-14  ...                   English  United States     movie   \n",
       "2             ...                    German        Germany     movie   \n",
       "3             ...  Spanish, French, English  France, Spain     movie   \n",
       "4             ...         Tagalog, Filipino    Philippines     movie   \n",
       "\n",
       "  OMDB_Metascore OMDB_imdbRating OMDB_imdbVotes OMDB_BoxOffice  \\\n",
       "0            NaN             5.1           22.0            NaN   \n",
       "1            NaN             3.7          339.0            NaN   \n",
       "2            NaN             7.8           95.0            NaN   \n",
       "3            NaN             7.0           32.0            NaN   \n",
       "4            NaN             5.4          174.0            NaN   \n",
       "\n",
       "  OMDB_Production  ReleaseYear  ReleaseMonth  \n",
       "0                       2019.0           4.0  \n",
       "1                       2019.0           6.0  \n",
       "2                       2019.0           4.0  \n",
       "3                       2018.0          10.0  \n",
       "4                       2020.0           2.0  \n",
       "\n",
       "[5 rows x 25 columns]"
      ]
     },
     "execution_count": 17,
     "metadata": {},
     "output_type": "execute_result"
    }
   ],
   "source": [
    "movies_df[\"ReleaseYear\"] = pd.DatetimeIndex(movies_df['OMDB_Released']).year\n",
    "movies_df[\"ReleaseMonth\"] = pd.DatetimeIndex(movies_df['OMDB_Released']).month\n",
    "movies_df = movies_df.drop(['OMDB_Released'], axis=1)\n",
    "movies_df.head()"
   ]
  },
  {
   "cell_type": "code",
   "execution_count": 18,
   "id": "0a74a6a5-816f-488b-91de-0f77891c4f77",
   "metadata": {
    "tags": []
   },
   "outputs": [
    {
     "data": {
      "text/plain": [
       "Index(['tconst', 'averageRating', 'numVotes', 'isAdult', 'startYear',\n",
       "       'runtimeMinutes', 'genres', 'Movie', 'OMDB_Title', 'OMDB_Rated',\n",
       "       'OMDB_Runtime', 'OMDB_Genre', 'OMDB_Director', 'OMDB_Writer',\n",
       "       'OMDB_Actors', 'OMDB_Language', 'OMDB_Country', 'OMDB_Type',\n",
       "       'OMDB_Metascore', 'OMDB_imdbRating', 'OMDB_imdbVotes', 'OMDB_BoxOffice',\n",
       "       'OMDB_Production', 'ReleaseYear', 'ReleaseMonth'],\n",
       "      dtype='object')"
      ]
     },
     "execution_count": 18,
     "metadata": {},
     "output_type": "execute_result"
    }
   ],
   "source": [
    "movies_df.columns"
   ]
  },
  {
   "cell_type": "markdown",
   "id": "d3666fb0-22d3-4a31-ae78-2dd897d589a7",
   "metadata": {},
   "source": [
    "# Investigate Inputs / Features: should any be consolidated or truncated"
   ]
  },
  {
   "cell_type": "code",
   "execution_count": 20,
   "id": "b6fcf96f-e1a5-4dbc-a5a3-5b74f9ce86d2",
   "metadata": {
    "tags": []
   },
   "outputs": [
    {
     "data": {
      "text/plain": [
       "movie      224162\n",
       "series         10\n",
       "episode         9\n",
       "                4\n",
       "game            1\n",
       "Name: OMDB_Type, dtype: int64"
      ]
     },
     "execution_count": 20,
     "metadata": {},
     "output_type": "execute_result"
    }
   ],
   "source": [
    "# Check distribution of type\n",
    "movies_df['OMDB_Type'].value_counts()"
   ]
  },
  {
   "cell_type": "code",
   "execution_count": 21,
   "id": "bec6d863-e293-410b-abe6-85e36cf6a6fc",
   "metadata": {
    "tags": []
   },
   "outputs": [],
   "source": [
    "# Remove the non-movies\n",
    "movies_df = movies_df[movies_df['OMDB_Type'] == 'movie']\n",
    "# Remove the type column from the dataframe\n",
    "movies_df = movies_df.drop(['OMDB_Type'], axis=1)"
   ]
  },
  {
   "cell_type": "code",
   "execution_count": 22,
   "id": "b5a7b29c-93b7-4072-a3f6-0dd17077af83",
   "metadata": {
    "tags": []
   },
   "outputs": [
    {
     "data": {
      "text/plain": [
       "             162839\n",
       "Not Rated     23719\n",
       "R             15445\n",
       "PG-13          5585\n",
       "PG             4025\n",
       "              ...  \n",
       "PG13              1\n",
       "R15+              1\n",
       "All               1\n",
       "18A               1\n",
       "F                 1\n",
       "Name: OMDB_Rated, Length: 96, dtype: int64"
      ]
     },
     "execution_count": 22,
     "metadata": {},
     "output_type": "execute_result"
    }
   ],
   "source": [
    "# Check distribution of ratings\n",
    "ratings_count = movies_df['OMDB_Rated'].value_counts()\n",
    "ratings_count"
   ]
  },
  {
   "cell_type": "code",
   "execution_count": 23,
   "id": "8def25d1-75c3-484c-9b4e-d7832f5cc7c4",
   "metadata": {
    "tags": []
   },
   "outputs": [
    {
     "data": {
      "text/plain": [
       "unknown    189734\n",
       "adults      19417\n",
       "teens        8068\n",
       "kids         6943\n",
       "Name: OMDB_Rated, dtype: int64"
      ]
     },
     "execution_count": 23,
     "metadata": {},
     "output_type": "execute_result"
    }
   ],
   "source": [
    "# Define Consolidate Rated Lists:\n",
    "# reference https://en.wikipedia.org/wiki/Motion_Picture_Association_film_rating_system and Google for odd ones\n",
    "kids = ['PG', 'G', 'TV-PG', 'TV-G', 'GP', 'M/PG', 'M', 'TV-Y7', 'U', 'TV-Y', 'Atp', 'Btl', 'E', 'TV-Y7-FV', '7', 'o.Al.', '6', 'Open', 'K-3', 'KT', 'UA', 'L', 'I', 'M/6', '7+', 'A.G.', 'All', 'K-8']\n",
    "teens = ['PG-13', 'TV-14', '16+', '13+', '12', '13', '16', 'T', 'E10+', '11', '15', '14', 'M/12', 'MA-13', 'M/16', '-16', 'K-12', 'TV-13', '12A', 'PG-12', '10', 'K-16', 'IIA', 'PG13', 'R15+', 'II', 'K-13', 'KNT', 'K-14']\n",
    "adults = ['R', 'TV-MA', 'NC-17', 'X', '18+', 'AO', '18', 'S', 'III', 'A', 'IIB', 'M/18', 'K-18', 'R-18', 'MA-17', 'M18', 'C', 'R18+', 'VM18', '18A', 'BPjM Restricted', 'R-18+', 'R(A)']\n",
    "Unknown = ['Not Rated', 'Approved', 'Unrated', 'Passed', 'NOT RATED', 'UNRATED', 'APPROVED', '(Banned)', 'PASSED', 'EM', 'AL', 'F', 'B', 'Livre', 'K']\n",
    "\n",
    "for index, row in movies_df.iterrows():\n",
    "    movie_rating = row['OMDB_Rated']\n",
    "    if movie_rating in kids:\n",
    "        movies_df.at[index,'OMDB_Rated'] = 'kids'\n",
    "    elif movie_rating in teens:\n",
    "        movies_df.at[index,'OMDB_Rated'] = 'teens'\n",
    "    elif movie_rating in adults:\n",
    "        movies_df.at[index,'OMDB_Rated'] = 'adults'\n",
    "    else:\n",
    "        movies_df.at[index,'OMDB_Rated'] = 'unknown'\n",
    "\n",
    "# df[\"grade\"] = df.apply(lambda x: 'A+' if ((x['score']>40)&(x['score']<50)) else x[\"grade\"], axis=1)\n",
    "# movies_df.OMDB_Rated = np.where((movies_df.OMDB_Rated in kids), 'kids', movies_df.OMDB_Rated)\n",
    "\n",
    "movies_df['OMDB_Rated'].value_counts()"
   ]
  },
  {
   "cell_type": "code",
   "execution_count": 24,
   "id": "ae4fd06c-6407-40c6-9b42-59e62a4695d8",
   "metadata": {
    "tags": []
   },
   "outputs": [
    {
     "data": {
      "image/png": "[encoded data removed]",
      "text/plain": [
       "<Figure size 640x480 with 1 Axes>"
      ]
     },
     "metadata": {},
     "output_type": "display_data"
    }
   ],
   "source": [
    "year_hist = movies_df['ReleaseYear'].hist(bins=11, legend=True)"
   ]
  },
  {
   "cell_type": "code",
   "execution_count": 25,
   "id": "d776371c-053a-4f8b-9c9e-973e54f0982c",
   "metadata": {
    "tags": []
   },
   "outputs": [
    {
     "data": {
      "image/png": "[encoded data removed]",
      "text/plain": [
       "<Figure size 640x480 with 1 Axes>"
      ]
     },
     "metadata": {},
     "output_type": "display_data"
    }
   ],
   "source": [
    "year_hist2 = movies_df['startYear'].hist(bins=11, legend=True)"
   ]
  },
  {
   "cell_type": "code",
   "execution_count": 26,
   "id": "f676522b-7688-489b-b8e3-ad89e569ef3c",
   "metadata": {
    "tags": []
   },
   "outputs": [
    {
     "data": {
      "text/plain": [
       "2019.0    10032\n",
       "2022.0     9795\n",
       "2018.0     9596\n",
       "2017.0     9462\n",
       "2021.0     9085\n",
       "2016.0     8863\n",
       "2015.0     8804\n",
       "2020.0     8600\n",
       "2014.0     8330\n",
       "2023.0     7943\n",
       "2013.0     7804\n",
       "2012.0     7095\n",
       "2011.0     6629\n",
       "2010.0     5839\n",
       "2009.0     5730\n",
       "2008.0     5471\n",
       "2007.0     4889\n",
       "2006.0     4518\n",
       "2005.0     4026\n",
       "2004.0     3607\n",
       "2003.0     3333\n",
       "2002.0     3083\n",
       "2001.0     2876\n",
       "2000.0     2545\n",
       "1999.0     2365\n",
       "1998.0     2143\n",
       "1997.0     1983\n",
       "1989.0     1855\n",
       "1986.0     1817\n",
       "1990.0     1810\n",
       "1988.0     1800\n",
       "1996.0     1800\n",
       "1987.0     1772\n",
       "1995.0     1756\n",
       "1993.0     1726\n",
       "1985.0     1719\n",
       "1994.0     1705\n",
       "1991.0     1705\n",
       "1992.0     1674\n",
       "1982.0     1668\n",
       "1984.0     1623\n",
       "1983.0     1587\n",
       "1981.0     1579\n",
       "1980.0     1434\n",
       "2024.0       59\n",
       "1979.0        3\n",
       "1978.0        1\n",
       "1977.0        1\n",
       "1959.0        1\n",
       "1950.0        1\n",
       "Name: ReleaseYear, dtype: int64"
      ]
     },
     "execution_count": 26,
     "metadata": {},
     "output_type": "execute_result"
    }
   ],
   "source": [
    "movies_df['ReleaseYear'].value_counts()"
   ]
  },
  {
   "cell_type": "code",
   "execution_count": 27,
   "id": "645407df-48db-4c61-81d2-0859430dbda1",
   "metadata": {
    "tags": []
   },
   "outputs": [
    {
     "data": {
      "text/plain": [
       "2019    10449\n",
       "2018    10339\n",
       "2017    10269\n",
       "2022     9918\n",
       "2016     9782\n",
       "2015     9395\n",
       "2014     9172\n",
       "2021     8837\n",
       "2013     8552\n",
       "2020     8379\n",
       "2012     8190\n",
       "2011     7791\n",
       "2010     7208\n",
       "2023     7050\n",
       "2009     6947\n",
       "2008     6228\n",
       "2007     5421\n",
       "2006     5193\n",
       "2005     4656\n",
       "2004     4220\n",
       "2003     3821\n",
       "2002     3673\n",
       "2001     3519\n",
       "2000     3258\n",
       "1999     3114\n",
       "1998     2926\n",
       "1997     2853\n",
       "1989     2721\n",
       "1988     2672\n",
       "1987     2661\n",
       "1996     2656\n",
       "1990     2631\n",
       "1986     2602\n",
       "1995     2601\n",
       "1991     2562\n",
       "1985     2535\n",
       "1984     2490\n",
       "1993     2471\n",
       "1994     2468\n",
       "1992     2465\n",
       "1983     2452\n",
       "1982     2395\n",
       "1981     2355\n",
       "1980     2265\n",
       "Name: startYear, dtype: int64"
      ]
     },
     "execution_count": 27,
     "metadata": {},
     "output_type": "execute_result"
    }
   ],
   "source": [
    "movies_df['startYear'].value_counts()"
   ]
  },
  {
   "cell_type": "code",
   "execution_count": 28,
   "id": "f71fe76a-3531-40ae-9d13-52b7d487a0c2",
   "metadata": {
    "tags": []
   },
   "outputs": [
    {
     "data": {
      "text/plain": [
       "Drama                        37105\n",
       "Documentary                  29885\n",
       "Comedy                       16583\n",
       "Comedy,Drama                  7856\n",
       "Horror                        6430\n",
       "                             ...  \n",
       "Adventure,News                   1\n",
       "History,Horror,Mystery           1\n",
       "Action,Adult,Horror              1\n",
       "Action,Documentary,Horror        1\n",
       "Animation,Crime,Music            1\n",
       "Name: genres, Length: 1159, dtype: int64"
      ]
     },
     "execution_count": 28,
     "metadata": {},
     "output_type": "execute_result"
    }
   ],
   "source": [
    "movies_df['genres'].value_counts()"
   ]
  },
  {
   "cell_type": "code",
   "execution_count": 29,
   "id": "6c29057f-421e-4832-b93b-7a74ad2cbde8",
   "metadata": {
    "tags": []
   },
   "outputs": [
    {
     "data": {
      "text/plain": [
       "Drama                                           36949\n",
       "Documentary                                     29774\n",
       "Comedy                                          16569\n",
       "Comedy, Drama                                    7641\n",
       "                                                 7418\n",
       "                                                ...  \n",
       "Animation, Comedy, Fantasy, History, Romance        1\n",
       "Short, Drama, Romance                               1\n",
       "Action, Adventure, Drama, Thriller                  1\n",
       "Biography, Crime, Drama, History, War               1\n",
       "Animation, Crime, Music                             1\n",
       "Name: OMDB_Genre, Length: 1828, dtype: int64"
      ]
     },
     "execution_count": 29,
     "metadata": {},
     "output_type": "execute_result"
    }
   ],
   "source": [
    "movies_df['OMDB_Genre'].value_counts()"
   ]
  },
  {
   "cell_type": "code",
   "execution_count": 30,
   "id": "888b8639-0f47-40e7-9d25-93e7ae990e5b",
   "metadata": {
    "tags": []
   },
   "outputs": [
    {
     "data": {
      "text/plain": [
       "Drama                    37105\n",
       "Documentary              29885\n",
       "Comedy                   16583\n",
       "Comedy,Drama              7856\n",
       "Horror                    6430\n",
       "N                         6407\n",
       "Drama,Romance             5832\n",
       "Thriller                  4181\n",
       "Comedy,Romance            3774\n",
       "Comedy,Drama,Romance      3745\n",
       "Action                    3672\n",
       "Drama,Thriller            2722\n",
       "Action,Crime,Drama        2375\n",
       "Horror,Thriller           2271\n",
       "Romance                   2266\n",
       "Crime,Drama               2018\n",
       "Action,Drama              1867\n",
       "Documentary,Music         1782\n",
       "Adult                     1749\n",
       "Biography,Documentary     1659\n",
       "Crime,Drama,Thriller      1540\n",
       "Comedy,Horror             1382\n",
       "Drama,Family              1281\n",
       "Family                    1218\n",
       "Action,Thriller           1065\n",
       "Documentary,History       1026\n",
       "Crime                     1008\n",
       "Action,Comedy             1005\n",
       "Documentary,Drama         1002\n",
       "Name: genres, dtype: int64"
      ]
     },
     "execution_count": 30,
     "metadata": {},
     "output_type": "execute_result"
    }
   ],
   "source": [
    "genre_counts = movies_df['genres'].value_counts()\n",
    "genre_counts.loc[lambda x : x > 1000]"
   ]
  },
  {
   "cell_type": "markdown",
   "id": "5ad5803f-edba-4cc2-9130-374330de01ff",
   "metadata": {},
   "source": [
    "# Reduce genre to a single category prioritized by basic genres in priority of uniqueness / original counts\n",
    "Ref: https://www.premiumbeat.com/blog/guide-to-basic-film-genres/ for primary list <br>\n",
    "Combine the following categories: \n",
    "* Documentary to include Biography, Histroy, News in addition to Documentary\n",
    "* Sci-Fi to include both Sci Fi & Fantasy\n",
    "* Action include both Action, Adventure, & Sport\n",
    "* Music to include Music & Musical\n",
    "* Drama to include Drama & War\n",
    "* Mystery to include Mystery & Crime\n",
    "* Family to include Family & Animation\n",
    "* Categories left as is: Comedy, Horror, Thriller, Romance, Western\n",
    "* Unknown will include '0' and the Reality-TV (21) + Talk-Show (7)\n",
    "Using counts of movies with single genre out of this ~220k list and uniqueness of category, the priority:\n",
    "0. Adult\n",
    "1. Comedy\n",
    "2. Horror\n",
    "3. Thriller\n",
    "4. Romance\n",
    "5. Western\n",
    "6. Drama\n",
    "7. Documentary\n",
    "8. Action\n",
    "9. Family\n",
    "10. Mystery\n",
    "11. Sci-Fi\n",
    "12. Music\n",
    "13. Unknown"
   ]
  },
  {
   "cell_type": "code",
   "execution_count": 31,
   "id": "97a58488-056b-469f-890f-8326b8943a3e",
   "metadata": {
    "tags": []
   },
   "outputs": [
    {
     "name": "stdout",
     "output_type": "stream",
     "text": [
      "working on index: 0\n",
      "working on index: 50000\n",
      "working on index: 100000\n",
      "working on index: 150000\n",
      "working on index: 200000\n",
      "--- 45.49 seconds ---\n"
     ]
    },
    {
     "data": {
      "text/plain": [
       "Drama          60382\n",
       "Comedy         52383\n",
       "Documentary    41049\n",
       "Horror         16508\n",
       "Thriller       15936\n",
       "Romance        12332\n",
       "Action          9255\n",
       "N               6407\n",
       "Family          2805\n",
       "Adult           2545\n",
       "Mystery         1690\n",
       "Sci-Fi          1330\n",
       "Music            920\n",
       "Western          592\n",
       "Unknown           28\n",
       "Name: genres, dtype: int64"
      ]
     },
     "execution_count": 31,
     "metadata": {},
     "output_type": "execute_result"
    }
   ],
   "source": [
    "# Grab start time\n",
    "start_time = time.time()\n",
    "\n",
    "# Loop through every row of the movies_df\n",
    "for index, row in movies_df.iterrows():\n",
    "    # print something to indicate still working...\n",
    "    if index%50000 == 0:\n",
    "        print(f'working on index: {index}')\n",
    "    \n",
    "    # grab the genre cell\n",
    "    movie_genres = row['genres']\n",
    "\n",
    "    # Only take action if the cell is populated \n",
    "    if movie_genres != \"\" :\n",
    "        # Convert the comma separated list of directors into a list\n",
    "        genre_list = movie_genres.split(\",\")\n",
    "\n",
    "        # if there is only one value, substitue to reduced genre category list as appropriate; \n",
    "        # Comedy, Horror, Thriller, Romance, Adult, Western, Documentary, Sci-Fi, Action, Music, Drama, Mystery, Family will not change\n",
    "        if len(genre_list) == 1:\n",
    "            if genre_list[0] in ['Biography', 'History', 'News']:\n",
    "                movies_df.loc[index,'genres'] = 'Documentary'\n",
    "            elif genre_list[0] == 'Fantasy':\n",
    "                movies_df.loc[index,'genres'] = 'Sci-Fi'\n",
    "            elif genre_list[0] in ['Adventure', 'Sport']:\n",
    "                movies_df.loc[index,'genres'] = 'Action'\n",
    "            elif genre_list[0] == 'Musical':\n",
    "                movies_df.loc[index,'genres'] = 'Music'\n",
    "            elif genre_list[0] == 'War':\n",
    "                movies_df.loc[index,'genres'] = 'Drama'\n",
    "            elif genre_list[0] == 'Crime':\n",
    "                movies_df.loc[index,'genres'] = 'Mystery'\n",
    "            elif genre_list[0] == 'Animation':\n",
    "                movies_df.loc[index,'genres'] = 'Family'\n",
    "            elif genre_list[0] in ['Reality-TV', 'Talk-Show', 0, '0']:\n",
    "                movies_df.loc[index,'genres'] = 'Unknown'\n",
    "        if len(genre_list) > 1:\n",
    "            if any(item in genre_list for item in ['Adult']):\n",
    "                movies_df.loc[index,'genres'] = 'Adult'\n",
    "            elif any(item in genre_list for item in ['Comedy']):\n",
    "                movies_df.loc[index,'genres'] = 'Comedy'\n",
    "            elif any(item in genre_list for item in ['Horror']):\n",
    "                movies_df.loc[index,'genres'] = 'Horror'\n",
    "            elif any(item in genre_list for item in ['Thriller']):\n",
    "                movies_df.loc[index,'genres'] = 'Thriller'\n",
    "            elif any(item in genre_list for item in ['Romance']):\n",
    "                movies_df.loc[index,'genres'] = 'Romance'\n",
    "            elif any(item in genre_list for item in ['Western']):\n",
    "                movies_df.loc[index,'genres'] = 'Western'\n",
    "            elif any(item in genre_list for item in ['Drama', 'War']):\n",
    "                movies_df.loc[index,'genres'] = 'Drama'\n",
    "            elif any(item in genre_list for item in ['Documentary', 'Biography', 'History', 'News']):\n",
    "                movies_df.loc[index,'genres'] = 'Documentary'\n",
    "            elif any(item in genre_list for item in ['Action', 'Adventure', 'Sport']):\n",
    "                movies_df.loc[index,'genres'] = 'Action'\n",
    "            elif any(item in genre_list for item in ['Family', 'Animation']):\n",
    "                movies_df.loc[index,'genres'] = 'Family'\n",
    "            elif any(item in genre_list for item in ['Mystery', 'Crime']):\n",
    "                movies_df.loc[index,'genres'] = 'Mystery'\n",
    "            elif any(item in genre_list for item in ['Sci-Fi', 'Fantasy']):\n",
    "                movies_df.loc[index,'genres'] = 'Sci-Fi'\n",
    "            elif any(item in genre_list for item in ['Music', 'Musical']):\n",
    "                movies_df.loc[index,'genres'] = 'Music'\n",
    "            elif any(item in genre_list for item in ['Reality-TV', 'Talk-Show', 0, '0']):\n",
    "                movies_df.loc[index,'genres'] = 'Unknown'\n",
    "\n",
    "\n",
    "# Print time taken\n",
    "print(\"--- %s seconds ---\" % round((time.time() - start_time),2))\n",
    "\n",
    "movies_df['genres'].value_counts()"
   ]
  },
  {
   "cell_type": "markdown",
   "id": "d108985b-bdd6-4fa1-98e0-052a930c8fda",
   "metadata": {},
   "source": [
    "## Notes on feature distributions:\n",
    "* OMDB_Rated had 20 categories with overlap which have been reduced to 4 categories: kids (G, PG), teens (PG13), adults(NC-17+, R), and unknown\n",
    "* There are differences between Release Year and Start Year - if we use this feature, we need to better understand the meaning\n",
    "* The original IMDB genre appeared easier to clean than OMWD_genre"
   ]
  },
  {
   "cell_type": "markdown",
   "id": "d7cd215b-f426-461b-b3fa-b2d9d39a2664",
   "metadata": {},
   "source": [
    "# Investigate Output / Target Compares between two sources"
   ]
  },
  {
   "cell_type": "code",
   "execution_count": 32,
   "id": "4c0a9742-ffbc-4b90-960b-3a052ff34951",
   "metadata": {
    "tags": []
   },
   "outputs": [
    {
     "data": {
      "text/plain": [
       "OMDB_Rated\n",
       "adults     5.588824\n",
       "kids       6.153435\n",
       "teens      6.011403\n",
       "unknown    6.281808\n",
       "Name: averageRating, dtype: float64"
      ]
     },
     "execution_count": 32,
     "metadata": {},
     "output_type": "execute_result"
    }
   ],
   "source": [
    "movies_df.groupby(['OMDB_Rated'])['averageRating'].mean()"
   ]
  },
  {
   "cell_type": "code",
   "execution_count": 33,
   "id": "8ae52cc7-8e92-4b1e-8f27-387c0eb259fe",
   "metadata": {
    "tags": []
   },
   "outputs": [
    {
     "data": {
      "text/plain": [
       "OMDB_Rated\n",
       "adults     5.585786\n",
       "kids       6.119384\n",
       "teens      5.994875\n",
       "unknown    6.159476\n",
       "Name: OMDB_imdbRating, dtype: float64"
      ]
     },
     "execution_count": 33,
     "metadata": {},
     "output_type": "execute_result"
    }
   ],
   "source": [
    "movies_df.groupby(['OMDB_Rated'])['OMDB_imdbRating'].mean()"
   ]
  },
  {
   "cell_type": "code",
   "execution_count": 34,
   "id": "10516f6e-82eb-4807-a4c8-02a1eb8ff967",
   "metadata": {
    "tags": []
   },
   "outputs": [
    {
     "data": {
      "text/plain": [
       "OMDB_Rated\n",
       "adults      19417\n",
       "kids         6943\n",
       "teens        8068\n",
       "unknown    189734\n",
       "Name: averageRating, dtype: int64"
      ]
     },
     "execution_count": 34,
     "metadata": {},
     "output_type": "execute_result"
    }
   ],
   "source": [
    "movies_df.groupby(['OMDB_Rated'])['averageRating'].count()"
   ]
  },
  {
   "cell_type": "code",
   "execution_count": 35,
   "id": "21b28de4-25ba-4527-bee0-086f52fcbcf8",
   "metadata": {
    "tags": []
   },
   "outputs": [
    {
     "data": {
      "text/plain": [
       "OMDB_Rated\n",
       "adults      19136\n",
       "kids         6686\n",
       "teens        7863\n",
       "unknown    155741\n",
       "Name: OMDB_imdbRating, dtype: int64"
      ]
     },
     "execution_count": 35,
     "metadata": {},
     "output_type": "execute_result"
    }
   ],
   "source": [
    "movies_df.groupby(['OMDB_Rated'])['OMDB_imdbRating'].count()"
   ]
  },
  {
   "cell_type": "code",
   "execution_count": 36,
   "id": "62e67ab1-dc76-429e-94cd-5f565f1b4437",
   "metadata": {
    "tags": []
   },
   "outputs": [
    {
     "name": "stdout",
     "output_type": "stream",
     "text": [
      "The r-squared is: 0.4510722012581637\n"
     ]
    },
    {
     "data": {
      "image/png": "[encoded data removed]",
      "text/plain": [
       "<Figure size 640x480 with 1 Axes>"
      ]
     },
     "metadata": {},
     "output_type": "display_data"
    }
   ],
   "source": [
    "# Define the x and y\n",
    "movies_df_no_nan = movies_df[['OMDB_Metascore', 'averageRating']]\n",
    "movies_df_no_nan = movies_df_no_nan.dropna()\n",
    "\n",
    "x_values = movies_df_no_nan['OMDB_Metascore']\n",
    "y_values = movies_df_no_nan['averageRating']\n",
    "\n",
    "# Calculate the regression\n",
    "(slope, intercept, rvalue, pvalue, stderr) = linregress(x_values, y_values)\n",
    "regress_values = x_values * slope + intercept\n",
    "line_eq = \"y = \" + str(round(slope,2)) + \"x + \" + str(round(intercept,2))\n",
    "\n",
    "# Plot the different factors in a scatter plot\n",
    "plt.scatter(x_values,y_values)\n",
    "plt.plot(x_values,regress_values,\"r-\")\n",
    "plt.annotate(line_eq,(0,9),fontsize=15,color=\"red\")\n",
    "plt.xlabel('Metascore')\n",
    "plt.ylabel('IMDB Rating')\n",
    "\n",
    "print(f\"The r-squared is: {rvalue**2}\")\n",
    "plt.show()"
   ]
  },
  {
   "cell_type": "code",
   "execution_count": 37,
   "id": "d09433b0-7302-42ad-8747-87e22f1e96da",
   "metadata": {
    "tags": []
   },
   "outputs": [
    {
     "name": "stdout",
     "output_type": "stream",
     "text": [
      "The r-squared is: 0.45070547760025675\n"
     ]
    },
    {
     "data": {
      "image/png": "[encoded data removed]",
      "text/plain": [
       "<Figure size 640x480 with 1 Axes>"
      ]
     },
     "metadata": {},
     "output_type": "display_data"
    }
   ],
   "source": [
    "# Define the x and y\n",
    "movies_df_no_nan = movies_df[['OMDB_Metascore', 'OMDB_imdbRating']]\n",
    "movies_df_no_nan = movies_df_no_nan.dropna()\n",
    "\n",
    "x_values = movies_df_no_nan['OMDB_Metascore']\n",
    "y_values = movies_df_no_nan['OMDB_imdbRating']\n",
    "\n",
    "# Calculate the regression\n",
    "(slope, intercept, rvalue, pvalue, stderr) = linregress(x_values, y_values)\n",
    "regress_values = x_values * slope + intercept\n",
    "line_eq = \"y = \" + str(round(slope,2)) + \"x + \" + str(round(intercept,2))\n",
    "\n",
    "# Plot the different factors in a scatter plot\n",
    "plt.scatter(x_values,y_values)\n",
    "plt.plot(x_values,regress_values,\"r-\")\n",
    "plt.annotate(line_eq,(0,9),fontsize=15,color=\"red\")\n",
    "plt.xlabel('Metascore')\n",
    "plt.ylabel('OMDB IMDB Rating')\n",
    "\n",
    "print(f\"The r-squared is: {rvalue**2}\")\n",
    "plt.show()"
   ]
  },
  {
   "cell_type": "markdown",
   "id": "6b0f9076-4749-4769-bcfd-11bdfb61c201",
   "metadata": {},
   "source": [
    "## Notes on outputs / targets:\n",
    "* The OMDB entry for IMDB ratings does not align perfectly with ratings reported directly from IMDB. For the purposes of this project timeline, they are close enough to not dig into further"
   ]
  },
  {
   "cell_type": "markdown",
   "id": "59a06710-d3b4-4cb2-aab7-c923118faae5",
   "metadata": {},
   "source": [
    "# Export final file"
   ]
  },
  {
   "cell_type": "code",
   "execution_count": 38,
   "id": "17b404f5-3899-42c1-921b-7a34d84b0f00",
   "metadata": {
    "tags": []
   },
   "outputs": [
    {
     "data": {
      "text/html": [
       "<div>\n",
       "<style scoped>\n",
       "    .dataframe tbody tr th:only-of-type {\n",
       "        vertical-align: middle;\n",
       "    }\n",
       "\n",
       "    .dataframe tbody tr th {\n",
       "        vertical-align: top;\n",
       "    }\n",
       "\n",
       "    .dataframe thead th {\n",
       "        text-align: right;\n",
       "    }\n",
       "</style>\n",
       "<table border=\"1\" class=\"dataframe\">\n",
       "  <thead>\n",
       "    <tr style=\"text-align: right;\">\n",
       "      <th></th>\n",
       "      <th>tconst</th>\n",
       "      <th>averageRating</th>\n",
       "      <th>numVotes</th>\n",
       "      <th>isAdult</th>\n",
       "      <th>startYear</th>\n",
       "      <th>runtimeMinutes</th>\n",
       "      <th>genres</th>\n",
       "      <th>Movie</th>\n",
       "      <th>OMDB_Title</th>\n",
       "      <th>OMDB_Rated</th>\n",
       "      <th>...</th>\n",
       "      <th>OMDB_Actors</th>\n",
       "      <th>OMDB_Language</th>\n",
       "      <th>OMDB_Country</th>\n",
       "      <th>OMDB_Metascore</th>\n",
       "      <th>OMDB_imdbRating</th>\n",
       "      <th>OMDB_imdbVotes</th>\n",
       "      <th>OMDB_BoxOffice</th>\n",
       "      <th>OMDB_Production</th>\n",
       "      <th>ReleaseYear</th>\n",
       "      <th>ReleaseMonth</th>\n",
       "    </tr>\n",
       "  </thead>\n",
       "  <tbody>\n",
       "    <tr>\n",
       "      <th>0</th>\n",
       "      <td>tt10048376</td>\n",
       "      <td>4.8</td>\n",
       "      <td>30</td>\n",
       "      <td>0</td>\n",
       "      <td>2019</td>\n",
       "      <td>101.0</td>\n",
       "      <td>Drama</td>\n",
       "      <td>Ya podaryu tebe pobedu</td>\n",
       "      <td>Ya podaryu tebe pobedu</td>\n",
       "      <td>unknown</td>\n",
       "      <td>...</td>\n",
       "      <td>Tigran Agadzhanyan, Maria Atlas, Valeriy Barinov</td>\n",
       "      <td>Russian</td>\n",
       "      <td>Russia</td>\n",
       "      <td>NaN</td>\n",
       "      <td>5.1</td>\n",
       "      <td>22.0</td>\n",
       "      <td>NaN</td>\n",
       "      <td></td>\n",
       "      <td>2019.0</td>\n",
       "      <td>4.0</td>\n",
       "    </tr>\n",
       "    <tr>\n",
       "      <th>1</th>\n",
       "      <td>tt10048556</td>\n",
       "      <td>3.7</td>\n",
       "      <td>340</td>\n",
       "      <td>0</td>\n",
       "      <td>2019</td>\n",
       "      <td>88.0</td>\n",
       "      <td>Thriller</td>\n",
       "      <td>Staged Killer</td>\n",
       "      <td>Staged Killer</td>\n",
       "      <td>teens</td>\n",
       "      <td>...</td>\n",
       "      <td>Chrishell Stause, Nicole Bilderback, Jason Dolley</td>\n",
       "      <td>English</td>\n",
       "      <td>United States</td>\n",
       "      <td>NaN</td>\n",
       "      <td>3.7</td>\n",
       "      <td>339.0</td>\n",
       "      <td>NaN</td>\n",
       "      <td></td>\n",
       "      <td>2019.0</td>\n",
       "      <td>6.0</td>\n",
       "    </tr>\n",
       "    <tr>\n",
       "      <th>2</th>\n",
       "      <td>tt10049110</td>\n",
       "      <td>7.8</td>\n",
       "      <td>96</td>\n",
       "      <td>0</td>\n",
       "      <td>2019</td>\n",
       "      <td>93.0</td>\n",
       "      <td>Documentary</td>\n",
       "      <td>Die Wiese</td>\n",
       "      <td>Die Wiese</td>\n",
       "      <td>unknown</td>\n",
       "      <td>...</td>\n",
       "      <td>Sebastian Winkler</td>\n",
       "      <td>German</td>\n",
       "      <td>Germany</td>\n",
       "      <td>NaN</td>\n",
       "      <td>7.8</td>\n",
       "      <td>95.0</td>\n",
       "      <td>NaN</td>\n",
       "      <td></td>\n",
       "      <td>2019.0</td>\n",
       "      <td>4.0</td>\n",
       "    </tr>\n",
       "    <tr>\n",
       "      <th>3</th>\n",
       "      <td>tt10049238</td>\n",
       "      <td>7.1</td>\n",
       "      <td>41</td>\n",
       "      <td>0</td>\n",
       "      <td>2018</td>\n",
       "      <td>61.0</td>\n",
       "      <td>Documentary</td>\n",
       "      <td>Joan Miró: The Inner Fire</td>\n",
       "      <td>Miró contra Miró</td>\n",
       "      <td>unknown</td>\n",
       "      <td>...</td>\n",
       "      <td>Hester Wilcox, Joan Miró, Joan Punyet Miró</td>\n",
       "      <td>Spanish, French, English</td>\n",
       "      <td>France, Spain</td>\n",
       "      <td>NaN</td>\n",
       "      <td>7.0</td>\n",
       "      <td>32.0</td>\n",
       "      <td>NaN</td>\n",
       "      <td></td>\n",
       "      <td>2018.0</td>\n",
       "      <td>10.0</td>\n",
       "    </tr>\n",
       "    <tr>\n",
       "      <th>4</th>\n",
       "      <td>tt10049262</td>\n",
       "      <td>5.4</td>\n",
       "      <td>176</td>\n",
       "      <td>0</td>\n",
       "      <td>2020</td>\n",
       "      <td>107.0</td>\n",
       "      <td>Comedy</td>\n",
       "      <td>James &amp; Pat &amp; Dave</td>\n",
       "      <td>James &amp; Pat &amp; Dave</td>\n",
       "      <td>unknown</td>\n",
       "      <td>...</td>\n",
       "      <td>Ronnie Alonte, Loisa Andalio, Donny Pangilinan</td>\n",
       "      <td>Tagalog, Filipino</td>\n",
       "      <td>Philippines</td>\n",
       "      <td>NaN</td>\n",
       "      <td>5.4</td>\n",
       "      <td>174.0</td>\n",
       "      <td>NaN</td>\n",
       "      <td></td>\n",
       "      <td>2020.0</td>\n",
       "      <td>2.0</td>\n",
       "    </tr>\n",
       "  </tbody>\n",
       "</table>\n",
       "<p>5 rows × 24 columns</p>\n",
       "</div>"
      ],
      "text/plain": [
       "       tconst  averageRating  numVotes  isAdult  startYear  runtimeMinutes  \\\n",
       "0  tt10048376            4.8        30        0       2019           101.0   \n",
       "1  tt10048556            3.7       340        0       2019            88.0   \n",
       "2  tt10049110            7.8        96        0       2019            93.0   \n",
       "3  tt10049238            7.1        41        0       2018            61.0   \n",
       "4  tt10049262            5.4       176        0       2020           107.0   \n",
       "\n",
       "        genres                      Movie              OMDB_Title OMDB_Rated  \\\n",
       "0        Drama     Ya podaryu tebe pobedu  Ya podaryu tebe pobedu    unknown   \n",
       "1     Thriller              Staged Killer           Staged Killer      teens   \n",
       "2  Documentary                  Die Wiese               Die Wiese    unknown   \n",
       "3  Documentary  Joan Miró: The Inner Fire        Miró contra Miró    unknown   \n",
       "4       Comedy         James & Pat & Dave      James & Pat & Dave    unknown   \n",
       "\n",
       "   ...                                        OMDB_Actors  \\\n",
       "0  ...   Tigran Agadzhanyan, Maria Atlas, Valeriy Barinov   \n",
       "1  ...  Chrishell Stause, Nicole Bilderback, Jason Dolley   \n",
       "2  ...                                  Sebastian Winkler   \n",
       "3  ...         Hester Wilcox, Joan Miró, Joan Punyet Miró   \n",
       "4  ...     Ronnie Alonte, Loisa Andalio, Donny Pangilinan   \n",
       "\n",
       "              OMDB_Language   OMDB_Country OMDB_Metascore OMDB_imdbRating  \\\n",
       "0                   Russian         Russia            NaN             5.1   \n",
       "1                   English  United States            NaN             3.7   \n",
       "2                    German        Germany            NaN             7.8   \n",
       "3  Spanish, French, English  France, Spain            NaN             7.0   \n",
       "4         Tagalog, Filipino    Philippines            NaN             5.4   \n",
       "\n",
       "  OMDB_imdbVotes OMDB_BoxOffice  OMDB_Production  ReleaseYear  ReleaseMonth  \n",
       "0           22.0            NaN                        2019.0           4.0  \n",
       "1          339.0            NaN                        2019.0           6.0  \n",
       "2           95.0            NaN                        2019.0           4.0  \n",
       "3           32.0            NaN                        2018.0          10.0  \n",
       "4          174.0            NaN                        2020.0           2.0  \n",
       "\n",
       "[5 rows x 24 columns]"
      ]
     },
     "execution_count": 38,
     "metadata": {},
     "output_type": "execute_result"
    }
   ],
   "source": [
    "movies_df.head()"
   ]
  },
  {
   "cell_type": "code",
   "execution_count": 40,
   "id": "f582e5f8-1dfe-40c9-8700-81fba507046c",
   "metadata": {
    "tags": []
   },
   "outputs": [],
   "source": [
    "movies_df.to_csv(\"../Resources/IMDB_OMDB_processed.csv\")"
   ]
  },
  {
   "cell_type": "code",
   "execution_count": null,
   "id": "05d05c5d-8a29-4a56-b374-03de3ce03da8",
   "metadata": {},
   "outputs": [],
   "source": []
  }
 ],
 "metadata": {
  "kernelspec": {
   "display_name": "Python 3 (ipykernel)",
   "language": "python",
   "name": "python3"
  },
  "language_info": {
   "codemirror_mode": {
    "name": "ipython",
    "version": 3
   },
   "file_extension": ".py",
   "mimetype": "text/x-python",
   "name": "python",
   "nbconvert_exporter": "python",
   "pygments_lexer": "ipython3",
   "version": "3.10.11"
  }
 },
 "nbformat": 4,
 "nbformat_minor": 5
}
