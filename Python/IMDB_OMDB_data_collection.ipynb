{
 "cells": [
  {
   "cell_type": "markdown",
   "id": "aa216d04-4550-42f0-a72a-00db1295948f",
   "metadata": {},
   "source": [
    "# **NOTE: that running this notebook will take TENS of minutes due to the OMDB API calls!**"
   ]
  },
  {
   "cell_type": "markdown",
   "id": "9822d1d8-b5d0-4e1c-8f73-144b8d7e71ca",
   "metadata": {},
   "source": [
    "## Load Dependencies"
   ]
  },
  {
   "cell_type": "code",
   "execution_count": 1,
   "id": "d89b7e9c-01fe-426b-9580-4b0818ea8bc4",
   "metadata": {
    "tags": []
   },
   "outputs": [],
   "source": [
    "import pandas as pd\n",
    "import requests\n",
    "from requests.exceptions import ReadTimeout\n",
    "import numpy as np\n",
    "import time\n",
    "import matplotlib.pyplot as plt\n",
    "from scipy.stats import linregress"
   ]
  },
  {
   "cell_type": "markdown",
   "id": "d9563bba-375c-4da6-abd0-2f5ebd612136",
   "metadata": {},
   "source": [
    "## Load IMDB data from SQL output"
   ]
  },
  {
   "cell_type": "code",
   "execution_count": 2,
   "id": "e4f08480-f0a2-4513-8b58-8f5b52edc3fd",
   "metadata": {
    "tags": []
   },
   "outputs": [
    {
     "data": {
      "text/html": [
       "<div>\n",
       "<style scoped>\n",
       "    .dataframe tbody tr th:only-of-type {\n",
       "        vertical-align: middle;\n",
       "    }\n",
       "\n",
       "    .dataframe tbody tr th {\n",
       "        vertical-align: top;\n",
       "    }\n",
       "\n",
       "    .dataframe thead th {\n",
       "        text-align: right;\n",
       "    }\n",
       "</style>\n",
       "<table border=\"1\" class=\"dataframe\">\n",
       "  <thead>\n",
       "    <tr style=\"text-align: right;\">\n",
       "      <th></th>\n",
       "      <th>tconst</th>\n",
       "      <th>averageRating</th>\n",
       "      <th>numVotes</th>\n",
       "      <th>isAdult</th>\n",
       "      <th>startYear</th>\n",
       "      <th>runtimeMinutes</th>\n",
       "      <th>genres</th>\n",
       "      <th>Movie</th>\n",
       "    </tr>\n",
       "  </thead>\n",
       "  <tbody>\n",
       "    <tr>\n",
       "      <th>0</th>\n",
       "      <td>tt0013274</td>\n",
       "      <td>6.8</td>\n",
       "      <td>59</td>\n",
       "      <td>0</td>\n",
       "      <td>2021</td>\n",
       "      <td>94</td>\n",
       "      <td>Documentary</td>\n",
       "      <td>Istoriya grazhdanskoy voyny</td>\n",
       "    </tr>\n",
       "    <tr>\n",
       "      <th>1</th>\n",
       "      <td>tt0015414</td>\n",
       "      <td>5.2</td>\n",
       "      <td>16</td>\n",
       "      <td>0</td>\n",
       "      <td>2000</td>\n",
       "      <td>60</td>\n",
       "      <td>0</td>\n",
       "      <td>La tierra de los toros</td>\n",
       "    </tr>\n",
       "    <tr>\n",
       "      <th>2</th>\n",
       "      <td>tt0015724</td>\n",
       "      <td>6.1</td>\n",
       "      <td>27</td>\n",
       "      <td>0</td>\n",
       "      <td>1993</td>\n",
       "      <td>102</td>\n",
       "      <td>Drama,Mystery,Romance</td>\n",
       "      <td>Dama de noche</td>\n",
       "    </tr>\n",
       "    <tr>\n",
       "      <th>3</th>\n",
       "      <td>tt0035423</td>\n",
       "      <td>6.4</td>\n",
       "      <td>87965</td>\n",
       "      <td>0</td>\n",
       "      <td>2001</td>\n",
       "      <td>118</td>\n",
       "      <td>Comedy,Fantasy,Romance</td>\n",
       "      <td>Kate &amp; Leopold</td>\n",
       "    </tr>\n",
       "    <tr>\n",
       "      <th>4</th>\n",
       "      <td>tt0036606</td>\n",
       "      <td>6.5</td>\n",
       "      <td>345</td>\n",
       "      <td>0</td>\n",
       "      <td>1983</td>\n",
       "      <td>118</td>\n",
       "      <td>Drama,War</td>\n",
       "      <td>Another Time, Another Place</td>\n",
       "    </tr>\n",
       "  </tbody>\n",
       "</table>\n",
       "</div>"
      ],
      "text/plain": [
       "      tconst  averageRating  numVotes  isAdult  startYear  runtimeMinutes  \\\n",
       "0  tt0013274            6.8        59        0       2021              94   \n",
       "1  tt0015414            5.2        16        0       2000              60   \n",
       "2  tt0015724            6.1        27        0       1993             102   \n",
       "3  tt0035423            6.4     87965        0       2001             118   \n",
       "4  tt0036606            6.5       345        0       1983             118   \n",
       "\n",
       "                   genres                        Movie  \n",
       "0             Documentary  Istoriya grazhdanskoy voyny  \n",
       "1                       0       La tierra de los toros  \n",
       "2   Drama,Mystery,Romance                Dama de noche  \n",
       "3  Comedy,Fantasy,Romance               Kate & Leopold  \n",
       "4               Drama,War  Another Time, Another Place  "
      ]
     },
     "execution_count": 2,
     "metadata": {},
     "output_type": "execute_result"
    }
   ],
   "source": [
    "# Specify the path to your CSV file\n",
    "csv_file_path = './Resources/movies_raw_imdb.csv'\n",
    "\n",
    "# Read the CSV file into a DataFrame\n",
    "df = pd.read_csv(csv_file_path)\n",
    "\n",
    "# Keep required columns only\n",
    "df = df[['tconst', 'averageRating', 'numVotes', 'isAdult', 'startYear', 'runtimeMinutes', 'genres', 'Movie']]\n",
    "df.head()"
   ]
  },
  {
   "cell_type": "markdown",
   "id": "c5a9a600-4ca6-4ee0-a20a-0517051fb14f",
   "metadata": {},
   "source": [
    "# Pull the OMDBAPI Data\n",
    "\n",
    "**NOTE THIS QUERY TAKES HOURS TO COMPLETE**"
   ]
  },
  {
   "cell_type": "code",
   "execution_count": null,
   "id": "e80d34e6-c445-43e4-a0fa-303540e0fea4",
   "metadata": {},
   "outputs": [],
   "source": [
    "# Define the OMDB API Call\n",
    "api_key = 'ac6cb27f'\n",
    "omdb_url = 'http://www.omdbapi.com/'\n",
    "\n",
    "def get_movie_details(imdb_id):\n",
    "    params = {'apikey': api_key, 'i': imdb_id}\n",
    "    \n",
    "    # Set a maximum number of retries\n",
    "    max_retries = 3\n",
    "    \n",
    "    for _ in range(max_retries):\n",
    "        try:\n",
    "            response = requests.get(omdb_url, params=params, timeout=(5, 10))  # Set timeout values as needed\n",
    "            response.raise_for_status()  # Raise an exception for HTTP errors (4xx and 5xx)\n",
    "            data = response.json()\n",
    "            return data\n",
    "        except ReadTimeout:\n",
    "            print(f\"Read timeout occurred for movie with IMDb ID {imdb_id}. Retrying...\")\n",
    "        except requests.exceptions.RequestException as e:\n",
    "            print(f\"Error: {e}\")\n",
    "            break  # Break out of the loop for other types of exceptions\n",
    "    \n",
    "    # Handle the case where the request was unsuccessful after retries\n",
    "    print(f\"Unable to fetch data for movie with IMDb ID {imdb_id}\")\n",
    "    return None\n",
    "\n",
    "# Define the fields to extract\n",
    "fields_to_extract = ['Title', 'Rated', 'Released', 'Runtime', 'Genre', 'Director', \n",
    "                     'Writer', 'Actors', 'Language', 'Country', 'Type', 'Metascore', \n",
    "                     'imdbRating', 'imdbVotes', 'BoxOffice', 'Production']\n",
    "\n",
    "# Add new columns to dataframe\n",
    "for field in fields_to_extract:\n",
    "    df[f'OMDB_{field}'] = np.nan"
   ]
  },
  {
   "cell_type": "code",
   "execution_count": 3,
   "id": "cac3d200-1639-46fc-92e2-55daad978212",
   "metadata": {
    "tags": []
   },
   "outputs": [
    {
     "name": "stdout",
     "output_type": "stream",
     "text": [
      "Read timeout occurred for movie with IMDb ID tt0282124. Retrying...\n",
      "Read timeout occurred for movie with IMDb ID tt0282124. Retrying...\n",
      "Read timeout occurred for movie with IMDb ID tt29001902. Retrying...\n",
      "Error: ('Connection aborted.', ConnectionResetError(10054, 'An existing connection was forcibly closed by the remote host', None, 10054, None))\n",
      "Unable to fetch data for movie with IMDb ID tt7246926\n"
     ]
    }
   ],
   "source": [
    "# Grab start time\n",
    "start_time = time.time()\n",
    "\n",
    "# Iterate through each row in the DataFrame and append selected fields from the API response\n",
    "for index, row in df.iterrows():\n",
    "    # Print an update on progress as it processes\n",
    "    if index%10000 == 0:\n",
    "        print(f'working on index: {index}')\n",
    "    \n",
    "    # Check if the relevant fields are already populated\n",
    "    if all(pd.notna(row[f'OMDB_{field}']) for field in fields_to_extract):\n",
    "        continue  # Skip making API call for rows where data is already present\n",
    "    \n",
    "    movie_title = row['tconst']\n",
    "    movie_details = get_movie_details(movie_title)\n",
    "\n",
    "    # Check if movie details were retrieved successfully\n",
    "    if movie_details:\n",
    "        # Append selected fields to the DataFrame\n",
    "        for field in fields_to_extract:\n",
    "            column_name = f'OMDB_{field}'\n",
    "            df.at[index, column_name] = movie_details.get(field, '')\n",
    "    else:\n",
    "        # Handle the case where movie details were not retrieved\n",
    "        # You can choose to skip the row, set default values, or handle it in another way\n",
    "        pass\n",
    "\n",
    "# Print time taken\n",
    "print(\"--- %s minutes ---\" % round(((time.time() - start_time)/60,2))"
   ]
  },
  {
   "cell_type": "code",
   "execution_count": 4,
   "id": "01f9869e-3e0c-4fba-895b-344603e33f84",
   "metadata": {
    "tags": []
   },
   "outputs": [],
   "source": [
    "df.to_csv(\"./Resources/IMDB_OMDB_movies_raw.csv\")"
   ]
  },
  {
   "cell_type": "markdown",
   "id": "146d017f-eb6e-402c-92f5-0ac78b5eba29",
   "metadata": {},
   "source": [
    "# Format column data types from objects to numbers"
   ]
  },
  {
   "cell_type": "code",
   "execution_count": null,
   "id": "e5afd7c4-c80a-4eb2-bd36-281f39fc36d4",
   "metadata": {
    "tags": []
   },
   "outputs": [],
   "source": [
    "# # Import and read the data if you screwed up :)\n",
    "# movies_df = pd.read_csv(\"./Resources/IMDB_OMDB_movies_raw.csv\")\n",
    "# movies_df = movies_df[['tconst', 'averageRating', 'numVotes', 'isAdult', 'startYear', 'runtimeMinutes', \n",
    "#                        'genres', 'Movie', 'OMDB_Title', 'OMDB_Rated', 'OMDB_Runtime', 'OMDB_Genre', \n",
    "#                        'OMDB_Director', 'OMDB_Writer', 'OMDB_Actors', 'OMDB_Language', 'OMDB_Country', \n",
    "#                        'OMDB_Type', 'OMDB_Metascore', 'OMDB_imdbRating', 'OMDB_imdbVotes', \n",
    "#                        'OMDB_BoxOffice', 'OMDB_Production']]\n",
    "# movies_df.head()"
   ]
  },
  {
   "cell_type": "code",
   "execution_count": 34,
   "id": "27cd73af-42d4-4e34-8a9b-3ea9018cd01d",
   "metadata": {
    "tags": []
   },
   "outputs": [
    {
     "data": {
      "text/plain": [
       "tconst              object\n",
       "averageRating      float64\n",
       "numVotes             int64\n",
       "isAdult              int64\n",
       "startYear            int64\n",
       "runtimeMinutes       int64\n",
       "genres              object\n",
       "Movie               object\n",
       "OMDB_Title          object\n",
       "OMDB_Rated          object\n",
       "OMDB_Released       object\n",
       "OMDB_Runtime        object\n",
       "OMDB_Genre          object\n",
       "OMDB_Director       object\n",
       "OMDB_Writer         object\n",
       "OMDB_Actors         object\n",
       "OMDB_Language       object\n",
       "OMDB_Country        object\n",
       "OMDB_Type           object\n",
       "OMDB_Metascore      object\n",
       "OMDB_imdbRating     object\n",
       "OMDB_imdbVotes      object\n",
       "OMDB_BoxOffice      object\n",
       "OMDB_Production     object\n",
       "dtype: object"
      ]
     },
     "execution_count": 34,
     "metadata": {},
     "output_type": "execute_result"
    }
   ],
   "source": [
    "# Examine data type of each column\n",
    "movies_df=df\n",
    "movies_df.dtypes"
   ]
  },
  {
   "cell_type": "code",
   "execution_count": 35,
   "id": "edbbcbd3-b2ea-4051-b37f-bec50a4e8132",
   "metadata": {
    "tags": []
   },
   "outputs": [
    {
     "data": {
      "text/plain": [
       "tconst                     object\n",
       "averageRating             float64\n",
       "numVotes                    int64\n",
       "isAdult                     int64\n",
       "startYear                   int64\n",
       "runtimeMinutes              int64\n",
       "genres                     object\n",
       "Movie                      object\n",
       "OMDB_Title                 object\n",
       "OMDB_Rated                 object\n",
       "OMDB_Released      datetime64[ns]\n",
       "OMDB_Runtime              float64\n",
       "OMDB_Genre                 object\n",
       "OMDB_Director              object\n",
       "OMDB_Writer                object\n",
       "OMDB_Actors                object\n",
       "OMDB_Language              object\n",
       "OMDB_Country               object\n",
       "OMDB_Type                  object\n",
       "OMDB_Metascore            float64\n",
       "OMDB_imdbRating           float64\n",
       "OMDB_imdbVotes            float64\n",
       "OMDB_BoxOffice            float64\n",
       "OMDB_Production            object\n",
       "dtype: object"
      ]
     },
     "execution_count": 35,
     "metadata": {},
     "output_type": "execute_result"
    }
   ],
   "source": [
    "# delate all \"N/A\"\n",
    "movies_df = movies_df.replace('N/A', '')\n",
    "\n",
    "# Convert $ objects to floats\n",
    "movies_df[['OMDB_BoxOffice']] = movies_df[['OMDB_BoxOffice']].replace('[\\$,\\s]', '', regex=True)\n",
    "movies_df[['OMDB_BoxOffice']] = movies_df[['OMDB_BoxOffice']].apply(pd.to_numeric, errors='coerce')\n",
    "\n",
    "# Convert number strings with comma to float\n",
    "movies_df[['OMDB_imdbVotes']] = movies_df[['OMDB_imdbVotes']].replace('[,\\s]', '', regex=True)\n",
    "movies_df['OMDB_imdbVotes'] = pd.to_numeric(movies_df['OMDB_imdbVotes'], errors='coerce')\n",
    "\n",
    "# Convert runtime to float after removing \" min\"\n",
    "movies_df[['OMDB_Runtime']] = movies_df[['OMDB_Runtime']].replace('[min\\s]', '', regex=True)\n",
    "movies_df['OMDB_Runtime'] = pd.to_numeric(movies_df['OMDB_Runtime'], errors='coerce')\n",
    "\n",
    "# Convert the number strings to numeric\n",
    "movies_df[['OMDB_imdbRating', 'OMDB_Metascore']] = movies_df[['OMDB_imdbRating', 'OMDB_Metascore']].apply(pd.to_numeric, errors='coerce')\n",
    "\n",
    "# Change date to datetime type (Note \"ReleaseDate\" has inconsistent formatting / typos)\n",
    "movies_df[\"OMDB_Released\"] = pd.to_datetime(movies_df[\"OMDB_Released\"])\n",
    "\n",
    "movies_df.dtypes"
   ]
  },
  {
   "cell_type": "code",
   "execution_count": 36,
   "id": "8c6fb5b0-d878-432c-a4aa-c52a4d4a61ac",
   "metadata": {
    "tags": []
   },
   "outputs": [],
   "source": [
    "movies_df.to_csv(\"./Resources/IMDB_OMDB_formatted.csv\")"
   ]
  },
  {
   "cell_type": "markdown",
   "id": "3f878cdd-d9f3-4184-966e-44aed1857686",
   "metadata": {},
   "source": [
    "# Minor Processing"
   ]
  },
  {
   "cell_type": "markdown",
   "id": "d272e10a-d5d0-49aa-a363-f92b8788c016",
   "metadata": {},
   "source": [
    "## Convert dates into year and month columns removing date columns"
   ]
  },
  {
   "cell_type": "code",
   "execution_count": 37,
   "id": "ce3f1f72-8890-4043-8afc-4a905f13c150",
   "metadata": {
    "tags": []
   },
   "outputs": [
    {
     "data": {
      "text/html": [
       "<div>\n",
       "<style scoped>\n",
       "    .dataframe tbody tr th:only-of-type {\n",
       "        vertical-align: middle;\n",
       "    }\n",
       "\n",
       "    .dataframe tbody tr th {\n",
       "        vertical-align: top;\n",
       "    }\n",
       "\n",
       "    .dataframe thead th {\n",
       "        text-align: right;\n",
       "    }\n",
       "</style>\n",
       "<table border=\"1\" class=\"dataframe\">\n",
       "  <thead>\n",
       "    <tr style=\"text-align: right;\">\n",
       "      <th></th>\n",
       "      <th>tconst</th>\n",
       "      <th>averageRating</th>\n",
       "      <th>numVotes</th>\n",
       "      <th>isAdult</th>\n",
       "      <th>startYear</th>\n",
       "      <th>runtimeMinutes</th>\n",
       "      <th>genres</th>\n",
       "      <th>Movie</th>\n",
       "      <th>OMDB_Title</th>\n",
       "      <th>OMDB_Rated</th>\n",
       "      <th>...</th>\n",
       "      <th>OMDB_Writer</th>\n",
       "      <th>OMDB_Actors</th>\n",
       "      <th>OMDB_Language</th>\n",
       "      <th>OMDB_Country</th>\n",
       "      <th>OMDB_Type</th>\n",
       "      <th>OMDB_Metascore</th>\n",
       "      <th>OMDB_imdbRating</th>\n",
       "      <th>OMDB_imdbVotes</th>\n",
       "      <th>OMDB_BoxOffice</th>\n",
       "      <th>OMDB_Production</th>\n",
       "    </tr>\n",
       "  </thead>\n",
       "  <tbody>\n",
       "    <tr>\n",
       "      <th>0</th>\n",
       "      <td>tt0013274</td>\n",
       "      <td>6.8</td>\n",
       "      <td>59</td>\n",
       "      <td>0</td>\n",
       "      <td>2021</td>\n",
       "      <td>94</td>\n",
       "      <td>Documentary</td>\n",
       "      <td>Istoriya grazhdanskoy voyny</td>\n",
       "      <td>Istoriya grazhdanskoy voyny</td>\n",
       "      <td></td>\n",
       "      <td>...</td>\n",
       "      <td></td>\n",
       "      <td></td>\n",
       "      <td>None</td>\n",
       "      <td>Soviet Union</td>\n",
       "      <td>movie</td>\n",
       "      <td>NaN</td>\n",
       "      <td>NaN</td>\n",
       "      <td>58.0</td>\n",
       "      <td>NaN</td>\n",
       "      <td></td>\n",
       "    </tr>\n",
       "    <tr>\n",
       "      <th>1</th>\n",
       "      <td>tt0015414</td>\n",
       "      <td>5.2</td>\n",
       "      <td>16</td>\n",
       "      <td>0</td>\n",
       "      <td>2000</td>\n",
       "      <td>60</td>\n",
       "      <td>0</td>\n",
       "      <td>La tierra de los toros</td>\n",
       "      <td>La tierra de los toros</td>\n",
       "      <td></td>\n",
       "      <td>...</td>\n",
       "      <td></td>\n",
       "      <td>Antonio Cañero, Musidora</td>\n",
       "      <td>None</td>\n",
       "      <td>Spain, France</td>\n",
       "      <td>movie</td>\n",
       "      <td>NaN</td>\n",
       "      <td>6.6</td>\n",
       "      <td>16.0</td>\n",
       "      <td>NaN</td>\n",
       "      <td></td>\n",
       "    </tr>\n",
       "    <tr>\n",
       "      <th>2</th>\n",
       "      <td>tt0015724</td>\n",
       "      <td>6.1</td>\n",
       "      <td>27</td>\n",
       "      <td>0</td>\n",
       "      <td>1993</td>\n",
       "      <td>102</td>\n",
       "      <td>Drama,Mystery,Romance</td>\n",
       "      <td>Dama de noche</td>\n",
       "      <td>Dama de noche</td>\n",
       "      <td></td>\n",
       "      <td>...</td>\n",
       "      <td>Eva López Sánchez, David Martin del Campo</td>\n",
       "      <td>Rafael Sánchez Navarro, Cecilia Toussaint, Mig...</td>\n",
       "      <td>Spanish</td>\n",
       "      <td>Mexico</td>\n",
       "      <td>movie</td>\n",
       "      <td>NaN</td>\n",
       "      <td>5.8</td>\n",
       "      <td>27.0</td>\n",
       "      <td>NaN</td>\n",
       "      <td></td>\n",
       "    </tr>\n",
       "    <tr>\n",
       "      <th>3</th>\n",
       "      <td>tt0035423</td>\n",
       "      <td>6.4</td>\n",
       "      <td>87965</td>\n",
       "      <td>0</td>\n",
       "      <td>2001</td>\n",
       "      <td>118</td>\n",
       "      <td>Comedy,Fantasy,Romance</td>\n",
       "      <td>Kate &amp; Leopold</td>\n",
       "      <td>Kate &amp; Leopold</td>\n",
       "      <td>PG-13</td>\n",
       "      <td>...</td>\n",
       "      <td>Steven Rogers, James Mangold</td>\n",
       "      <td>Meg Ryan, Hugh Jackman, Liev Schreiber</td>\n",
       "      <td>English, French</td>\n",
       "      <td>United States</td>\n",
       "      <td>movie</td>\n",
       "      <td>44.0</td>\n",
       "      <td>6.4</td>\n",
       "      <td>87977.0</td>\n",
       "      <td>47121859.0</td>\n",
       "      <td></td>\n",
       "    </tr>\n",
       "    <tr>\n",
       "      <th>4</th>\n",
       "      <td>tt0036606</td>\n",
       "      <td>6.5</td>\n",
       "      <td>345</td>\n",
       "      <td>0</td>\n",
       "      <td>1983</td>\n",
       "      <td>118</td>\n",
       "      <td>Drama,War</td>\n",
       "      <td>Another Time, Another Place</td>\n",
       "      <td>Another Time, Another Place</td>\n",
       "      <td>R</td>\n",
       "      <td>...</td>\n",
       "      <td>Jessie Kesson, John Francis Lane, Michael Radford</td>\n",
       "      <td>Phyllis Logan, Giovanni Mauriello, Gianluca Fa...</td>\n",
       "      <td>English, Italian</td>\n",
       "      <td>United Kingdom</td>\n",
       "      <td>movie</td>\n",
       "      <td>NaN</td>\n",
       "      <td>6.5</td>\n",
       "      <td>338.0</td>\n",
       "      <td>NaN</td>\n",
       "      <td></td>\n",
       "    </tr>\n",
       "    <tr>\n",
       "      <th>...</th>\n",
       "      <td>...</td>\n",
       "      <td>...</td>\n",
       "      <td>...</td>\n",
       "      <td>...</td>\n",
       "      <td>...</td>\n",
       "      <td>...</td>\n",
       "      <td>...</td>\n",
       "      <td>...</td>\n",
       "      <td>...</td>\n",
       "      <td>...</td>\n",
       "      <td>...</td>\n",
       "      <td>...</td>\n",
       "      <td>...</td>\n",
       "      <td>...</td>\n",
       "      <td>...</td>\n",
       "      <td>...</td>\n",
       "      <td>...</td>\n",
       "      <td>...</td>\n",
       "      <td>...</td>\n",
       "      <td>...</td>\n",
       "      <td>...</td>\n",
       "    </tr>\n",
       "    <tr>\n",
       "      <th>221928</th>\n",
       "      <td>tt9916270</td>\n",
       "      <td>5.8</td>\n",
       "      <td>1448</td>\n",
       "      <td>0</td>\n",
       "      <td>2020</td>\n",
       "      <td>84</td>\n",
       "      <td>Thriller</td>\n",
       "      <td>Il talento del calabrone</td>\n",
       "      <td>Il talento del calabrone</td>\n",
       "      <td></td>\n",
       "      <td>...</td>\n",
       "      <td>Giacomo Cimini, Lorenzo Collalti</td>\n",
       "      <td>Sergio Castellitto, Lorenzo Richelmy, Anna Fog...</td>\n",
       "      <td>Italian</td>\n",
       "      <td>Italy, Spain</td>\n",
       "      <td>movie</td>\n",
       "      <td>NaN</td>\n",
       "      <td>5.8</td>\n",
       "      <td>1448.0</td>\n",
       "      <td>NaN</td>\n",
       "      <td></td>\n",
       "    </tr>\n",
       "    <tr>\n",
       "      <th>221929</th>\n",
       "      <td>tt9916362</td>\n",
       "      <td>6.4</td>\n",
       "      <td>5609</td>\n",
       "      <td>0</td>\n",
       "      <td>2020</td>\n",
       "      <td>92</td>\n",
       "      <td>Drama,History</td>\n",
       "      <td>Coven</td>\n",
       "      <td>Coven</td>\n",
       "      <td>TV-MA</td>\n",
       "      <td>...</td>\n",
       "      <td>Pablo Agüero, Katell Guillou</td>\n",
       "      <td>Amaia Aberasturi, Alex Brendemühl, Daniel Fanego</td>\n",
       "      <td>Spanish, Basque</td>\n",
       "      <td>Spain, France, Argentina</td>\n",
       "      <td>movie</td>\n",
       "      <td>NaN</td>\n",
       "      <td>6.4</td>\n",
       "      <td>5603.0</td>\n",
       "      <td>NaN</td>\n",
       "      <td></td>\n",
       "    </tr>\n",
       "    <tr>\n",
       "      <th>221930</th>\n",
       "      <td>tt9916428</td>\n",
       "      <td>3.5</td>\n",
       "      <td>17</td>\n",
       "      <td>0</td>\n",
       "      <td>2019</td>\n",
       "      <td>0</td>\n",
       "      <td>Adventure,History,War</td>\n",
       "      <td>The Secret of China</td>\n",
       "      <td>The Secret of China</td>\n",
       "      <td></td>\n",
       "      <td>...</td>\n",
       "      <td></td>\n",
       "      <td>Kenan Heppe, Wang Peng Kai, Valery Gadreau</td>\n",
       "      <td>Chinese, English</td>\n",
       "      <td>China</td>\n",
       "      <td>movie</td>\n",
       "      <td>NaN</td>\n",
       "      <td>3.5</td>\n",
       "      <td>17.0</td>\n",
       "      <td>NaN</td>\n",
       "      <td></td>\n",
       "    </tr>\n",
       "    <tr>\n",
       "      <th>221931</th>\n",
       "      <td>tt9916538</td>\n",
       "      <td>8.6</td>\n",
       "      <td>7</td>\n",
       "      <td>0</td>\n",
       "      <td>2019</td>\n",
       "      <td>123</td>\n",
       "      <td>Drama</td>\n",
       "      <td>Kuambil Lagi Hatiku</td>\n",
       "      <td>Kuambil Lagi Hatiku</td>\n",
       "      <td></td>\n",
       "      <td>...</td>\n",
       "      <td>Arief Ash Siddiq, Rino Sarjono, Salman Aristo</td>\n",
       "      <td>Lala Karmela, Cut Mini Theo, Sahil Shah</td>\n",
       "      <td>Indonesian</td>\n",
       "      <td>Indonesia</td>\n",
       "      <td>movie</td>\n",
       "      <td>NaN</td>\n",
       "      <td>NaN</td>\n",
       "      <td>6.0</td>\n",
       "      <td>NaN</td>\n",
       "      <td></td>\n",
       "    </tr>\n",
       "    <tr>\n",
       "      <th>221932</th>\n",
       "      <td>tt9916730</td>\n",
       "      <td>7.6</td>\n",
       "      <td>11</td>\n",
       "      <td>0</td>\n",
       "      <td>2017</td>\n",
       "      <td>116</td>\n",
       "      <td>Drama</td>\n",
       "      <td>6 Gunn</td>\n",
       "      <td>6 Gunn</td>\n",
       "      <td></td>\n",
       "      <td>...</td>\n",
       "      <td>Kiran Gawade</td>\n",
       "      <td>Devadhar Archit, Sunil Barve, Ganesh Vasant Patil</td>\n",
       "      <td>Marathi</td>\n",
       "      <td>India</td>\n",
       "      <td>movie</td>\n",
       "      <td>NaN</td>\n",
       "      <td>NaN</td>\n",
       "      <td>11.0</td>\n",
       "      <td>NaN</td>\n",
       "      <td></td>\n",
       "    </tr>\n",
       "  </tbody>\n",
       "</table>\n",
       "<p>221933 rows × 24 columns</p>\n",
       "</div>"
      ],
      "text/plain": [
       "           tconst  averageRating  numVotes  isAdult  startYear  \\\n",
       "0       tt0013274            6.8        59        0       2021   \n",
       "1       tt0015414            5.2        16        0       2000   \n",
       "2       tt0015724            6.1        27        0       1993   \n",
       "3       tt0035423            6.4     87965        0       2001   \n",
       "4       tt0036606            6.5       345        0       1983   \n",
       "...           ...            ...       ...      ...        ...   \n",
       "221928  tt9916270            5.8      1448        0       2020   \n",
       "221929  tt9916362            6.4      5609        0       2020   \n",
       "221930  tt9916428            3.5        17        0       2019   \n",
       "221931  tt9916538            8.6         7        0       2019   \n",
       "221932  tt9916730            7.6        11        0       2017   \n",
       "\n",
       "        runtimeMinutes                  genres                        Movie  \\\n",
       "0                   94             Documentary  Istoriya grazhdanskoy voyny   \n",
       "1                   60                       0       La tierra de los toros   \n",
       "2                  102   Drama,Mystery,Romance                Dama de noche   \n",
       "3                  118  Comedy,Fantasy,Romance               Kate & Leopold   \n",
       "4                  118               Drama,War  Another Time, Another Place   \n",
       "...                ...                     ...                          ...   \n",
       "221928              84                Thriller     Il talento del calabrone   \n",
       "221929              92           Drama,History                        Coven   \n",
       "221930               0   Adventure,History,War          The Secret of China   \n",
       "221931             123                   Drama          Kuambil Lagi Hatiku   \n",
       "221932             116                   Drama                       6 Gunn   \n",
       "\n",
       "                         OMDB_Title OMDB_Rated  ...  \\\n",
       "0       Istoriya grazhdanskoy voyny             ...   \n",
       "1            La tierra de los toros             ...   \n",
       "2                     Dama de noche             ...   \n",
       "3                    Kate & Leopold      PG-13  ...   \n",
       "4       Another Time, Another Place          R  ...   \n",
       "...                             ...        ...  ...   \n",
       "221928     Il talento del calabrone             ...   \n",
       "221929                        Coven      TV-MA  ...   \n",
       "221930          The Secret of China             ...   \n",
       "221931          Kuambil Lagi Hatiku             ...   \n",
       "221932                       6 Gunn             ...   \n",
       "\n",
       "                                              OMDB_Writer  \\\n",
       "0                                                           \n",
       "1                                                           \n",
       "2               Eva López Sánchez, David Martin del Campo   \n",
       "3                            Steven Rogers, James Mangold   \n",
       "4       Jessie Kesson, John Francis Lane, Michael Radford   \n",
       "...                                                   ...   \n",
       "221928                   Giacomo Cimini, Lorenzo Collalti   \n",
       "221929                       Pablo Agüero, Katell Guillou   \n",
       "221930                                                      \n",
       "221931      Arief Ash Siddiq, Rino Sarjono, Salman Aristo   \n",
       "221932                                       Kiran Gawade   \n",
       "\n",
       "                                              OMDB_Actors     OMDB_Language  \\\n",
       "0                                                                      None   \n",
       "1                                Antonio Cañero, Musidora              None   \n",
       "2       Rafael Sánchez Navarro, Cecilia Toussaint, Mig...           Spanish   \n",
       "3                  Meg Ryan, Hugh Jackman, Liev Schreiber   English, French   \n",
       "4       Phyllis Logan, Giovanni Mauriello, Gianluca Fa...  English, Italian   \n",
       "...                                                   ...               ...   \n",
       "221928  Sergio Castellitto, Lorenzo Richelmy, Anna Fog...           Italian   \n",
       "221929   Amaia Aberasturi, Alex Brendemühl, Daniel Fanego   Spanish, Basque   \n",
       "221930         Kenan Heppe, Wang Peng Kai, Valery Gadreau  Chinese, English   \n",
       "221931            Lala Karmela, Cut Mini Theo, Sahil Shah        Indonesian   \n",
       "221932  Devadhar Archit, Sunil Barve, Ganesh Vasant Patil           Marathi   \n",
       "\n",
       "                    OMDB_Country OMDB_Type OMDB_Metascore OMDB_imdbRating  \\\n",
       "0                   Soviet Union     movie            NaN             NaN   \n",
       "1                  Spain, France     movie            NaN             6.6   \n",
       "2                         Mexico     movie            NaN             5.8   \n",
       "3                  United States     movie           44.0             6.4   \n",
       "4                 United Kingdom     movie            NaN             6.5   \n",
       "...                          ...       ...            ...             ...   \n",
       "221928              Italy, Spain     movie            NaN             5.8   \n",
       "221929  Spain, France, Argentina     movie            NaN             6.4   \n",
       "221930                     China     movie            NaN             3.5   \n",
       "221931                 Indonesia     movie            NaN             NaN   \n",
       "221932                     India     movie            NaN             NaN   \n",
       "\n",
       "       OMDB_imdbVotes OMDB_BoxOffice  OMDB_Production  \n",
       "0                58.0            NaN                   \n",
       "1                16.0            NaN                   \n",
       "2                27.0            NaN                   \n",
       "3             87977.0     47121859.0                   \n",
       "4               338.0            NaN                   \n",
       "...               ...            ...              ...  \n",
       "221928         1448.0            NaN                   \n",
       "221929         5603.0            NaN                   \n",
       "221930           17.0            NaN                   \n",
       "221931            6.0            NaN                   \n",
       "221932           11.0            NaN                   \n",
       "\n",
       "[221933 rows x 24 columns]"
      ]
     },
     "execution_count": 37,
     "metadata": {},
     "output_type": "execute_result"
    }
   ],
   "source": [
    "# Change date to datetime type (Note \"ReleaseDate\" has inconsistent formatting / typos)\n",
    "movies_df[\"OMDB_Released\"] = pd.to_datetime(movies_df[\"OMDB_Released\"])\n",
    "movies_df"
   ]
  },
  {
   "cell_type": "code",
   "execution_count": 38,
   "id": "2fa5dea4-3df4-4cb3-8b20-f84bccc80818",
   "metadata": {
    "tags": []
   },
   "outputs": [
    {
     "data": {
      "text/plain": [
       "tconst                     object\n",
       "averageRating             float64\n",
       "numVotes                    int64\n",
       "isAdult                     int64\n",
       "startYear                   int64\n",
       "runtimeMinutes              int64\n",
       "genres                     object\n",
       "Movie                      object\n",
       "OMDB_Title                 object\n",
       "OMDB_Rated                 object\n",
       "OMDB_Released      datetime64[ns]\n",
       "OMDB_Runtime              float64\n",
       "OMDB_Genre                 object\n",
       "OMDB_Director              object\n",
       "OMDB_Writer                object\n",
       "OMDB_Actors                object\n",
       "OMDB_Language              object\n",
       "OMDB_Country               object\n",
       "OMDB_Type                  object\n",
       "OMDB_Metascore            float64\n",
       "OMDB_imdbRating           float64\n",
       "OMDB_imdbVotes            float64\n",
       "OMDB_BoxOffice            float64\n",
       "OMDB_Production            object\n",
       "dtype: object"
      ]
     },
     "execution_count": 38,
     "metadata": {},
     "output_type": "execute_result"
    }
   ],
   "source": [
    "movies_df.dtypes"
   ]
  },
  {
   "cell_type": "code",
   "execution_count": 39,
   "id": "2bcf482a-e247-4508-8e5c-64ff6f778198",
   "metadata": {
    "tags": []
   },
   "outputs": [
    {
     "data": {
      "text/html": [
       "<div>\n",
       "<style scoped>\n",
       "    .dataframe tbody tr th:only-of-type {\n",
       "        vertical-align: middle;\n",
       "    }\n",
       "\n",
       "    .dataframe tbody tr th {\n",
       "        vertical-align: top;\n",
       "    }\n",
       "\n",
       "    .dataframe thead th {\n",
       "        text-align: right;\n",
       "    }\n",
       "</style>\n",
       "<table border=\"1\" class=\"dataframe\">\n",
       "  <thead>\n",
       "    <tr style=\"text-align: right;\">\n",
       "      <th></th>\n",
       "      <th>tconst</th>\n",
       "      <th>averageRating</th>\n",
       "      <th>numVotes</th>\n",
       "      <th>isAdult</th>\n",
       "      <th>startYear</th>\n",
       "      <th>runtimeMinutes</th>\n",
       "      <th>genres</th>\n",
       "      <th>Movie</th>\n",
       "      <th>OMDB_Title</th>\n",
       "      <th>OMDB_Rated</th>\n",
       "      <th>...</th>\n",
       "      <th>OMDB_Language</th>\n",
       "      <th>OMDB_Country</th>\n",
       "      <th>OMDB_Type</th>\n",
       "      <th>OMDB_Metascore</th>\n",
       "      <th>OMDB_imdbRating</th>\n",
       "      <th>OMDB_imdbVotes</th>\n",
       "      <th>OMDB_BoxOffice</th>\n",
       "      <th>OMDB_Production</th>\n",
       "      <th>ReleaseYear</th>\n",
       "      <th>ReleaseMonth</th>\n",
       "    </tr>\n",
       "  </thead>\n",
       "  <tbody>\n",
       "    <tr>\n",
       "      <th>0</th>\n",
       "      <td>tt0013274</td>\n",
       "      <td>6.8</td>\n",
       "      <td>59</td>\n",
       "      <td>0</td>\n",
       "      <td>2021</td>\n",
       "      <td>94</td>\n",
       "      <td>Documentary</td>\n",
       "      <td>Istoriya grazhdanskoy voyny</td>\n",
       "      <td>Istoriya grazhdanskoy voyny</td>\n",
       "      <td></td>\n",
       "      <td>...</td>\n",
       "      <td>None</td>\n",
       "      <td>Soviet Union</td>\n",
       "      <td>movie</td>\n",
       "      <td>NaN</td>\n",
       "      <td>NaN</td>\n",
       "      <td>58.0</td>\n",
       "      <td>NaN</td>\n",
       "      <td></td>\n",
       "      <td>2022.0</td>\n",
       "      <td>5.0</td>\n",
       "    </tr>\n",
       "    <tr>\n",
       "      <th>1</th>\n",
       "      <td>tt0015414</td>\n",
       "      <td>5.2</td>\n",
       "      <td>16</td>\n",
       "      <td>0</td>\n",
       "      <td>2000</td>\n",
       "      <td>60</td>\n",
       "      <td>0</td>\n",
       "      <td>La tierra de los toros</td>\n",
       "      <td>La tierra de los toros</td>\n",
       "      <td></td>\n",
       "      <td>...</td>\n",
       "      <td>None</td>\n",
       "      <td>Spain, France</td>\n",
       "      <td>movie</td>\n",
       "      <td>NaN</td>\n",
       "      <td>6.6</td>\n",
       "      <td>16.0</td>\n",
       "      <td>NaN</td>\n",
       "      <td></td>\n",
       "      <td>NaN</td>\n",
       "      <td>NaN</td>\n",
       "    </tr>\n",
       "    <tr>\n",
       "      <th>2</th>\n",
       "      <td>tt0015724</td>\n",
       "      <td>6.1</td>\n",
       "      <td>27</td>\n",
       "      <td>0</td>\n",
       "      <td>1993</td>\n",
       "      <td>102</td>\n",
       "      <td>Drama,Mystery,Romance</td>\n",
       "      <td>Dama de noche</td>\n",
       "      <td>Dama de noche</td>\n",
       "      <td></td>\n",
       "      <td>...</td>\n",
       "      <td>Spanish</td>\n",
       "      <td>Mexico</td>\n",
       "      <td>movie</td>\n",
       "      <td>NaN</td>\n",
       "      <td>5.8</td>\n",
       "      <td>27.0</td>\n",
       "      <td>NaN</td>\n",
       "      <td></td>\n",
       "      <td>1993.0</td>\n",
       "      <td>3.0</td>\n",
       "    </tr>\n",
       "    <tr>\n",
       "      <th>3</th>\n",
       "      <td>tt0035423</td>\n",
       "      <td>6.4</td>\n",
       "      <td>87965</td>\n",
       "      <td>0</td>\n",
       "      <td>2001</td>\n",
       "      <td>118</td>\n",
       "      <td>Comedy,Fantasy,Romance</td>\n",
       "      <td>Kate &amp; Leopold</td>\n",
       "      <td>Kate &amp; Leopold</td>\n",
       "      <td>PG-13</td>\n",
       "      <td>...</td>\n",
       "      <td>English, French</td>\n",
       "      <td>United States</td>\n",
       "      <td>movie</td>\n",
       "      <td>44.0</td>\n",
       "      <td>6.4</td>\n",
       "      <td>87977.0</td>\n",
       "      <td>47121859.0</td>\n",
       "      <td></td>\n",
       "      <td>2001.0</td>\n",
       "      <td>12.0</td>\n",
       "    </tr>\n",
       "    <tr>\n",
       "      <th>4</th>\n",
       "      <td>tt0036606</td>\n",
       "      <td>6.5</td>\n",
       "      <td>345</td>\n",
       "      <td>0</td>\n",
       "      <td>1983</td>\n",
       "      <td>118</td>\n",
       "      <td>Drama,War</td>\n",
       "      <td>Another Time, Another Place</td>\n",
       "      <td>Another Time, Another Place</td>\n",
       "      <td>R</td>\n",
       "      <td>...</td>\n",
       "      <td>English, Italian</td>\n",
       "      <td>United Kingdom</td>\n",
       "      <td>movie</td>\n",
       "      <td>NaN</td>\n",
       "      <td>6.5</td>\n",
       "      <td>338.0</td>\n",
       "      <td>NaN</td>\n",
       "      <td></td>\n",
       "      <td>1984.0</td>\n",
       "      <td>5.0</td>\n",
       "    </tr>\n",
       "  </tbody>\n",
       "</table>\n",
       "<p>5 rows × 25 columns</p>\n",
       "</div>"
      ],
      "text/plain": [
       "      tconst  averageRating  numVotes  isAdult  startYear  runtimeMinutes  \\\n",
       "0  tt0013274            6.8        59        0       2021              94   \n",
       "1  tt0015414            5.2        16        0       2000              60   \n",
       "2  tt0015724            6.1        27        0       1993             102   \n",
       "3  tt0035423            6.4     87965        0       2001             118   \n",
       "4  tt0036606            6.5       345        0       1983             118   \n",
       "\n",
       "                   genres                        Movie  \\\n",
       "0             Documentary  Istoriya grazhdanskoy voyny   \n",
       "1                       0       La tierra de los toros   \n",
       "2   Drama,Mystery,Romance                Dama de noche   \n",
       "3  Comedy,Fantasy,Romance               Kate & Leopold   \n",
       "4               Drama,War  Another Time, Another Place   \n",
       "\n",
       "                    OMDB_Title OMDB_Rated  ...     OMDB_Language  \\\n",
       "0  Istoriya grazhdanskoy voyny             ...              None   \n",
       "1       La tierra de los toros             ...              None   \n",
       "2                Dama de noche             ...           Spanish   \n",
       "3               Kate & Leopold      PG-13  ...   English, French   \n",
       "4  Another Time, Another Place          R  ...  English, Italian   \n",
       "\n",
       "     OMDB_Country OMDB_Type OMDB_Metascore OMDB_imdbRating OMDB_imdbVotes  \\\n",
       "0    Soviet Union     movie            NaN             NaN           58.0   \n",
       "1   Spain, France     movie            NaN             6.6           16.0   \n",
       "2          Mexico     movie            NaN             5.8           27.0   \n",
       "3   United States     movie           44.0             6.4        87977.0   \n",
       "4  United Kingdom     movie            NaN             6.5          338.0   \n",
       "\n",
       "  OMDB_BoxOffice OMDB_Production  ReleaseYear  ReleaseMonth  \n",
       "0            NaN                       2022.0           5.0  \n",
       "1            NaN                          NaN           NaN  \n",
       "2            NaN                       1993.0           3.0  \n",
       "3     47121859.0                       2001.0          12.0  \n",
       "4            NaN                       1984.0           5.0  \n",
       "\n",
       "[5 rows x 25 columns]"
      ]
     },
     "execution_count": 39,
     "metadata": {},
     "output_type": "execute_result"
    }
   ],
   "source": [
    "movies_df[\"ReleaseYear\"] = pd.DatetimeIndex(movies_df['OMDB_Released']).year\n",
    "movies_df[\"ReleaseMonth\"] = pd.DatetimeIndex(movies_df['OMDB_Released']).month\n",
    "movies_df = movies_df.drop(['OMDB_Released'], axis=1)\n",
    "movies_df.head()"
   ]
  },
  {
   "cell_type": "code",
   "execution_count": 40,
   "id": "0a74a6a5-816f-488b-91de-0f77891c4f77",
   "metadata": {
    "tags": []
   },
   "outputs": [
    {
     "data": {
      "text/plain": [
       "Index(['tconst', 'averageRating', 'numVotes', 'isAdult', 'startYear',\n",
       "       'runtimeMinutes', 'genres', 'Movie', 'OMDB_Title', 'OMDB_Rated',\n",
       "       'OMDB_Runtime', 'OMDB_Genre', 'OMDB_Director', 'OMDB_Writer',\n",
       "       'OMDB_Actors', 'OMDB_Language', 'OMDB_Country', 'OMDB_Type',\n",
       "       'OMDB_Metascore', 'OMDB_imdbRating', 'OMDB_imdbVotes', 'OMDB_BoxOffice',\n",
       "       'OMDB_Production', 'ReleaseYear', 'ReleaseMonth'],\n",
       "      dtype='object')"
      ]
     },
     "execution_count": 40,
     "metadata": {},
     "output_type": "execute_result"
    }
   ],
   "source": [
    "movies_df.columns"
   ]
  },
  {
   "cell_type": "markdown",
   "id": "d3666fb0-22d3-4a31-ae78-2dd897d589a7",
   "metadata": {},
   "source": [
    "# Investigate Inputs / Features: should any be consolidated or truncated"
   ]
  },
  {
   "cell_type": "code",
   "execution_count": 41,
   "id": "b5a7b29c-93b7-4072-a3f6-0dd17077af83",
   "metadata": {
    "tags": []
   },
   "outputs": [
    {
     "data": {
      "text/plain": [
       "             161222\n",
       "Not Rated     23575\n",
       "R             15267\n",
       "PG-13          5581\n",
       "PG             3896\n",
       "              ...  \n",
       "K-14              1\n",
       "K                 1\n",
       "R-18+             1\n",
       "R(A)              1\n",
       "M/PG              1\n",
       "Name: OMDB_Rated, Length: 95, dtype: int64"
      ]
     },
     "execution_count": 41,
     "metadata": {},
     "output_type": "execute_result"
    }
   ],
   "source": [
    "# Check distribution of ratings\n",
    "ratings_count = movies_df['OMDB_Rated'].value_counts()\n",
    "ratings_count"
   ]
  },
  {
   "cell_type": "code",
   "execution_count": 42,
   "id": "8def25d1-75c3-484c-9b4e-d7832f5cc7c4",
   "metadata": {
    "tags": []
   },
   "outputs": [
    {
     "data": {
      "text/plain": [
       "unknown    187954\n",
       "adults      19128\n",
       "teens        8055\n",
       "kids         6796\n",
       "Name: OMDB_Rated, dtype: int64"
      ]
     },
     "execution_count": 42,
     "metadata": {},
     "output_type": "execute_result"
    }
   ],
   "source": [
    "# Define Consolidate Rated Lists:\n",
    "# reference https://en.wikipedia.org/wiki/Motion_Picture_Association_film_rating_system and Google for odd ones\n",
    "kids = ['PG', 'G', 'TV-PG', 'TV-G', 'GP', 'M/PG', 'M', 'TV-Y7', 'U', 'TV-Y', 'Atp', 'Btl', 'E', 'TV-Y7-FV', '7', 'o.Al.', '6', 'Open', 'K-3', 'KT', 'UA', 'L', 'I', 'M/6', '7+', 'A.G.', 'All', 'K-8']\n",
    "teens = ['PG-13', 'TV-14', '16+', '13+', '12', '13', '16', 'T', 'E10+', '11', '15', '14', 'M/12', 'MA-13', 'M/16', '-16', 'K-12', 'TV-13', '12A', 'PG-12', '10', 'K-16', 'IIA', 'PG13', 'R15+', 'II', 'K-13', 'KNT', 'K-14']\n",
    "adults = ['R', 'TV-MA', 'NC-17', 'X', '18+', 'AO', '18', 'S', 'III', 'A', 'IIB', 'M/18', 'K-18', 'R-18', 'MA-17', 'M18', 'C', 'R18+', 'VM18', '18A', 'BPjM Restricted', 'R-18+', 'R(A)']\n",
    "Unknown = ['Not Rated', 'Approved', 'Unrated', 'Passed', 'NOT RATED', 'UNRATED', 'APPROVED', '(Banned)', 'PASSED', 'EM', 'AL', 'F', 'B', 'Livre', 'K']\n",
    "\n",
    "for index, row in movies_df.iterrows():\n",
    "    movie_rating = row['OMDB_Rated']\n",
    "    if movie_rating in kids:\n",
    "        movies_df.at[index,'OMDB_Rated'] = 'kids'\n",
    "    elif movie_rating in teens:\n",
    "        movies_df.at[index,'OMDB_Rated'] = 'teens'\n",
    "    elif movie_rating in adults:\n",
    "        movies_df.at[index,'OMDB_Rated'] = 'adults'\n",
    "    else:\n",
    "        movies_df.at[index,'OMDB_Rated'] = 'unknown'\n",
    "\n",
    "# df[\"grade\"] = df.apply(lambda x: 'A+' if ((x['score']>40)&(x['score']<50)) else x[\"grade\"], axis=1)\n",
    "# movies_df.OMDB_Rated = np.where((movies_df.OMDB_Rated in kids), 'kids', movies_df.OMDB_Rated)\n",
    "\n",
    "movies_df['OMDB_Rated'].value_counts()"
   ]
  },
  {
   "cell_type": "code",
   "execution_count": 43,
   "id": "ae4fd06c-6407-40c6-9b42-59e62a4695d8",
   "metadata": {
    "tags": []
   },
   "outputs": [
    {
     "data": {
      "image/png": "[encoded data removed]",
      "text/plain": [
       "<Figure size 640x480 with 1 Axes>"
      ]
     },
     "metadata": {},
     "output_type": "display_data"
    }
   ],
   "source": [
    "year_hist = movies_df['ReleaseYear'].hist(bins=11, legend=True)"
   ]
  },
  {
   "cell_type": "code",
   "execution_count": 44,
   "id": "d776371c-053a-4f8b-9c9e-973e54f0982c",
   "metadata": {
    "tags": []
   },
   "outputs": [
    {
     "data": {
      "image/png": "[encoded data removed]",
      "text/plain": [
       "<Figure size 640x480 with 1 Axes>"
      ]
     },
     "metadata": {},
     "output_type": "display_data"
    }
   ],
   "source": [
    "year_hist2 = movies_df['startYear'].hist(bins=11, legend=True)"
   ]
  },
  {
   "cell_type": "code",
   "execution_count": 50,
   "id": "f676522b-7688-489b-b8e3-ad89e569ef3c",
   "metadata": {
    "tags": []
   },
   "outputs": [
    {
     "data": {
      "text/plain": [
       "2019.0    10033\n",
       "2022.0     9804\n",
       "2018.0     9596\n",
       "2017.0     9461\n",
       "2021.0     9086\n",
       "2016.0     8872\n",
       "2015.0     8804\n",
       "2020.0     8602\n",
       "2014.0     8330\n",
       "2023.0     7922\n",
       "2013.0     7803\n",
       "2012.0     7094\n",
       "2011.0     6631\n",
       "2010.0     5837\n",
       "2009.0     5731\n",
       "2008.0     5470\n",
       "2007.0     4888\n",
       "2006.0     4515\n",
       "2005.0     4024\n",
       "2004.0     3606\n",
       "2003.0     3333\n",
       "2002.0     3082\n",
       "2001.0     2876\n",
       "2000.0     2545\n",
       "1999.0     2366\n",
       "1998.0     2143\n",
       "1997.0     1982\n",
       "1989.0     1854\n",
       "1986.0     1813\n",
       "1990.0     1807\n",
       "1988.0     1799\n",
       "1996.0     1799\n",
       "1987.0     1767\n",
       "1995.0     1758\n",
       "1993.0     1726\n",
       "1985.0     1706\n",
       "1994.0     1704\n",
       "1991.0     1702\n",
       "1992.0     1673\n",
       "1982.0     1616\n",
       "1984.0     1610\n",
       "1983.0     1562\n",
       "1981.0     1459\n",
       "2024.0       58\n",
       "1980.0        2\n",
       "1979.0        2\n",
       "1978.0        1\n",
       "1977.0        1\n",
       "1959.0        1\n",
       "1950.0        1\n",
       "Name: ReleaseYear, dtype: int64"
      ]
     },
     "execution_count": 50,
     "metadata": {},
     "output_type": "execute_result"
    }
   ],
   "source": [
    "movies_df['ReleaseYear'].value_counts()"
   ]
  },
  {
   "cell_type": "code",
   "execution_count": 51,
   "id": "645407df-48db-4c61-81d2-0859430dbda1",
   "metadata": {
    "tags": []
   },
   "outputs": [
    {
     "data": {
      "text/plain": [
       "2019    10450\n",
       "2018    10341\n",
       "2017    10270\n",
       "2022     9922\n",
       "2016     9792\n",
       "2015     9398\n",
       "2014     9173\n",
       "2021     8837\n",
       "2013     8552\n",
       "2020     8380\n",
       "2012     8190\n",
       "2011     7793\n",
       "2010     7209\n",
       "2023     7053\n",
       "2009     6948\n",
       "2008     6228\n",
       "2007     5421\n",
       "2006     5193\n",
       "2005     4656\n",
       "2004     4220\n",
       "2003     3821\n",
       "2002     3673\n",
       "2001     3519\n",
       "2000     3258\n",
       "1999     3115\n",
       "1998     2926\n",
       "1997     2853\n",
       "1989     2721\n",
       "1988     2673\n",
       "1987     2661\n",
       "1996     2656\n",
       "1990     2631\n",
       "1986     2602\n",
       "1995     2602\n",
       "1991     2563\n",
       "1985     2535\n",
       "1984     2490\n",
       "1993     2472\n",
       "1994     2468\n",
       "1992     2466\n",
       "1983     2452\n",
       "1982     2395\n",
       "1981     2355\n",
       "Name: startYear, dtype: int64"
      ]
     },
     "execution_count": 51,
     "metadata": {},
     "output_type": "execute_result"
    }
   ],
   "source": [
    "movies_df['startYear'].value_counts()"
   ]
  },
  {
   "cell_type": "code",
   "execution_count": 47,
   "id": "f71fe76a-3531-40ae-9d13-52b7d487a0c2",
   "metadata": {
    "tags": []
   },
   "outputs": [
    {
     "data": {
      "text/plain": [
       "Drama                         36688\n",
       "Documentary                   29813\n",
       "Comedy                        16384\n",
       "Comedy,Drama                   7789\n",
       "Horror                         6407\n",
       "                              ...  \n",
       "Musical,Sci-Fi,Thriller           1\n",
       "Adventure,Horror,Western          1\n",
       "Biography,Romance,War             1\n",
       "Biography,Fantasy,Horror          1\n",
       "Action,Documentary,Mystery        1\n",
       "Name: genres, Length: 1155, dtype: int64"
      ]
     },
     "execution_count": 47,
     "metadata": {},
     "output_type": "execute_result"
    }
   ],
   "source": [
    "movies_df['genres'].value_counts()"
   ]
  },
  {
   "cell_type": "code",
   "execution_count": 48,
   "id": "6c29057f-421e-4832-b93b-7a74ad2cbde8",
   "metadata": {
    "tags": []
   },
   "outputs": [
    {
     "data": {
      "text/plain": [
       "Drama                                                         36534\n",
       "Documentary                                                   29704\n",
       "Comedy                                                        16374\n",
       "Comedy, Drama                                                  7576\n",
       "                                                               7268\n",
       "                                                              ...  \n",
       "Fantasy, Musical, Family                                          1\n",
       "Comedy, Crime, Drama, Thriller                                    1\n",
       "Animation, Adventure, Comedy, Drama                               1\n",
       "Adventure, Fantasy, Family                                        1\n",
       "Action, Adventure, Crime, Drama, Mystery, Sci-Fi, Thriller        1\n",
       "Name: OMDB_Genre, Length: 1817, dtype: int64"
      ]
     },
     "execution_count": 48,
     "metadata": {},
     "output_type": "execute_result"
    }
   ],
   "source": [
    "movies_df['OMDB_Genre'].value_counts()"
   ]
  },
  {
   "cell_type": "code",
   "execution_count": 49,
   "id": "888b8639-0f47-40e7-9d25-93e7ae990e5b",
   "metadata": {
    "tags": []
   },
   "outputs": [
    {
     "data": {
      "text/plain": [
       "Drama                    36688\n",
       "Documentary              29813\n",
       "Comedy                   16384\n",
       "Comedy,Drama              7789\n",
       "Horror                    6407\n",
       "0                         6262\n",
       "Drama,Romance             5772\n",
       "Thriller                  4166\n",
       "Comedy,Romance            3755\n",
       "Comedy,Drama,Romance      3716\n",
       "Action                    3618\n",
       "Drama,Thriller            2707\n",
       "Action,Crime,Drama        2342\n",
       "Horror,Thriller           2254\n",
       "Romance                   2253\n",
       "Crime,Drama               1992\n",
       "Action,Drama              1808\n",
       "Documentary,Music         1768\n",
       "Biography,Documentary     1657\n",
       "Adult                     1620\n",
       "Crime,Drama,Thriller      1529\n",
       "Comedy,Horror             1379\n",
       "Drama,Family              1267\n",
       "Family                    1206\n",
       "Action,Thriller           1054\n",
       "Documentary,History       1023\n",
       "Name: genres, dtype: int64"
      ]
     },
     "execution_count": 49,
     "metadata": {},
     "output_type": "execute_result"
    }
   ],
   "source": [
    "genre_counts = movies_df['genres'].value_counts()\n",
    "genre_counts.loc[lambda x : x > 1000]"
   ]
  },
  {
   "cell_type": "markdown",
   "id": "d108985b-bdd6-4fa1-98e0-052a930c8fda",
   "metadata": {},
   "source": [
    "## Notes on feature distributions:\n",
    "* OMDB_Rated had 20 categories with overlap which have been reduced to 4 categories: kids (G, PG), teens (PG13), adults(NC-17+, R), and unknown\n",
    "* There are differences between Release Year and Start Year - if we use this feature, we need to better understand the meaning\n",
    "* THe original IMDB genre category appears easier to clean if we choose to use that feature"
   ]
  },
  {
   "cell_type": "markdown",
   "id": "d7cd215b-f426-461b-b3fa-b2d9d39a2664",
   "metadata": {},
   "source": [
    "# Investigate Output / Target Compares between two sources"
   ]
  },
  {
   "cell_type": "code",
   "execution_count": 45,
   "id": "4c0a9742-ffbc-4b90-960b-3a052ff34951",
   "metadata": {
    "tags": []
   },
   "outputs": [
    {
     "data": {
      "text/plain": [
       "OMDB_Rated\n",
       "adults     5.585529\n",
       "kids       6.155268\n",
       "teens      6.010764\n",
       "unknown    6.284415\n",
       "Name: averageRating, dtype: float64"
      ]
     },
     "execution_count": 45,
     "metadata": {},
     "output_type": "execute_result"
    }
   ],
   "source": [
    "movies_df.groupby(['OMDB_Rated'])['averageRating'].mean()"
   ]
  },
  {
   "cell_type": "code",
   "execution_count": 46,
   "id": "8ae52cc7-8e92-4b1e-8f27-387c0eb259fe",
   "metadata": {
    "tags": []
   },
   "outputs": [
    {
     "data": {
      "text/plain": [
       "OMDB_Rated\n",
       "adults     5.582631\n",
       "kids       6.120541\n",
       "teens      5.994701\n",
       "unknown    6.160632\n",
       "Name: OMDB_imdbRating, dtype: float64"
      ]
     },
     "execution_count": 46,
     "metadata": {},
     "output_type": "execute_result"
    }
   ],
   "source": [
    "movies_df.groupby(['OMDB_Rated'])['OMDB_imdbRating'].mean()"
   ]
  },
  {
   "cell_type": "code",
   "execution_count": 57,
   "id": "10516f6e-82eb-4807-a4c8-02a1eb8ff967",
   "metadata": {
    "tags": []
   },
   "outputs": [
    {
     "data": {
      "text/plain": [
       "OMDB_Rated\n",
       "adults      19128\n",
       "kids         6796\n",
       "teens        8055\n",
       "unknown    187954\n",
       "Name: averageRating, dtype: int64"
      ]
     },
     "execution_count": 57,
     "metadata": {},
     "output_type": "execute_result"
    }
   ],
   "source": [
    "movies_df.groupby(['OMDB_Rated'])['averageRating'].count()"
   ]
  },
  {
   "cell_type": "code",
   "execution_count": 58,
   "id": "21b28de4-25ba-4527-bee0-086f52fcbcf8",
   "metadata": {
    "tags": []
   },
   "outputs": [
    {
     "data": {
      "text/plain": [
       "OMDB_Rated\n",
       "adults      18855\n",
       "kids         6543\n",
       "teens        7851\n",
       "unknown    154119\n",
       "Name: OMDB_imdbRating, dtype: int64"
      ]
     },
     "execution_count": 58,
     "metadata": {},
     "output_type": "execute_result"
    }
   ],
   "source": [
    "movies_df.groupby(['OMDB_Rated'])['OMDB_imdbRating'].count()"
   ]
  },
  {
   "cell_type": "code",
   "execution_count": 53,
   "id": "62e67ab1-dc76-429e-94cd-5f565f1b4437",
   "metadata": {
    "tags": []
   },
   "outputs": [
    {
     "name": "stdout",
     "output_type": "stream",
     "text": [
      "The r-squared is: 0.4508799829420206\n"
     ]
    },
    {
     "data": {
      "image/png": "[encoded data removed]",
      "text/plain": [
       "<Figure size 640x480 with 1 Axes>"
      ]
     },
     "metadata": {},
     "output_type": "display_data"
    }
   ],
   "source": [
    "# Define the x and y\n",
    "movies_df_no_nan = movies_df[['OMDB_Metascore', 'averageRating']]\n",
    "movies_df_no_nan = movies_df_no_nan.dropna()\n",
    "\n",
    "x_values = movies_df_no_nan['OMDB_Metascore']\n",
    "y_values = movies_df_no_nan['averageRating']\n",
    "\n",
    "# Calculate the regression\n",
    "(slope, intercept, rvalue, pvalue, stderr) = linregress(x_values, y_values)\n",
    "regress_values = x_values * slope + intercept\n",
    "line_eq = \"y = \" + str(round(slope,2)) + \"x + \" + str(round(intercept,2))\n",
    "\n",
    "# Plot the different factors in a scatter plot\n",
    "plt.scatter(x_values,y_values)\n",
    "plt.plot(x_values,regress_values,\"r-\")\n",
    "plt.annotate(line_eq,(0,9),fontsize=15,color=\"red\")\n",
    "plt.xlabel('Metascore')\n",
    "plt.ylabel('IMDB Rating')\n",
    "\n",
    "print(f\"The r-squared is: {rvalue**2}\")\n",
    "plt.show()"
   ]
  },
  {
   "cell_type": "code",
   "execution_count": 54,
   "id": "d09433b0-7302-42ad-8747-87e22f1e96da",
   "metadata": {
    "tags": []
   },
   "outputs": [
    {
     "name": "stdout",
     "output_type": "stream",
     "text": [
      "The r-squared is: 0.45047154294997077\n"
     ]
    },
    {
     "data": {
      "image/png": "[encoded data removed]",
      "text/plain": [
       "<Figure size 640x480 with 1 Axes>"
      ]
     },
     "metadata": {},
     "output_type": "display_data"
    }
   ],
   "source": [
    "# Define the x and y\n",
    "movies_df_no_nan = movies_df[['OMDB_Metascore', 'OMDB_imdbRating']]\n",
    "movies_df_no_nan = movies_df_no_nan.dropna()\n",
    "\n",
    "x_values = movies_df_no_nan['OMDB_Metascore']\n",
    "y_values = movies_df_no_nan['OMDB_imdbRating']\n",
    "\n",
    "# Calculate the regression\n",
    "(slope, intercept, rvalue, pvalue, stderr) = linregress(x_values, y_values)\n",
    "regress_values = x_values * slope + intercept\n",
    "line_eq = \"y = \" + str(round(slope,2)) + \"x + \" + str(round(intercept,2))\n",
    "\n",
    "# Plot the different factors in a scatter plot\n",
    "plt.scatter(x_values,y_values)\n",
    "plt.plot(x_values,regress_values,\"r-\")\n",
    "plt.annotate(line_eq,(0,9),fontsize=15,color=\"red\")\n",
    "plt.xlabel('Metascore')\n",
    "plt.ylabel('OMDB IMDB Rating')\n",
    "\n",
    "print(f\"The r-squared is: {rvalue**2}\")\n",
    "plt.show()"
   ]
  },
  {
   "cell_type": "markdown",
   "id": "6b0f9076-4749-4769-bcfd-11bdfb61c201",
   "metadata": {},
   "source": [
    "## Notes on outputs / targets:\n",
    "* The OMDB entry for IMDB ratings does not align perfectly with ratings reported directly from IMDB. For the purposes of this project timeline, they are close enough to not dig into further"
   ]
  },
  {
   "cell_type": "markdown",
   "id": "59a06710-d3b4-4cb2-aab7-c923118faae5",
   "metadata": {},
   "source": [
    "# Export final file"
   ]
  },
  {
   "cell_type": "code",
   "execution_count": 55,
   "id": "f582e5f8-1dfe-40c9-8700-81fba507046c",
   "metadata": {
    "tags": []
   },
   "outputs": [],
   "source": [
    "movies_df.to_csv(\"./Resources/IMDB_OMDB_processed.csv\")"
   ]
  },
  {
   "cell_type": "code",
   "execution_count": null,
   "id": "05d05c5d-8a29-4a56-b374-03de3ce03da8",
   "metadata": {},
   "outputs": [],
   "source": []
  }
 ],
 "metadata": {
  "kernelspec": {
   "display_name": "Python 3 (ipykernel)",
   "language": "python",
   "name": "python3"
  },
  "language_info": {
   "codemirror_mode": {
    "name": "ipython",
    "version": 3
   },
   "file_extension": ".py",
   "mimetype": "text/x-python",
   "name": "python",
   "nbconvert_exporter": "python",
   "pygments_lexer": "ipython3",
   "version": "3.10.11"
  }
 },
 "nbformat": 4,
 "nbformat_minor": 5
}
