{
 "cells": [
  {
   "cell_type": "markdown",
   "metadata": {
    "id": "Xklk3cDrVzx-"
   },
   "source": [
    "## Load Data"
   ]
  },
  {
   "cell_type": "code",
   "execution_count": 1,
   "metadata": {
    "colab": {
     "base_uri": "https://localhost:8080/",
     "height": 206
    },
    "id": "o82ihmoMVzyA",
    "outputId": "5ac99d53-20fd-4097-cb52-bf864b0118dc",
    "tags": []
   },
   "outputs": [
    {
     "name": "stdout",
     "output_type": "stream",
     "text": [
      "Using TensorFlow backend\n"
     ]
    },
    {
     "data": {
      "text/html": [
       "<div>\n",
       "<style scoped>\n",
       "    .dataframe tbody tr th:only-of-type {\n",
       "        vertical-align: middle;\n",
       "    }\n",
       "\n",
       "    .dataframe tbody tr th {\n",
       "        vertical-align: top;\n",
       "    }\n",
       "\n",
       "    .dataframe thead th {\n",
       "        text-align: right;\n",
       "    }\n",
       "</style>\n",
       "<table border=\"1\" class=\"dataframe\">\n",
       "  <thead>\n",
       "    <tr style=\"text-align: right;\">\n",
       "      <th></th>\n",
       "      <th>Unnamed: 0</th>\n",
       "      <th>Movie</th>\n",
       "      <th>ProductionBudget</th>\n",
       "      <th>DomesticGross</th>\n",
       "      <th>WorldwideGross</th>\n",
       "      <th>OMDB_Title</th>\n",
       "      <th>OMDB_Rated</th>\n",
       "      <th>OMDB_Runtime</th>\n",
       "      <th>OMDB_Genre</th>\n",
       "      <th>OMDB_Director</th>\n",
       "      <th>...</th>\n",
       "      <th>ReleaseMonth</th>\n",
       "      <th>Director_Avg_Box</th>\n",
       "      <th>Director_Avg_Rating</th>\n",
       "      <th>Director_Score</th>\n",
       "      <th>Writer_Avg_Box</th>\n",
       "      <th>Writer_Avg_Rating</th>\n",
       "      <th>Writer_Score</th>\n",
       "      <th>Actor_Avg_Box</th>\n",
       "      <th>Actor_Avg_Rating</th>\n",
       "      <th>Actor_Score</th>\n",
       "    </tr>\n",
       "  </thead>\n",
       "  <tbody>\n",
       "    <tr>\n",
       "      <th>0</th>\n",
       "      <td>0</td>\n",
       "      <td>Avatar: The Way of Water</td>\n",
       "      <td>460000000</td>\n",
       "      <td>684075767</td>\n",
       "      <td>2319591720</td>\n",
       "      <td>Avatar: The Way of Water</td>\n",
       "      <td>teens</td>\n",
       "      <td>192.0</td>\n",
       "      <td>Action, Adventure, Fantasy</td>\n",
       "      <td>James Cameron</td>\n",
       "      <td>...</td>\n",
       "      <td>12.0</td>\n",
       "      <td>3.342183e+08</td>\n",
       "      <td>7.91</td>\n",
       "      <td>14.60</td>\n",
       "      <td>2.850750e+08</td>\n",
       "      <td>7.33</td>\n",
       "      <td>13.03</td>\n",
       "      <td>1.611777e+08</td>\n",
       "      <td>6.56</td>\n",
       "      <td>9.78</td>\n",
       "    </tr>\n",
       "    <tr>\n",
       "      <th>1</th>\n",
       "      <td>1</td>\n",
       "      <td>Avengers: Endgame</td>\n",
       "      <td>400000000</td>\n",
       "      <td>858373000</td>\n",
       "      <td>2788912285</td>\n",
       "      <td>Avengers: Endgame</td>\n",
       "      <td>teens</td>\n",
       "      <td>181.0</td>\n",
       "      <td>Action, Adventure, Drama</td>\n",
       "      <td>Anthony Russo, Joe Russo</td>\n",
       "      <td>...</td>\n",
       "      <td>4.0</td>\n",
       "      <td>NaN</td>\n",
       "      <td>7.18</td>\n",
       "      <td>NaN</td>\n",
       "      <td>4.218914e+08</td>\n",
       "      <td>7.16</td>\n",
       "      <td>15.53</td>\n",
       "      <td>1.688389e+08</td>\n",
       "      <td>6.97</td>\n",
       "      <td>10.38</td>\n",
       "    </tr>\n",
       "    <tr>\n",
       "      <th>2</th>\n",
       "      <td>2</td>\n",
       "      <td>Pirates of the Caribbean: On Stranger Tides</td>\n",
       "      <td>379000000</td>\n",
       "      <td>241071802</td>\n",
       "      <td>1045713802</td>\n",
       "      <td>Pirates of the Caribbean: On Stranger Tides</td>\n",
       "      <td>teens</td>\n",
       "      <td>136.0</td>\n",
       "      <td>Action, Adventure, Fantasy</td>\n",
       "      <td>Rob Marshall</td>\n",
       "      <td>...</td>\n",
       "      <td>5.0</td>\n",
       "      <td>1.314813e+08</td>\n",
       "      <td>6.58</td>\n",
       "      <td>9.21</td>\n",
       "      <td>1.762009e+08</td>\n",
       "      <td>6.81</td>\n",
       "      <td>10.33</td>\n",
       "      <td>8.391134e+07</td>\n",
       "      <td>6.50</td>\n",
       "      <td>8.44</td>\n",
       "    </tr>\n",
       "    <tr>\n",
       "      <th>3</th>\n",
       "      <td>3</td>\n",
       "      <td>Avengers: Age of Ultron</td>\n",
       "      <td>365000000</td>\n",
       "      <td>459005868</td>\n",
       "      <td>1395316979</td>\n",
       "      <td>Avengers: Age of Ultron</td>\n",
       "      <td>teens</td>\n",
       "      <td>141.0</td>\n",
       "      <td>Action, Adventure, Sci-Fi</td>\n",
       "      <td>Joss Whedon</td>\n",
       "      <td>...</td>\n",
       "      <td>5.0</td>\n",
       "      <td>3.513501e+08</td>\n",
       "      <td>7.78</td>\n",
       "      <td>14.81</td>\n",
       "      <td>3.273985e+08</td>\n",
       "      <td>6.71</td>\n",
       "      <td>13.71</td>\n",
       "      <td>1.688389e+08</td>\n",
       "      <td>6.97</td>\n",
       "      <td>10.38</td>\n",
       "    </tr>\n",
       "    <tr>\n",
       "      <th>4</th>\n",
       "      <td>4</td>\n",
       "      <td>Fast X</td>\n",
       "      <td>340000000</td>\n",
       "      <td>145960660</td>\n",
       "      <td>714414576</td>\n",
       "      <td>Fast X</td>\n",
       "      <td>teens</td>\n",
       "      <td>141.0</td>\n",
       "      <td>Action, Adventure, Crime</td>\n",
       "      <td>Louis Leterrier</td>\n",
       "      <td>...</td>\n",
       "      <td>5.0</td>\n",
       "      <td>1.081561e+08</td>\n",
       "      <td>6.31</td>\n",
       "      <td>8.48</td>\n",
       "      <td>9.776042e+07</td>\n",
       "      <td>5.97</td>\n",
       "      <td>7.81</td>\n",
       "      <td>9.731984e+07</td>\n",
       "      <td>6.17</td>\n",
       "      <td>8.09</td>\n",
       "    </tr>\n",
       "  </tbody>\n",
       "</table>\n",
       "<p>5 rows × 30 columns</p>\n",
       "</div>"
      ],
      "text/plain": [
       "   Unnamed: 0                                        Movie  ProductionBudget  \\\n",
       "0           0                     Avatar: The Way of Water         460000000   \n",
       "1           1                            Avengers: Endgame         400000000   \n",
       "2           2  Pirates of the Caribbean: On Stranger Tides         379000000   \n",
       "3           3                      Avengers: Age of Ultron         365000000   \n",
       "4           4                                       Fast X         340000000   \n",
       "\n",
       "   DomesticGross  WorldwideGross                                   OMDB_Title  \\\n",
       "0      684075767      2319591720                     Avatar: The Way of Water   \n",
       "1      858373000      2788912285                            Avengers: Endgame   \n",
       "2      241071802      1045713802  Pirates of the Caribbean: On Stranger Tides   \n",
       "3      459005868      1395316979                      Avengers: Age of Ultron   \n",
       "4      145960660       714414576                                       Fast X   \n",
       "\n",
       "  OMDB_Rated  OMDB_Runtime                  OMDB_Genre  \\\n",
       "0      teens         192.0  Action, Adventure, Fantasy   \n",
       "1      teens         181.0    Action, Adventure, Drama   \n",
       "2      teens         136.0  Action, Adventure, Fantasy   \n",
       "3      teens         141.0   Action, Adventure, Sci-Fi   \n",
       "4      teens         141.0    Action, Adventure, Crime   \n",
       "\n",
       "              OMDB_Director  ... ReleaseMonth Director_Avg_Box  \\\n",
       "0             James Cameron  ...         12.0     3.342183e+08   \n",
       "1  Anthony Russo, Joe Russo  ...          4.0              NaN   \n",
       "2              Rob Marshall  ...          5.0     1.314813e+08   \n",
       "3               Joss Whedon  ...          5.0     3.513501e+08   \n",
       "4           Louis Leterrier  ...          5.0     1.081561e+08   \n",
       "\n",
       "  Director_Avg_Rating Director_Score  Writer_Avg_Box  Writer_Avg_Rating  \\\n",
       "0                7.91          14.60    2.850750e+08               7.33   \n",
       "1                7.18            NaN    4.218914e+08               7.16   \n",
       "2                6.58           9.21    1.762009e+08               6.81   \n",
       "3                7.78          14.81    3.273985e+08               6.71   \n",
       "4                6.31           8.48    9.776042e+07               5.97   \n",
       "\n",
       "   Writer_Score  Actor_Avg_Box Actor_Avg_Rating  Actor_Score  \n",
       "0         13.03   1.611777e+08             6.56         9.78  \n",
       "1         15.53   1.688389e+08             6.97        10.38  \n",
       "2         10.33   8.391134e+07             6.50         8.44  \n",
       "3         13.71   1.688389e+08             6.97        10.38  \n",
       "4          7.81   9.731984e+07             6.17         8.09  \n",
       "\n",
       "[5 rows x 30 columns]"
      ]
     },
     "execution_count": 1,
     "metadata": {},
     "output_type": "execute_result"
    }
   ],
   "source": [
    "# Import our dependencies\n",
    "from sklearn.model_selection import train_test_split\n",
    "from sklearn.preprocessing import StandardScaler, LabelEncoder\n",
    "from sklearn.ensemble import RandomForestClassifier, RandomForestRegressor\n",
    "from sklearn.metrics import confusion_matrix, accuracy_score, classification_report, mean_squared_error\n",
    "import pandas as pd\n",
    "import tensorflow as tf\n",
    "from tensorflow import keras\n",
    "import keras_tuner as kt\n",
    "\n",
    "#  Import and read the data\n",
    "application_df = pd.read_csv(\"./Resources/movies_people2numbers.csv\")\n",
    "application_df.head()"
   ]
  },
  {
   "cell_type": "code",
   "execution_count": 2,
   "metadata": {
    "tags": []
   },
   "outputs": [
    {
     "data": {
      "text/plain": [
       "Index(['Unnamed: 0', 'Movie', 'ProductionBudget', 'DomesticGross',\n",
       "       'WorldwideGross', 'OMDB_Title', 'OMDB_Rated', 'OMDB_Runtime',\n",
       "       'OMDB_Genre', 'OMDB_Director', 'OMDB_Writer', 'OMDB_Actors',\n",
       "       'OMDB_Language', 'OMDB_Country', 'OMDB_Metascore', 'OMDB_imdbRating',\n",
       "       'OMDB_imdbVotes', 'OMDB_BoxOffice', 'OMDB_Production', 'ReleaseYear',\n",
       "       'ReleaseMonth', 'Director_Avg_Box', 'Director_Avg_Rating',\n",
       "       'Director_Score', 'Writer_Avg_Box', 'Writer_Avg_Rating', 'Writer_Score',\n",
       "       'Actor_Avg_Box', 'Actor_Avg_Rating', 'Actor_Score'],\n",
       "      dtype='object')"
      ]
     },
     "execution_count": 2,
     "metadata": {},
     "output_type": "execute_result"
    }
   ],
   "source": [
    "application_df.columns"
   ]
  },
  {
   "cell_type": "markdown",
   "metadata": {},
   "source": [
    "# Model for IMDB Rating for a Movie Maker with a plan"
   ]
  },
  {
   "cell_type": "code",
   "execution_count": 3,
   "metadata": {},
   "outputs": [
    {
     "name": "stdout",
     "output_type": "stream",
     "text": [
      "5532\n"
     ]
    },
    {
     "data": {
      "text/html": [
       "<div>\n",
       "<style scoped>\n",
       "    .dataframe tbody tr th:only-of-type {\n",
       "        vertical-align: middle;\n",
       "    }\n",
       "\n",
       "    .dataframe tbody tr th {\n",
       "        vertical-align: top;\n",
       "    }\n",
       "\n",
       "    .dataframe thead th {\n",
       "        text-align: right;\n",
       "    }\n",
       "</style>\n",
       "<table border=\"1\" class=\"dataframe\">\n",
       "  <thead>\n",
       "    <tr style=\"text-align: right;\">\n",
       "      <th></th>\n",
       "      <th>ProductionBudget</th>\n",
       "      <th>OMDB_Rated</th>\n",
       "      <th>Director_Avg_Rating</th>\n",
       "      <th>OMDB_Runtime</th>\n",
       "      <th>ReleaseMonth</th>\n",
       "      <th>Writer_Avg_Rating</th>\n",
       "      <th>Actor_Avg_Rating</th>\n",
       "      <th>OMDB_imdbRating</th>\n",
       "    </tr>\n",
       "  </thead>\n",
       "  <tbody>\n",
       "    <tr>\n",
       "      <th>0</th>\n",
       "      <td>460000000</td>\n",
       "      <td>teens</td>\n",
       "      <td>7.91</td>\n",
       "      <td>192.0</td>\n",
       "      <td>12.0</td>\n",
       "      <td>7.33</td>\n",
       "      <td>6.56</td>\n",
       "      <td>7.6</td>\n",
       "    </tr>\n",
       "    <tr>\n",
       "      <th>1</th>\n",
       "      <td>400000000</td>\n",
       "      <td>teens</td>\n",
       "      <td>7.18</td>\n",
       "      <td>181.0</td>\n",
       "      <td>4.0</td>\n",
       "      <td>7.16</td>\n",
       "      <td>6.97</td>\n",
       "      <td>8.4</td>\n",
       "    </tr>\n",
       "    <tr>\n",
       "      <th>2</th>\n",
       "      <td>379000000</td>\n",
       "      <td>teens</td>\n",
       "      <td>6.58</td>\n",
       "      <td>136.0</td>\n",
       "      <td>5.0</td>\n",
       "      <td>6.81</td>\n",
       "      <td>6.50</td>\n",
       "      <td>6.6</td>\n",
       "    </tr>\n",
       "    <tr>\n",
       "      <th>3</th>\n",
       "      <td>365000000</td>\n",
       "      <td>teens</td>\n",
       "      <td>7.78</td>\n",
       "      <td>141.0</td>\n",
       "      <td>5.0</td>\n",
       "      <td>6.71</td>\n",
       "      <td>6.97</td>\n",
       "      <td>7.3</td>\n",
       "    </tr>\n",
       "    <tr>\n",
       "      <th>4</th>\n",
       "      <td>340000000</td>\n",
       "      <td>teens</td>\n",
       "      <td>6.31</td>\n",
       "      <td>141.0</td>\n",
       "      <td>5.0</td>\n",
       "      <td>5.97</td>\n",
       "      <td>6.17</td>\n",
       "      <td>5.8</td>\n",
       "    </tr>\n",
       "  </tbody>\n",
       "</table>\n",
       "</div>"
      ],
      "text/plain": [
       "   ProductionBudget OMDB_Rated  Director_Avg_Rating  OMDB_Runtime  \\\n",
       "0         460000000      teens                 7.91         192.0   \n",
       "1         400000000      teens                 7.18         181.0   \n",
       "2         379000000      teens                 6.58         136.0   \n",
       "3         365000000      teens                 7.78         141.0   \n",
       "4         340000000      teens                 6.31         141.0   \n",
       "\n",
       "   ReleaseMonth  Writer_Avg_Rating  Actor_Avg_Rating  OMDB_imdbRating  \n",
       "0          12.0               7.33              6.56              7.6  \n",
       "1           4.0               7.16              6.97              8.4  \n",
       "2           5.0               6.81              6.50              6.6  \n",
       "3           5.0               6.71              6.97              7.3  \n",
       "4           5.0               5.97              6.17              5.8  "
      ]
     },
     "execution_count": 3,
     "metadata": {},
     "output_type": "execute_result"
    }
   ],
   "source": [
    "df_rating = application_df[['ProductionBudget', 'OMDB_Rated', 'Director_Avg_Rating', 'OMDB_Runtime', 'ReleaseMonth', \n",
    "                            'Writer_Avg_Rating', 'Actor_Avg_Rating', 'OMDB_imdbRating']]\n",
    "df_rating = df_rating.dropna()\n",
    "print(len(df_rating))\n",
    "df_rating.head()"
   ]
  },
  {
   "cell_type": "markdown",
   "metadata": {},
   "source": [
    "## Set the non-numerical data to dummy columns and set features vs. target"
   ]
  },
  {
   "cell_type": "code",
   "execution_count": 4,
   "metadata": {
    "tags": []
   },
   "outputs": [
    {
     "data": {
      "text/html": [
       "<div>\n",
       "<style scoped>\n",
       "    .dataframe tbody tr th:only-of-type {\n",
       "        vertical-align: middle;\n",
       "    }\n",
       "\n",
       "    .dataframe tbody tr th {\n",
       "        vertical-align: top;\n",
       "    }\n",
       "\n",
       "    .dataframe thead th {\n",
       "        text-align: right;\n",
       "    }\n",
       "</style>\n",
       "<table border=\"1\" class=\"dataframe\">\n",
       "  <thead>\n",
       "    <tr style=\"text-align: right;\">\n",
       "      <th></th>\n",
       "      <th>ProductionBudget</th>\n",
       "      <th>Director_Avg_Rating</th>\n",
       "      <th>OMDB_Runtime</th>\n",
       "      <th>ReleaseMonth</th>\n",
       "      <th>Writer_Avg_Rating</th>\n",
       "      <th>Actor_Avg_Rating</th>\n",
       "      <th>OMDB_imdbRating</th>\n",
       "      <th>OMDB_Rated_adults</th>\n",
       "      <th>OMDB_Rated_kids</th>\n",
       "      <th>OMDB_Rated_teens</th>\n",
       "      <th>OMDB_Rated_unknown</th>\n",
       "    </tr>\n",
       "  </thead>\n",
       "  <tbody>\n",
       "    <tr>\n",
       "      <th>0</th>\n",
       "      <td>460000000</td>\n",
       "      <td>7.91</td>\n",
       "      <td>192.0</td>\n",
       "      <td>12.0</td>\n",
       "      <td>7.33</td>\n",
       "      <td>6.56</td>\n",
       "      <td>7.6</td>\n",
       "      <td>0</td>\n",
       "      <td>0</td>\n",
       "      <td>1</td>\n",
       "      <td>0</td>\n",
       "    </tr>\n",
       "    <tr>\n",
       "      <th>1</th>\n",
       "      <td>400000000</td>\n",
       "      <td>7.18</td>\n",
       "      <td>181.0</td>\n",
       "      <td>4.0</td>\n",
       "      <td>7.16</td>\n",
       "      <td>6.97</td>\n",
       "      <td>8.4</td>\n",
       "      <td>0</td>\n",
       "      <td>0</td>\n",
       "      <td>1</td>\n",
       "      <td>0</td>\n",
       "    </tr>\n",
       "    <tr>\n",
       "      <th>2</th>\n",
       "      <td>379000000</td>\n",
       "      <td>6.58</td>\n",
       "      <td>136.0</td>\n",
       "      <td>5.0</td>\n",
       "      <td>6.81</td>\n",
       "      <td>6.50</td>\n",
       "      <td>6.6</td>\n",
       "      <td>0</td>\n",
       "      <td>0</td>\n",
       "      <td>1</td>\n",
       "      <td>0</td>\n",
       "    </tr>\n",
       "    <tr>\n",
       "      <th>3</th>\n",
       "      <td>365000000</td>\n",
       "      <td>7.78</td>\n",
       "      <td>141.0</td>\n",
       "      <td>5.0</td>\n",
       "      <td>6.71</td>\n",
       "      <td>6.97</td>\n",
       "      <td>7.3</td>\n",
       "      <td>0</td>\n",
       "      <td>0</td>\n",
       "      <td>1</td>\n",
       "      <td>0</td>\n",
       "    </tr>\n",
       "    <tr>\n",
       "      <th>4</th>\n",
       "      <td>340000000</td>\n",
       "      <td>6.31</td>\n",
       "      <td>141.0</td>\n",
       "      <td>5.0</td>\n",
       "      <td>5.97</td>\n",
       "      <td>6.17</td>\n",
       "      <td>5.8</td>\n",
       "      <td>0</td>\n",
       "      <td>0</td>\n",
       "      <td>1</td>\n",
       "      <td>0</td>\n",
       "    </tr>\n",
       "  </tbody>\n",
       "</table>\n",
       "</div>"
      ],
      "text/plain": [
       "   ProductionBudget  Director_Avg_Rating  OMDB_Runtime  ReleaseMonth  \\\n",
       "0         460000000                 7.91         192.0          12.0   \n",
       "1         400000000                 7.18         181.0           4.0   \n",
       "2         379000000                 6.58         136.0           5.0   \n",
       "3         365000000                 7.78         141.0           5.0   \n",
       "4         340000000                 6.31         141.0           5.0   \n",
       "\n",
       "   Writer_Avg_Rating  Actor_Avg_Rating  OMDB_imdbRating  OMDB_Rated_adults  \\\n",
       "0               7.33              6.56              7.6                  0   \n",
       "1               7.16              6.97              8.4                  0   \n",
       "2               6.81              6.50              6.6                  0   \n",
       "3               6.71              6.97              7.3                  0   \n",
       "4               5.97              6.17              5.8                  0   \n",
       "\n",
       "   OMDB_Rated_kids  OMDB_Rated_teens  OMDB_Rated_unknown  \n",
       "0                0                 1                   0  \n",
       "1                0                 1                   0  \n",
       "2                0                 1                   0  \n",
       "3                0                 1                   0  \n",
       "4                0                 1                   0  "
      ]
     },
     "execution_count": 4,
     "metadata": {},
     "output_type": "execute_result"
    }
   ],
   "source": [
    "df_rating = pd.get_dummies(data=df_rating, columns=['OMDB_Rated'])\n",
    "df_rating.head()"
   ]
  },
  {
   "cell_type": "code",
   "execution_count": 5,
   "metadata": {},
   "outputs": [],
   "source": [
    "y = df_rating['OMDB_imdbRating']\n",
    "X = df_rating.drop(columns='OMDB_imdbRating')\n",
    "\n",
    "# Split the data into training and testing sets\n",
    "X_train, X_test, y_train, y_test = train_test_split(X, y, test_size=0.2, random_state=42)"
   ]
  },
  {
   "cell_type": "code",
   "execution_count": 6,
   "metadata": {
    "tags": []
   },
   "outputs": [
    {
     "name": "stdout",
     "output_type": "stream",
     "text": [
      "Mean Squared Error: 0.14343423938572725\n"
     ]
    },
    {
     "data": {
      "text/plain": [
       "[(0.775962504089004, 'Writer_Avg_Rating'),\n",
       " (0.08416091027943252, 'Actor_Avg_Rating'),\n",
       " (0.07750321349719089, 'Director_Avg_Rating'),\n",
       " (0.024536243031825198, 'ProductionBudget'),\n",
       " (0.01961432744416958, 'OMDB_Runtime'),\n",
       " (0.011969548930016472, 'ReleaseMonth'),\n",
       " (0.002429811626970836, 'OMDB_Rated_teens'),\n",
       " (0.002042909616134324, 'OMDB_Rated_adults'),\n",
       " (0.0014000102702094257, 'OMDB_Rated_kids'),\n",
       " (0.00038052121504678044, 'OMDB_Rated_unknown')]"
      ]
     },
     "execution_count": 6,
     "metadata": {},
     "output_type": "execute_result"
    }
   ],
   "source": [
    "# Initialize the Random Forest Regressor\n",
    "rf_model_rating = RandomForestRegressor(n_estimators=100, random_state=42)\n",
    "\n",
    "# Train the model\n",
    "rf_model_rating.fit(X_train, y_train)\n",
    "\n",
    "# Make predictions on the test set\n",
    "rating_predictions = rf_model_rating.predict(X_test)\n",
    "\n",
    "# Evaluate the model\n",
    "mse = mean_squared_error(y_test, rating_predictions)\n",
    "print(f'Mean Squared Error: {mse}')\n",
    "\n",
    "# Random Forests in sklearn will automatically calculate feature importance\n",
    "importances = rf_model_rating.feature_importances_\n",
    "# We can sort the features by their importance\n",
    "sorted(zip(rf_model_rating.feature_importances_, X.columns), reverse=True)"
   ]
  },
  {
   "cell_type": "markdown",
   "metadata": {},
   "source": [
    "# Applying Keras Tuner"
   ]
  },
  {
   "cell_type": "code",
   "execution_count": 7,
   "metadata": {
    "tags": []
   },
   "outputs": [],
   "source": [
    "# # Create a StandardScaler instances\n",
    "# scaler = StandardScaler()\n",
    "\n",
    "# # Fit the StandardScaler\n",
    "# X_scaler = scaler.fit(X_train)\n",
    "\n",
    "# # Scale the data\n",
    "# X_train_scaled = X_scaler.transform(X_train)\n",
    "# X_test_scaled = X_scaler.transform(X_test)\n",
    "\n",
    "# Skipping the scaling:\n",
    "X_train_scaled = X_train\n",
    "X_test_scaled = X_test"
   ]
  },
  {
   "cell_type": "code",
   "execution_count": 8,
   "metadata": {
    "tags": []
   },
   "outputs": [],
   "source": [
    "def create_model(hp):\n",
    "    movie_model = tf.keras.models.Sequential()\n",
    "\n",
    "    # Allow kerastuner to decide which activation function to use in hidden layers\n",
    "    activation = hp.Choice('activation',['relu','tanh','sigmoid'])\n",
    "\n",
    "    # Allow kerastuner to decide which optimizer\n",
    "    optimizer = hp.Choice('opt', values=['adam', 'sgd', 'rmsprop'])\n",
    "    \n",
    "    # Allow kerastuner to decide number of neurons in first layer\n",
    "    movie_model.add(tf.keras.layers.Dense(units=hp.Int('first_units', min_value=1, max_value=10, step=2), \n",
    "                                          activation=activation, input_dim=10))\n",
    "\n",
    "    # Allow kerastuner to decide number of hidden layers and neurons in hidden layers\n",
    "    for i in range(hp.Int('num_layers', 1, 6)):\n",
    "        movie_model.add(tf.keras.layers.Dense(units=hp.Int('units_' + str(i),\n",
    "            min_value=1,\n",
    "            max_value=10,\n",
    "            step=2),\n",
    "            activation=activation))\n",
    "\n",
    "    movie_model.add(tf.keras.layers.Dense(units=1, activation=\"sigmoid\"))\n",
    "\n",
    "    # learning_rate = hp.Choice('learning_rate', values=[1e-2, 1e-3, 1e-4])\n",
    "    \n",
    "    # Compile the model\n",
    "    movie_model.compile(loss=\"mse\", optimizer=optimizer, metrics=[tf.keras.metrics.MeanSquaredError()])\n",
    "\n",
    "    return movie_model"
   ]
  },
  {
   "cell_type": "code",
   "execution_count": 9,
   "metadata": {
    "tags": []
   },
   "outputs": [],
   "source": [
    "tuner = kt.Hyperband(\n",
    "    create_model,\n",
    "    objective=\"val_loss\",\n",
    "    max_epochs=20,\n",
    "    hyperband_iterations=2, \n",
    "    project_name='movie_viewers')"
   ]
  },
  {
   "cell_type": "code",
   "execution_count": 10,
   "metadata": {
    "tags": []
   },
   "outputs": [
    {
     "name": "stdout",
     "output_type": "stream",
     "text": [
      "Trial 60 Complete [00h 00m 06s]\n",
      "val_loss: 29.748559951782227\n",
      "\n",
      "Best val_loss So Far: 29.711294174194336\n",
      "Total elapsed time: 00h 02m 43s\n"
     ]
    }
   ],
   "source": [
    "# Run the kerastuner search for best hyperparameters\n",
    "tuner.search(X_train_scaled,y_train,epochs=20,validation_data=(X_test_scaled,y_test))"
   ]
  },
  {
   "cell_type": "code",
   "execution_count": 11,
   "metadata": {
    "tags": []
   },
   "outputs": [
    {
     "data": {
      "text/plain": [
       "{'activation': 'relu',\n",
       " 'opt': 'sgd',\n",
       " 'first_units': 7,\n",
       " 'num_layers': 2,\n",
       " 'units_0': 9,\n",
       " 'units_1': 7,\n",
       " 'units_2': 1,\n",
       " 'units_3': 5,\n",
       " 'units_4': 1,\n",
       " 'units_5': 7,\n",
       " 'tuner/epochs': 3,\n",
       " 'tuner/initial_epoch': 0,\n",
       " 'tuner/bracket': 2,\n",
       " 'tuner/round': 0}"
      ]
     },
     "execution_count": 11,
     "metadata": {},
     "output_type": "execute_result"
    }
   ],
   "source": [
    "# Get best model hyperparameters\n",
    "best_hyper = tuner.get_best_hyperparameters(1)[0]\n",
    "best_hyper.values"
   ]
  },
  {
   "cell_type": "code",
   "execution_count": 12,
   "metadata": {
    "tags": []
   },
   "outputs": [
    {
     "name": "stdout",
     "output_type": "stream",
     "text": [
      "35/35 - 0s - loss: 29.7113 - mean_squared_error: 29.7113 - 100ms/epoch - 3ms/step\n",
      "Loss: 29.711294174194336, MSE: 29.711294174194336\n"
     ]
    }
   ],
   "source": [
    "# Evaluate best model against full test data\n",
    "best_model = tuner.get_best_models(1)[0]\n",
    "model_loss, model_accuracy = best_model.evaluate(X_test_scaled,y_test,verbose=2)\n",
    "print(f\"Loss: {model_loss}, MSE: {model_accuracy}\")"
   ]
  },
  {
   "cell_type": "code",
   "execution_count": 13,
   "metadata": {
    "tags": []
   },
   "outputs": [
    {
     "name": "stdout",
     "output_type": "stream",
     "text": [
      "Model: \"sequential\"\n",
      "_________________________________________________________________\n",
      " Layer (type)                Output Shape              Param #   \n",
      "=================================================================\n",
      " dense (Dense)               (None, 7)                 77        \n",
      "                                                                 \n",
      " dense_1 (Dense)             (None, 9)                 72        \n",
      "                                                                 \n",
      " dense_2 (Dense)             (None, 7)                 70        \n",
      "                                                                 \n",
      " dense_3 (Dense)             (None, 1)                 8         \n",
      "                                                                 \n",
      "=================================================================\n",
      "Total params: 227 (908.00 Byte)\n",
      "Trainable params: 227 (908.00 Byte)\n",
      "Non-trainable params: 0 (0.00 Byte)\n",
      "_________________________________________________________________\n"
     ]
    }
   ],
   "source": [
    "best_model.summary()"
   ]
  },
  {
   "cell_type": "markdown",
   "metadata": {},
   "source": [
    "# Model for Viewer using Metascore as a critic review available before movie release"
   ]
  },
  {
   "cell_type": "code",
   "execution_count": 14,
   "metadata": {
    "tags": []
   },
   "outputs": [
    {
     "name": "stdout",
     "output_type": "stream",
     "text": [
      "4915\n"
     ]
    },
    {
     "data": {
      "text/html": [
       "<div>\n",
       "<style scoped>\n",
       "    .dataframe tbody tr th:only-of-type {\n",
       "        vertical-align: middle;\n",
       "    }\n",
       "\n",
       "    .dataframe tbody tr th {\n",
       "        vertical-align: top;\n",
       "    }\n",
       "\n",
       "    .dataframe thead th {\n",
       "        text-align: right;\n",
       "    }\n",
       "</style>\n",
       "<table border=\"1\" class=\"dataframe\">\n",
       "  <thead>\n",
       "    <tr style=\"text-align: right;\">\n",
       "      <th></th>\n",
       "      <th>ProductionBudget</th>\n",
       "      <th>OMDB_Rated</th>\n",
       "      <th>Director_Avg_Rating</th>\n",
       "      <th>OMDB_Runtime</th>\n",
       "      <th>ReleaseMonth</th>\n",
       "      <th>Writer_Avg_Rating</th>\n",
       "      <th>Actor_Avg_Rating</th>\n",
       "      <th>OMDB_imdbRating</th>\n",
       "      <th>OMDB_Metascore</th>\n",
       "    </tr>\n",
       "  </thead>\n",
       "  <tbody>\n",
       "    <tr>\n",
       "      <th>0</th>\n",
       "      <td>460000000</td>\n",
       "      <td>teens</td>\n",
       "      <td>7.91</td>\n",
       "      <td>192.0</td>\n",
       "      <td>12.0</td>\n",
       "      <td>7.33</td>\n",
       "      <td>6.56</td>\n",
       "      <td>7.6</td>\n",
       "      <td>67.0</td>\n",
       "    </tr>\n",
       "    <tr>\n",
       "      <th>1</th>\n",
       "      <td>400000000</td>\n",
       "      <td>teens</td>\n",
       "      <td>7.18</td>\n",
       "      <td>181.0</td>\n",
       "      <td>4.0</td>\n",
       "      <td>7.16</td>\n",
       "      <td>6.97</td>\n",
       "      <td>8.4</td>\n",
       "      <td>78.0</td>\n",
       "    </tr>\n",
       "    <tr>\n",
       "      <th>2</th>\n",
       "      <td>379000000</td>\n",
       "      <td>teens</td>\n",
       "      <td>6.58</td>\n",
       "      <td>136.0</td>\n",
       "      <td>5.0</td>\n",
       "      <td>6.81</td>\n",
       "      <td>6.50</td>\n",
       "      <td>6.6</td>\n",
       "      <td>45.0</td>\n",
       "    </tr>\n",
       "    <tr>\n",
       "      <th>3</th>\n",
       "      <td>365000000</td>\n",
       "      <td>teens</td>\n",
       "      <td>7.78</td>\n",
       "      <td>141.0</td>\n",
       "      <td>5.0</td>\n",
       "      <td>6.71</td>\n",
       "      <td>6.97</td>\n",
       "      <td>7.3</td>\n",
       "      <td>66.0</td>\n",
       "    </tr>\n",
       "    <tr>\n",
       "      <th>4</th>\n",
       "      <td>340000000</td>\n",
       "      <td>teens</td>\n",
       "      <td>6.31</td>\n",
       "      <td>141.0</td>\n",
       "      <td>5.0</td>\n",
       "      <td>5.97</td>\n",
       "      <td>6.17</td>\n",
       "      <td>5.8</td>\n",
       "      <td>56.0</td>\n",
       "    </tr>\n",
       "  </tbody>\n",
       "</table>\n",
       "</div>"
      ],
      "text/plain": [
       "   ProductionBudget OMDB_Rated  Director_Avg_Rating  OMDB_Runtime  \\\n",
       "0         460000000      teens                 7.91         192.0   \n",
       "1         400000000      teens                 7.18         181.0   \n",
       "2         379000000      teens                 6.58         136.0   \n",
       "3         365000000      teens                 7.78         141.0   \n",
       "4         340000000      teens                 6.31         141.0   \n",
       "\n",
       "   ReleaseMonth  Writer_Avg_Rating  Actor_Avg_Rating  OMDB_imdbRating  \\\n",
       "0          12.0               7.33              6.56              7.6   \n",
       "1           4.0               7.16              6.97              8.4   \n",
       "2           5.0               6.81              6.50              6.6   \n",
       "3           5.0               6.71              6.97              7.3   \n",
       "4           5.0               5.97              6.17              5.8   \n",
       "\n",
       "   OMDB_Metascore  \n",
       "0            67.0  \n",
       "1            78.0  \n",
       "2            45.0  \n",
       "3            66.0  \n",
       "4            56.0  "
      ]
     },
     "execution_count": 14,
     "metadata": {},
     "output_type": "execute_result"
    }
   ],
   "source": [
    "df_rating_v = application_df[['ProductionBudget', 'OMDB_Rated', 'Director_Avg_Rating', 'OMDB_Runtime', 'ReleaseMonth', \n",
    "                            'Writer_Avg_Rating', 'Actor_Avg_Rating', 'OMDB_imdbRating', 'OMDB_Metascore']]\n",
    "df_rating_v = df_rating_v.dropna()\n",
    "print(len(df_rating_v))\n",
    "df_rating_v.head()"
   ]
  },
  {
   "cell_type": "code",
   "execution_count": 15,
   "metadata": {
    "tags": []
   },
   "outputs": [
    {
     "data": {
      "text/html": [
       "<div>\n",
       "<style scoped>\n",
       "    .dataframe tbody tr th:only-of-type {\n",
       "        vertical-align: middle;\n",
       "    }\n",
       "\n",
       "    .dataframe tbody tr th {\n",
       "        vertical-align: top;\n",
       "    }\n",
       "\n",
       "    .dataframe thead th {\n",
       "        text-align: right;\n",
       "    }\n",
       "</style>\n",
       "<table border=\"1\" class=\"dataframe\">\n",
       "  <thead>\n",
       "    <tr style=\"text-align: right;\">\n",
       "      <th></th>\n",
       "      <th>ProductionBudget</th>\n",
       "      <th>Director_Avg_Rating</th>\n",
       "      <th>OMDB_Runtime</th>\n",
       "      <th>ReleaseMonth</th>\n",
       "      <th>Writer_Avg_Rating</th>\n",
       "      <th>Actor_Avg_Rating</th>\n",
       "      <th>OMDB_imdbRating</th>\n",
       "      <th>OMDB_Metascore</th>\n",
       "      <th>OMDB_Rated_adults</th>\n",
       "      <th>OMDB_Rated_kids</th>\n",
       "      <th>OMDB_Rated_teens</th>\n",
       "      <th>OMDB_Rated_unknown</th>\n",
       "    </tr>\n",
       "  </thead>\n",
       "  <tbody>\n",
       "    <tr>\n",
       "      <th>0</th>\n",
       "      <td>460000000</td>\n",
       "      <td>7.91</td>\n",
       "      <td>192.0</td>\n",
       "      <td>12.0</td>\n",
       "      <td>7.33</td>\n",
       "      <td>6.56</td>\n",
       "      <td>7.6</td>\n",
       "      <td>67.0</td>\n",
       "      <td>0</td>\n",
       "      <td>0</td>\n",
       "      <td>1</td>\n",
       "      <td>0</td>\n",
       "    </tr>\n",
       "    <tr>\n",
       "      <th>1</th>\n",
       "      <td>400000000</td>\n",
       "      <td>7.18</td>\n",
       "      <td>181.0</td>\n",
       "      <td>4.0</td>\n",
       "      <td>7.16</td>\n",
       "      <td>6.97</td>\n",
       "      <td>8.4</td>\n",
       "      <td>78.0</td>\n",
       "      <td>0</td>\n",
       "      <td>0</td>\n",
       "      <td>1</td>\n",
       "      <td>0</td>\n",
       "    </tr>\n",
       "    <tr>\n",
       "      <th>2</th>\n",
       "      <td>379000000</td>\n",
       "      <td>6.58</td>\n",
       "      <td>136.0</td>\n",
       "      <td>5.0</td>\n",
       "      <td>6.81</td>\n",
       "      <td>6.50</td>\n",
       "      <td>6.6</td>\n",
       "      <td>45.0</td>\n",
       "      <td>0</td>\n",
       "      <td>0</td>\n",
       "      <td>1</td>\n",
       "      <td>0</td>\n",
       "    </tr>\n",
       "    <tr>\n",
       "      <th>3</th>\n",
       "      <td>365000000</td>\n",
       "      <td>7.78</td>\n",
       "      <td>141.0</td>\n",
       "      <td>5.0</td>\n",
       "      <td>6.71</td>\n",
       "      <td>6.97</td>\n",
       "      <td>7.3</td>\n",
       "      <td>66.0</td>\n",
       "      <td>0</td>\n",
       "      <td>0</td>\n",
       "      <td>1</td>\n",
       "      <td>0</td>\n",
       "    </tr>\n",
       "    <tr>\n",
       "      <th>4</th>\n",
       "      <td>340000000</td>\n",
       "      <td>6.31</td>\n",
       "      <td>141.0</td>\n",
       "      <td>5.0</td>\n",
       "      <td>5.97</td>\n",
       "      <td>6.17</td>\n",
       "      <td>5.8</td>\n",
       "      <td>56.0</td>\n",
       "      <td>0</td>\n",
       "      <td>0</td>\n",
       "      <td>1</td>\n",
       "      <td>0</td>\n",
       "    </tr>\n",
       "  </tbody>\n",
       "</table>\n",
       "</div>"
      ],
      "text/plain": [
       "   ProductionBudget  Director_Avg_Rating  OMDB_Runtime  ReleaseMonth  \\\n",
       "0         460000000                 7.91         192.0          12.0   \n",
       "1         400000000                 7.18         181.0           4.0   \n",
       "2         379000000                 6.58         136.0           5.0   \n",
       "3         365000000                 7.78         141.0           5.0   \n",
       "4         340000000                 6.31         141.0           5.0   \n",
       "\n",
       "   Writer_Avg_Rating  Actor_Avg_Rating  OMDB_imdbRating  OMDB_Metascore  \\\n",
       "0               7.33              6.56              7.6            67.0   \n",
       "1               7.16              6.97              8.4            78.0   \n",
       "2               6.81              6.50              6.6            45.0   \n",
       "3               6.71              6.97              7.3            66.0   \n",
       "4               5.97              6.17              5.8            56.0   \n",
       "\n",
       "   OMDB_Rated_adults  OMDB_Rated_kids  OMDB_Rated_teens  OMDB_Rated_unknown  \n",
       "0                  0                0                 1                   0  \n",
       "1                  0                0                 1                   0  \n",
       "2                  0                0                 1                   0  \n",
       "3                  0                0                 1                   0  \n",
       "4                  0                0                 1                   0  "
      ]
     },
     "execution_count": 15,
     "metadata": {},
     "output_type": "execute_result"
    }
   ],
   "source": [
    "df_rating_v = pd.get_dummies(data=df_rating_v, columns=['OMDB_Rated'])\n",
    "df_rating_v.head()"
   ]
  },
  {
   "cell_type": "code",
   "execution_count": 16,
   "metadata": {
    "tags": []
   },
   "outputs": [],
   "source": [
    "y_v = df_rating_v['OMDB_imdbRating']\n",
    "X_v = df_rating_v.drop(columns='OMDB_imdbRating')\n",
    "\n",
    "# Split the data into training and testing sets\n",
    "X_train_v, X_test_v, y_train_v, y_test_v = train_test_split(X_v, y_v, test_size=0.2, random_state=42)"
   ]
  },
  {
   "cell_type": "code",
   "execution_count": 17,
   "metadata": {
    "tags": []
   },
   "outputs": [
    {
     "name": "stdout",
     "output_type": "stream",
     "text": [
      "Mean Squared Error: 0.14351435808748733\n"
     ]
    },
    {
     "data": {
      "text/plain": [
       "[(0.7444759511126883, 'Writer_Avg_Rating'),\n",
       " (0.07199632693365078, 'Actor_Avg_Rating'),\n",
       " (0.06634227391786834, 'Director_Avg_Rating'),\n",
       " (0.057195323399641784, 'OMDB_Metascore'),\n",
       " (0.02264209080913981, 'ProductionBudget'),\n",
       " (0.019797193791530734, 'OMDB_Runtime'),\n",
       " (0.011693556884447107, 'ReleaseMonth'),\n",
       " (0.002185500858769274, 'OMDB_Rated_teens'),\n",
       " (0.0019713422677732195, 'OMDB_Rated_adults'),\n",
       " (0.0014500544966128733, 'OMDB_Rated_kids'),\n",
       " (0.00025038552787777073, 'OMDB_Rated_unknown')]"
      ]
     },
     "execution_count": 17,
     "metadata": {},
     "output_type": "execute_result"
    }
   ],
   "source": [
    "# Initialize the Random Forest Regressor\n",
    "rf_model_rating_v = RandomForestRegressor(n_estimators=100, random_state=42)\n",
    "\n",
    "# Train the model\n",
    "rf_model_rating_v.fit(X_train_v, y_train_v)\n",
    "\n",
    "# Make predictions on the test set\n",
    "rating_predictions_v = rf_model_rating_v.predict(X_test_v)\n",
    "\n",
    "# Evaluate the model\n",
    "mse_v = mean_squared_error(y_test_v, rating_predictions_v)\n",
    "print(f'Mean Squared Error: {mse_v}')\n",
    "\n",
    "# Random Forests in sklearn will automatically calculate feature importance\n",
    "importances_v = rf_model_rating_v.feature_importances_\n",
    "# We can sort the features by their importance\n",
    "sorted(zip(rf_model_rating_v.feature_importances_, X_v.columns), reverse=True)"
   ]
  },
  {
   "cell_type": "markdown",
   "metadata": {},
   "source": [
    "## Applying Keras Tuner"
   ]
  },
  {
   "cell_type": "code",
   "execution_count": 18,
   "metadata": {
    "tags": []
   },
   "outputs": [],
   "source": [
    "# # Create a StandardScaler instances\n",
    "# scaler = StandardScaler()\n",
    "\n",
    "# # Fit the StandardScaler\n",
    "# X_scaler_v = scaler.fit(X_train_v)\n",
    "\n",
    "# # Scale the data\n",
    "# X_train_scaled_v = X_scaler_v.transform(X_train_v)\n",
    "# X_test_scaled_v = X_scaler_v.transform(X_test_v)\n",
    "\n",
    "# Skipping the scaling:\n",
    "X_train_scaled_v = X_train_v\n",
    "X_test_scaled_v = X_test_v"
   ]
  },
  {
   "cell_type": "code",
   "execution_count": 19,
   "metadata": {
    "tags": []
   },
   "outputs": [],
   "source": [
    "def create_model_v(hp):\n",
    "    movie_model = tf.keras.models.Sequential()\n",
    "\n",
    "    # Allow kerastuner to decide which activation function to use in hidden layers\n",
    "    activation = hp.Choice('activation',['relu','tanh','sigmoid'])\n",
    "\n",
    "    # Allow kerastuner to decide which optimizer\n",
    "    optimizer = hp.Choice('opt', values=['adam', 'sgd', 'rmsprop'])\n",
    "    \n",
    "    # Allow kerastuner to decide number of neurons in first layer\n",
    "    movie_model.add(tf.keras.layers.Dense(units=hp.Int('first_units', min_value=1, max_value=10, step=2), \n",
    "                                          activation=activation, input_dim=11))\n",
    "\n",
    "    # Allow kerastuner to decide number of hidden layers and neurons in hidden layers\n",
    "    for i in range(hp.Int('num_layers', 1, 6)):\n",
    "        movie_model.add(tf.keras.layers.Dense(units=hp.Int('units_' + str(i),\n",
    "            min_value=1,\n",
    "            max_value=10,\n",
    "            step=2),\n",
    "            activation=activation))\n",
    "\n",
    "    movie_model.add(tf.keras.layers.Dense(units=1, activation=\"sigmoid\"))\n",
    "\n",
    "    # learning_rate = hp.Choice('learning_rate', values=[1e-2, 1e-3, 1e-4])\n",
    "    \n",
    "    # Compile the model\n",
    "    movie_model.compile(loss=\"mse\", optimizer='sgd', metrics=[tf.keras.metrics.MeanSquaredError()])\n",
    "\n",
    "    return movie_model"
   ]
  },
  {
   "cell_type": "code",
   "execution_count": 20,
   "metadata": {
    "tags": []
   },
   "outputs": [],
   "source": [
    "tuner_v = kt.Hyperband(\n",
    "    create_model_v,\n",
    "    objective=\"val_loss\",\n",
    "    max_epochs=20,\n",
    "    hyperband_iterations=2, \n",
    "    project_name='movie_makers')"
   ]
  },
  {
   "cell_type": "code",
   "execution_count": 21,
   "metadata": {
    "tags": []
   },
   "outputs": [
    {
     "name": "stdout",
     "output_type": "stream",
     "text": [
      "Trial 60 Complete [00h 00m 07s]\n",
      "val_loss: 30.799524307250977\n",
      "\n",
      "Best val_loss So Far: 30.79459571838379\n",
      "Total elapsed time: 00h 02m 33s\n"
     ]
    }
   ],
   "source": [
    "# Run the kerastuner search for best hyperparameters\n",
    "tuner_v.search(X_train_scaled_v,y_train_v,epochs=20,validation_data=(X_test_scaled_v,y_test_v))"
   ]
  },
  {
   "cell_type": "code",
   "execution_count": 22,
   "metadata": {
    "tags": []
   },
   "outputs": [
    {
     "data": {
      "text/plain": [
       "{'activation': 'relu',\n",
       " 'opt': 'rmsprop',\n",
       " 'first_units': 3,\n",
       " 'num_layers': 2,\n",
       " 'units_0': 7,\n",
       " 'units_1': 3,\n",
       " 'units_2': 7,\n",
       " 'units_3': 9,\n",
       " 'units_4': 3,\n",
       " 'tuner/epochs': 3,\n",
       " 'tuner/initial_epoch': 0,\n",
       " 'tuner/bracket': 2,\n",
       " 'tuner/round': 0}"
      ]
     },
     "execution_count": 22,
     "metadata": {},
     "output_type": "execute_result"
    }
   ],
   "source": [
    "# Get best model hyperparameters\n",
    "best_hyper_v = tuner_v.get_best_hyperparameters(1)[0]\n",
    "best_hyper_v.values"
   ]
  },
  {
   "cell_type": "code",
   "execution_count": 23,
   "metadata": {
    "tags": []
   },
   "outputs": [
    {
     "name": "stdout",
     "output_type": "stream",
     "text": [
      "31/31 - 0s - loss: 30.7946 - mean_squared_error: 30.7946 - 110ms/epoch - 4ms/step\n",
      "Loss: 30.79459571838379, MSE: 30.79459571838379\n"
     ]
    }
   ],
   "source": [
    "# Evaluate best model against full test data\n",
    "best_model_v = tuner_v.get_best_models(1)[0]\n",
    "model_loss_v, model_accuracy_v = best_model_v.evaluate(X_test_scaled_v,y_test_v,verbose=2)\n",
    "print(f\"Loss: {model_loss_v}, MSE: {model_accuracy_v}\")"
   ]
  },
  {
   "cell_type": "code",
   "execution_count": 24,
   "metadata": {
    "tags": []
   },
   "outputs": [
    {
     "name": "stdout",
     "output_type": "stream",
     "text": [
      "Model: \"sequential\"\n",
      "_________________________________________________________________\n",
      " Layer (type)                Output Shape              Param #   \n",
      "=================================================================\n",
      " dense (Dense)               (None, 3)                 36        \n",
      "                                                                 \n",
      " dense_1 (Dense)             (None, 7)                 28        \n",
      "                                                                 \n",
      " dense_2 (Dense)             (None, 3)                 24        \n",
      "                                                                 \n",
      " dense_3 (Dense)             (None, 1)                 4         \n",
      "                                                                 \n",
      "=================================================================\n",
      "Total params: 92 (368.00 Byte)\n",
      "Trainable params: 92 (368.00 Byte)\n",
      "Non-trainable params: 0 (0.00 Byte)\n",
      "_________________________________________________________________\n"
     ]
    }
   ],
   "source": [
    "best_model_v.summary()"
   ]
  },
  {
   "cell_type": "code",
   "execution_count": null,
   "metadata": {},
   "outputs": [],
   "source": []
  }
 ],
 "metadata": {
  "colab": {
   "provenance": []
  },
  "kernelspec": {
   "display_name": "Python 3 (ipykernel)",
   "language": "python",
   "name": "python3"
  },
  "language_info": {
   "codemirror_mode": {
    "name": "ipython",
    "version": 3
   },
   "file_extension": ".py",
   "mimetype": "text/x-python",
   "name": "python",
   "nbconvert_exporter": "python",
   "pygments_lexer": "ipython3",
   "version": "3.10.11"
  },
  "vscode": {
   "interpreter": {
    "hash": "31f2aee4e71d21fbe5cf8b01ff0e069b9275f58929596ceb00d14d90e3e16cd6"
   }
  }
 },
 "nbformat": 4,
 "nbformat_minor": 4
}
