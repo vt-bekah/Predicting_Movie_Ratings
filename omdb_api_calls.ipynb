{
 "cells": [
  {
   "cell_type": "code",
   "execution_count": 36,
   "id": "2ff14eac-81d2-4c51-8c94-23cbe4b66084",
   "metadata": {
    "tags": []
   },
   "outputs": [
    {
     "name": "stdout",
     "output_type": "stream",
     "text": [
      "      Unnamed: 0          ReleaseDate  \\\n",
      "0              0      1   Dec 9, 2022   \n",
      "1              1      2  Apr 23, 2019   \n",
      "2              2      3  May 20, 2011   \n",
      "3              3      4  Apr 22, 2015   \n",
      "4              4      5  May 17, 2023   \n",
      "...          ...    ...           ...   \n",
      "6395        6395  6,396  Jan 27, 2017   \n",
      "6396        6396  6,397  Jun 30, 1972   \n",
      "6397        6397  6,398   Aug 1, 1997   \n",
      "6398        6398  6,399  Jan 14, 2000   \n",
      "6399        6399  6,400  Jul 17, 2015   \n",
      "\n",
      "                                            Movie  ProductionBudget  \\\n",
      "0                        Avatar: The Way of Water       460000000.0   \n",
      "1                               Avengers: Endgame       400000000.0   \n",
      "2     Pirates of the Caribbean: On Stranger Tides       379000000.0   \n",
      "3                         Avengers: Age of Ultron       365000000.0   \n",
      "4                                          Fast X       340000000.0   \n",
      "...                                           ...               ...   \n",
      "6395                                        Emily           27000.0   \n",
      "6396                                  Deep Throat           25000.0   \n",
      "6397                        In the Company of Men           25000.0   \n",
      "6398                                The Terrorist           25000.0   \n",
      "6399                                       Exeter           25000.0   \n",
      "\n",
      "      DomesticGross  WorldwideGross  \n",
      "0       684075767.0    2.319592e+09  \n",
      "1       858373000.0    2.788912e+09  \n",
      "2       241071802.0    1.045714e+09  \n",
      "3       459005868.0    1.395317e+09  \n",
      "4       145960660.0    7.144145e+08  \n",
      "...             ...             ...  \n",
      "6395         3547.0    3.547000e+03  \n",
      "6396     45000000.0    4.500000e+07  \n",
      "6397      2883661.0    2.883661e+06  \n",
      "6398       195043.0    1.950430e+05  \n",
      "6399            0.0    4.897920e+05  \n",
      "\n",
      "[6400 rows x 7 columns]\n"
     ]
    }
   ],
   "source": [
    "import pandas as pd\n",
    "import requests\n",
    "\n",
    "file_path = 'movie_costs.csv'\n",
    "\n",
    "# Read the CSV file into a DataFrame\n",
    "df = pd.read_csv(file_path)\n",
    "\n",
    "# Display the DataFrame\n",
    "print(df)"
   ]
  },
  {
   "cell_type": "code",
   "execution_count": 37,
   "id": "bd9e3ecb-f2e3-446d-85bd-fb6825af6042",
   "metadata": {
    "tags": []
   },
   "outputs": [],
   "source": [
    "# Your OMDB API key\n",
    "api_key = 'ac6cb27f'\n",
    "\n",
    "# Base URL for OMDB API\n",
    "omdb_url = 'http://www.omdbapi.com/'"
   ]
  },
  {
   "cell_type": "code",
   "execution_count": 38,
   "id": "b0f654d2-072d-4e33-b816-ad093eab465b",
   "metadata": {
    "tags": []
   },
   "outputs": [],
   "source": [
    "def get_movie_details(title):\n",
    "    params = {'apikey': api_key, 't': title}\n",
    "    response = requests.get(omdb_url, params=params)\n",
    "    data = response.json()\n",
    "    return data\n"
   ]
  },
  {
   "cell_type": "code",
   "execution_count": 39,
   "id": "c59c3f33-6809-4d00-8fe6-93c738a4d877",
   "metadata": {
    "tags": []
   },
   "outputs": [],
   "source": [
    "# Define a list of fields you want to extract from the API response\n",
    "fields_to_extract = ['Title', 'Year', 'Rated', 'Released', 'Runtime', 'Genre', 'Director', 'Writer', 'Actors', 'Plot', 'Language', 'Country', 'Awards', 'Poster', 'Metascore', 'imdbRating', 'imdbVotes', 'imdbID', 'Type', 'DVD', 'BoxOffice', 'Production', 'Website', 'Response']"
   ]
  },
  {
   "cell_type": "code",
   "execution_count": 40,
   "id": "851a4c23-5f30-46ef-a453-cd9646373ebc",
   "metadata": {
    "tags": []
   },
   "outputs": [],
   "source": [
    "# Iterate through each row in the DataFrame and append selected fields from the API response\n",
    "for index, row in df.iterrows():\n",
    "    movie_title = row['Movie']\n",
    "    movie_details = get_movie_details(movie_title)\n",
    "\n",
    "    # Append selected fields to the DataFrame\n",
    "    for field in fields_to_extract:\n",
    "        column_name = f'OMDB_{field}'\n",
    "        df.at[index, column_name] = movie_details.get(field, '')"
   ]
  },
  {
   "cell_type": "code",
   "execution_count": 41,
   "id": "5a0e3418-2d74-4b40-af97-daca19dc4d1c",
   "metadata": {
    "tags": []
   },
   "outputs": [
    {
     "name": "stdout",
     "output_type": "stream",
     "text": [
      "      Unnamed: 0          ReleaseDate  \\\n",
      "0              0      1   Dec 9, 2022   \n",
      "1              1      2  Apr 23, 2019   \n",
      "2              2      3  May 20, 2011   \n",
      "3              3      4  Apr 22, 2015   \n",
      "4              4      5  May 17, 2023   \n",
      "...          ...    ...           ...   \n",
      "6395        6395  6,396  Jan 27, 2017   \n",
      "6396        6396  6,397  Jun 30, 1972   \n",
      "6397        6397  6,398   Aug 1, 1997   \n",
      "6398        6398  6,399  Jan 14, 2000   \n",
      "6399        6399  6,400  Jul 17, 2015   \n",
      "\n",
      "                                            Movie  ProductionBudget  \\\n",
      "0                        Avatar: The Way of Water       460000000.0   \n",
      "1                               Avengers: Endgame       400000000.0   \n",
      "2     Pirates of the Caribbean: On Stranger Tides       379000000.0   \n",
      "3                         Avengers: Age of Ultron       365000000.0   \n",
      "4                                          Fast X       340000000.0   \n",
      "...                                           ...               ...   \n",
      "6395                                        Emily           27000.0   \n",
      "6396                                  Deep Throat           25000.0   \n",
      "6397                        In the Company of Men           25000.0   \n",
      "6398                                The Terrorist           25000.0   \n",
      "6399                                       Exeter           25000.0   \n",
      "\n",
      "      DomesticGross  WorldwideGross  \\\n",
      "0       684075767.0    2.319592e+09   \n",
      "1       858373000.0    2.788912e+09   \n",
      "2       241071802.0    1.045714e+09   \n",
      "3       459005868.0    1.395317e+09   \n",
      "4       145960660.0    7.144145e+08   \n",
      "...             ...             ...   \n",
      "6395         3547.0    3.547000e+03   \n",
      "6396     45000000.0    4.500000e+07   \n",
      "6397      2883661.0    2.883661e+06   \n",
      "6398       195043.0    1.950430e+05   \n",
      "6399            0.0    4.897920e+05   \n",
      "\n",
      "                                       OMDB_Title OMDB_Year OMDB_Rated  ...  \\\n",
      "0                        Avatar: The Way of Water      2022      PG-13  ...   \n",
      "1                               Avengers: Endgame      2019      PG-13  ...   \n",
      "2     Pirates of the Caribbean: On Stranger Tides      2011      PG-13  ...   \n",
      "3                         Avengers: Age of Ultron      2015      PG-13  ...   \n",
      "4                                          Fast X      2023      PG-13  ...   \n",
      "...                                           ...       ...        ...  ...   \n",
      "6395                                        Emily      2022          R  ...   \n",
      "6396                                  Deep Throat      1972          X  ...   \n",
      "6397                        In the Company of Men      1997          R  ...   \n",
      "6398                                The Terrorist      1998    Unrated  ...   \n",
      "6399                                       Exeter      2015          R  ...   \n",
      "\n",
      "     OMDB_Metascore OMDB_imdbRating OMDB_imdbVotes OMDB_imdbID OMDB_Type  \\\n",
      "0                67             7.6        466,460   tt1630029     movie   \n",
      "1                78             8.4      1,223,491   tt4154796     movie   \n",
      "2                45             6.6        552,123   tt1298650     movie   \n",
      "3                66             7.3        902,827   tt2395427     movie   \n",
      "4                56             5.8        101,452   tt5433140     movie   \n",
      "...             ...             ...            ...         ...       ...   \n",
      "6395             75             6.8          6,984  tt12374656     movie   \n",
      "6396            N/A             5.0          6,957   tt0068468     movie   \n",
      "6397             81             7.1         14,121   tt0119361     movie   \n",
      "6398             68             7.0          2,032   tt0169302     movie   \n",
      "6399            N/A             4.5          6,016   tt1945044     movie   \n",
      "\n",
      "         OMDB_DVD OMDB_BoxOffice OMDB_Production OMDB_Website OMDB_Response  \n",
      "0     28 Mar 2023   $684,075,767             N/A          N/A          True  \n",
      "1     30 Jul 2019   $858,373,000             N/A          N/A          True  \n",
      "2     01 Jan 2014   $241,071,802             N/A          N/A          True  \n",
      "3     08 Sep 2015   $459,005,868             N/A          N/A          True  \n",
      "4     09 Jun 2023   $145,960,660             N/A          N/A          True  \n",
      "...           ...            ...             ...          ...           ...  \n",
      "6395          N/A     $1,097,067             N/A          N/A          True  \n",
      "6396          N/A            N/A             N/A          N/A          True  \n",
      "6397  19 Apr 2016     $2,804,473             N/A          N/A          True  \n",
      "6398          N/A       $153,629             N/A          N/A          True  \n",
      "6399  01 Nov 2016            N/A             N/A          N/A          True  \n",
      "\n",
      "[6400 rows x 31 columns]\n"
     ]
    }
   ],
   "source": [
    "# Display the updated DataFrame\n",
    "print(df) "
   ]
  },
  {
   "cell_type": "code",
   "execution_count": 42,
   "id": "53e1769e-c5a7-44fd-80ed-b36568442e62",
   "metadata": {
    "tags": []
   },
   "outputs": [
    {
     "name": "stdout",
     "output_type": "stream",
     "text": [
      "DataFrame has been successfully written to omdb_df.csv\n"
     ]
    }
   ],
   "source": [
    "output_file_path = 'omdb_df.csv'\n",
    "\n",
    "# Output the DataFrame to a CSV file\n",
    "df.to_csv(output_file_path, index=False)\n",
    "\n",
    "print(f\"DataFrame has been successfully written to {output_file_path}\")"
   ]
  },
  {
   "cell_type": "code",
   "execution_count": null,
   "id": "4095d628-9580-4ede-80be-a04d808aaab8",
   "metadata": {},
   "outputs": [],
   "source": []
  }
 ],
 "metadata": {
  "kernelspec": {
   "display_name": "Python 3 (ipykernel)",
   "language": "python",
   "name": "python3"
  },
  "language_info": {
   "codemirror_mode": {
    "name": "ipython",
    "version": 3
   },
   "file_extension": ".py",
   "mimetype": "text/x-python",
   "name": "python",
   "nbconvert_exporter": "python",
   "pygments_lexer": "ipython3",
   "version": "3.10.11"
  }
 },
 "nbformat": 4,
 "nbformat_minor": 5
}
