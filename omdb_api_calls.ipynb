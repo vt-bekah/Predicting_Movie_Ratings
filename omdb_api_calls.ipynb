{
 "cells": [
  {
   "cell_type": "code",
   "execution_count": 36,
   "id": "2ff14eac-81d2-4c51-8c94-23cbe4b66084",
   "metadata": {
    "tags": []
   },
   "outputs": [
    {
     "name": "stdout",
     "output_type": "stream",
     "text": [
      "      Unnamed: 0          ReleaseDate  \\\n",
      "0              0      1   Dec 9, 2022   \n",
      "1              1      2  Apr 23, 2019   \n",
      "2              2      3  May 20, 2011   \n",
      "3              3      4  Apr 22, 2015   \n",
      "4              4      5  May 17, 2023   \n",
      "...          ...    ...           ...   \n",
      "6395        6395  6,396  Jan 27, 2017   \n",
      "6396        6396  6,397  Jun 30, 1972   \n",
      "6397        6397  6,398   Aug 1, 1997   \n",
      "6398        6398  6,399  Jan 14, 2000   \n",
      "6399        6399  6,400  Jul 17, 2015   \n",
      "\n",
      "                                            Movie  ProductionBudget  \\\n",
      "0                        Avatar: The Way of Water       460000000.0   \n",
      "1                               Avengers: Endgame       400000000.0   \n",
      "2     Pirates of the Caribbean: On Stranger Tides       379000000.0   \n",
      "3                         Avengers: Age of Ultron       365000000.0   \n",
      "4                                          Fast X       340000000.0   \n",
      "...                                           ...               ...   \n",
      "6395                                        Emily           27000.0   \n",
      "6396                                  Deep Throat           25000.0   \n",
      "6397                        In the Company of Men           25000.0   \n",
      "6398                                The Terrorist           25000.0   \n",
      "6399                                       Exeter           25000.0   \n",
      "\n",
      "      DomesticGross  WorldwideGross  \n",
      "0       684075767.0    2.319592e+09  \n",
      "1       858373000.0    2.788912e+09  \n",
      "2       241071802.0    1.045714e+09  \n",
      "3       459005868.0    1.395317e+09  \n",
      "4       145960660.0    7.144145e+08  \n",
      "...             ...             ...  \n",
      "6395         3547.0    3.547000e+03  \n",
      "6396     45000000.0    4.500000e+07  \n",
      "6397      2883661.0    2.883661e+06  \n",
      "6398       195043.0    1.950430e+05  \n",
      "6399            0.0    4.897920e+05  \n",
      "\n",
      "[6400 rows x 7 columns]\n"
     ]
    }
   ],
   "source": [
    "import pandas as pd\n",
    "import requests\n",
    "\n",
    "file_path = 'movie_costs.csv'\n",
    "\n",
    "# Read the CSV file into a DataFrame\n",
    "df = pd.read_csv(file_path)\n",
    "\n",
    "# Display the DataFrame\n",
    "print(df)"
   ]
  },
  {
   "cell_type": "code",
   "execution_count": 37,
   "id": "bd9e3ecb-f2e3-446d-85bd-fb6825af6042",
   "metadata": {
    "tags": []
   },
   "outputs": [],
   "source": [
    "# Your OMDB API key\n",
    "api_key = 'ac6cb27f'\n",
    "\n",
    "# Base URL for OMDB API\n",
    "omdb_url = 'http://www.omdbapi.com/'"
   ]
  },
  {
   "cell_type": "code",
   "execution_count": 38,
   "id": "b0f654d2-072d-4e33-b816-ad093eab465b",
   "metadata": {
    "tags": []
   },
   "outputs": [],
   "source": [
    "def get_movie_details(title):\n",
    "    params = {'apikey': api_key, 't': title}\n",
    "    response = requests.get(omdb_url, params=params)\n",
    "    data = response.json()\n",
    "    return data\n"
   ]
  },
  {
   "cell_type": "code",
   "execution_count": 39,
   "id": "c59c3f33-6809-4d00-8fe6-93c738a4d877",
   "metadata": {
    "tags": []
   },
   "outputs": [],
   "source": [
    "# Define a list of fields you want to extract from the API response\n",
    "fields_to_extract = ['Title', 'Year', 'Rated', 'Released', 'Runtime', 'Genre', 'Director', 'Writer', 'Actors', 'Plot', 'Language', 'Country', 'Awards', 'Poster', 'Metascore', 'imdbRating', 'imdbVotes', 'imdbID', 'Type', 'DVD', 'BoxOffice', 'Production', 'Website', 'Response']"
   ]
  },
  {
   "cell_type": "code",
   "execution_count": 40,
   "id": "851a4c23-5f30-46ef-a453-cd9646373ebc",
   "metadata": {
    "tags": []
   },
   "outputs": [],
   "source": [
    "# Iterate through each row in the DataFrame and append selected fields from the API response\n",
    "for index, row in df.iterrows():\n",
    "    movie_title = row['Movie']\n",
    "    movie_details = get_movie_details(movie_title)\n",
    "\n",
    "    # Append selected fields to the DataFrame\n",
    "    for field in fields_to_extract:\n",
    "        column_name = f'OMDB_{field}'\n",
    "        df.at[index, column_name] = movie_details.get(field, '')"
   ]
  },
  {
   "cell_type": "code",
   "execution_count": 41,
   "id": "5a0e3418-2d74-4b40-af97-daca19dc4d1c",
   "metadata": {
    "tags": []
   },
   "outputs": [
    {
     "name": "stdout",
     "output_type": "stream",
     "text": [
      "      Unnamed: 0          ReleaseDate  \\\n",
      "0              0      1   Dec 9, 2022   \n",
      "1              1      2  Apr 23, 2019   \n",
      "2              2      3  May 20, 2011   \n",
      "3              3      4  Apr 22, 2015   \n",
      "4              4      5  May 17, 2023   \n",
      "...          ...    ...           ...   \n",
      "6395        6395  6,396  Jan 27, 2017   \n",
      "6396        6396  6,397  Jun 30, 1972   \n",
      "6397        6397  6,398   Aug 1, 1997   \n",
      "6398        6398  6,399  Jan 14, 2000   \n",
      "6399        6399  6,400  Jul 17, 2015   \n",
      "\n",
      "                                            Movie  ProductionBudget  \\\n",
      "0                        Avatar: The Way of Water       460000000.0   \n",
      "1                               Avengers: Endgame       400000000.0   \n",
      "2     Pirates of the Caribbean: On Stranger Tides       379000000.0   \n",
      "3                         Avengers: Age of Ultron       365000000.0   \n",
      "4                                          Fast X       340000000.0   \n",
      "...                                           ...               ...   \n",
      "6395                                        Emily           27000.0   \n",
      "6396                                  Deep Throat           25000.0   \n",
      "6397                        In the Company of Men           25000.0   \n",
      "6398                                The Terrorist           25000.0   \n",
      "6399                                       Exeter           25000.0   \n",
      "\n",
      "      DomesticGross  WorldwideGross  \\\n",
      "0       684075767.0    2.319592e+09   \n",
      "1       858373000.0    2.788912e+09   \n",
      "2       241071802.0    1.045714e+09   \n",
      "3       459005868.0    1.395317e+09   \n",
      "4       145960660.0    7.144145e+08   \n",
      "...             ...             ...   \n",
      "6395         3547.0    3.547000e+03   \n",
      "6396     45000000.0    4.500000e+07   \n",
      "6397      2883661.0    2.883661e+06   \n",
      "6398       195043.0    1.950430e+05   \n",
      "6399            0.0    4.897920e+05   \n",
      "\n",
      "                                       OMDB_Title OMDB_Year OMDB_Rated  ...  \\\n",
      "0                        Avatar: The Way of Water      2022      PG-13  ...   \n",
      "1                               Avengers: Endgame      2019      PG-13  ...   \n",
      "2     Pirates of the Caribbean: On Stranger Tides      2011      PG-13  ...   \n",
      "3                         Avengers: Age of Ultron      2015      PG-13  ...   \n",
      "4                                          Fast X      2023      PG-13  ...   \n",
      "...                                           ...       ...        ...  ...   \n",
      "6395                                        Emily      2022          R  ...   \n",
      "6396                                  Deep Throat      1972          X  ...   \n",
      "6397                        In the Company of Men      1997          R  ...   \n",
      "6398                                The Terrorist      1998    Unrated  ...   \n",
      "6399                                       Exeter      2015          R  ...   \n",
      "\n",
      "     OMDB_Metascore OMDB_imdbRating OMDB_imdbVotes OMDB_imdbID OMDB_Type  \\\n",
      "0                67             7.6        466,460   tt1630029     movie   \n",
      "1                78             8.4      1,223,491   tt4154796     movie   \n",
      "2                45             6.6        552,123   tt1298650     movie   \n",
      "3                66             7.3        902,827   tt2395427     movie   \n",
      "4                56             5.8        101,452   tt5433140     movie   \n",
      "...             ...             ...            ...         ...       ...   \n",
      "6395             75             6.8          6,984  tt12374656     movie   \n",
      "6396            N/A             5.0          6,957   tt0068468     movie   \n",
      "6397             81             7.1         14,121   tt0119361     movie   \n",
      "6398             68             7.0          2,032   tt0169302     movie   \n",
      "6399            N/A             4.5          6,016   tt1945044     movie   \n",
      "\n",
      "         OMDB_DVD OMDB_BoxOffice OMDB_Production OMDB_Website OMDB_Response  \n",
      "0     28 Mar 2023   $684,075,767             N/A          N/A          True  \n",
      "1     30 Jul 2019   $858,373,000             N/A          N/A          True  \n",
      "2     01 Jan 2014   $241,071,802             N/A          N/A          True  \n",
      "3     08 Sep 2015   $459,005,868             N/A          N/A          True  \n",
      "4     09 Jun 2023   $145,960,660             N/A          N/A          True  \n",
      "...           ...            ...             ...          ...           ...  \n",
      "6395          N/A     $1,097,067             N/A          N/A          True  \n",
      "6396          N/A            N/A             N/A          N/A          True  \n",
      "6397  19 Apr 2016     $2,804,473             N/A          N/A          True  \n",
      "6398          N/A       $153,629             N/A          N/A          True  \n",
      "6399  01 Nov 2016            N/A             N/A          N/A          True  \n",
      "\n",
      "[6400 rows x 31 columns]\n"
     ]
    }
   ],
   "source": [
    "# Display the updated DataFrame\n",
    "print(df) "
   ]
  },
  {
   "cell_type": "code",
   "execution_count": 1,
   "id": "53e1769e-c5a7-44fd-80ed-b36568442e62",
   "metadata": {
    "tags": []
   },
   "outputs": [
    {
     "ename": "NameError",
     "evalue": "name 'df' is not defined",
     "output_type": "error",
     "traceback": [
      "\u001b[1;31m---------------------------------------------------------------------------\u001b[0m",
      "\u001b[1;31mNameError\u001b[0m                                 Traceback (most recent call last)",
      "Cell \u001b[1;32mIn[1], line 4\u001b[0m\n\u001b[0;32m      1\u001b[0m output_file_path \u001b[38;5;241m=\u001b[39m \u001b[38;5;124m'\u001b[39m\u001b[38;5;124momdb_df.csv\u001b[39m\u001b[38;5;124m'\u001b[39m\n\u001b[0;32m      3\u001b[0m \u001b[38;5;66;03m# Output the DataFrame to a CSV file\u001b[39;00m\n\u001b[1;32m----> 4\u001b[0m \u001b[43mdf\u001b[49m\u001b[38;5;241m.\u001b[39mto_csv(output_file_path, index\u001b[38;5;241m=\u001b[39m\u001b[38;5;28;01mFalse\u001b[39;00m)\n\u001b[0;32m      6\u001b[0m \u001b[38;5;28mprint\u001b[39m(\u001b[38;5;124mf\u001b[39m\u001b[38;5;124m\"\u001b[39m\u001b[38;5;124mDataFrame has been successfully written to \u001b[39m\u001b[38;5;132;01m{\u001b[39;00moutput_file_path\u001b[38;5;132;01m}\u001b[39;00m\u001b[38;5;124m\"\u001b[39m)\n",
      "\u001b[1;31mNameError\u001b[0m: name 'df' is not defined"
     ]
    }
   ],
   "source": [
    "output_file_path = 'omdb_df.csv'\n",
    "\n",
    "# Output the DataFrame to a CSV file\n",
    "df.to_csv(output_file_path, index=False)\n",
    "\n",
    "print(f\"DataFrame has been successfully written to {output_file_path}\")"
   ]
  },
  {
   "cell_type": "code",
   "execution_count": 6,
   "id": "4095d628-9580-4ede-80be-a04d808aaab8",
   "metadata": {},
   "outputs": [
    {
     "data": {
      "text/html": [
       "<div>\n",
       "<style scoped>\n",
       "    .dataframe tbody tr th:only-of-type {\n",
       "        vertical-align: middle;\n",
       "    }\n",
       "\n",
       "    .dataframe tbody tr th {\n",
       "        vertical-align: top;\n",
       "    }\n",
       "\n",
       "    .dataframe thead th {\n",
       "        text-align: right;\n",
       "    }\n",
       "</style>\n",
       "<table border=\"1\" class=\"dataframe\">\n",
       "  <thead>\n",
       "    <tr style=\"text-align: right;\">\n",
       "      <th></th>\n",
       "      <th>Unnamed: 0</th>\n",
       "      <th></th>\n",
       "      <th>ReleaseDate</th>\n",
       "      <th>Movie</th>\n",
       "      <th>ProductionBudget</th>\n",
       "      <th>DomesticGross</th>\n",
       "      <th>WorldwideGross</th>\n",
       "      <th>OMDB_Title</th>\n",
       "      <th>OMDB_Year</th>\n",
       "      <th>OMDB_Rated</th>\n",
       "      <th>...</th>\n",
       "      <th>OMDB_Metascore</th>\n",
       "      <th>OMDB_imdbRating</th>\n",
       "      <th>OMDB_imdbVotes</th>\n",
       "      <th>OMDB_imdbID</th>\n",
       "      <th>OMDB_Type</th>\n",
       "      <th>OMDB_DVD</th>\n",
       "      <th>OMDB_BoxOffice</th>\n",
       "      <th>OMDB_Production</th>\n",
       "      <th>OMDB_Website</th>\n",
       "      <th>OMDB_Response</th>\n",
       "    </tr>\n",
       "  </thead>\n",
       "  <tbody>\n",
       "    <tr>\n",
       "      <th>0</th>\n",
       "      <td>0</td>\n",
       "      <td>1</td>\n",
       "      <td>Dec 9, 2022</td>\n",
       "      <td>Avatar: The Way of Water</td>\n",
       "      <td>460000000.0</td>\n",
       "      <td>684075767.0</td>\n",
       "      <td>2.319592e+09</td>\n",
       "      <td>Avatar: The Way of Water</td>\n",
       "      <td>2022</td>\n",
       "      <td>PG-13</td>\n",
       "      <td>...</td>\n",
       "      <td>67.0</td>\n",
       "      <td>7.6</td>\n",
       "      <td>466,460</td>\n",
       "      <td>tt1630029</td>\n",
       "      <td>movie</td>\n",
       "      <td>28 Mar 2023</td>\n",
       "      <td>$684,075,767</td>\n",
       "      <td>NaN</td>\n",
       "      <td>NaN</td>\n",
       "      <td>True</td>\n",
       "    </tr>\n",
       "    <tr>\n",
       "      <th>1</th>\n",
       "      <td>1</td>\n",
       "      <td>2</td>\n",
       "      <td>Apr 23, 2019</td>\n",
       "      <td>Avengers: Endgame</td>\n",
       "      <td>400000000.0</td>\n",
       "      <td>858373000.0</td>\n",
       "      <td>2.788912e+09</td>\n",
       "      <td>Avengers: Endgame</td>\n",
       "      <td>2019</td>\n",
       "      <td>PG-13</td>\n",
       "      <td>...</td>\n",
       "      <td>78.0</td>\n",
       "      <td>8.4</td>\n",
       "      <td>1,223,491</td>\n",
       "      <td>tt4154796</td>\n",
       "      <td>movie</td>\n",
       "      <td>30 Jul 2019</td>\n",
       "      <td>$858,373,000</td>\n",
       "      <td>NaN</td>\n",
       "      <td>NaN</td>\n",
       "      <td>True</td>\n",
       "    </tr>\n",
       "    <tr>\n",
       "      <th>2</th>\n",
       "      <td>2</td>\n",
       "      <td>3</td>\n",
       "      <td>May 20, 2011</td>\n",
       "      <td>Pirates of the Caribbean: On Stranger Tides</td>\n",
       "      <td>379000000.0</td>\n",
       "      <td>241071802.0</td>\n",
       "      <td>1.045714e+09</td>\n",
       "      <td>Pirates of the Caribbean: On Stranger Tides</td>\n",
       "      <td>2011</td>\n",
       "      <td>PG-13</td>\n",
       "      <td>...</td>\n",
       "      <td>45.0</td>\n",
       "      <td>6.6</td>\n",
       "      <td>552,123</td>\n",
       "      <td>tt1298650</td>\n",
       "      <td>movie</td>\n",
       "      <td>01 Jan 2014</td>\n",
       "      <td>$241,071,802</td>\n",
       "      <td>NaN</td>\n",
       "      <td>NaN</td>\n",
       "      <td>True</td>\n",
       "    </tr>\n",
       "    <tr>\n",
       "      <th>3</th>\n",
       "      <td>3</td>\n",
       "      <td>4</td>\n",
       "      <td>Apr 22, 2015</td>\n",
       "      <td>Avengers: Age of Ultron</td>\n",
       "      <td>365000000.0</td>\n",
       "      <td>459005868.0</td>\n",
       "      <td>1.395317e+09</td>\n",
       "      <td>Avengers: Age of Ultron</td>\n",
       "      <td>2015</td>\n",
       "      <td>PG-13</td>\n",
       "      <td>...</td>\n",
       "      <td>66.0</td>\n",
       "      <td>7.3</td>\n",
       "      <td>902,827</td>\n",
       "      <td>tt2395427</td>\n",
       "      <td>movie</td>\n",
       "      <td>08 Sep 2015</td>\n",
       "      <td>$459,005,868</td>\n",
       "      <td>NaN</td>\n",
       "      <td>NaN</td>\n",
       "      <td>True</td>\n",
       "    </tr>\n",
       "    <tr>\n",
       "      <th>4</th>\n",
       "      <td>4</td>\n",
       "      <td>5</td>\n",
       "      <td>May 17, 2023</td>\n",
       "      <td>Fast X</td>\n",
       "      <td>340000000.0</td>\n",
       "      <td>145960660.0</td>\n",
       "      <td>7.144145e+08</td>\n",
       "      <td>Fast X</td>\n",
       "      <td>2023</td>\n",
       "      <td>PG-13</td>\n",
       "      <td>...</td>\n",
       "      <td>56.0</td>\n",
       "      <td>5.8</td>\n",
       "      <td>101,452</td>\n",
       "      <td>tt5433140</td>\n",
       "      <td>movie</td>\n",
       "      <td>09 Jun 2023</td>\n",
       "      <td>$145,960,660</td>\n",
       "      <td>NaN</td>\n",
       "      <td>NaN</td>\n",
       "      <td>True</td>\n",
       "    </tr>\n",
       "  </tbody>\n",
       "</table>\n",
       "<p>5 rows × 31 columns</p>\n",
       "</div>"
      ],
      "text/plain": [
       "   Unnamed: 0      ReleaseDate                                        Movie  \\\n",
       "0           0  1   Dec 9, 2022                     Avatar: The Way of Water   \n",
       "1           1  2  Apr 23, 2019                            Avengers: Endgame   \n",
       "2           2  3  May 20, 2011  Pirates of the Caribbean: On Stranger Tides   \n",
       "3           3  4  Apr 22, 2015                      Avengers: Age of Ultron   \n",
       "4           4  5  May 17, 2023                                       Fast X   \n",
       "\n",
       "   ProductionBudget  DomesticGross  WorldwideGross  \\\n",
       "0       460000000.0    684075767.0    2.319592e+09   \n",
       "1       400000000.0    858373000.0    2.788912e+09   \n",
       "2       379000000.0    241071802.0    1.045714e+09   \n",
       "3       365000000.0    459005868.0    1.395317e+09   \n",
       "4       340000000.0    145960660.0    7.144145e+08   \n",
       "\n",
       "                                    OMDB_Title OMDB_Year OMDB_Rated  ...  \\\n",
       "0                     Avatar: The Way of Water      2022      PG-13  ...   \n",
       "1                            Avengers: Endgame      2019      PG-13  ...   \n",
       "2  Pirates of the Caribbean: On Stranger Tides      2011      PG-13  ...   \n",
       "3                      Avengers: Age of Ultron      2015      PG-13  ...   \n",
       "4                                       Fast X      2023      PG-13  ...   \n",
       "\n",
       "  OMDB_Metascore OMDB_imdbRating OMDB_imdbVotes OMDB_imdbID OMDB_Type  \\\n",
       "0           67.0             7.6        466,460   tt1630029     movie   \n",
       "1           78.0             8.4      1,223,491   tt4154796     movie   \n",
       "2           45.0             6.6        552,123   tt1298650     movie   \n",
       "3           66.0             7.3        902,827   tt2395427     movie   \n",
       "4           56.0             5.8        101,452   tt5433140     movie   \n",
       "\n",
       "      OMDB_DVD OMDB_BoxOffice OMDB_Production OMDB_Website OMDB_Response  \n",
       "0  28 Mar 2023   $684,075,767             NaN          NaN          True  \n",
       "1  30 Jul 2019   $858,373,000             NaN          NaN          True  \n",
       "2  01 Jan 2014   $241,071,802             NaN          NaN          True  \n",
       "3  08 Sep 2015   $459,005,868             NaN          NaN          True  \n",
       "4  09 Jun 2023   $145,960,660             NaN          NaN          True  \n",
       "\n",
       "[5 rows x 31 columns]"
      ]
     },
     "execution_count": 6,
     "metadata": {},
     "output_type": "execute_result"
    }
   ],
   "source": [
    "import pandas as pd\n",
    "\n",
    "# Read the CSV file into a DataFrame\n",
    "ml_df = pd.read_csv('omdb_df.csv')\n",
    "\n",
    "# Display the DataFrame\n",
    "ml_df.head()"
   ]
  },
  {
   "cell_type": "code",
   "execution_count": 220,
   "id": "c3c28c91-fcdd-4aad-9a78-73fa908ff406",
   "metadata": {
    "tags": []
   },
   "outputs": [],
   "source": [
    "import pandas as pd\n",
    "from sklearn.model_selection import train_test_split\n",
    "from sklearn.ensemble import RandomForestRegressor\n",
    "from sklearn.metrics import mean_squared_error\n",
    "from sklearn.preprocessing import LabelEncoder\n",
    "\n"
   ]
  },
  {
   "cell_type": "code",
   "execution_count": 221,
   "id": "26ec628e-04f0-4f41-9840-a664b9c703e9",
   "metadata": {
    "tags": []
   },
   "outputs": [],
   "source": [
    "# Replace 'your_file_path.csv' with the actual path to your CSV file\n",
    "file_path = 'omdb_df.csv'\n",
    "# Read the CSV file into a DataFrame\n",
    "df = pd.read_csv(file_path)\n",
    "# Feature selection - you can choose the features you want to use for prediction\n",
    "# In this example, we're using the ProductionBudget as the feature"
   ]
  },
  {
   "cell_type": "code",
   "execution_count": 222,
   "id": "c8cfbdde-f20b-47e2-b76a-f0758c793f1e",
   "metadata": {
    "tags": []
   },
   "outputs": [],
   "source": [
    "# Select features and target variable\n",
    "\n",
    "#Initial features\n",
    "#Mean Squared Error: 0.6728499823008848\n",
    "#features = ['ProductionBudget', 'OMDB_Rated', 'OMDB_BoxOffice', 'DomesticGross', 'WorldwideGross', 'OMDB_imdbVotes']\n",
    "\n",
    "#Initial Variations \n",
    "#Mean Squared Error: 0.6130522928501466\n",
    "#features = ['ProductionBudget',  'OMDB_BoxOffice', 'DomesticGross', 'WorldwideGross', 'OMDB_imdbVotes']\n",
    "\n",
    "#Mean Squared Error: 0.7271893362143474\n",
    "#features = ['ProductionBudget', 'OMDB_Rated',  'DomesticGross', 'WorldwideGross', 'OMDB_imdbVotes']\n",
    "\n",
    "#Mean Squared Error: 0.6708382664700098\n",
    "#features = ['ProductionBudget', 'OMDB_Rated', 'OMDB_BoxOffice','WorldwideGross', 'OMDB_imdbVotes']\n",
    "\n",
    "#Mean Squared Error: 0.6849534473942968\n",
    "#features = ['ProductionBudget', 'OMDB_Rated', 'OMDB_BoxOffice', 'DomesticGross',  'OMDB_imdbVotes']\n",
    "\n",
    "#Mean Squared Error: 0.9743603362831856\n",
    "#features = ['ProductionBudget', 'OMDB_Rated', 'OMDB_BoxOffice', 'DomesticGross', 'WorldwideGross']\n",
    "\n",
    "\n",
    "#Second Round of Variations\n",
    "\n",
    "#Mean Squared Error: Mean Squared Error: 0.6741467649363369\n",
    "#features = ['OMDB_BoxOffice', 'DomesticGross', 'WorldwideGross', 'OMDB_imdbVotes']\n",
    "\n",
    "#Mean Squared Error: Mean Squared Error: 0.7883941310924371\n",
    "#features = ['ProductionBudget', 'DomesticGross', 'WorldwideGross', 'OMDB_imdbVotes']\n",
    "\n",
    "#Mean Squared Error: Mean Squared Error: 0.6139141586679724\n",
    "#features = ['ProductionBudget',  'OMDB_BoxOffice', 'WorldwideGross', 'OMDB_imdbVotes']\n",
    "\n",
    "#Mean Squared Error: Mean Squared Error: 0.6465219520078352\n",
    "#features = ['ProductionBudget',  'OMDB_BoxOffice', 'DomesticGross',  'OMDB_imdbVotes']\n",
    "\n",
    "#Mean Squared Error: Mean Squared Error: 0.9238590724779626\n",
    "#features = ['ProductionBudget',  'OMDB_BoxOffice', 'DomesticGross', 'WorldwideGross']\n",
    "\n",
    "#Third Round of Variations\n",
    "\n",
    "#Mean Squared Error: Mean Squared Error: 0.6810655034280116\n",
    "#features = [ 'OMDB_BoxOffice', 'WorldwideGross', 'OMDB_imdbVotes']\n",
    "\n",
    "#Mean Squared Error: 0.8293680411764707\n",
    "#features = ['ProductionBudget',   'WorldwideGross', 'OMDB_imdbVotes']\n",
    "\n",
    "#Mean Squared Error: 0.6453060636630753\n",
    "#features = ['ProductionBudget',  'OMDB_BoxOffice',  'OMDB_imdbVotes']\n",
    "\n",
    "#Mean Squared Error: 0.9181362154750244\n",
    "#features = ['ProductionBudget',  'OMDB_BoxOffice', 'WorldwideGross']\n",
    "\n",
    "#Fourth Round of Variations\n",
    "\n",
    "#Mean Squared Error: Mean Squared Error: 0.6810655034280116\n",
    "#features = [ 'WorldwideGross', 'OMDB_imdbVotes']\n",
    "\n",
    "#Mean Squared Error: 0.8293680411764707\n",
    "#features = ['ProductionBudget', 'OMDB_imdbVotes']\n",
    "\n",
    "#Mean Squared Error: 0.6453060636630753\n",
    "#features = ['ProductionBudget',  'OMDB_BoxOffice']\n",
    "\n",
    "#Mean Squared Error: 0.9181362154750244\n",
    "#features = ['OMDB_BoxOffice', 'WorldwideGross']\n",
    "\n",
    "target = 'OMDB_imdbRating'"
   ]
  },
  {
   "cell_type": "markdown",
   "id": "606d3180-82f6-4e38-bfa2-d2d1548739c5",
   "metadata": {},
   "source": [
    "## Dataframe Cleanup"
   ]
  },
  {
   "cell_type": "code",
   "execution_count": 223,
   "id": "880daf69-4e49-4114-9d6f-ba2cbc501698",
   "metadata": {
    "tags": []
   },
   "outputs": [],
   "source": [
    "# Assuming the column name is 'OMDB_BoxOffice'\n",
    "df['OMDB_BoxOffice'] = df['OMDB_BoxOffice'].replace('[\\$,]', '', regex=True).astype(float)\n",
    "df['OMDB_imdbVotes'] = df['OMDB_imdbVotes'].replace('[\\$,]', '', regex=True).astype(float)\n",
    "# Drop rows with missing values in the selected features and target\n",
    "df = df.dropna(subset=features + [target])"
   ]
  },
  {
   "cell_type": "code",
   "execution_count": 224,
   "id": "170c3c48-9138-4289-a1bb-011a2eaffd68",
   "metadata": {
    "tags": []
   },
   "outputs": [],
   "source": [
    "# Encode categorical features if necessary\n",
    "# For simplicity, let's encode 'OMDB_Rated' using Label Encoding\n",
    "le = LabelEncoder()\n",
    "df['OMDB_Rated'] = le.fit_transform(df['OMDB_Rated'])"
   ]
  },
  {
   "cell_type": "code",
   "execution_count": 225,
   "id": "380b6d83-e448-4caf-a896-bd953a915e22",
   "metadata": {
    "tags": []
   },
   "outputs": [],
   "source": [
    "# Split the data into training and testing sets\n",
    "X_train, X_test, y_train, y_test = train_test_split(df[features], df[target], test_size=0.2, random_state=42)"
   ]
  },
  {
   "cell_type": "code",
   "execution_count": 226,
   "id": "7df54754-0cd2-4318-bf8f-03ffa446ee58",
   "metadata": {
    "tags": []
   },
   "outputs": [],
   "source": [
    "# Initialize the Random Forest Regressor\n",
    "model = RandomForestRegressor(n_estimators=100, random_state=42)"
   ]
  },
  {
   "cell_type": "code",
   "execution_count": 227,
   "id": "e2d3b049-a748-40b1-ba5b-8f6e915ec99e",
   "metadata": {
    "tags": []
   },
   "outputs": [
    {
     "data": {
      "text/html": [
       "<style>#sk-container-id-20 {color: black;background-color: white;}#sk-container-id-20 pre{padding: 0;}#sk-container-id-20 div.sk-toggleable {background-color: white;}#sk-container-id-20 label.sk-toggleable__label {cursor: pointer;display: block;width: 100%;margin-bottom: 0;padding: 0.3em;box-sizing: border-box;text-align: center;}#sk-container-id-20 label.sk-toggleable__label-arrow:before {content: \"▸\";float: left;margin-right: 0.25em;color: #696969;}#sk-container-id-20 label.sk-toggleable__label-arrow:hover:before {color: black;}#sk-container-id-20 div.sk-estimator:hover label.sk-toggleable__label-arrow:before {color: black;}#sk-container-id-20 div.sk-toggleable__content {max-height: 0;max-width: 0;overflow: hidden;text-align: left;background-color: #f0f8ff;}#sk-container-id-20 div.sk-toggleable__content pre {margin: 0.2em;color: black;border-radius: 0.25em;background-color: #f0f8ff;}#sk-container-id-20 input.sk-toggleable__control:checked~div.sk-toggleable__content {max-height: 200px;max-width: 100%;overflow: auto;}#sk-container-id-20 input.sk-toggleable__control:checked~label.sk-toggleable__label-arrow:before {content: \"▾\";}#sk-container-id-20 div.sk-estimator input.sk-toggleable__control:checked~label.sk-toggleable__label {background-color: #d4ebff;}#sk-container-id-20 div.sk-label input.sk-toggleable__control:checked~label.sk-toggleable__label {background-color: #d4ebff;}#sk-container-id-20 input.sk-hidden--visually {border: 0;clip: rect(1px 1px 1px 1px);clip: rect(1px, 1px, 1px, 1px);height: 1px;margin: -1px;overflow: hidden;padding: 0;position: absolute;width: 1px;}#sk-container-id-20 div.sk-estimator {font-family: monospace;background-color: #f0f8ff;border: 1px dotted black;border-radius: 0.25em;box-sizing: border-box;margin-bottom: 0.5em;}#sk-container-id-20 div.sk-estimator:hover {background-color: #d4ebff;}#sk-container-id-20 div.sk-parallel-item::after {content: \"\";width: 100%;border-bottom: 1px solid gray;flex-grow: 1;}#sk-container-id-20 div.sk-label:hover label.sk-toggleable__label {background-color: #d4ebff;}#sk-container-id-20 div.sk-serial::before {content: \"\";position: absolute;border-left: 1px solid gray;box-sizing: border-box;top: 0;bottom: 0;left: 50%;z-index: 0;}#sk-container-id-20 div.sk-serial {display: flex;flex-direction: column;align-items: center;background-color: white;padding-right: 0.2em;padding-left: 0.2em;position: relative;}#sk-container-id-20 div.sk-item {position: relative;z-index: 1;}#sk-container-id-20 div.sk-parallel {display: flex;align-items: stretch;justify-content: center;background-color: white;position: relative;}#sk-container-id-20 div.sk-item::before, #sk-container-id-20 div.sk-parallel-item::before {content: \"\";position: absolute;border-left: 1px solid gray;box-sizing: border-box;top: 0;bottom: 0;left: 50%;z-index: -1;}#sk-container-id-20 div.sk-parallel-item {display: flex;flex-direction: column;z-index: 1;position: relative;background-color: white;}#sk-container-id-20 div.sk-parallel-item:first-child::after {align-self: flex-end;width: 50%;}#sk-container-id-20 div.sk-parallel-item:last-child::after {align-self: flex-start;width: 50%;}#sk-container-id-20 div.sk-parallel-item:only-child::after {width: 0;}#sk-container-id-20 div.sk-dashed-wrapped {border: 1px dashed gray;margin: 0 0.4em 0.5em 0.4em;box-sizing: border-box;padding-bottom: 0.4em;background-color: white;}#sk-container-id-20 div.sk-label label {font-family: monospace;font-weight: bold;display: inline-block;line-height: 1.2em;}#sk-container-id-20 div.sk-label-container {text-align: center;}#sk-container-id-20 div.sk-container {/* jupyter's `normalize.less` sets `[hidden] { display: none; }` but bootstrap.min.css set `[hidden] { display: none !important; }` so we also need the `!important` here to be able to override the default hidden behavior on the sphinx rendered scikit-learn.org. See: https://github.com/scikit-learn/scikit-learn/issues/21755 */display: inline-block !important;position: relative;}#sk-container-id-20 div.sk-text-repr-fallback {display: none;}</style><div id=\"sk-container-id-20\" class=\"sk-top-container\"><div class=\"sk-text-repr-fallback\"><pre>RandomForestRegressor(random_state=42)</pre><b>In a Jupyter environment, please rerun this cell to show the HTML representation or trust the notebook. <br />On GitHub, the HTML representation is unable to render, please try loading this page with nbviewer.org.</b></div><div class=\"sk-container\" hidden><div class=\"sk-item\"><div class=\"sk-estimator sk-toggleable\"><input class=\"sk-toggleable__control sk-hidden--visually\" id=\"sk-estimator-id-20\" type=\"checkbox\" checked><label for=\"sk-estimator-id-20\" class=\"sk-toggleable__label sk-toggleable__label-arrow\">RandomForestRegressor</label><div class=\"sk-toggleable__content\"><pre>RandomForestRegressor(random_state=42)</pre></div></div></div></div></div>"
      ],
      "text/plain": [
       "RandomForestRegressor(random_state=42)"
      ]
     },
     "execution_count": 227,
     "metadata": {},
     "output_type": "execute_result"
    }
   ],
   "source": [
    "# Train the model\n",
    "model.fit(X_train, y_train)"
   ]
  },
  {
   "cell_type": "code",
   "execution_count": 228,
   "id": "4ef201db-438f-4e25-a838-f4c49b3e6b57",
   "metadata": {
    "tags": []
   },
   "outputs": [],
   "source": [
    "# Make predictions on the test set\n",
    "y_pred = model.predict(X_test)"
   ]
  },
  {
   "cell_type": "code",
   "execution_count": 229,
   "id": "9aa57feb-9ec4-4bc1-8b58-cc56f8cc5f8b",
   "metadata": {
    "tags": []
   },
   "outputs": [
    {
     "name": "stdout",
     "output_type": "stream",
     "text": [
      "Mean Squared Error: 0.9181362154750244\n"
     ]
    }
   ],
   "source": [
    "# Evaluate the model\n",
    "mse = mean_squared_error(y_test, y_pred)\n",
    "print(f'Mean Squared Error: {mse}')"
   ]
  },
  {
   "cell_type": "code",
   "execution_count": null,
   "id": "2f32f5ca-49da-4fb1-9e03-d44e3d57123c",
   "metadata": {},
   "outputs": [],
   "source": []
  }
 ],
 "metadata": {
  "kernelspec": {
   "display_name": "Python 3 (ipykernel)",
   "language": "python",
   "name": "python3"
  },
  "language_info": {
   "codemirror_mode": {
    "name": "ipython",
    "version": 3
   },
   "file_extension": ".py",
   "mimetype": "text/x-python",
   "name": "python",
   "nbconvert_exporter": "python",
   "pygments_lexer": "ipython3",
   "version": "3.10.11"
  }
 },
 "nbformat": 4,
 "nbformat_minor": 5
}
