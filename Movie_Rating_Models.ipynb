{
 "cells": [
  {
   "cell_type": "code",
   "execution_count": 1,
   "id": "1a01be7f-1ea1-4c5d-8290-3476b9a19f90",
   "metadata": {},
   "outputs": [],
   "source": [
    "import pandas as pd\n",
    "from sklearn.model_selection import train_test_split\n",
    "from sklearn.ensemble import RandomForestRegressor\n",
    "from sklearn.metrics import mean_squared_error, confusion_matrix, accuracy_score, classification_report\n",
    "from sklearn.preprocessing import LabelEncoder"
   ]
  },
  {
   "cell_type": "code",
   "execution_count": 2,
   "id": "a0a6adde-9203-4a81-a4fe-f0ab56cb23e4",
   "metadata": {},
   "outputs": [],
   "source": [
    "# Call the csv.file in to a file path\n",
    "movies_path = 'Resources/movies_people2numbers.csv'\n",
    "director_data_path = 'Resources/director_data_avg.csv'"
   ]
  },
  {
   "cell_type": "code",
   "execution_count": 3,
   "id": "e38925d7-a636-4ece-9eee-98b4682fa215",
   "metadata": {},
   "outputs": [],
   "source": [
    "# Read the CSV file into a DataFrame\n",
    "df = pd.read_csv(movies_path)\n",
    "director_data_df = pd.read_csv(director_data_path)"
   ]
  },
  {
   "cell_type": "code",
   "execution_count": 4,
   "id": "774b0d53-85d9-4a17-8602-b389662dba7f",
   "metadata": {
    "tags": []
   },
   "outputs": [
    {
     "data": {
      "text/html": [
       "<div>\n",
       "<style scoped>\n",
       "    .dataframe tbody tr th:only-of-type {\n",
       "        vertical-align: middle;\n",
       "    }\n",
       "\n",
       "    .dataframe tbody tr th {\n",
       "        vertical-align: top;\n",
       "    }\n",
       "\n",
       "    .dataframe thead th {\n",
       "        text-align: right;\n",
       "    }\n",
       "</style>\n",
       "<table border=\"1\" class=\"dataframe\">\n",
       "  <thead>\n",
       "    <tr style=\"text-align: right;\">\n",
       "      <th></th>\n",
       "      <th>Director</th>\n",
       "      <th>Instances</th>\n",
       "      <th>Total_Box_Office</th>\n",
       "      <th>Total_Production_Budget</th>\n",
       "      <th>Total_Metascore</th>\n",
       "      <th>Total_IMDB_Rating</th>\n",
       "      <th>Average_Box_Office</th>\n",
       "      <th>Average_IMDB_Rating</th>\n",
       "      <th>Success_Metric</th>\n",
       "    </tr>\n",
       "  </thead>\n",
       "  <tbody>\n",
       "    <tr>\n",
       "      <th>0</th>\n",
       "      <td>James Cameron</td>\n",
       "      <td>8</td>\n",
       "      <td>2.673746e+09</td>\n",
       "      <td>1190400000</td>\n",
       "      <td>593.0</td>\n",
       "      <td>63.3</td>\n",
       "      <td>3.342183e+08</td>\n",
       "      <td>7.912500</td>\n",
       "      <td>14.596865</td>\n",
       "    </tr>\n",
       "    <tr>\n",
       "      <th>1</th>\n",
       "      <td>Anthony Russo</td>\n",
       "      <td>8</td>\n",
       "      <td>NaN</td>\n",
       "      <td>1426000000</td>\n",
       "      <td>491.0</td>\n",
       "      <td>57.4</td>\n",
       "      <td>NaN</td>\n",
       "      <td>7.175000</td>\n",
       "      <td>NaN</td>\n",
       "    </tr>\n",
       "    <tr>\n",
       "      <th>2</th>\n",
       "      <td>Joe Russo</td>\n",
       "      <td>8</td>\n",
       "      <td>NaN</td>\n",
       "      <td>1426000000</td>\n",
       "      <td>491.0</td>\n",
       "      <td>57.4</td>\n",
       "      <td>NaN</td>\n",
       "      <td>7.175000</td>\n",
       "      <td>NaN</td>\n",
       "    </tr>\n",
       "    <tr>\n",
       "      <th>3</th>\n",
       "      <td>Rob Marshall</td>\n",
       "      <td>6</td>\n",
       "      <td>7.888876e+08</td>\n",
       "      <td>760200000</td>\n",
       "      <td>364.0</td>\n",
       "      <td>39.5</td>\n",
       "      <td>1.314813e+08</td>\n",
       "      <td>6.583333</td>\n",
       "      <td>9.212959</td>\n",
       "    </tr>\n",
       "    <tr>\n",
       "      <th>4</th>\n",
       "      <td>Joss Whedon</td>\n",
       "      <td>5</td>\n",
       "      <td>1.756751e+09</td>\n",
       "      <td>714000000</td>\n",
       "      <td>352.0</td>\n",
       "      <td>38.9</td>\n",
       "      <td>3.513501e+08</td>\n",
       "      <td>7.780000</td>\n",
       "      <td>14.807003</td>\n",
       "    </tr>\n",
       "  </tbody>\n",
       "</table>\n",
       "</div>"
      ],
      "text/plain": [
       "        Director  Instances  Total_Box_Office  Total_Production_Budget  \\\n",
       "0  James Cameron          8      2.673746e+09               1190400000   \n",
       "1  Anthony Russo          8               NaN               1426000000   \n",
       "2      Joe Russo          8               NaN               1426000000   \n",
       "3   Rob Marshall          6      7.888876e+08                760200000   \n",
       "4    Joss Whedon          5      1.756751e+09                714000000   \n",
       "\n",
       "   Total_Metascore  Total_IMDB_Rating  Average_Box_Office  \\\n",
       "0            593.0               63.3        3.342183e+08   \n",
       "1            491.0               57.4                 NaN   \n",
       "2            491.0               57.4                 NaN   \n",
       "3            364.0               39.5        1.314813e+08   \n",
       "4            352.0               38.9        3.513501e+08   \n",
       "\n",
       "   Average_IMDB_Rating  Success_Metric  \n",
       "0             7.912500       14.596865  \n",
       "1             7.175000             NaN  \n",
       "2             7.175000             NaN  \n",
       "3             6.583333        9.212959  \n",
       "4             7.780000       14.807003  "
      ]
     },
     "execution_count": 4,
     "metadata": {},
     "output_type": "execute_result"
    }
   ],
   "source": [
    "# Read in the Director Data CSV file\n",
    "director_data_df.head()"
   ]
  },
  {
   "cell_type": "code",
   "execution_count": 5,
   "id": "ddc220a1-3f38-41e3-9368-3fd1016be505",
   "metadata": {
    "tags": []
   },
   "outputs": [
    {
     "name": "stdout",
     "output_type": "stream",
     "text": [
      "['teens' 'unknown' 'kids' 'adults']\n"
     ]
    }
   ],
   "source": [
    "print(df['OMDB_Rated'].unique())\n"
   ]
  },
  {
   "cell_type": "markdown",
   "id": "713feea9-4e71-4760-a051-3854e401e2ec",
   "metadata": {
    "tags": []
   },
   "source": [
    "## Movies Rated for Kids"
   ]
  },
  {
   "cell_type": "raw",
   "id": "2cbe5bb3-369a-4d24-8cc6-11b31e98ce8b",
   "metadata": {
    "tags": []
   },
   "source": [
    "Movie Ratings 'PG', 'G', 'TV-PG', 'TV-G', 'GP', 'M/PG', 'M'"
   ]
  },
  {
   "cell_type": "code",
   "execution_count": 6,
   "id": "20adad60-6816-44d0-9405-ec2b1fb7dd19",
   "metadata": {
    "tags": []
   },
   "outputs": [
    {
     "data": {
      "text/html": [
       "<div>\n",
       "<style scoped>\n",
       "    .dataframe tbody tr th:only-of-type {\n",
       "        vertical-align: middle;\n",
       "    }\n",
       "\n",
       "    .dataframe tbody tr th {\n",
       "        vertical-align: top;\n",
       "    }\n",
       "\n",
       "    .dataframe thead th {\n",
       "        text-align: right;\n",
       "    }\n",
       "</style>\n",
       "<table border=\"1\" class=\"dataframe\">\n",
       "  <thead>\n",
       "    <tr style=\"text-align: right;\">\n",
       "      <th></th>\n",
       "      <th>Unnamed: 0</th>\n",
       "      <th>Movie</th>\n",
       "      <th>ProductionBudget</th>\n",
       "      <th>DomesticGross</th>\n",
       "      <th>WorldwideGross</th>\n",
       "      <th>OMDB_Title</th>\n",
       "      <th>OMDB_Rated</th>\n",
       "      <th>OMDB_Runtime</th>\n",
       "      <th>OMDB_Genre</th>\n",
       "      <th>OMDB_Director</th>\n",
       "      <th>...</th>\n",
       "      <th>ReleaseMonth</th>\n",
       "      <th>Director_Avg_Box</th>\n",
       "      <th>Director_Avg_Rating</th>\n",
       "      <th>Director_Score</th>\n",
       "      <th>Writer_Avg_Box</th>\n",
       "      <th>Writer_Avg_Rating</th>\n",
       "      <th>Writer_Score</th>\n",
       "      <th>Actor_Avg_Box</th>\n",
       "      <th>Actor_Avg_Rating</th>\n",
       "      <th>Actor_Score</th>\n",
       "    </tr>\n",
       "  </thead>\n",
       "  <tbody>\n",
       "    <tr>\n",
       "      <th>15</th>\n",
       "      <td>15</td>\n",
       "      <td>The Lion King</td>\n",
       "      <td>260000000</td>\n",
       "      <td>543638043</td>\n",
       "      <td>1646106779</td>\n",
       "      <td>The Lion King</td>\n",
       "      <td>kids</td>\n",
       "      <td>88.0</td>\n",
       "      <td>Animation, Adventure, Drama</td>\n",
       "      <td>Roger Allers, Rob Minkoff</td>\n",
       "      <td>...</td>\n",
       "      <td>6.0</td>\n",
       "      <td>1.981623e+08</td>\n",
       "      <td>7.06</td>\n",
       "      <td>11.02</td>\n",
       "      <td>2.667289e+08</td>\n",
       "      <td>7.43</td>\n",
       "      <td>12.77</td>\n",
       "      <td>1.255530e+08</td>\n",
       "      <td>6.95</td>\n",
       "      <td>9.44</td>\n",
       "    </tr>\n",
       "    <tr>\n",
       "      <th>16</th>\n",
       "      <td>16</td>\n",
       "      <td>Tangled</td>\n",
       "      <td>260000000</td>\n",
       "      <td>200821936</td>\n",
       "      <td>582440151</td>\n",
       "      <td>Tangled</td>\n",
       "      <td>kids</td>\n",
       "      <td>100.0</td>\n",
       "      <td>Animation, Adventure, Comedy</td>\n",
       "      <td>Nathan Greno, Byron Howard</td>\n",
       "      <td>...</td>\n",
       "      <td>11.0</td>\n",
       "      <td>1.944406e+08</td>\n",
       "      <td>7.56</td>\n",
       "      <td>11.45</td>\n",
       "      <td>1.053621e+08</td>\n",
       "      <td>6.75</td>\n",
       "      <td>8.86</td>\n",
       "      <td>1.327570e+08</td>\n",
       "      <td>6.70</td>\n",
       "      <td>9.36</td>\n",
       "    </tr>\n",
       "    <tr>\n",
       "      <th>22</th>\n",
       "      <td>22</td>\n",
       "      <td>Harry Potter and the Half-Blood Prince</td>\n",
       "      <td>250000000</td>\n",
       "      <td>302089278</td>\n",
       "      <td>929411069</td>\n",
       "      <td>Harry Potter and the Half-Blood Prince</td>\n",
       "      <td>kids</td>\n",
       "      <td>153.0</td>\n",
       "      <td>Action, Adventure, Family</td>\n",
       "      <td>David Yates</td>\n",
       "      <td>...</td>\n",
       "      <td>7.0</td>\n",
       "      <td>2.018007e+08</td>\n",
       "      <td>6.87</td>\n",
       "      <td>10.90</td>\n",
       "      <td>2.351774e+08</td>\n",
       "      <td>7.30</td>\n",
       "      <td>12.00</td>\n",
       "      <td>1.785898e+08</td>\n",
       "      <td>7.17</td>\n",
       "      <td>10.74</td>\n",
       "    </tr>\n",
       "    <tr>\n",
       "      <th>23</th>\n",
       "      <td>23</td>\n",
       "      <td>The Little Mermaid</td>\n",
       "      <td>250000000</td>\n",
       "      <td>298172056</td>\n",
       "      <td>568345048</td>\n",
       "      <td>The Little Mermaid</td>\n",
       "      <td>kids</td>\n",
       "      <td>83.0</td>\n",
       "      <td>Animation, Adventure, Family</td>\n",
       "      <td>Ron Clements, John Musker</td>\n",
       "      <td>...</td>\n",
       "      <td>11.0</td>\n",
       "      <td>1.419754e+08</td>\n",
       "      <td>7.51</td>\n",
       "      <td>10.35</td>\n",
       "      <td>2.046358e+08</td>\n",
       "      <td>7.43</td>\n",
       "      <td>11.52</td>\n",
       "      <td>1.159109e+08</td>\n",
       "      <td>7.40</td>\n",
       "      <td>9.72</td>\n",
       "    </tr>\n",
       "    <tr>\n",
       "      <th>37</th>\n",
       "      <td>37</td>\n",
       "      <td>The Chronicles of Narnia: Prince Caspian</td>\n",
       "      <td>225000000</td>\n",
       "      <td>141621490</td>\n",
       "      <td>417341288</td>\n",
       "      <td>The Chronicles of Narnia: Prince Caspian</td>\n",
       "      <td>kids</td>\n",
       "      <td>150.0</td>\n",
       "      <td>Action, Adventure, Family</td>\n",
       "      <td>Andrew Adamson</td>\n",
       "      <td>...</td>\n",
       "      <td>5.0</td>\n",
       "      <td>2.158809e+08</td>\n",
       "      <td>7.10</td>\n",
       "      <td>11.42</td>\n",
       "      <td>2.295201e+08</td>\n",
       "      <td>7.01</td>\n",
       "      <td>11.24</td>\n",
       "      <td>8.875651e+07</td>\n",
       "      <td>6.33</td>\n",
       "      <td>8.11</td>\n",
       "    </tr>\n",
       "  </tbody>\n",
       "</table>\n",
       "<p>5 rows × 30 columns</p>\n",
       "</div>"
      ],
      "text/plain": [
       "    Unnamed: 0                                     Movie  ProductionBudget  \\\n",
       "15          15                             The Lion King         260000000   \n",
       "16          16                                   Tangled         260000000   \n",
       "22          22    Harry Potter and the Half-Blood Prince         250000000   \n",
       "23          23                        The Little Mermaid         250000000   \n",
       "37          37  The Chronicles of Narnia: Prince Caspian         225000000   \n",
       "\n",
       "    DomesticGross  WorldwideGross                                OMDB_Title  \\\n",
       "15      543638043      1646106779                             The Lion King   \n",
       "16      200821936       582440151                                   Tangled   \n",
       "22      302089278       929411069    Harry Potter and the Half-Blood Prince   \n",
       "23      298172056       568345048                        The Little Mermaid   \n",
       "37      141621490       417341288  The Chronicles of Narnia: Prince Caspian   \n",
       "\n",
       "   OMDB_Rated  OMDB_Runtime                    OMDB_Genre  \\\n",
       "15       kids          88.0   Animation, Adventure, Drama   \n",
       "16       kids         100.0  Animation, Adventure, Comedy   \n",
       "22       kids         153.0     Action, Adventure, Family   \n",
       "23       kids          83.0  Animation, Adventure, Family   \n",
       "37       kids         150.0     Action, Adventure, Family   \n",
       "\n",
       "                 OMDB_Director  ... ReleaseMonth Director_Avg_Box  \\\n",
       "15   Roger Allers, Rob Minkoff  ...          6.0     1.981623e+08   \n",
       "16  Nathan Greno, Byron Howard  ...         11.0     1.944406e+08   \n",
       "22                 David Yates  ...          7.0     2.018007e+08   \n",
       "23   Ron Clements, John Musker  ...         11.0     1.419754e+08   \n",
       "37              Andrew Adamson  ...          5.0     2.158809e+08   \n",
       "\n",
       "   Director_Avg_Rating Director_Score  Writer_Avg_Box  Writer_Avg_Rating  \\\n",
       "15                7.06          11.02    2.667289e+08               7.43   \n",
       "16                7.56          11.45    1.053621e+08               6.75   \n",
       "22                6.87          10.90    2.351774e+08               7.30   \n",
       "23                7.51          10.35    2.046358e+08               7.43   \n",
       "37                7.10          11.42    2.295201e+08               7.01   \n",
       "\n",
       "    Writer_Score  Actor_Avg_Box Actor_Avg_Rating  Actor_Score  \n",
       "15         12.77   1.255530e+08             6.95         9.44  \n",
       "16          8.86   1.327570e+08             6.70         9.36  \n",
       "22         12.00   1.785898e+08             7.17        10.74  \n",
       "23         11.52   1.159109e+08             7.40         9.72  \n",
       "37         11.24   8.875651e+07             6.33         8.11  \n",
       "\n",
       "[5 rows x 30 columns]"
      ]
     },
     "execution_count": 6,
     "metadata": {},
     "output_type": "execute_result"
    }
   ],
   "source": [
    "kids = df[(df['OMDB_Rated'] == 'kids')]\n",
    "kids.head()"
   ]
  },
  {
   "cell_type": "code",
   "execution_count": 7,
   "id": "68510b9f-13ed-4312-8178-8a423b8da77b",
   "metadata": {
    "tags": []
   },
   "outputs": [
    {
     "data": {
      "text/plain": [
       "Index(['Unnamed: 0', 'Movie', 'ProductionBudget', 'DomesticGross',\n",
       "       'WorldwideGross', 'OMDB_Title', 'OMDB_Rated', 'OMDB_Runtime',\n",
       "       'OMDB_Genre', 'OMDB_Director', 'OMDB_Writer', 'OMDB_Actors',\n",
       "       'OMDB_Language', 'OMDB_Country', 'OMDB_Metascore', 'OMDB_imdbRating',\n",
       "       'OMDB_imdbVotes', 'OMDB_BoxOffice', 'OMDB_Production', 'ReleaseYear',\n",
       "       'ReleaseMonth', 'Director_Avg_Box', 'Director_Avg_Rating',\n",
       "       'Director_Score', 'Writer_Avg_Box', 'Writer_Avg_Rating', 'Writer_Score',\n",
       "       'Actor_Avg_Box', 'Actor_Avg_Rating', 'Actor_Score'],\n",
       "      dtype='object')"
      ]
     },
     "execution_count": 7,
     "metadata": {},
     "output_type": "execute_result"
    }
   ],
   "source": [
    "kids.columns"
   ]
  },
  {
   "cell_type": "code",
   "execution_count": 242,
   "id": "fa845505-b219-43d6-97e5-7f00af0b71fa",
   "metadata": {
    "tags": []
   },
   "outputs": [],
   "source": [
    "# Mean Squared Error: 0.16813060090473145\n",
    "# features = ['ProductionBudget','Director_Avg_Box','Director_Avg_Rating','Writer_Avg_Box','Writer_Avg_Rating']\n",
    "# target='OMDB_imdbRating'\n",
    "\n",
    "# Mean Squared Error: 0.13352428378378384\n",
    "# features = ['ProductionBudget','Director_Avg_Box','Director_Avg_Rating','Writer_Avg_Box','Writer_Avg_Rating','Actor_Avg_Box','Actor_Avg_Rating']\n",
    "# target='OMDB_imdbRating'\n",
    "\n",
    "# Mean Squared Error: 0.13417093918918938\n",
    "# features = ['ProductionBudget','Director_Avg_Box','Director_Avg_Rating','Writer_Avg_Box','Writer_Avg_Rating','Actor_Avg_Box','Actor_Avg_Rating','ReleaseMonth']\n",
    "# target='OMDB_imdbRating'\n",
    "\n",
    "# Mean Squared Error: 0.13155986486486507\n",
    "features = ['ProductionBudget','Director_Avg_Box','Director_Avg_Rating','Writer_Avg_Box','Writer_Avg_Rating','Actor_Avg_Box','Actor_Avg_Rating','ReleaseMonth','ReleaseYear']\n",
    "target='OMDB_imdbRating'\n",
    "\n",
    "# Mean Squared Error: 0.13257979729729735\n",
    "# features = ['ProductionBudget','Director_Avg_Rating','Writer_Avg_Rating','Writer_Score','Actor_Avg_Rating','ReleaseMonth']\n",
    "# target='OMDB_imdbRating'\n",
    "\n",
    "# Mean Squared Error: 0.1329218243243243\n",
    "# features = ['ProductionBudget','Director_Avg_Rating','Director_Score','Writer_Avg_Rating','Writer_Score','Actor_Avg_Rating','Actor_Score']\n",
    "# target='OMDB_imdbRating'"
   ]
  },
  {
   "cell_type": "code",
   "execution_count": 243,
   "id": "10e95a98-80ae-4b70-8c65-ca80cc0b6e36",
   "metadata": {
    "tags": []
   },
   "outputs": [],
   "source": [
    "# Drop rows with missing values in the selected features and target\n",
    "kids = kids.dropna(subset=features + [target])"
   ]
  },
  {
   "cell_type": "code",
   "execution_count": 244,
   "id": "87b4141d-9a1f-47a5-b1f6-6c01af548adf",
   "metadata": {
    "tags": []
   },
   "outputs": [],
   "source": [
    "# le = LabelEncoder()\n",
    "# pg_and_g_movies['OMDB_Rated'] = le.fit_transform(pg_and_g_movies['OMDB_Rated'])"
   ]
  },
  {
   "cell_type": "code",
   "execution_count": 245,
   "id": "2ec25207-eb5a-4b37-a37a-52452b85ed4c",
   "metadata": {
    "tags": []
   },
   "outputs": [],
   "source": [
    "# Extract features and target variable\n",
    "X = kids[features]\n",
    "y = kids[target]"
   ]
  },
  {
   "cell_type": "code",
   "execution_count": 246,
   "id": "dcc5ea89-8a87-486b-be50-edc5f1c21c5b",
   "metadata": {
    "tags": []
   },
   "outputs": [],
   "source": [
    "# Split the data into training and testing sets\n",
    "X_train, X_test, y_train, y_test = train_test_split(X, y, test_size=0.2, random_state=42)"
   ]
  },
  {
   "cell_type": "code",
   "execution_count": 247,
   "id": "7720c32d-e05b-4ed4-8bc9-cab9e62c2b46",
   "metadata": {
    "tags": []
   },
   "outputs": [
    {
     "data": {
      "text/html": [
       "<style>#sk-container-id-32 {color: black;}#sk-container-id-32 pre{padding: 0;}#sk-container-id-32 div.sk-toggleable {background-color: white;}#sk-container-id-32 label.sk-toggleable__label {cursor: pointer;display: block;width: 100%;margin-bottom: 0;padding: 0.3em;box-sizing: border-box;text-align: center;}#sk-container-id-32 label.sk-toggleable__label-arrow:before {content: \"▸\";float: left;margin-right: 0.25em;color: #696969;}#sk-container-id-32 label.sk-toggleable__label-arrow:hover:before {color: black;}#sk-container-id-32 div.sk-estimator:hover label.sk-toggleable__label-arrow:before {color: black;}#sk-container-id-32 div.sk-toggleable__content {max-height: 0;max-width: 0;overflow: hidden;text-align: left;background-color: #f0f8ff;}#sk-container-id-32 div.sk-toggleable__content pre {margin: 0.2em;color: black;border-radius: 0.25em;background-color: #f0f8ff;}#sk-container-id-32 input.sk-toggleable__control:checked~div.sk-toggleable__content {max-height: 200px;max-width: 100%;overflow: auto;}#sk-container-id-32 input.sk-toggleable__control:checked~label.sk-toggleable__label-arrow:before {content: \"▾\";}#sk-container-id-32 div.sk-estimator input.sk-toggleable__control:checked~label.sk-toggleable__label {background-color: #d4ebff;}#sk-container-id-32 div.sk-label input.sk-toggleable__control:checked~label.sk-toggleable__label {background-color: #d4ebff;}#sk-container-id-32 input.sk-hidden--visually {border: 0;clip: rect(1px 1px 1px 1px);clip: rect(1px, 1px, 1px, 1px);height: 1px;margin: -1px;overflow: hidden;padding: 0;position: absolute;width: 1px;}#sk-container-id-32 div.sk-estimator {font-family: monospace;background-color: #f0f8ff;border: 1px dotted black;border-radius: 0.25em;box-sizing: border-box;margin-bottom: 0.5em;}#sk-container-id-32 div.sk-estimator:hover {background-color: #d4ebff;}#sk-container-id-32 div.sk-parallel-item::after {content: \"\";width: 100%;border-bottom: 1px solid gray;flex-grow: 1;}#sk-container-id-32 div.sk-label:hover label.sk-toggleable__label {background-color: #d4ebff;}#sk-container-id-32 div.sk-serial::before {content: \"\";position: absolute;border-left: 1px solid gray;box-sizing: border-box;top: 0;bottom: 0;left: 50%;z-index: 0;}#sk-container-id-32 div.sk-serial {display: flex;flex-direction: column;align-items: center;background-color: white;padding-right: 0.2em;padding-left: 0.2em;position: relative;}#sk-container-id-32 div.sk-item {position: relative;z-index: 1;}#sk-container-id-32 div.sk-parallel {display: flex;align-items: stretch;justify-content: center;background-color: white;position: relative;}#sk-container-id-32 div.sk-item::before, #sk-container-id-32 div.sk-parallel-item::before {content: \"\";position: absolute;border-left: 1px solid gray;box-sizing: border-box;top: 0;bottom: 0;left: 50%;z-index: -1;}#sk-container-id-32 div.sk-parallel-item {display: flex;flex-direction: column;z-index: 1;position: relative;background-color: white;}#sk-container-id-32 div.sk-parallel-item:first-child::after {align-self: flex-end;width: 50%;}#sk-container-id-32 div.sk-parallel-item:last-child::after {align-self: flex-start;width: 50%;}#sk-container-id-32 div.sk-parallel-item:only-child::after {width: 0;}#sk-container-id-32 div.sk-dashed-wrapped {border: 1px dashed gray;margin: 0 0.4em 0.5em 0.4em;box-sizing: border-box;padding-bottom: 0.4em;background-color: white;}#sk-container-id-32 div.sk-label label {font-family: monospace;font-weight: bold;display: inline-block;line-height: 1.2em;}#sk-container-id-32 div.sk-label-container {text-align: center;}#sk-container-id-32 div.sk-container {/* jupyter's `normalize.less` sets `[hidden] { display: none; }` but bootstrap.min.css set `[hidden] { display: none !important; }` so we also need the `!important` here to be able to override the default hidden behavior on the sphinx rendered scikit-learn.org. See: https://github.com/scikit-learn/scikit-learn/issues/21755 */display: inline-block !important;position: relative;}#sk-container-id-32 div.sk-text-repr-fallback {display: none;}</style><div id=\"sk-container-id-32\" class=\"sk-top-container\"><div class=\"sk-text-repr-fallback\"><pre>RandomForestRegressor(random_state=42)</pre><b>In a Jupyter environment, please rerun this cell to show the HTML representation or trust the notebook. <br />On GitHub, the HTML representation is unable to render, please try loading this page with nbviewer.org.</b></div><div class=\"sk-container\" hidden><div class=\"sk-item\"><div class=\"sk-estimator sk-toggleable\"><input class=\"sk-toggleable__control sk-hidden--visually\" id=\"sk-estimator-id-32\" type=\"checkbox\" checked><label for=\"sk-estimator-id-32\" class=\"sk-toggleable__label sk-toggleable__label-arrow\">RandomForestRegressor</label><div class=\"sk-toggleable__content\"><pre>RandomForestRegressor(random_state=42)</pre></div></div></div></div></div>"
      ],
      "text/plain": [
       "RandomForestRegressor(random_state=42)"
      ]
     },
     "execution_count": 247,
     "metadata": {},
     "output_type": "execute_result"
    }
   ],
   "source": [
    "# Initialize and train a Random Forest Regressor\n",
    "model = RandomForestRegressor(n_estimators=100, random_state=42)\n",
    "model.fit(X_train, y_train)"
   ]
  },
  {
   "cell_type": "code",
   "execution_count": 248,
   "id": "f0d2b2e9-22bb-414e-9e9e-9c25f7e68e7b",
   "metadata": {
    "tags": []
   },
   "outputs": [],
   "source": [
    "# Make predictions on the test set\n",
    "predictions = model.predict(X_test)"
   ]
  },
  {
   "cell_type": "code",
   "execution_count": 249,
   "id": "869bdf7f-6882-4169-9537-2ebec793bbdf",
   "metadata": {
    "tags": []
   },
   "outputs": [
    {
     "name": "stdout",
     "output_type": "stream",
     "text": [
      "Mean Squared Error: 0.13155986486486507\n"
     ]
    }
   ],
   "source": [
    "# Evaluate the model\n",
    "mse = mean_squared_error(y_test, predictions)\n",
    "print(f'Mean Squared Error: {mse}')"
   ]
  },
  {
   "cell_type": "markdown",
   "id": "c3dfe91f-e2b8-4b02-8942-dd328f158ebc",
   "metadata": {},
   "source": [
    "# Movies Rated for Teens"
   ]
  },
  {
   "cell_type": "raw",
   "id": "5b5be4b7-f20b-4cba-92be-cfa2a4322af8",
   "metadata": {},
   "source": [
    "Movies Ratings Used: 'PG-13', 'TV-14', '16+', '13+'"
   ]
  },
  {
   "cell_type": "code",
   "execution_count": 59,
   "id": "d1c57651-b8a5-46ac-8a42-e8bce94648e4",
   "metadata": {
    "tags": []
   },
   "outputs": [
    {
     "data": {
      "text/html": [
       "<div>\n",
       "<style scoped>\n",
       "    .dataframe tbody tr th:only-of-type {\n",
       "        vertical-align: middle;\n",
       "    }\n",
       "\n",
       "    .dataframe tbody tr th {\n",
       "        vertical-align: top;\n",
       "    }\n",
       "\n",
       "    .dataframe thead th {\n",
       "        text-align: right;\n",
       "    }\n",
       "</style>\n",
       "<table border=\"1\" class=\"dataframe\">\n",
       "  <thead>\n",
       "    <tr style=\"text-align: right;\">\n",
       "      <th></th>\n",
       "      <th>Unnamed: 0</th>\n",
       "      <th>Movie</th>\n",
       "      <th>ProductionBudget</th>\n",
       "      <th>DomesticGross</th>\n",
       "      <th>WorldwideGross</th>\n",
       "      <th>OMDB_Title</th>\n",
       "      <th>OMDB_Rated</th>\n",
       "      <th>OMDB_Runtime</th>\n",
       "      <th>OMDB_Genre</th>\n",
       "      <th>OMDB_Director</th>\n",
       "      <th>...</th>\n",
       "      <th>ReleaseMonth</th>\n",
       "      <th>Director_Avg_Box</th>\n",
       "      <th>Director_Avg_Rating</th>\n",
       "      <th>Director_Score</th>\n",
       "      <th>Writer_Avg_Box</th>\n",
       "      <th>Writer_Avg_Rating</th>\n",
       "      <th>Writer_Score</th>\n",
       "      <th>Actor_Avg_Box</th>\n",
       "      <th>Actor_Avg_Rating</th>\n",
       "      <th>Actor_Score</th>\n",
       "    </tr>\n",
       "  </thead>\n",
       "  <tbody>\n",
       "    <tr>\n",
       "      <th>0</th>\n",
       "      <td>0</td>\n",
       "      <td>Avatar: The Way of Water</td>\n",
       "      <td>460000000</td>\n",
       "      <td>684075767</td>\n",
       "      <td>2319591720</td>\n",
       "      <td>Avatar: The Way of Water</td>\n",
       "      <td>teens</td>\n",
       "      <td>192.0</td>\n",
       "      <td>Action, Adventure, Fantasy</td>\n",
       "      <td>James Cameron</td>\n",
       "      <td>...</td>\n",
       "      <td>12.0</td>\n",
       "      <td>3.342183e+08</td>\n",
       "      <td>7.91</td>\n",
       "      <td>14.60</td>\n",
       "      <td>2.850750e+08</td>\n",
       "      <td>7.33</td>\n",
       "      <td>13.03</td>\n",
       "      <td>1.611777e+08</td>\n",
       "      <td>6.56</td>\n",
       "      <td>9.78</td>\n",
       "    </tr>\n",
       "    <tr>\n",
       "      <th>1</th>\n",
       "      <td>1</td>\n",
       "      <td>Avengers: Endgame</td>\n",
       "      <td>400000000</td>\n",
       "      <td>858373000</td>\n",
       "      <td>2788912285</td>\n",
       "      <td>Avengers: Endgame</td>\n",
       "      <td>teens</td>\n",
       "      <td>181.0</td>\n",
       "      <td>Action, Adventure, Drama</td>\n",
       "      <td>Anthony Russo, Joe Russo</td>\n",
       "      <td>...</td>\n",
       "      <td>4.0</td>\n",
       "      <td>NaN</td>\n",
       "      <td>7.18</td>\n",
       "      <td>NaN</td>\n",
       "      <td>4.218914e+08</td>\n",
       "      <td>7.16</td>\n",
       "      <td>15.53</td>\n",
       "      <td>1.688389e+08</td>\n",
       "      <td>6.97</td>\n",
       "      <td>10.38</td>\n",
       "    </tr>\n",
       "    <tr>\n",
       "      <th>2</th>\n",
       "      <td>2</td>\n",
       "      <td>Pirates of the Caribbean: On Stranger Tides</td>\n",
       "      <td>379000000</td>\n",
       "      <td>241071802</td>\n",
       "      <td>1045713802</td>\n",
       "      <td>Pirates of the Caribbean: On Stranger Tides</td>\n",
       "      <td>teens</td>\n",
       "      <td>136.0</td>\n",
       "      <td>Action, Adventure, Fantasy</td>\n",
       "      <td>Rob Marshall</td>\n",
       "      <td>...</td>\n",
       "      <td>5.0</td>\n",
       "      <td>1.314813e+08</td>\n",
       "      <td>6.58</td>\n",
       "      <td>9.21</td>\n",
       "      <td>1.762009e+08</td>\n",
       "      <td>6.81</td>\n",
       "      <td>10.33</td>\n",
       "      <td>8.391134e+07</td>\n",
       "      <td>6.50</td>\n",
       "      <td>8.44</td>\n",
       "    </tr>\n",
       "    <tr>\n",
       "      <th>3</th>\n",
       "      <td>3</td>\n",
       "      <td>Avengers: Age of Ultron</td>\n",
       "      <td>365000000</td>\n",
       "      <td>459005868</td>\n",
       "      <td>1395316979</td>\n",
       "      <td>Avengers: Age of Ultron</td>\n",
       "      <td>teens</td>\n",
       "      <td>141.0</td>\n",
       "      <td>Action, Adventure, Sci-Fi</td>\n",
       "      <td>Joss Whedon</td>\n",
       "      <td>...</td>\n",
       "      <td>5.0</td>\n",
       "      <td>3.513501e+08</td>\n",
       "      <td>7.78</td>\n",
       "      <td>14.81</td>\n",
       "      <td>3.273985e+08</td>\n",
       "      <td>6.71</td>\n",
       "      <td>13.71</td>\n",
       "      <td>1.688389e+08</td>\n",
       "      <td>6.97</td>\n",
       "      <td>10.38</td>\n",
       "    </tr>\n",
       "    <tr>\n",
       "      <th>4</th>\n",
       "      <td>4</td>\n",
       "      <td>Fast X</td>\n",
       "      <td>340000000</td>\n",
       "      <td>145960660</td>\n",
       "      <td>714414576</td>\n",
       "      <td>Fast X</td>\n",
       "      <td>teens</td>\n",
       "      <td>141.0</td>\n",
       "      <td>Action, Adventure, Crime</td>\n",
       "      <td>Louis Leterrier</td>\n",
       "      <td>...</td>\n",
       "      <td>5.0</td>\n",
       "      <td>1.081561e+08</td>\n",
       "      <td>6.31</td>\n",
       "      <td>8.48</td>\n",
       "      <td>9.776042e+07</td>\n",
       "      <td>5.97</td>\n",
       "      <td>7.81</td>\n",
       "      <td>9.731984e+07</td>\n",
       "      <td>6.17</td>\n",
       "      <td>8.09</td>\n",
       "    </tr>\n",
       "  </tbody>\n",
       "</table>\n",
       "<p>5 rows × 30 columns</p>\n",
       "</div>"
      ],
      "text/plain": [
       "   Unnamed: 0                                        Movie  ProductionBudget  \\\n",
       "0           0                     Avatar: The Way of Water         460000000   \n",
       "1           1                            Avengers: Endgame         400000000   \n",
       "2           2  Pirates of the Caribbean: On Stranger Tides         379000000   \n",
       "3           3                      Avengers: Age of Ultron         365000000   \n",
       "4           4                                       Fast X         340000000   \n",
       "\n",
       "   DomesticGross  WorldwideGross                                   OMDB_Title  \\\n",
       "0      684075767      2319591720                     Avatar: The Way of Water   \n",
       "1      858373000      2788912285                            Avengers: Endgame   \n",
       "2      241071802      1045713802  Pirates of the Caribbean: On Stranger Tides   \n",
       "3      459005868      1395316979                      Avengers: Age of Ultron   \n",
       "4      145960660       714414576                                       Fast X   \n",
       "\n",
       "  OMDB_Rated  OMDB_Runtime                  OMDB_Genre  \\\n",
       "0      teens         192.0  Action, Adventure, Fantasy   \n",
       "1      teens         181.0    Action, Adventure, Drama   \n",
       "2      teens         136.0  Action, Adventure, Fantasy   \n",
       "3      teens         141.0   Action, Adventure, Sci-Fi   \n",
       "4      teens         141.0    Action, Adventure, Crime   \n",
       "\n",
       "              OMDB_Director  ... ReleaseMonth Director_Avg_Box  \\\n",
       "0             James Cameron  ...         12.0     3.342183e+08   \n",
       "1  Anthony Russo, Joe Russo  ...          4.0              NaN   \n",
       "2              Rob Marshall  ...          5.0     1.314813e+08   \n",
       "3               Joss Whedon  ...          5.0     3.513501e+08   \n",
       "4           Louis Leterrier  ...          5.0     1.081561e+08   \n",
       "\n",
       "  Director_Avg_Rating Director_Score  Writer_Avg_Box  Writer_Avg_Rating  \\\n",
       "0                7.91          14.60    2.850750e+08               7.33   \n",
       "1                7.18            NaN    4.218914e+08               7.16   \n",
       "2                6.58           9.21    1.762009e+08               6.81   \n",
       "3                7.78          14.81    3.273985e+08               6.71   \n",
       "4                6.31           8.48    9.776042e+07               5.97   \n",
       "\n",
       "   Writer_Score  Actor_Avg_Box Actor_Avg_Rating  Actor_Score  \n",
       "0         13.03   1.611777e+08             6.56         9.78  \n",
       "1         15.53   1.688389e+08             6.97        10.38  \n",
       "2         10.33   8.391134e+07             6.50         8.44  \n",
       "3         13.71   1.688389e+08             6.97        10.38  \n",
       "4          7.81   9.731984e+07             6.17         8.09  \n",
       "\n",
       "[5 rows x 30 columns]"
      ]
     },
     "execution_count": 59,
     "metadata": {},
     "output_type": "execute_result"
    }
   ],
   "source": [
    "teens = df[(df['OMDB_Rated'] == 'teens')]\n",
    "teens.head()"
   ]
  },
  {
   "cell_type": "code",
   "execution_count": 60,
   "id": "000e93c6-fa8d-482f-adac-f2a6e85502d2",
   "metadata": {
    "tags": []
   },
   "outputs": [
    {
     "data": {
      "text/plain": [
       "Index(['Unnamed: 0', 'Movie', 'ProductionBudget', 'DomesticGross',\n",
       "       'WorldwideGross', 'OMDB_Title', 'OMDB_Rated', 'OMDB_Runtime',\n",
       "       'OMDB_Genre', 'OMDB_Director', 'OMDB_Writer', 'OMDB_Actors',\n",
       "       'OMDB_Language', 'OMDB_Country', 'OMDB_Metascore', 'OMDB_imdbRating',\n",
       "       'OMDB_imdbVotes', 'OMDB_BoxOffice', 'OMDB_Production', 'ReleaseYear',\n",
       "       'ReleaseMonth', 'Director_Avg_Box', 'Director_Avg_Rating',\n",
       "       'Director_Score', 'Writer_Avg_Box', 'Writer_Avg_Rating', 'Writer_Score',\n",
       "       'Actor_Avg_Box', 'Actor_Avg_Rating', 'Actor_Score'],\n",
       "      dtype='object')"
      ]
     },
     "execution_count": 60,
     "metadata": {},
     "output_type": "execute_result"
    }
   ],
   "source": [
    "teens.columns"
   ]
  },
  {
   "cell_type": "code",
   "execution_count": 228,
   "id": "0418a756-92ac-4be4-bf65-753fcad58948",
   "metadata": {
    "tags": []
   },
   "outputs": [],
   "source": [
    "# Mean Squared Error: 0.2396432166992439\n",
    "# features = ['ProductionBudget','Director_Avg_Box','Director_Avg_Rating','Writer_Avg_Box','Writer_Avg_Rating']\n",
    "# target='OMDB_imdbRating'\n",
    "\n",
    "# Mean Squared Error: 0.19846093397042086\n",
    "# features = ['ProductionBudget','Director_Avg_Box','Director_Avg_Rating','Writer_Avg_Box','Writer_Avg_Rating','Actor_Avg_Box','Actor_Avg_Rating']\n",
    "# target='OMDB_imdbRating'\n",
    "\n",
    "# Mean Squared Error: 0.19631951817216522\n",
    "features = ['ProductionBudget','Director_Avg_Box','Director_Avg_Rating','Writer_Avg_Box','Writer_Avg_Rating','Actor_Avg_Box','Actor_Avg_Rating','ReleaseMonth']\n",
    "target='OMDB_imdbRating'\n",
    "\n",
    "# Mean Squared Error: 0.20314064505119453\n",
    "# features = ['ProductionBudget','Director_Avg_Box','Director_Avg_Rating','Writer_Avg_Box','Writer_Avg_Rating','Actor_Avg_Box','Actor_Avg_Rating','ReleaseMonth','ReleaseYear']\n",
    "# target='OMDB_imdbRating'\n",
    "\n",
    "# Mean Squared Error: 0.1986653175123248\n",
    "# features = ['ProductionBudget','Director_Avg_Box','Director_Avg_Rating','Writer_Avg_Box','Writer_Avg_Rating','Writer_Score','Actor_Avg_Box','Actor_Avg_Rating','ReleaseMonth']\n",
    "# target='OMDB_imdbRating'\n",
    "\n",
    "# Mean Squared Error: 0.2021205239666289\n",
    "# features = ['ProductionBudget','Director_Avg_Rating','Writer_Avg_Rating','Writer_Score','Actor_Avg_Rating','ReleaseMonth']\n",
    "# target='OMDB_imdbRating'\n",
    "\n",
    "# Mean Squared Error: 0.1982368520932879\n",
    "# features = ['ProductionBudget','Director_Avg_Rating','Director_Score','Writer_Avg_Rating','Writer_Score','Actor_Avg_Rating','ReleaseMonth']\n",
    "# target='OMDB_imdbRating'\n",
    "\n",
    "# Mean Squared Error: 0.19663169275692077\n",
    "# features = ['ProductionBudget','Director_Avg_Rating','Director_Score','Writer_Avg_Rating','Writer_Score','Actor_Avg_Rating','Actor_Score','ReleaseMonth']\n",
    "# target='OMDB_imdbRating'\n",
    "\n",
    "# Mean Squared Error: 0.1974802224345848\n",
    "# features = ['ProductionBudget','Director_Avg_Rating','Director_Score','Writer_Avg_Rating','Writer_Score','Actor_Avg_Rating','Actor_Score']\n",
    "# target='OMDB_imdbRating'"
   ]
  },
  {
   "cell_type": "code",
   "execution_count": 229,
   "id": "93e1ed3a-2639-440f-8fc6-8be412db4ca0",
   "metadata": {
    "tags": []
   },
   "outputs": [],
   "source": [
    "# Drop rows with missing values in the selected features and target\n",
    "teens = teens.dropna(subset=features + [target])"
   ]
  },
  {
   "cell_type": "code",
   "execution_count": 230,
   "id": "f48d98c7-7f88-4d27-a4fd-59c943ffc01c",
   "metadata": {
    "tags": []
   },
   "outputs": [],
   "source": [
    "# Extract features and target variable\n",
    "X = teens[features]\n",
    "y = teens[target]"
   ]
  },
  {
   "cell_type": "code",
   "execution_count": 231,
   "id": "8a4bd633-ba2d-4a5c-b66a-35a55b00575c",
   "metadata": {
    "tags": []
   },
   "outputs": [],
   "source": [
    "# Split the data into training and testing sets\n",
    "X_train, X_test, y_train, y_test = train_test_split(X, y, test_size=0.2, random_state=42)"
   ]
  },
  {
   "cell_type": "code",
   "execution_count": 232,
   "id": "205ab051-991c-4b9f-823d-0ec2e7b904cd",
   "metadata": {
    "tags": []
   },
   "outputs": [
    {
     "data": {
      "text/html": [
       "<style>#sk-container-id-30 {color: black;}#sk-container-id-30 pre{padding: 0;}#sk-container-id-30 div.sk-toggleable {background-color: white;}#sk-container-id-30 label.sk-toggleable__label {cursor: pointer;display: block;width: 100%;margin-bottom: 0;padding: 0.3em;box-sizing: border-box;text-align: center;}#sk-container-id-30 label.sk-toggleable__label-arrow:before {content: \"▸\";float: left;margin-right: 0.25em;color: #696969;}#sk-container-id-30 label.sk-toggleable__label-arrow:hover:before {color: black;}#sk-container-id-30 div.sk-estimator:hover label.sk-toggleable__label-arrow:before {color: black;}#sk-container-id-30 div.sk-toggleable__content {max-height: 0;max-width: 0;overflow: hidden;text-align: left;background-color: #f0f8ff;}#sk-container-id-30 div.sk-toggleable__content pre {margin: 0.2em;color: black;border-radius: 0.25em;background-color: #f0f8ff;}#sk-container-id-30 input.sk-toggleable__control:checked~div.sk-toggleable__content {max-height: 200px;max-width: 100%;overflow: auto;}#sk-container-id-30 input.sk-toggleable__control:checked~label.sk-toggleable__label-arrow:before {content: \"▾\";}#sk-container-id-30 div.sk-estimator input.sk-toggleable__control:checked~label.sk-toggleable__label {background-color: #d4ebff;}#sk-container-id-30 div.sk-label input.sk-toggleable__control:checked~label.sk-toggleable__label {background-color: #d4ebff;}#sk-container-id-30 input.sk-hidden--visually {border: 0;clip: rect(1px 1px 1px 1px);clip: rect(1px, 1px, 1px, 1px);height: 1px;margin: -1px;overflow: hidden;padding: 0;position: absolute;width: 1px;}#sk-container-id-30 div.sk-estimator {font-family: monospace;background-color: #f0f8ff;border: 1px dotted black;border-radius: 0.25em;box-sizing: border-box;margin-bottom: 0.5em;}#sk-container-id-30 div.sk-estimator:hover {background-color: #d4ebff;}#sk-container-id-30 div.sk-parallel-item::after {content: \"\";width: 100%;border-bottom: 1px solid gray;flex-grow: 1;}#sk-container-id-30 div.sk-label:hover label.sk-toggleable__label {background-color: #d4ebff;}#sk-container-id-30 div.sk-serial::before {content: \"\";position: absolute;border-left: 1px solid gray;box-sizing: border-box;top: 0;bottom: 0;left: 50%;z-index: 0;}#sk-container-id-30 div.sk-serial {display: flex;flex-direction: column;align-items: center;background-color: white;padding-right: 0.2em;padding-left: 0.2em;position: relative;}#sk-container-id-30 div.sk-item {position: relative;z-index: 1;}#sk-container-id-30 div.sk-parallel {display: flex;align-items: stretch;justify-content: center;background-color: white;position: relative;}#sk-container-id-30 div.sk-item::before, #sk-container-id-30 div.sk-parallel-item::before {content: \"\";position: absolute;border-left: 1px solid gray;box-sizing: border-box;top: 0;bottom: 0;left: 50%;z-index: -1;}#sk-container-id-30 div.sk-parallel-item {display: flex;flex-direction: column;z-index: 1;position: relative;background-color: white;}#sk-container-id-30 div.sk-parallel-item:first-child::after {align-self: flex-end;width: 50%;}#sk-container-id-30 div.sk-parallel-item:last-child::after {align-self: flex-start;width: 50%;}#sk-container-id-30 div.sk-parallel-item:only-child::after {width: 0;}#sk-container-id-30 div.sk-dashed-wrapped {border: 1px dashed gray;margin: 0 0.4em 0.5em 0.4em;box-sizing: border-box;padding-bottom: 0.4em;background-color: white;}#sk-container-id-30 div.sk-label label {font-family: monospace;font-weight: bold;display: inline-block;line-height: 1.2em;}#sk-container-id-30 div.sk-label-container {text-align: center;}#sk-container-id-30 div.sk-container {/* jupyter's `normalize.less` sets `[hidden] { display: none; }` but bootstrap.min.css set `[hidden] { display: none !important; }` so we also need the `!important` here to be able to override the default hidden behavior on the sphinx rendered scikit-learn.org. See: https://github.com/scikit-learn/scikit-learn/issues/21755 */display: inline-block !important;position: relative;}#sk-container-id-30 div.sk-text-repr-fallback {display: none;}</style><div id=\"sk-container-id-30\" class=\"sk-top-container\"><div class=\"sk-text-repr-fallback\"><pre>RandomForestRegressor(random_state=42)</pre><b>In a Jupyter environment, please rerun this cell to show the HTML representation or trust the notebook. <br />On GitHub, the HTML representation is unable to render, please try loading this page with nbviewer.org.</b></div><div class=\"sk-container\" hidden><div class=\"sk-item\"><div class=\"sk-estimator sk-toggleable\"><input class=\"sk-toggleable__control sk-hidden--visually\" id=\"sk-estimator-id-30\" type=\"checkbox\" checked><label for=\"sk-estimator-id-30\" class=\"sk-toggleable__label sk-toggleable__label-arrow\">RandomForestRegressor</label><div class=\"sk-toggleable__content\"><pre>RandomForestRegressor(random_state=42)</pre></div></div></div></div></div>"
      ],
      "text/plain": [
       "RandomForestRegressor(random_state=42)"
      ]
     },
     "execution_count": 232,
     "metadata": {},
     "output_type": "execute_result"
    }
   ],
   "source": [
    "# Initialize and train a Random Forest Regressor\n",
    "model = RandomForestRegressor(n_estimators=100, random_state=42)\n",
    "model.fit(X_train, y_train)"
   ]
  },
  {
   "cell_type": "code",
   "execution_count": 233,
   "id": "758a0de4-e238-48ab-b396-96acdcbbef43",
   "metadata": {
    "tags": []
   },
   "outputs": [],
   "source": [
    "# Make predictions on the test set\n",
    "predictions = model.predict(X_test)"
   ]
  },
  {
   "cell_type": "code",
   "execution_count": 234,
   "id": "d8c4722f-6c29-4a32-b30d-e82d75f46422",
   "metadata": {
    "tags": []
   },
   "outputs": [
    {
     "name": "stdout",
     "output_type": "stream",
     "text": [
      "Mean Squared Error: 0.20314064505119453\n"
     ]
    }
   ],
   "source": [
    "# Evaluate the model\n",
    "mse = mean_squared_error(y_test, predictions)\n",
    "print(f'Mean Squared Error: {mse}')"
   ]
  },
  {
   "cell_type": "markdown",
   "id": "c4083a56-7ede-46b1-b912-117ebbe353fa",
   "metadata": {},
   "source": [
    "# Movies Rated for Adults"
   ]
  },
  {
   "cell_type": "raw",
   "id": "a758d693-9d68-44de-8c7d-719ead01629f",
   "metadata": {},
   "source": [
    "Movie Ratings Used: 'R', 'TV-MA', 'NC-17', 'X', '18+'"
   ]
  },
  {
   "cell_type": "code",
   "execution_count": 83,
   "id": "bf50c8b3-9663-43d4-91d2-a5dd19a44203",
   "metadata": {},
   "outputs": [
    {
     "data": {
      "text/html": [
       "<div>\n",
       "<style scoped>\n",
       "    .dataframe tbody tr th:only-of-type {\n",
       "        vertical-align: middle;\n",
       "    }\n",
       "\n",
       "    .dataframe tbody tr th {\n",
       "        vertical-align: top;\n",
       "    }\n",
       "\n",
       "    .dataframe thead th {\n",
       "        text-align: right;\n",
       "    }\n",
       "</style>\n",
       "<table border=\"1\" class=\"dataframe\">\n",
       "  <thead>\n",
       "    <tr style=\"text-align: right;\">\n",
       "      <th></th>\n",
       "      <th>Unnamed: 0</th>\n",
       "      <th>Movie</th>\n",
       "      <th>ProductionBudget</th>\n",
       "      <th>DomesticGross</th>\n",
       "      <th>WorldwideGross</th>\n",
       "      <th>OMDB_Title</th>\n",
       "      <th>OMDB_Rated</th>\n",
       "      <th>OMDB_Runtime</th>\n",
       "      <th>OMDB_Genre</th>\n",
       "      <th>OMDB_Director</th>\n",
       "      <th>...</th>\n",
       "      <th>ReleaseMonth</th>\n",
       "      <th>Director_Avg_Box</th>\n",
       "      <th>Director_Avg_Rating</th>\n",
       "      <th>Director_Score</th>\n",
       "      <th>Writer_Avg_Box</th>\n",
       "      <th>Writer_Avg_Rating</th>\n",
       "      <th>Writer_Score</th>\n",
       "      <th>Actor_Avg_Box</th>\n",
       "      <th>Actor_Avg_Rating</th>\n",
       "      <th>Actor_Score</th>\n",
       "    </tr>\n",
       "  </thead>\n",
       "  <tbody>\n",
       "    <tr>\n",
       "      <th>90</th>\n",
       "      <td>90</td>\n",
       "      <td>Killers of the Flower Moon</td>\n",
       "      <td>200000000</td>\n",
       "      <td>62180032</td>\n",
       "      <td>139359510</td>\n",
       "      <td>Killers of the Flower Moon</td>\n",
       "      <td>adults</td>\n",
       "      <td>206.0</td>\n",
       "      <td>Crime, Drama, History</td>\n",
       "      <td>Martin Scorsese</td>\n",
       "      <td>...</td>\n",
       "      <td>10.0</td>\n",
       "      <td>NaN</td>\n",
       "      <td>7.60</td>\n",
       "      <td>NaN</td>\n",
       "      <td>5.224575e+07</td>\n",
       "      <td>7.55</td>\n",
       "      <td>8.59</td>\n",
       "      <td>80141236.67</td>\n",
       "      <td>7.46</td>\n",
       "      <td>9.42</td>\n",
       "    </tr>\n",
       "    <tr>\n",
       "      <th>106</th>\n",
       "      <td>106</td>\n",
       "      <td>The Matrix Resurrections</td>\n",
       "      <td>190000000</td>\n",
       "      <td>40463197</td>\n",
       "      <td>159197755</td>\n",
       "      <td>The Matrix Resurrections</td>\n",
       "      <td>adults</td>\n",
       "      <td>148.0</td>\n",
       "      <td>Action, Sci-Fi</td>\n",
       "      <td>Lana Wachowski</td>\n",
       "      <td>...</td>\n",
       "      <td>12.0</td>\n",
       "      <td>9.411227e+07</td>\n",
       "      <td>6.80</td>\n",
       "      <td>8.68</td>\n",
       "      <td>5.181852e+07</td>\n",
       "      <td>6.38</td>\n",
       "      <td>7.42</td>\n",
       "      <td>48259669.29</td>\n",
       "      <td>6.35</td>\n",
       "      <td>7.10</td>\n",
       "    </tr>\n",
       "    <tr>\n",
       "      <th>115</th>\n",
       "      <td>115</td>\n",
       "      <td>Blade Runner 2049</td>\n",
       "      <td>185000000</td>\n",
       "      <td>92054159</td>\n",
       "      <td>257767797</td>\n",
       "      <td>Blade Runner 2049</td>\n",
       "      <td>adults</td>\n",
       "      <td>164.0</td>\n",
       "      <td>Action, Drama, Mystery</td>\n",
       "      <td>Denis Villeneuve</td>\n",
       "      <td>...</td>\n",
       "      <td>10.0</td>\n",
       "      <td>NaN</td>\n",
       "      <td>7.90</td>\n",
       "      <td>NaN</td>\n",
       "      <td>8.026136e+07</td>\n",
       "      <td>7.37</td>\n",
       "      <td>8.97</td>\n",
       "      <td>98936636.61</td>\n",
       "      <td>6.83</td>\n",
       "      <td>8.75</td>\n",
       "    </tr>\n",
       "    <tr>\n",
       "      <th>116</th>\n",
       "      <td>116</td>\n",
       "      <td>Terminator: Dark Fate</td>\n",
       "      <td>185000000</td>\n",
       "      <td>62253077</td>\n",
       "      <td>250367666</td>\n",
       "      <td>Terminator: Dark Fate</td>\n",
       "      <td>adults</td>\n",
       "      <td>128.0</td>\n",
       "      <td>Action, Adventure, Sci-Fi</td>\n",
       "      <td>Tim Miller</td>\n",
       "      <td>...</td>\n",
       "      <td>11.0</td>\n",
       "      <td>2.126619e+08</td>\n",
       "      <td>7.10</td>\n",
       "      <td>11.35</td>\n",
       "      <td>9.993673e+07</td>\n",
       "      <td>6.51</td>\n",
       "      <td>8.51</td>\n",
       "      <td>52338500.18</td>\n",
       "      <td>6.01</td>\n",
       "      <td>7.06</td>\n",
       "    </tr>\n",
       "    <tr>\n",
       "      <th>117</th>\n",
       "      <td>117</td>\n",
       "      <td>The Suicide Squad</td>\n",
       "      <td>185000000</td>\n",
       "      <td>55817425</td>\n",
       "      <td>167097737</td>\n",
       "      <td>The Suicide Squad</td>\n",
       "      <td>adults</td>\n",
       "      <td>132.0</td>\n",
       "      <td>Action, Adventure, Comedy</td>\n",
       "      <td>James Gunn</td>\n",
       "      <td>...</td>\n",
       "      <td>8.0</td>\n",
       "      <td>1.910792e+08</td>\n",
       "      <td>7.32</td>\n",
       "      <td>11.14</td>\n",
       "      <td>1.374768e+08</td>\n",
       "      <td>6.83</td>\n",
       "      <td>9.58</td>\n",
       "      <td>81127471.42</td>\n",
       "      <td>6.50</td>\n",
       "      <td>8.12</td>\n",
       "    </tr>\n",
       "  </tbody>\n",
       "</table>\n",
       "<p>5 rows × 30 columns</p>\n",
       "</div>"
      ],
      "text/plain": [
       "     Unnamed: 0                       Movie  ProductionBudget  DomesticGross  \\\n",
       "90           90  Killers of the Flower Moon         200000000       62180032   \n",
       "106         106    The Matrix Resurrections         190000000       40463197   \n",
       "115         115           Blade Runner 2049         185000000       92054159   \n",
       "116         116       Terminator: Dark Fate         185000000       62253077   \n",
       "117         117           The Suicide Squad         185000000       55817425   \n",
       "\n",
       "     WorldwideGross                  OMDB_Title OMDB_Rated  OMDB_Runtime  \\\n",
       "90        139359510  Killers of the Flower Moon     adults         206.0   \n",
       "106       159197755    The Matrix Resurrections     adults         148.0   \n",
       "115       257767797           Blade Runner 2049     adults         164.0   \n",
       "116       250367666       Terminator: Dark Fate     adults         128.0   \n",
       "117       167097737           The Suicide Squad     adults         132.0   \n",
       "\n",
       "                    OMDB_Genre     OMDB_Director  ... ReleaseMonth  \\\n",
       "90       Crime, Drama, History   Martin Scorsese  ...         10.0   \n",
       "106             Action, Sci-Fi    Lana Wachowski  ...         12.0   \n",
       "115     Action, Drama, Mystery  Denis Villeneuve  ...         10.0   \n",
       "116  Action, Adventure, Sci-Fi        Tim Miller  ...         11.0   \n",
       "117  Action, Adventure, Comedy        James Gunn  ...          8.0   \n",
       "\n",
       "    Director_Avg_Box Director_Avg_Rating Director_Score  Writer_Avg_Box  \\\n",
       "90               NaN                7.60            NaN    5.224575e+07   \n",
       "106     9.411227e+07                6.80           8.68    5.181852e+07   \n",
       "115              NaN                7.90            NaN    8.026136e+07   \n",
       "116     2.126619e+08                7.10          11.35    9.993673e+07   \n",
       "117     1.910792e+08                7.32          11.14    1.374768e+08   \n",
       "\n",
       "     Writer_Avg_Rating  Writer_Score  Actor_Avg_Box Actor_Avg_Rating  \\\n",
       "90                7.55          8.59    80141236.67             7.46   \n",
       "106               6.38          7.42    48259669.29             6.35   \n",
       "115               7.37          8.97    98936636.61             6.83   \n",
       "116               6.51          8.51    52338500.18             6.01   \n",
       "117               6.83          9.58    81127471.42             6.50   \n",
       "\n",
       "     Actor_Score  \n",
       "90          9.42  \n",
       "106         7.10  \n",
       "115         8.75  \n",
       "116         7.06  \n",
       "117         8.12  \n",
       "\n",
       "[5 rows x 30 columns]"
      ]
     },
     "execution_count": 83,
     "metadata": {},
     "output_type": "execute_result"
    }
   ],
   "source": [
    "adults = df[(df['OMDB_Rated'] == 'adults')]\n",
    "adults.head()"
   ]
  },
  {
   "cell_type": "code",
   "execution_count": 84,
   "id": "a8a5f624-fe1f-4bed-87be-5a9f963773c8",
   "metadata": {},
   "outputs": [
    {
     "data": {
      "text/plain": [
       "Index(['Unnamed: 0', 'Movie', 'ProductionBudget', 'DomesticGross',\n",
       "       'WorldwideGross', 'OMDB_Title', 'OMDB_Rated', 'OMDB_Runtime',\n",
       "       'OMDB_Genre', 'OMDB_Director', 'OMDB_Writer', 'OMDB_Actors',\n",
       "       'OMDB_Language', 'OMDB_Country', 'OMDB_Metascore', 'OMDB_imdbRating',\n",
       "       'OMDB_imdbVotes', 'OMDB_BoxOffice', 'OMDB_Production', 'ReleaseYear',\n",
       "       'ReleaseMonth', 'Director_Avg_Box', 'Director_Avg_Rating',\n",
       "       'Director_Score', 'Writer_Avg_Box', 'Writer_Avg_Rating', 'Writer_Score',\n",
       "       'Actor_Avg_Box', 'Actor_Avg_Rating', 'Actor_Score'],\n",
       "      dtype='object')"
      ]
     },
     "execution_count": 84,
     "metadata": {},
     "output_type": "execute_result"
    }
   ],
   "source": [
    "adults.columns"
   ]
  },
  {
   "cell_type": "code",
   "execution_count": 235,
   "id": "ebc17f0f-6cbd-4cb4-802b-c7d53a7c072e",
   "metadata": {},
   "outputs": [],
   "source": [
    "# Mean Squared Error: 0.1894942956050434\n",
    "# features = ['ProductionBudget','Director_Avg_Box','Director_Avg_Rating','Writer_Avg_Box','Writer_Avg_Rating']\n",
    "# target='OMDB_imdbRating'\n",
    "\n",
    "# Mean Squared Error: 0.16529893277850685\n",
    "# features = ['ProductionBudget','Director_Avg_Box','Director_Avg_Rating','Writer_Avg_Box','Writer_Avg_Rating','Actor_Avg_Box','Actor_Avg_Rating']\n",
    "# target='OMDB_imdbRating'\n",
    "\n",
    "# Mean Squared Error: 0.16511039998323118\n",
    "# features = ['ProductionBudget','Director_Avg_Box','Director_Avg_Rating','Writer_Avg_Box','Writer_Avg_Rating','Actor_Avg_Box','Actor_Avg_Rating','ReleaseMonth']\n",
    "# target='OMDB_imdbRating'\n",
    "\n",
    "# Mean Squared Error: 0.16024384514435697\n",
    "features = ['ProductionBudget','Director_Avg_Box','Director_Avg_Rating','Writer_Avg_Box','Writer_Avg_Rating','Actor_Avg_Box','Actor_Avg_Rating','ReleaseMonth','ReleaseYear']\n",
    "target='OMDB_imdbRating'\n",
    "\n",
    "# Mean Squared Error: 0.164431870709197\n",
    "# features = ['ProductionBudget','Director_Avg_Box','Director_Avg_Rating','Writer_Avg_Box','Writer_Avg_Rating','Writer_Score','Actor_Avg_Box','Actor_Avg_Rating','ReleaseMonth']\n",
    "# target='OMDB_imdbRating'\n",
    "\n",
    "# Mean Squared Error: 0.16557388960921546\n",
    "# features = ['ProductionBudget','Director_Avg_Rating','Writer_Avg_Rating','Writer_Score','Actor_Avg_Rating','ReleaseMonth']\n",
    "# target='OMDB_imdbRating'"
   ]
  },
  {
   "cell_type": "code",
   "execution_count": 236,
   "id": "34f29971-bb6c-433f-9296-c2a59b817823",
   "metadata": {},
   "outputs": [],
   "source": [
    "# Drop rows with missing values in the selected features and target\n",
    "adults = adults.dropna(subset=features + [target])"
   ]
  },
  {
   "cell_type": "code",
   "execution_count": 237,
   "id": "4d1bf484-64c4-4a88-a76b-5e37fe8d3a38",
   "metadata": {},
   "outputs": [],
   "source": [
    "# Extract features and target variable\n",
    "X = adults[features]\n",
    "y = adults[target]"
   ]
  },
  {
   "cell_type": "code",
   "execution_count": 238,
   "id": "b3b5f6a3-47d9-4981-b9c8-7d6922abf127",
   "metadata": {},
   "outputs": [],
   "source": [
    "# Split the data into training and testing sets\n",
    "X_train, X_test, y_train, y_test = train_test_split(X, y, test_size=0.2, random_state=42)"
   ]
  },
  {
   "cell_type": "code",
   "execution_count": 239,
   "id": "39df21b9-7a0b-474b-b4c1-4d53db44265a",
   "metadata": {},
   "outputs": [
    {
     "data": {
      "text/html": [
       "<style>#sk-container-id-31 {color: black;}#sk-container-id-31 pre{padding: 0;}#sk-container-id-31 div.sk-toggleable {background-color: white;}#sk-container-id-31 label.sk-toggleable__label {cursor: pointer;display: block;width: 100%;margin-bottom: 0;padding: 0.3em;box-sizing: border-box;text-align: center;}#sk-container-id-31 label.sk-toggleable__label-arrow:before {content: \"▸\";float: left;margin-right: 0.25em;color: #696969;}#sk-container-id-31 label.sk-toggleable__label-arrow:hover:before {color: black;}#sk-container-id-31 div.sk-estimator:hover label.sk-toggleable__label-arrow:before {color: black;}#sk-container-id-31 div.sk-toggleable__content {max-height: 0;max-width: 0;overflow: hidden;text-align: left;background-color: #f0f8ff;}#sk-container-id-31 div.sk-toggleable__content pre {margin: 0.2em;color: black;border-radius: 0.25em;background-color: #f0f8ff;}#sk-container-id-31 input.sk-toggleable__control:checked~div.sk-toggleable__content {max-height: 200px;max-width: 100%;overflow: auto;}#sk-container-id-31 input.sk-toggleable__control:checked~label.sk-toggleable__label-arrow:before {content: \"▾\";}#sk-container-id-31 div.sk-estimator input.sk-toggleable__control:checked~label.sk-toggleable__label {background-color: #d4ebff;}#sk-container-id-31 div.sk-label input.sk-toggleable__control:checked~label.sk-toggleable__label {background-color: #d4ebff;}#sk-container-id-31 input.sk-hidden--visually {border: 0;clip: rect(1px 1px 1px 1px);clip: rect(1px, 1px, 1px, 1px);height: 1px;margin: -1px;overflow: hidden;padding: 0;position: absolute;width: 1px;}#sk-container-id-31 div.sk-estimator {font-family: monospace;background-color: #f0f8ff;border: 1px dotted black;border-radius: 0.25em;box-sizing: border-box;margin-bottom: 0.5em;}#sk-container-id-31 div.sk-estimator:hover {background-color: #d4ebff;}#sk-container-id-31 div.sk-parallel-item::after {content: \"\";width: 100%;border-bottom: 1px solid gray;flex-grow: 1;}#sk-container-id-31 div.sk-label:hover label.sk-toggleable__label {background-color: #d4ebff;}#sk-container-id-31 div.sk-serial::before {content: \"\";position: absolute;border-left: 1px solid gray;box-sizing: border-box;top: 0;bottom: 0;left: 50%;z-index: 0;}#sk-container-id-31 div.sk-serial {display: flex;flex-direction: column;align-items: center;background-color: white;padding-right: 0.2em;padding-left: 0.2em;position: relative;}#sk-container-id-31 div.sk-item {position: relative;z-index: 1;}#sk-container-id-31 div.sk-parallel {display: flex;align-items: stretch;justify-content: center;background-color: white;position: relative;}#sk-container-id-31 div.sk-item::before, #sk-container-id-31 div.sk-parallel-item::before {content: \"\";position: absolute;border-left: 1px solid gray;box-sizing: border-box;top: 0;bottom: 0;left: 50%;z-index: -1;}#sk-container-id-31 div.sk-parallel-item {display: flex;flex-direction: column;z-index: 1;position: relative;background-color: white;}#sk-container-id-31 div.sk-parallel-item:first-child::after {align-self: flex-end;width: 50%;}#sk-container-id-31 div.sk-parallel-item:last-child::after {align-self: flex-start;width: 50%;}#sk-container-id-31 div.sk-parallel-item:only-child::after {width: 0;}#sk-container-id-31 div.sk-dashed-wrapped {border: 1px dashed gray;margin: 0 0.4em 0.5em 0.4em;box-sizing: border-box;padding-bottom: 0.4em;background-color: white;}#sk-container-id-31 div.sk-label label {font-family: monospace;font-weight: bold;display: inline-block;line-height: 1.2em;}#sk-container-id-31 div.sk-label-container {text-align: center;}#sk-container-id-31 div.sk-container {/* jupyter's `normalize.less` sets `[hidden] { display: none; }` but bootstrap.min.css set `[hidden] { display: none !important; }` so we also need the `!important` here to be able to override the default hidden behavior on the sphinx rendered scikit-learn.org. See: https://github.com/scikit-learn/scikit-learn/issues/21755 */display: inline-block !important;position: relative;}#sk-container-id-31 div.sk-text-repr-fallback {display: none;}</style><div id=\"sk-container-id-31\" class=\"sk-top-container\"><div class=\"sk-text-repr-fallback\"><pre>RandomForestRegressor(random_state=42)</pre><b>In a Jupyter environment, please rerun this cell to show the HTML representation or trust the notebook. <br />On GitHub, the HTML representation is unable to render, please try loading this page with nbviewer.org.</b></div><div class=\"sk-container\" hidden><div class=\"sk-item\"><div class=\"sk-estimator sk-toggleable\"><input class=\"sk-toggleable__control sk-hidden--visually\" id=\"sk-estimator-id-31\" type=\"checkbox\" checked><label for=\"sk-estimator-id-31\" class=\"sk-toggleable__label sk-toggleable__label-arrow\">RandomForestRegressor</label><div class=\"sk-toggleable__content\"><pre>RandomForestRegressor(random_state=42)</pre></div></div></div></div></div>"
      ],
      "text/plain": [
       "RandomForestRegressor(random_state=42)"
      ]
     },
     "execution_count": 239,
     "metadata": {},
     "output_type": "execute_result"
    }
   ],
   "source": [
    "# Initialize and train a Random Forest Regressor\n",
    "model = RandomForestRegressor(n_estimators=100, random_state=42)\n",
    "model.fit(X_train, y_train)"
   ]
  },
  {
   "cell_type": "code",
   "execution_count": 240,
   "id": "9da9a8af-986d-4b97-ad97-8e760755dcbc",
   "metadata": {},
   "outputs": [],
   "source": [
    "# Make predictions on the test set\n",
    "predictions = model.predict(X_test)"
   ]
  },
  {
   "cell_type": "code",
   "execution_count": 241,
   "id": "c86d4684-bb57-489e-8a27-682e91044830",
   "metadata": {
    "tags": []
   },
   "outputs": [
    {
     "name": "stdout",
     "output_type": "stream",
     "text": [
      "Mean Squared Error: 0.16024384514435697\n"
     ]
    }
   ],
   "source": [
    "# Evaluate the model\n",
    "mse = mean_squared_error(y_test, predictions)\n",
    "print(f'Mean Squared Error: {mse}')"
   ]
  }
 ],
 "metadata": {
  "kernelspec": {
   "display_name": "Python 3 (ipykernel)",
   "language": "python",
   "name": "python3"
  },
  "language_info": {
   "codemirror_mode": {
    "name": "ipython",
    "version": 3
   },
   "file_extension": ".py",
   "mimetype": "text/x-python",
   "name": "python",
   "nbconvert_exporter": "python",
   "pygments_lexer": "ipython3",
   "version": "3.10.11"
  }
 },
 "nbformat": 4,
 "nbformat_minor": 5
}
