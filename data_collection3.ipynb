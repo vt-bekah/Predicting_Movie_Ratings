{
 "cells": [
  {
   "cell_type": "code",
   "execution_count": 10,
   "id": "d89b7e9c-01fe-426b-9580-4b0818ea8bc4",
   "metadata": {
    "tags": []
   },
   "outputs": [],
   "source": [
    "import pandas as pd\n",
    "import requests"
   ]
  },
  {
   "cell_type": "code",
   "execution_count": 11,
   "id": "e4f08480-f0a2-4513-8b58-8f5b52edc3fd",
   "metadata": {
    "tags": []
   },
   "outputs": [],
   "source": [
    "# Specify the path to your CSV file\n",
    "csv_file_path = 'Resources/movies_raw_imdb.csv'\n",
    "\n",
    "# Read the CSV file into a DataFrame\n",
    "df = pd.read_csv(csv_file_path)\n",
    "\n",
    "# Drop all columns besides 'tconst'\n",
    "df = df[['tconst']]"
   ]
  },
  {
   "cell_type": "code",
   "execution_count": 12,
   "id": "b5ddcb86-a672-4e0e-b759-467bceb8ba9e",
   "metadata": {
    "tags": []
   },
   "outputs": [],
   "source": [
    "api_key = 'ac6cb27f'\n",
    "\n",
    "#Base URL for OMDB API\n",
    "omdb_url = 'http://www.omdbapi.com/'\n",
    "\n",
    "def get_movie_details(imdb_id):\n",
    "    params = {'apikey': api_key, 'i': imdb_id}\n",
    "    response = requests.get(omdb_url, params=params)\n",
    "    data = response.json()\n",
    "    return data\n",
    "\n",
    "# Define a list of fields you want to extract from the API response\n",
    "fields_to_extract = ['Title', 'Rated', 'Released', 'Runtime', 'Genre', 'Director', \n",
    "                     'Writer', 'Actors', 'Language', 'Country', 'Type', 'Metascore', \n",
    "                     'imdbRating', 'imdbVotes', 'BoxOffice', 'Production']"
   ]
  },
  {
   "cell_type": "code",
   "execution_count": null,
   "id": "f3cccac3-e703-46ff-a055-b02fbe0f4607",
   "metadata": {
    "tags": []
   },
   "outputs": [],
   "source": [
    "# Iterate through each row in the DataFrame and append selected fields from the API response\n",
    "for index, row in df.iterrows():\n",
    "    movie_title = row['tconst']\n",
    "    movie_details = get_movie_details(movie_title)\n",
    "\n",
    "    # Append selected fields to the DataFrame\n",
    "    for field in fields_to_extract:\n",
    "        column_name = f'OMDB_{field}'\n",
    "        df.at[index, column_name] = movie_details.get(field, '')\n",
    "\n",
    "# Display the updated DataFrame\n",
    "print(df)"
   ]
  },
  {
   "cell_type": "code",
   "execution_count": null,
   "id": "e45ed2f1-1e3d-45ac-8da6-59ae921b164f",
   "metadata": {},
   "outputs": [],
   "source": []
  }
 ],
 "metadata": {
  "kernelspec": {
   "display_name": "Python 3 (ipykernel)",
   "language": "python",
   "name": "python3"
  },
  "language_info": {
   "codemirror_mode": {
    "name": "ipython",
    "version": 3
   },
   "file_extension": ".py",
   "mimetype": "text/x-python",
   "name": "python",
   "nbconvert_exporter": "python",
   "pygments_lexer": "ipython3",
   "version": "3.10.11"
  }
 },
 "nbformat": 4,
 "nbformat_minor": 5
}
