{
 "cells": [
  {
   "cell_type": "code",
   "execution_count": 1,
   "metadata": {
    "tags": []
   },
   "outputs": [],
   "source": [
    "# Import relevant libraries\n",
    "from splinter import Browser\n",
    "from bs4 import BeautifulSoup\n",
    "import matplotlib.pyplot as plt\n",
    "from scipy.stats import linregress\n",
    "import pandas as pd\n",
    "import numpy as np\n",
    "import requests\n",
    "\n",
    "browser = Browser('firefox')"
   ]
  },
  {
   "cell_type": "markdown",
   "metadata": {},
   "source": [
    "## Iterating through Numbers pages to store all the data"
   ]
  },
  {
   "cell_type": "code",
   "execution_count": 2,
   "metadata": {},
   "outputs": [
    {
     "name": "stdout",
     "output_type": "stream",
     "text": [
      "clicking 101-\n",
      "clicking 201-\n",
      "clicking 301-\n",
      "clicking 401-\n",
      "clicking 501-\n",
      "clicking 601-\n",
      "clicking 701-\n",
      "clicking 801-\n",
      "clicking 901-\n",
      "clicking 1,001-\n",
      "clicking 1,101\n",
      "clicking 1,201\n",
      "clicking 1,301\n",
      "clicking 1,401\n",
      "clicking 1,501\n",
      "clicking 1,601\n",
      "clicking 1,701\n",
      "clicking 1,801\n",
      "clicking 1,901\n",
      "clicking 2,001-\n",
      "clicking 2,101\n",
      "clicking 2,201\n",
      "clicking 2,301\n",
      "clicking 2,401\n",
      "clicking 2,501\n",
      "clicking 2,601\n",
      "clicking 2,701\n",
      "clicking 2,801\n",
      "clicking 2,901\n",
      "clicking 3,001-\n",
      "clicking 3,101\n",
      "clicking 3,201\n",
      "clicking 3,301\n",
      "clicking 3,401\n",
      "clicking 3,501\n",
      "clicking 3,601\n",
      "clicking 3,701\n",
      "clicking 3,801\n",
      "clicking 3,901\n",
      "clicking 4,001-\n",
      "clicking 4,101\n",
      "clicking 4,201\n",
      "clicking 4,301\n",
      "clicking 4,401\n",
      "clicking 4,501\n",
      "clicking 4,601\n",
      "clicking 4,701\n",
      "clicking 4,801\n",
      "clicking 4,901\n",
      "clicking 5,001-\n",
      "clicking 5,101\n",
      "clicking 5,201\n",
      "clicking 5,301\n",
      "clicking 5,401\n",
      "clicking 5,501\n",
      "clicking 5,601\n",
      "clicking 5,701\n",
      "clicking 5,801\n",
      "clicking 5,901\n",
      "clicking 6,001-\n",
      "clicking 6,101\n",
      "clicking 6,201\n",
      "clicking 6,301\n",
      "clicking 6,401\n"
     ]
    }
   ],
   "source": [
    "numbers_url = \"https://www.the-numbers.com/movie/budgets/all\"\n",
    "browser.visit(numbers_url)\n",
    "\n",
    "# Create empty lists for rows\n",
    "headers = []\n",
    "data_rows = []\n",
    "\n",
    "# Create the full list of page clicks\n",
    "all_page_clicks=[]\n",
    "all_page_numbers = np.arange(101, 6501, 100)\n",
    "for page in all_page_numbers:\n",
    "    if page < 1000:\n",
    "        all_page_clicks.append(str(page)+\"-\")\n",
    "    elif page < 10000:\n",
    "        if page%1000 == 1:\n",
    "            all_page_clicks.append(str(page//1000)+\",001-\")\n",
    "        else:\n",
    "            all_page_clicks.append(str(page//1000)+\",\"+str(page%1000))\n",
    "\n",
    "for i in range(len(all_page_numbers)+1):\n",
    "    # Scrape the website\n",
    "    html = browser.html\n",
    "    # Create a Beautiful Soup object\n",
    "    soup = BeautifulSoup(html, \"html.parser\")\n",
    "    # Extract all rows\n",
    "    all_rows = soup.find_all(\"tr\")\n",
    "    \n",
    "    # Loop through the scraped data to create a list of headers for first iteration only\n",
    "    if i == 0:\n",
    "        header_scrape = all_rows[0].find_all(\"th\")\n",
    "        for header in header_scrape:\n",
    "            headers.append(header.text)\n",
    "\n",
    "    # Loop through the scraped data to create a list of data rows\n",
    "    for row in all_rows[1:]:\n",
    "        data = []\n",
    "        for r in row.find_all(\"td\"):\n",
    "            data.append(r.text)\n",
    "        data_rows.append(data)\n",
    "    if i < len(all_page_numbers):\n",
    "        print(\"clicking \" + all_page_clicks[i])\n",
    "        browser.links.find_by_partial_text(all_page_clicks[i]).click()"
   ]
  },
  {
   "cell_type": "code",
   "execution_count": 3,
   "metadata": {
    "tags": []
   },
   "outputs": [
    {
     "data": {
      "text/html": [
       "<div>\n",
       "<style scoped>\n",
       "    .dataframe tbody tr th:only-of-type {\n",
       "        vertical-align: middle;\n",
       "    }\n",
       "\n",
       "    .dataframe tbody tr th {\n",
       "        vertical-align: top;\n",
       "    }\n",
       "\n",
       "    .dataframe thead th {\n",
       "        text-align: right;\n",
       "    }\n",
       "</style>\n",
       "<table border=\"1\" class=\"dataframe\">\n",
       "  <thead>\n",
       "    <tr style=\"text-align: right;\">\n",
       "      <th></th>\n",
       "      <th></th>\n",
       "      <th>ReleaseDate</th>\n",
       "      <th>Movie</th>\n",
       "      <th>ProductionBudget</th>\n",
       "      <th>DomesticGross</th>\n",
       "      <th>WorldwideGross</th>\n",
       "    </tr>\n",
       "  </thead>\n",
       "  <tbody>\n",
       "    <tr>\n",
       "      <th>0</th>\n",
       "      <td>1</td>\n",
       "      <td>Dec 9, 2022</td>\n",
       "      <td>Avatar: The Way of Water</td>\n",
       "      <td>$460,000,000</td>\n",
       "      <td>$684,075,767</td>\n",
       "      <td>$2,319,591,720</td>\n",
       "    </tr>\n",
       "    <tr>\n",
       "      <th>1</th>\n",
       "      <td>2</td>\n",
       "      <td>Apr 23, 2019</td>\n",
       "      <td>Avengers: Endgame</td>\n",
       "      <td>$400,000,000</td>\n",
       "      <td>$858,373,000</td>\n",
       "      <td>$2,788,912,285</td>\n",
       "    </tr>\n",
       "    <tr>\n",
       "      <th>2</th>\n",
       "      <td>3</td>\n",
       "      <td>May 20, 2011</td>\n",
       "      <td>Pirates of the Caribbean: On Stranger Tides</td>\n",
       "      <td>$379,000,000</td>\n",
       "      <td>$241,071,802</td>\n",
       "      <td>$1,045,713,802</td>\n",
       "    </tr>\n",
       "    <tr>\n",
       "      <th>3</th>\n",
       "      <td>4</td>\n",
       "      <td>Apr 22, 2015</td>\n",
       "      <td>Avengers: Age of Ultron</td>\n",
       "      <td>$365,000,000</td>\n",
       "      <td>$459,005,868</td>\n",
       "      <td>$1,395,316,979</td>\n",
       "    </tr>\n",
       "    <tr>\n",
       "      <th>4</th>\n",
       "      <td>5</td>\n",
       "      <td>May 17, 2023</td>\n",
       "      <td>Fast X</td>\n",
       "      <td>$340,000,000</td>\n",
       "      <td>$145,960,660</td>\n",
       "      <td>$714,414,576</td>\n",
       "    </tr>\n",
       "    <tr>\n",
       "      <th>...</th>\n",
       "      <td>...</td>\n",
       "      <td>...</td>\n",
       "      <td>...</td>\n",
       "      <td>...</td>\n",
       "      <td>...</td>\n",
       "      <td>...</td>\n",
       "    </tr>\n",
       "    <tr>\n",
       "      <th>6435</th>\n",
       "      <td>6,436</td>\n",
       "      <td>Apr 2, 1999</td>\n",
       "      <td>Following</td>\n",
       "      <td>$6,000</td>\n",
       "      <td>$48,482</td>\n",
       "      <td>$240,495</td>\n",
       "    </tr>\n",
       "    <tr>\n",
       "      <th>6436</th>\n",
       "      <td>6,437</td>\n",
       "      <td>Jul 13, 2005</td>\n",
       "      <td>Return to the Land of Wonders</td>\n",
       "      <td>$5,000</td>\n",
       "      <td>$1,338</td>\n",
       "      <td>$1,338</td>\n",
       "    </tr>\n",
       "    <tr>\n",
       "      <th>6437</th>\n",
       "      <td>6,438</td>\n",
       "      <td>Sep 29, 2015</td>\n",
       "      <td>A Plague So Pleasant</td>\n",
       "      <td>$1,400</td>\n",
       "      <td>$0</td>\n",
       "      <td>$0</td>\n",
       "    </tr>\n",
       "    <tr>\n",
       "      <th>6438</th>\n",
       "      <td>6,439</td>\n",
       "      <td>Aug 5, 2005</td>\n",
       "      <td>My Date With Drew</td>\n",
       "      <td>$1,100</td>\n",
       "      <td>$181,041</td>\n",
       "      <td>$181,041</td>\n",
       "    </tr>\n",
       "    <tr>\n",
       "      <th>6439</th>\n",
       "      <td>6,440</td>\n",
       "      <td>Mar 2, 2021</td>\n",
       "      <td>Neeras</td>\n",
       "      <td>$86</td>\n",
       "      <td>$0</td>\n",
       "      <td>$0</td>\n",
       "    </tr>\n",
       "  </tbody>\n",
       "</table>\n",
       "<p>6440 rows × 6 columns</p>\n",
       "</div>"
      ],
      "text/plain": [
       "              ReleaseDate                                        Movie  \\\n",
       "0         1   Dec 9, 2022                     Avatar: The Way of Water   \n",
       "1         2  Apr 23, 2019                            Avengers: Endgame   \n",
       "2         3  May 20, 2011  Pirates of the Caribbean: On Stranger Tides   \n",
       "3         4  Apr 22, 2015                      Avengers: Age of Ultron   \n",
       "4         5  May 17, 2023                                       Fast X   \n",
       "...     ...           ...                                          ...   \n",
       "6435  6,436   Apr 2, 1999                                    Following   \n",
       "6436  6,437  Jul 13, 2005                Return to the Land of Wonders   \n",
       "6437  6,438  Sep 29, 2015                         A Plague So Pleasant   \n",
       "6438  6,439   Aug 5, 2005                            My Date With Drew   \n",
       "6439  6,440   Mar 2, 2021                                       Neeras   \n",
       "\n",
       "     ProductionBudget  DomesticGross   WorldwideGross  \n",
       "0        $460,000,000   $684,075,767   $2,319,591,720  \n",
       "1        $400,000,000   $858,373,000   $2,788,912,285  \n",
       "2        $379,000,000   $241,071,802   $1,045,713,802  \n",
       "3        $365,000,000   $459,005,868   $1,395,316,979  \n",
       "4        $340,000,000   $145,960,660     $714,414,576  \n",
       "...               ...            ...              ...  \n",
       "6435           $6,000        $48,482         $240,495  \n",
       "6436           $5,000         $1,338           $1,338  \n",
       "6437           $1,400             $0               $0  \n",
       "6438           $1,100       $181,041         $181,041  \n",
       "6439              $86             $0               $0  \n",
       "\n",
       "[6440 rows x 6 columns]"
      ]
     },
     "execution_count": 3,
     "metadata": {},
     "output_type": "execute_result"
    }
   ],
   "source": [
    "# Create a Pandas DataFrame by using the list of rows and a list of the column names\n",
    "movies_df = pd.DataFrame(data_rows, columns=headers)\n",
    "movies_df"
   ]
  },
  {
   "cell_type": "code",
   "execution_count": 4,
   "metadata": {
    "tags": []
   },
   "outputs": [
    {
     "data": {
      "text/html": [
       "<div>\n",
       "<style scoped>\n",
       "    .dataframe tbody tr th:only-of-type {\n",
       "        vertical-align: middle;\n",
       "    }\n",
       "\n",
       "    .dataframe tbody tr th {\n",
       "        vertical-align: top;\n",
       "    }\n",
       "\n",
       "    .dataframe thead th {\n",
       "        text-align: right;\n",
       "    }\n",
       "</style>\n",
       "<table border=\"1\" class=\"dataframe\">\n",
       "  <thead>\n",
       "    <tr style=\"text-align: right;\">\n",
       "      <th></th>\n",
       "      <th>ReleaseDate</th>\n",
       "      <th>Movie</th>\n",
       "      <th>ProductionBudget</th>\n",
       "      <th>DomesticGross</th>\n",
       "      <th>WorldwideGross</th>\n",
       "    </tr>\n",
       "  </thead>\n",
       "  <tbody>\n",
       "    <tr>\n",
       "      <th>0</th>\n",
       "      <td>Dec 9, 2022</td>\n",
       "      <td>Avatar: The Way of Water</td>\n",
       "      <td>$460,000,000</td>\n",
       "      <td>$684,075,767</td>\n",
       "      <td>$2,319,591,720</td>\n",
       "    </tr>\n",
       "    <tr>\n",
       "      <th>1</th>\n",
       "      <td>Apr 23, 2019</td>\n",
       "      <td>Avengers: Endgame</td>\n",
       "      <td>$400,000,000</td>\n",
       "      <td>$858,373,000</td>\n",
       "      <td>$2,788,912,285</td>\n",
       "    </tr>\n",
       "    <tr>\n",
       "      <th>2</th>\n",
       "      <td>May 20, 2011</td>\n",
       "      <td>Pirates of the Caribbean: On Stranger Tides</td>\n",
       "      <td>$379,000,000</td>\n",
       "      <td>$241,071,802</td>\n",
       "      <td>$1,045,713,802</td>\n",
       "    </tr>\n",
       "    <tr>\n",
       "      <th>3</th>\n",
       "      <td>Apr 22, 2015</td>\n",
       "      <td>Avengers: Age of Ultron</td>\n",
       "      <td>$365,000,000</td>\n",
       "      <td>$459,005,868</td>\n",
       "      <td>$1,395,316,979</td>\n",
       "    </tr>\n",
       "    <tr>\n",
       "      <th>4</th>\n",
       "      <td>May 17, 2023</td>\n",
       "      <td>Fast X</td>\n",
       "      <td>$340,000,000</td>\n",
       "      <td>$145,960,660</td>\n",
       "      <td>$714,414,576</td>\n",
       "    </tr>\n",
       "  </tbody>\n",
       "</table>\n",
       "</div>"
      ],
      "text/plain": [
       "    ReleaseDate                                        Movie ProductionBudget  \\\n",
       "0   Dec 9, 2022                     Avatar: The Way of Water     $460,000,000   \n",
       "1  Apr 23, 2019                            Avengers: Endgame     $400,000,000   \n",
       "2  May 20, 2011  Pirates of the Caribbean: On Stranger Tides     $379,000,000   \n",
       "3  Apr 22, 2015                      Avengers: Age of Ultron     $365,000,000   \n",
       "4  May 17, 2023                                       Fast X     $340,000,000   \n",
       "\n",
       "   DomesticGross   WorldwideGross  \n",
       "0   $684,075,767   $2,319,591,720  \n",
       "1   $858,373,000   $2,788,912,285  \n",
       "2   $241,071,802   $1,045,713,802  \n",
       "3   $459,005,868   $1,395,316,979  \n",
       "4   $145,960,660     $714,414,576  "
      ]
     },
     "execution_count": 4,
     "metadata": {},
     "output_type": "execute_result"
    }
   ],
   "source": [
    "# Drop the website's index column\n",
    "movies_df = movies_df[['ReleaseDate', 'Movie', 'ProductionBudget', 'DomesticGross', 'WorldwideGross']]\n",
    "movies_df.head()"
   ]
  },
  {
   "cell_type": "markdown",
   "metadata": {},
   "source": [
    "# Pull the OMDBAPI Data\n",
    "Leverages the movie list from the Numbers scrape"
   ]
  },
  {
   "cell_type": "code",
   "execution_count": 5,
   "metadata": {},
   "outputs": [
    {
     "name": "stderr",
     "output_type": "stream",
     "text": [
      "C:\\Users\\bryan\\AppData\\Local\\Temp\\ipykernel_112312\\2050218660.py:6: DtypeWarning: Columns (4) have mixed types. Specify dtype option on import or set low_memory=False.\n",
      "  dftitle = pd.read_table('./Resources/titlebasics.tsv')\n"
     ]
    }
   ],
   "source": [
    "# Chris' OMDB API key (250k a day = 1 data pull a day)\n",
    "# api_key = 'ac6cb27f'\n",
    "# Bekah's OMDB API key (250k a day = 1 data pull a day)\n",
    "#api_key = '2ec19c8d'\n",
    "\n",
    "dftitle = pd.read_table('./Resources/titlebasics.tsv')\n",
    "dropno_nums = dftitle.replace('\\\\N', '0')\n",
    "dropno_numsdf=pd.DataFrame(dropno_nums)\n",
    "# Base URL for OMDB API\n",
    "#omdb_url = 'http://www.omdbapi.com/'\n",
    "\n",
    "#def get_movie_details(title):\n",
    "   # params = {'apikey': api_key, 't': title}\n",
    "  #  response = requests.get(omdb_url, params=params)\n",
    "   # data = response.json()\n",
    "   # return data\n",
    "# Define a list of fields you want to extract from the API response\n",
    "fields_to_extract = ['Title', 'Rated', 'Released', 'Runtime', 'Genre', 'Director', \n",
    "                     'Writer', 'Actors', 'Language', 'Country', 'Type', 'Metascore', \n",
    "                     'imdbRating', 'imdbVotes', 'BoxOffice', 'Production']"
   ]
  },
  {
   "cell_type": "code",
   "execution_count": 15,
   "metadata": {},
   "outputs": [
    {
     "data": {
      "text/html": [
       "<div>\n",
       "<style scoped>\n",
       "    .dataframe tbody tr th:only-of-type {\n",
       "        vertical-align: middle;\n",
       "    }\n",
       "\n",
       "    .dataframe tbody tr th {\n",
       "        vertical-align: top;\n",
       "    }\n",
       "\n",
       "    .dataframe thead th {\n",
       "        text-align: right;\n",
       "    }\n",
       "</style>\n",
       "<table border=\"1\" class=\"dataframe\">\n",
       "  <thead>\n",
       "    <tr style=\"text-align: right;\">\n",
       "      <th></th>\n",
       "      <th>tconst</th>\n",
       "      <th>titleType</th>\n",
       "      <th>primaryTitle</th>\n",
       "      <th>originalTitle</th>\n",
       "      <th>isAdult</th>\n",
       "      <th>startYear</th>\n",
       "      <th>endYear</th>\n",
       "      <th>runtimeMinutes</th>\n",
       "      <th>genres</th>\n",
       "    </tr>\n",
       "  </thead>\n",
       "  <tbody>\n",
       "    <tr>\n",
       "      <th>0</th>\n",
       "      <td>tt0000001</td>\n",
       "      <td>short</td>\n",
       "      <td>Carmencita</td>\n",
       "      <td>Carmencita</td>\n",
       "      <td>0</td>\n",
       "      <td>1894</td>\n",
       "      <td>0</td>\n",
       "      <td>1</td>\n",
       "      <td>Documentary,Short</td>\n",
       "    </tr>\n",
       "    <tr>\n",
       "      <th>1</th>\n",
       "      <td>tt0000002</td>\n",
       "      <td>short</td>\n",
       "      <td>Le clown et ses chiens</td>\n",
       "      <td>Le clown et ses chiens</td>\n",
       "      <td>0</td>\n",
       "      <td>1892</td>\n",
       "      <td>0</td>\n",
       "      <td>5</td>\n",
       "      <td>Animation,Short</td>\n",
       "    </tr>\n",
       "    <tr>\n",
       "      <th>2</th>\n",
       "      <td>tt0000003</td>\n",
       "      <td>short</td>\n",
       "      <td>Pauvre Pierrot</td>\n",
       "      <td>Pauvre Pierrot</td>\n",
       "      <td>0</td>\n",
       "      <td>1892</td>\n",
       "      <td>0</td>\n",
       "      <td>4</td>\n",
       "      <td>Animation,Comedy,Romance</td>\n",
       "    </tr>\n",
       "    <tr>\n",
       "      <th>3</th>\n",
       "      <td>tt0000004</td>\n",
       "      <td>short</td>\n",
       "      <td>Un bon bock</td>\n",
       "      <td>Un bon bock</td>\n",
       "      <td>0</td>\n",
       "      <td>1892</td>\n",
       "      <td>0</td>\n",
       "      <td>12</td>\n",
       "      <td>Animation,Short</td>\n",
       "    </tr>\n",
       "    <tr>\n",
       "      <th>4</th>\n",
       "      <td>tt0000005</td>\n",
       "      <td>short</td>\n",
       "      <td>Blacksmith Scene</td>\n",
       "      <td>Blacksmith Scene</td>\n",
       "      <td>0</td>\n",
       "      <td>1893</td>\n",
       "      <td>0</td>\n",
       "      <td>1</td>\n",
       "      <td>Comedy,Short</td>\n",
       "    </tr>\n",
       "    <tr>\n",
       "      <th>5</th>\n",
       "      <td>tt0000006</td>\n",
       "      <td>short</td>\n",
       "      <td>Chinese Opium Den</td>\n",
       "      <td>Chinese Opium Den</td>\n",
       "      <td>0</td>\n",
       "      <td>1894</td>\n",
       "      <td>0</td>\n",
       "      <td>1</td>\n",
       "      <td>Short</td>\n",
       "    </tr>\n",
       "    <tr>\n",
       "      <th>6</th>\n",
       "      <td>tt0000007</td>\n",
       "      <td>short</td>\n",
       "      <td>Corbett and Courtney Before the Kinetograph</td>\n",
       "      <td>Corbett and Courtney Before the Kinetograph</td>\n",
       "      <td>0</td>\n",
       "      <td>1894</td>\n",
       "      <td>0</td>\n",
       "      <td>1</td>\n",
       "      <td>Short,Sport</td>\n",
       "    </tr>\n",
       "    <tr>\n",
       "      <th>7</th>\n",
       "      <td>tt0000008</td>\n",
       "      <td>short</td>\n",
       "      <td>Edison Kinetoscopic Record of a Sneeze</td>\n",
       "      <td>Edison Kinetoscopic Record of a Sneeze</td>\n",
       "      <td>0</td>\n",
       "      <td>1894</td>\n",
       "      <td>0</td>\n",
       "      <td>1</td>\n",
       "      <td>Documentary,Short</td>\n",
       "    </tr>\n",
       "    <tr>\n",
       "      <th>8</th>\n",
       "      <td>tt0000009</td>\n",
       "      <td>movie</td>\n",
       "      <td>Miss Jerry</td>\n",
       "      <td>Miss Jerry</td>\n",
       "      <td>0</td>\n",
       "      <td>1894</td>\n",
       "      <td>0</td>\n",
       "      <td>45</td>\n",
       "      <td>Romance</td>\n",
       "    </tr>\n",
       "    <tr>\n",
       "      <th>9</th>\n",
       "      <td>tt0000010</td>\n",
       "      <td>short</td>\n",
       "      <td>Leaving the Factory</td>\n",
       "      <td>La sortie de l'usine Lumière à Lyon</td>\n",
       "      <td>0</td>\n",
       "      <td>1895</td>\n",
       "      <td>0</td>\n",
       "      <td>1</td>\n",
       "      <td>Documentary,Short</td>\n",
       "    </tr>\n",
       "  </tbody>\n",
       "</table>\n",
       "</div>"
      ],
      "text/plain": [
       "      tconst titleType                                 primaryTitle  \\\n",
       "0  tt0000001     short                                   Carmencita   \n",
       "1  tt0000002     short                       Le clown et ses chiens   \n",
       "2  tt0000003     short                               Pauvre Pierrot   \n",
       "3  tt0000004     short                                  Un bon bock   \n",
       "4  tt0000005     short                             Blacksmith Scene   \n",
       "5  tt0000006     short                            Chinese Opium Den   \n",
       "6  tt0000007     short  Corbett and Courtney Before the Kinetograph   \n",
       "7  tt0000008     short       Edison Kinetoscopic Record of a Sneeze   \n",
       "8  tt0000009     movie                                   Miss Jerry   \n",
       "9  tt0000010     short                          Leaving the Factory   \n",
       "\n",
       "                                 originalTitle isAdult  startYear endYear  \\\n",
       "0                                   Carmencita       0       1894       0   \n",
       "1                       Le clown et ses chiens       0       1892       0   \n",
       "2                               Pauvre Pierrot       0       1892       0   \n",
       "3                                  Un bon bock       0       1892       0   \n",
       "4                             Blacksmith Scene       0       1893       0   \n",
       "5                            Chinese Opium Den       0       1894       0   \n",
       "6  Corbett and Courtney Before the Kinetograph       0       1894       0   \n",
       "7       Edison Kinetoscopic Record of a Sneeze       0       1894       0   \n",
       "8                                   Miss Jerry       0       1894       0   \n",
       "9          La sortie de l'usine Lumière à Lyon       0       1895       0   \n",
       "\n",
       "  runtimeMinutes                    genres  \n",
       "0              1         Documentary,Short  \n",
       "1              5           Animation,Short  \n",
       "2              4  Animation,Comedy,Romance  \n",
       "3             12           Animation,Short  \n",
       "4              1              Comedy,Short  \n",
       "5              1                     Short  \n",
       "6              1               Short,Sport  \n",
       "7              1         Documentary,Short  \n",
       "8             45                   Romance  \n",
       "9              1         Documentary,Short  "
      ]
     },
     "execution_count": 15,
     "metadata": {},
     "output_type": "execute_result"
    }
   ],
   "source": [
    "dropno_numsdf.head(10)"
   ]
  },
  {
   "cell_type": "code",
   "execution_count": null,
   "metadata": {},
   "outputs": [],
   "source": []
  },
  {
   "cell_type": "code",
   "execution_count": 31,
   "metadata": {},
   "outputs": [
    {
     "name": "stderr",
     "output_type": "stream",
     "text": [
      "C:\\Users\\bryan\\AppData\\Local\\Temp\\ipykernel_112312\\743130682.py:3: SettingWithCopyWarning: \n",
      "A value is trying to be set on a copy of a slice from a DataFrame.\n",
      "Try using .loc[row_indexer,col_indexer] = value instead\n",
      "\n",
      "See the caveats in the documentation: https://pandas.pydata.org/pandas-docs/stable/user_guide/indexing.html#returning-a-view-versus-a-copy\n",
      "  df1980['Movie']=df1980['primaryTitle']\n"
     ]
    },
    {
     "data": {
      "text/html": [
       "<div>\n",
       "<style scoped>\n",
       "    .dataframe tbody tr th:only-of-type {\n",
       "        vertical-align: middle;\n",
       "    }\n",
       "\n",
       "    .dataframe tbody tr th {\n",
       "        vertical-align: top;\n",
       "    }\n",
       "\n",
       "    .dataframe thead th {\n",
       "        text-align: right;\n",
       "    }\n",
       "</style>\n",
       "<table border=\"1\" class=\"dataframe\">\n",
       "  <thead>\n",
       "    <tr style=\"text-align: right;\">\n",
       "      <th></th>\n",
       "      <th>tconst</th>\n",
       "      <th>titleType</th>\n",
       "      <th>isAdult</th>\n",
       "      <th>startYear</th>\n",
       "      <th>endYear</th>\n",
       "      <th>runtimeMinutes</th>\n",
       "      <th>genres</th>\n",
       "      <th>Movie</th>\n",
       "    </tr>\n",
       "  </thead>\n",
       "  <tbody>\n",
       "    <tr>\n",
       "      <th>919</th>\n",
       "      <td>tt0000929</td>\n",
       "      <td>short</td>\n",
       "      <td>0</td>\n",
       "      <td>1990</td>\n",
       "      <td>0</td>\n",
       "      <td>0</td>\n",
       "      <td>Comedy,Short</td>\n",
       "      <td>Klebolin klebt alles</td>\n",
       "    </tr>\n",
       "    <tr>\n",
       "      <th>965</th>\n",
       "      <td>tt0000977</td>\n",
       "      <td>short</td>\n",
       "      <td>0</td>\n",
       "      <td>1990</td>\n",
       "      <td>0</td>\n",
       "      <td>0</td>\n",
       "      <td>Short</td>\n",
       "      <td>Mutterliebe</td>\n",
       "    </tr>\n",
       "    <tr>\n",
       "      <th>11636</th>\n",
       "      <td>tt0011801</td>\n",
       "      <td>movie</td>\n",
       "      <td>0</td>\n",
       "      <td>2019</td>\n",
       "      <td>0</td>\n",
       "      <td>0</td>\n",
       "      <td>Action,Crime</td>\n",
       "      <td>Tötet nicht mehr</td>\n",
       "    </tr>\n",
       "    <tr>\n",
       "      <th>13081</th>\n",
       "      <td>tt0013274</td>\n",
       "      <td>movie</td>\n",
       "      <td>0</td>\n",
       "      <td>2021</td>\n",
       "      <td>0</td>\n",
       "      <td>94</td>\n",
       "      <td>Documentary</td>\n",
       "      <td>Istoriya grazhdanskoy voyny</td>\n",
       "    </tr>\n",
       "    <tr>\n",
       "      <th>15176</th>\n",
       "      <td>tt0015414</td>\n",
       "      <td>movie</td>\n",
       "      <td>0</td>\n",
       "      <td>2000</td>\n",
       "      <td>0</td>\n",
       "      <td>60</td>\n",
       "      <td>0</td>\n",
       "      <td>La tierra de los toros</td>\n",
       "    </tr>\n",
       "    <tr>\n",
       "      <th>...</th>\n",
       "      <td>...</td>\n",
       "      <td>...</td>\n",
       "      <td>...</td>\n",
       "      <td>...</td>\n",
       "      <td>...</td>\n",
       "      <td>...</td>\n",
       "      <td>...</td>\n",
       "      <td>...</td>\n",
       "    </tr>\n",
       "    <tr>\n",
       "      <th>10316934</th>\n",
       "      <td>tt9916824</td>\n",
       "      <td>tvEpisode</td>\n",
       "      <td>0</td>\n",
       "      <td>2009</td>\n",
       "      <td>0</td>\n",
       "      <td>0</td>\n",
       "      <td>Action,Drama,Family</td>\n",
       "      <td>Episode #3.9</td>\n",
       "    </tr>\n",
       "    <tr>\n",
       "      <th>10316935</th>\n",
       "      <td>tt9916826</td>\n",
       "      <td>tvEpisode</td>\n",
       "      <td>0</td>\n",
       "      <td>2009</td>\n",
       "      <td>0</td>\n",
       "      <td>0</td>\n",
       "      <td>Action,Drama,Family</td>\n",
       "      <td>Episode #3.10</td>\n",
       "    </tr>\n",
       "    <tr>\n",
       "      <th>10316937</th>\n",
       "      <td>tt9916832</td>\n",
       "      <td>tvEpisode</td>\n",
       "      <td>0</td>\n",
       "      <td>2009</td>\n",
       "      <td>0</td>\n",
       "      <td>0</td>\n",
       "      <td>Action,Drama,Family</td>\n",
       "      <td>Episode #3.11</td>\n",
       "    </tr>\n",
       "    <tr>\n",
       "      <th>10316938</th>\n",
       "      <td>tt9916834</td>\n",
       "      <td>tvEpisode</td>\n",
       "      <td>0</td>\n",
       "      <td>2009</td>\n",
       "      <td>0</td>\n",
       "      <td>0</td>\n",
       "      <td>Action,Drama,Family</td>\n",
       "      <td>Episode #3.12</td>\n",
       "    </tr>\n",
       "    <tr>\n",
       "      <th>10316939</th>\n",
       "      <td>tt9916836</td>\n",
       "      <td>tvEpisode</td>\n",
       "      <td>0</td>\n",
       "      <td>2009</td>\n",
       "      <td>0</td>\n",
       "      <td>0</td>\n",
       "      <td>Action,Drama,Family</td>\n",
       "      <td>Episode #3.14</td>\n",
       "    </tr>\n",
       "  </tbody>\n",
       "</table>\n",
       "<p>7938663 rows × 8 columns</p>\n",
       "</div>"
      ],
      "text/plain": [
       "             tconst  titleType isAdult  startYear endYear runtimeMinutes  \\\n",
       "919       tt0000929      short       0       1990       0              0   \n",
       "965       tt0000977      short       0       1990       0              0   \n",
       "11636     tt0011801      movie       0       2019       0              0   \n",
       "13081     tt0013274      movie       0       2021       0             94   \n",
       "15176     tt0015414      movie       0       2000       0             60   \n",
       "...             ...        ...     ...        ...     ...            ...   \n",
       "10316934  tt9916824  tvEpisode       0       2009       0              0   \n",
       "10316935  tt9916826  tvEpisode       0       2009       0              0   \n",
       "10316937  tt9916832  tvEpisode       0       2009       0              0   \n",
       "10316938  tt9916834  tvEpisode       0       2009       0              0   \n",
       "10316939  tt9916836  tvEpisode       0       2009       0              0   \n",
       "\n",
       "                       genres                        Movie  \n",
       "919              Comedy,Short         Klebolin klebt alles  \n",
       "965                     Short                  Mutterliebe  \n",
       "11636            Action,Crime             Tötet nicht mehr  \n",
       "13081             Documentary  Istoriya grazhdanskoy voyny  \n",
       "15176                       0       La tierra de los toros  \n",
       "...                       ...                          ...  \n",
       "10316934  Action,Drama,Family                 Episode #3.9  \n",
       "10316935  Action,Drama,Family                Episode #3.10  \n",
       "10316937  Action,Drama,Family                Episode #3.11  \n",
       "10316938  Action,Drama,Family                Episode #3.12  \n",
       "10316939  Action,Drama,Family                Episode #3.14  \n",
       "\n",
       "[7938663 rows x 8 columns]"
      ]
     },
     "execution_count": 31,
     "metadata": {},
     "output_type": "execute_result"
    }
   ],
   "source": [
    "dropno_numsdf['startYear']=dropno_numsdf['startYear'].astype('int')\n",
    "df1980=dropno_numsdf[dropno_numsdf['startYear']>1980]\n",
    "df1980['Movie']=df1980['primaryTitle']\n",
    "df1980=df1980.drop(['primaryTitle'],axis=1)\n",
    "df1980=df1980.drop(['originalTitle'],axis=1)\n",
    "df1980.head(-10)\n",
    "\n"
   ]
  },
  {
   "cell_type": "code",
   "execution_count": 37,
   "metadata": {},
   "outputs": [
    {
     "data": {
      "text/plain": [
       "199716"
      ]
     },
     "execution_count": 37,
     "metadata": {},
     "output_type": "execute_result"
    }
   ],
   "source": [
    "df1980movies=df1980[df1980['titleType']=='movie']\n",
    "dfratings = pd.read_table('./Resources/ratings.tsv')\n",
    "merged_ratings= pd.merge(dfratings,df1980movies,on='tconst')\n",
    "merged_ratings.head(-10)\n",
    "merged_ratings['Movie'].nunique()\n"
   ]
  },
  {
   "cell_type": "code",
   "execution_count": 35,
   "metadata": {},
   "outputs": [
    {
     "data": {
      "text/plain": [
       "5241"
      ]
     },
     "execution_count": 35,
     "metadata": {},
     "output_type": "execute_result"
    }
   ],
   "source": [
    "# Iterate through each row in the DataFrame and append selected fields from the API response\n",
    "\n",
    "merged_movies= pd.merge(movies_df,merged_ratings,on='Movie')\n",
    "\n"
   ]
  },
  {
   "cell_type": "code",
   "execution_count": 36,
   "metadata": {},
   "outputs": [
    {
     "data": {
      "text/html": [
       "<div>\n",
       "<style scoped>\n",
       "    .dataframe tbody tr th:only-of-type {\n",
       "        vertical-align: middle;\n",
       "    }\n",
       "\n",
       "    .dataframe tbody tr th {\n",
       "        vertical-align: top;\n",
       "    }\n",
       "\n",
       "    .dataframe thead th {\n",
       "        text-align: right;\n",
       "    }\n",
       "</style>\n",
       "<table border=\"1\" class=\"dataframe\">\n",
       "  <thead>\n",
       "    <tr style=\"text-align: right;\">\n",
       "      <th></th>\n",
       "      <th>ReleaseDate</th>\n",
       "      <th>Movie</th>\n",
       "      <th>ProductionBudget</th>\n",
       "      <th>DomesticGross</th>\n",
       "      <th>WorldwideGross</th>\n",
       "      <th>tconst</th>\n",
       "      <th>averageRating</th>\n",
       "      <th>numVotes</th>\n",
       "      <th>titleType</th>\n",
       "      <th>isAdult</th>\n",
       "      <th>startYear</th>\n",
       "      <th>endYear</th>\n",
       "      <th>runtimeMinutes</th>\n",
       "      <th>genres</th>\n",
       "    </tr>\n",
       "  </thead>\n",
       "  <tbody>\n",
       "    <tr>\n",
       "      <th>0</th>\n",
       "      <td>Dec 9, 2022</td>\n",
       "      <td>Avatar: The Way of Water</td>\n",
       "      <td>$460,000,000</td>\n",
       "      <td>$684,075,767</td>\n",
       "      <td>$2,319,591,720</td>\n",
       "      <td>tt1630029</td>\n",
       "      <td>7.6</td>\n",
       "      <td>467330</td>\n",
       "      <td>movie</td>\n",
       "      <td>0</td>\n",
       "      <td>2022</td>\n",
       "      <td>0</td>\n",
       "      <td>192</td>\n",
       "      <td>Action,Adventure,Fantasy</td>\n",
       "    </tr>\n",
       "    <tr>\n",
       "      <th>1</th>\n",
       "      <td>Apr 23, 2019</td>\n",
       "      <td>Avengers: Endgame</td>\n",
       "      <td>$400,000,000</td>\n",
       "      <td>$858,373,000</td>\n",
       "      <td>$2,788,912,285</td>\n",
       "      <td>tt4154796</td>\n",
       "      <td>8.4</td>\n",
       "      <td>1225630</td>\n",
       "      <td>movie</td>\n",
       "      <td>0</td>\n",
       "      <td>2019</td>\n",
       "      <td>0</td>\n",
       "      <td>181</td>\n",
       "      <td>Action,Adventure,Drama</td>\n",
       "    </tr>\n",
       "    <tr>\n",
       "      <th>2</th>\n",
       "      <td>May 20, 2011</td>\n",
       "      <td>Pirates of the Caribbean: On Stranger Tides</td>\n",
       "      <td>$379,000,000</td>\n",
       "      <td>$241,071,802</td>\n",
       "      <td>$1,045,713,802</td>\n",
       "      <td>tt1298650</td>\n",
       "      <td>6.6</td>\n",
       "      <td>552692</td>\n",
       "      <td>movie</td>\n",
       "      <td>0</td>\n",
       "      <td>2011</td>\n",
       "      <td>0</td>\n",
       "      <td>137</td>\n",
       "      <td>Action,Adventure,Fantasy</td>\n",
       "    </tr>\n",
       "    <tr>\n",
       "      <th>3</th>\n",
       "      <td>Apr 22, 2015</td>\n",
       "      <td>Avengers: Age of Ultron</td>\n",
       "      <td>$365,000,000</td>\n",
       "      <td>$459,005,868</td>\n",
       "      <td>$1,395,316,979</td>\n",
       "      <td>tt2395427</td>\n",
       "      <td>7.3</td>\n",
       "      <td>904475</td>\n",
       "      <td>movie</td>\n",
       "      <td>0</td>\n",
       "      <td>2015</td>\n",
       "      <td>0</td>\n",
       "      <td>141</td>\n",
       "      <td>Action,Adventure,Sci-Fi</td>\n",
       "    </tr>\n",
       "    <tr>\n",
       "      <th>4</th>\n",
       "      <td>May 17, 2023</td>\n",
       "      <td>Fast X</td>\n",
       "      <td>$340,000,000</td>\n",
       "      <td>$145,960,660</td>\n",
       "      <td>$714,414,576</td>\n",
       "      <td>tt5433140</td>\n",
       "      <td>5.8</td>\n",
       "      <td>102145</td>\n",
       "      <td>movie</td>\n",
       "      <td>0</td>\n",
       "      <td>2023</td>\n",
       "      <td>0</td>\n",
       "      <td>141</td>\n",
       "      <td>Action,Adventure,Crime</td>\n",
       "    </tr>\n",
       "    <tr>\n",
       "      <th>...</th>\n",
       "      <td>...</td>\n",
       "      <td>...</td>\n",
       "      <td>...</td>\n",
       "      <td>...</td>\n",
       "      <td>...</td>\n",
       "      <td>...</td>\n",
       "      <td>...</td>\n",
       "      <td>...</td>\n",
       "      <td>...</td>\n",
       "      <td>...</td>\n",
       "      <td>...</td>\n",
       "      <td>...</td>\n",
       "      <td>...</td>\n",
       "      <td>...</td>\n",
       "    </tr>\n",
       "    <tr>\n",
       "      <th>8966</th>\n",
       "      <td>Apr 28, 2006</td>\n",
       "      <td>Clean</td>\n",
       "      <td>$10,000</td>\n",
       "      <td>$138,711</td>\n",
       "      <td>$138,711</td>\n",
       "      <td>tt17658456</td>\n",
       "      <td>7.3</td>\n",
       "      <td>153</td>\n",
       "      <td>movie</td>\n",
       "      <td>0</td>\n",
       "      <td>2022</td>\n",
       "      <td>0</td>\n",
       "      <td>92</td>\n",
       "      <td>Documentary</td>\n",
       "    </tr>\n",
       "    <tr>\n",
       "      <th>8967</th>\n",
       "      <td>Jul 6, 2001</td>\n",
       "      <td>Cure</td>\n",
       "      <td>$10,000</td>\n",
       "      <td>$94,596</td>\n",
       "      <td>$286,980</td>\n",
       "      <td>tt0123948</td>\n",
       "      <td>7.5</td>\n",
       "      <td>20751</td>\n",
       "      <td>movie</td>\n",
       "      <td>0</td>\n",
       "      <td>1997</td>\n",
       "      <td>0</td>\n",
       "      <td>111</td>\n",
       "      <td>Crime,Horror,Mystery</td>\n",
       "    </tr>\n",
       "    <tr>\n",
       "      <th>8968</th>\n",
       "      <td>Jul 6, 2001</td>\n",
       "      <td>Cure</td>\n",
       "      <td>$10,000</td>\n",
       "      <td>$94,596</td>\n",
       "      <td>$286,980</td>\n",
       "      <td>tt1872026</td>\n",
       "      <td>4.9</td>\n",
       "      <td>14</td>\n",
       "      <td>movie</td>\n",
       "      <td>0</td>\n",
       "      <td>2011</td>\n",
       "      <td>0</td>\n",
       "      <td>93</td>\n",
       "      <td>Drama</td>\n",
       "    </tr>\n",
       "    <tr>\n",
       "      <th>8969</th>\n",
       "      <td>May 28, 2004</td>\n",
       "      <td>On the Downlow</td>\n",
       "      <td>$10,000</td>\n",
       "      <td>$1,987</td>\n",
       "      <td>$1,987</td>\n",
       "      <td>tt0390323</td>\n",
       "      <td>5.6</td>\n",
       "      <td>186</td>\n",
       "      <td>movie</td>\n",
       "      <td>0</td>\n",
       "      <td>2004</td>\n",
       "      <td>0</td>\n",
       "      <td>84</td>\n",
       "      <td>Drama</td>\n",
       "    </tr>\n",
       "    <tr>\n",
       "      <th>8970</th>\n",
       "      <td>May 28, 2004</td>\n",
       "      <td>On the Downlow</td>\n",
       "      <td>$10,000</td>\n",
       "      <td>$1,987</td>\n",
       "      <td>$1,987</td>\n",
       "      <td>tt1014770</td>\n",
       "      <td>6.1</td>\n",
       "      <td>59</td>\n",
       "      <td>movie</td>\n",
       "      <td>0</td>\n",
       "      <td>2007</td>\n",
       "      <td>0</td>\n",
       "      <td>56</td>\n",
       "      <td>Documentary</td>\n",
       "    </tr>\n",
       "  </tbody>\n",
       "</table>\n",
       "<p>8971 rows × 14 columns</p>\n",
       "</div>"
      ],
      "text/plain": [
       "       ReleaseDate                                        Movie  \\\n",
       "0      Dec 9, 2022                     Avatar: The Way of Water   \n",
       "1     Apr 23, 2019                            Avengers: Endgame   \n",
       "2     May 20, 2011  Pirates of the Caribbean: On Stranger Tides   \n",
       "3     Apr 22, 2015                      Avengers: Age of Ultron   \n",
       "4     May 17, 2023                                       Fast X   \n",
       "...            ...                                          ...   \n",
       "8966  Apr 28, 2006                                        Clean   \n",
       "8967   Jul 6, 2001                                         Cure   \n",
       "8968   Jul 6, 2001                                         Cure   \n",
       "8969  May 28, 2004                               On the Downlow   \n",
       "8970  May 28, 2004                               On the Downlow   \n",
       "\n",
       "     ProductionBudget  DomesticGross   WorldwideGross      tconst  \\\n",
       "0        $460,000,000   $684,075,767   $2,319,591,720   tt1630029   \n",
       "1        $400,000,000   $858,373,000   $2,788,912,285   tt4154796   \n",
       "2        $379,000,000   $241,071,802   $1,045,713,802   tt1298650   \n",
       "3        $365,000,000   $459,005,868   $1,395,316,979   tt2395427   \n",
       "4        $340,000,000   $145,960,660     $714,414,576   tt5433140   \n",
       "...               ...            ...              ...         ...   \n",
       "8966          $10,000       $138,711         $138,711  tt17658456   \n",
       "8967          $10,000        $94,596         $286,980   tt0123948   \n",
       "8968          $10,000        $94,596         $286,980   tt1872026   \n",
       "8969          $10,000         $1,987           $1,987   tt0390323   \n",
       "8970          $10,000         $1,987           $1,987   tt1014770   \n",
       "\n",
       "      averageRating  numVotes titleType isAdult  startYear endYear  \\\n",
       "0               7.6    467330     movie       0       2022       0   \n",
       "1               8.4   1225630     movie       0       2019       0   \n",
       "2               6.6    552692     movie       0       2011       0   \n",
       "3               7.3    904475     movie       0       2015       0   \n",
       "4               5.8    102145     movie       0       2023       0   \n",
       "...             ...       ...       ...     ...        ...     ...   \n",
       "8966            7.3       153     movie       0       2022       0   \n",
       "8967            7.5     20751     movie       0       1997       0   \n",
       "8968            4.9        14     movie       0       2011       0   \n",
       "8969            5.6       186     movie       0       2004       0   \n",
       "8970            6.1        59     movie       0       2007       0   \n",
       "\n",
       "     runtimeMinutes                    genres  \n",
       "0               192  Action,Adventure,Fantasy  \n",
       "1               181    Action,Adventure,Drama  \n",
       "2               137  Action,Adventure,Fantasy  \n",
       "3               141   Action,Adventure,Sci-Fi  \n",
       "4               141    Action,Adventure,Crime  \n",
       "...             ...                       ...  \n",
       "8966             92               Documentary  \n",
       "8967            111      Crime,Horror,Mystery  \n",
       "8968             93                     Drama  \n",
       "8969             84                     Drama  \n",
       "8970             56               Documentary  \n",
       "\n",
       "[8971 rows x 14 columns]"
      ]
     },
     "execution_count": 36,
     "metadata": {},
     "output_type": "execute_result"
    }
   ],
   "source": [
    "merged_movies.head(-10)"
   ]
  },
  {
   "cell_type": "markdown",
   "metadata": {},
   "source": []
  },
  {
   "cell_type": "code",
   "execution_count": 26,
   "metadata": {},
   "outputs": [
    {
     "name": "stdout",
     "output_type": "stream",
     "text": [
      "8981\n"
     ]
    }
   ],
   "source": [
    "print(len(merged_movies))"
   ]
  },
  {
   "cell_type": "code",
   "execution_count": 27,
   "metadata": {
    "tags": []
   },
   "outputs": [],
   "source": [
    "merged_movies.to_csv(\"./Resources/movies_raw_imdb.csv\")"
   ]
  },
  {
   "cell_type": "markdown",
   "metadata": {},
   "source": [
    "# Format column data types from objects to numbers"
   ]
  },
  {
   "cell_type": "code",
   "execution_count": null,
   "metadata": {
    "tags": []
   },
   "outputs": [],
   "source": [
    "#  Import and read the data if you screwed up :)\n",
    "# movies_df = pd.read_csv(\"./Resources/movies_raw.csv\")\n",
    "# movies_df = movies_df[['ReleaseDate', 'Movie', 'ProductionBudget', 'DomesticGross', 'WorldwideGross', \n",
    "#                         'OMDB_Title', 'OMDB_Rated','OMDB_Released', 'OMDB_Runtime', 'OMDB_Genre', 'OMDB_Director',\n",
    "#                         'OMDB_Writer', 'OMDB_Actors', 'OMDB_Language', 'OMDB_Country', 'OMDB_Metascore', \n",
    "#                         'OMDB_imdbRating', 'OMDB_imdbVotes', 'OMDB_BoxOffice', 'OMDB_Production']]\n",
    "# movies_df.head()"
   ]
  },
  {
   "cell_type": "code",
   "execution_count": 28,
   "metadata": {},
   "outputs": [
    {
     "data": {
      "text/plain": [
       "ReleaseDate          object\n",
       "Movie                object\n",
       "ProductionBudget     object\n",
       "DomesticGross        object\n",
       "WorldwideGross       object\n",
       "tconst               object\n",
       "averageRating       float64\n",
       "numVotes              int64\n",
       "titleType            object\n",
       "isAdult              object\n",
       "startYear             int32\n",
       "endYear              object\n",
       "runtimeMinutes       object\n",
       "genres               object\n",
       "dtype: object"
      ]
     },
     "execution_count": 28,
     "metadata": {},
     "output_type": "execute_result"
    }
   ],
   "source": [
    "# Examine data type of each column\n",
    "merged_movies.dtypes"
   ]
  },
  {
   "cell_type": "code",
   "execution_count": 64,
   "metadata": {
    "tags": []
   },
   "outputs": [
    {
     "data": {
      "text/plain": [
       "ReleaseDate                 object\n",
       "Movie                       object\n",
       "ProductionBudget           float64\n",
       "DomesticGross              float64\n",
       "WorldwideGross             float64\n",
       "OMDB_Title                  object\n",
       "OMDB_Rated                  object\n",
       "OMDB_Released       datetime64[ns]\n",
       "OMDB_Runtime               float64\n",
       "OMDB_Genre                  object\n",
       "OMDB_Director               object\n",
       "OMDB_Writer                 object\n",
       "OMDB_Actors                 object\n",
       "OMDB_Language               object\n",
       "OMDB_Country                object\n",
       "OMDB_Metascore              object\n",
       "OMDB_imdbRating             object\n",
       "OMDB_imdbVotes             float64\n",
       "OMDB_BoxOffice             float64\n",
       "OMDB_Production             object\n",
       "dtype: object"
      ]
     },
     "execution_count": 64,
     "metadata": {},
     "output_type": "execute_result"
    }
   ],
   "source": []
  },
  {
   "cell_type": "code",
   "execution_count": 65,
   "metadata": {
    "tags": []
   },
   "outputs": [],
   "source": []
  },
  {
   "cell_type": "markdown",
   "metadata": {},
   "source": [
    "# Minor Processing"
   ]
  },
  {
   "cell_type": "markdown",
   "metadata": {},
   "source": [
    "## Convert dates into year and month columns removing date columns"
   ]
  },
  {
   "cell_type": "code",
   "execution_count": 29,
   "metadata": {
    "tags": []
   },
   "outputs": [
    {
     "ename": "ParserError",
     "evalue": "Unknown string format: Unknown present at position 263",
     "output_type": "error",
     "traceback": [
      "\u001b[1;31m---------------------------------------------------------------------------\u001b[0m",
      "\u001b[1;31mParserError\u001b[0m                               Traceback (most recent call last)",
      "File \u001b[1;32mc:\\Users\\bryan\\anaconda3\\envs\\dev\\Lib\\site-packages\\pandas\\_libs\\tslib.pyx:605\u001b[0m, in \u001b[0;36mpandas._libs.tslib.array_to_datetime\u001b[1;34m()\u001b[0m\n",
      "File \u001b[1;32mc:\\Users\\bryan\\anaconda3\\envs\\dev\\Lib\\site-packages\\pandas\\_libs\\tslibs\\parsing.pyx:318\u001b[0m, in \u001b[0;36mpandas._libs.tslibs.parsing.parse_datetime_string\u001b[1;34m()\u001b[0m\n",
      "File \u001b[1;32mc:\\Users\\bryan\\anaconda3\\envs\\dev\\Lib\\site-packages\\dateutil\\parser\\_parser.py:1368\u001b[0m, in \u001b[0;36mparse\u001b[1;34m(timestr, parserinfo, **kwargs)\u001b[0m\n\u001b[0;32m   1367\u001b[0m \u001b[39melse\u001b[39;00m:\n\u001b[1;32m-> 1368\u001b[0m     \u001b[39mreturn\u001b[39;00m DEFAULTPARSER\u001b[39m.\u001b[39mparse(timestr, \u001b[39m*\u001b[39m\u001b[39m*\u001b[39mkwargs)\n",
      "File \u001b[1;32mc:\\Users\\bryan\\anaconda3\\envs\\dev\\Lib\\site-packages\\dateutil\\parser\\_parser.py:643\u001b[0m, in \u001b[0;36mparser.parse\u001b[1;34m(self, timestr, default, ignoretz, tzinfos, **kwargs)\u001b[0m\n\u001b[0;32m    642\u001b[0m \u001b[39mif\u001b[39;00m res \u001b[39mis\u001b[39;00m \u001b[39mNone\u001b[39;00m:\n\u001b[1;32m--> 643\u001b[0m     \u001b[39mraise\u001b[39;00m ParserError(\u001b[39m\"\u001b[39m\u001b[39mUnknown string format: \u001b[39m\u001b[39m%s\u001b[39;00m\u001b[39m\"\u001b[39m, timestr)\n\u001b[0;32m    645\u001b[0m \u001b[39mif\u001b[39;00m \u001b[39mlen\u001b[39m(res) \u001b[39m==\u001b[39m \u001b[39m0\u001b[39m:\n",
      "\u001b[1;31mParserError\u001b[0m: Unknown string format: Unknown",
      "\nDuring handling of the above exception, another exception occurred:\n",
      "\u001b[1;31mTypeError\u001b[0m                                 Traceback (most recent call last)",
      "File \u001b[1;32mc:\\Users\\bryan\\anaconda3\\envs\\dev\\Lib\\site-packages\\pandas\\_libs\\tslib.pyx:616\u001b[0m, in \u001b[0;36mpandas._libs.tslib.array_to_datetime\u001b[1;34m()\u001b[0m\n",
      "\u001b[1;31mTypeError\u001b[0m: invalid string coercion to datetime for \"Unknown\" at position 263",
      "\nDuring handling of the above exception, another exception occurred:\n",
      "\u001b[1;31mParserError\u001b[0m                               Traceback (most recent call last)",
      "\u001b[1;32mc:\\Users\\bryan\\Documents\\Final_Project\\data_collection2.ipynb Cell 24\u001b[0m line \u001b[0;36m8\n\u001b[0;32m      <a href='vscode-notebook-cell:/c%3A/Users/bryan/Documents/Final_Project/data_collection2.ipynb#X32sZmlsZQ%3D%3D?line=0'>1</a>\u001b[0m \u001b[39m#  Import and read the data if you screwed up :)\u001b[39;00m\n\u001b[0;32m      <a href='vscode-notebook-cell:/c%3A/Users/bryan/Documents/Final_Project/data_collection2.ipynb#X32sZmlsZQ%3D%3D?line=1'>2</a>\u001b[0m \u001b[39m# movies_df = pd.read_csv(\"./Resources/movies_formatted_imdb.csv\")\u001b[39;00m\n\u001b[0;32m      <a href='vscode-notebook-cell:/c%3A/Users/bryan/Documents/Final_Project/data_collection2.ipynb#X32sZmlsZQ%3D%3D?line=2'>3</a>\u001b[0m \u001b[39m# movies_df = movies_df[['ReleaseDate', 'Movie', 'ProductionBudget', 'DomesticGross', 'WorldwideGross', \u001b[39;00m\n\u001b[1;32m   (...)\u001b[0m\n\u001b[0;32m      <a href='vscode-notebook-cell:/c%3A/Users/bryan/Documents/Final_Project/data_collection2.ipynb#X32sZmlsZQ%3D%3D?line=5'>6</a>\u001b[0m \u001b[39m#                        'OMDB_imdbRating', 'OMDB_imdbVotes', 'OMDB_BoxOffice', 'OMDB_Production']]\u001b[39;00m\n\u001b[0;32m      <a href='vscode-notebook-cell:/c%3A/Users/bryan/Documents/Final_Project/data_collection2.ipynb#X32sZmlsZQ%3D%3D?line=6'>7</a>\u001b[0m \u001b[39m# Change date to datetime type (Note \"ReleaseDate\" has inconsistent formatting / typos)\u001b[39;00m\n\u001b[1;32m----> <a href='vscode-notebook-cell:/c%3A/Users/bryan/Documents/Final_Project/data_collection2.ipynb#X32sZmlsZQ%3D%3D?line=7'>8</a>\u001b[0m merged_movies[\u001b[39m\"\u001b[39m\u001b[39mReleaseDate\u001b[39m\u001b[39m\"\u001b[39m] \u001b[39m=\u001b[39m pd\u001b[39m.\u001b[39mto_datetime(merged_movies[\u001b[39m\"\u001b[39m\u001b[39mReleaseDate\u001b[39m\u001b[39m\"\u001b[39m])\n\u001b[0;32m      <a href='vscode-notebook-cell:/c%3A/Users/bryan/Documents/Final_Project/data_collection2.ipynb#X32sZmlsZQ%3D%3D?line=8'>9</a>\u001b[0m merged_movies\n",
      "File \u001b[1;32mc:\\Users\\bryan\\anaconda3\\envs\\dev\\Lib\\site-packages\\pandas\\core\\tools\\datetimes.py:1064\u001b[0m, in \u001b[0;36mto_datetime\u001b[1;34m(arg, errors, dayfirst, yearfirst, utc, format, exact, unit, infer_datetime_format, origin, cache)\u001b[0m\n\u001b[0;32m   1062\u001b[0m             result \u001b[39m=\u001b[39m arg\u001b[39m.\u001b[39mtz_localize(tz)\n\u001b[0;32m   1063\u001b[0m \u001b[39melif\u001b[39;00m \u001b[39misinstance\u001b[39m(arg, ABCSeries):\n\u001b[1;32m-> 1064\u001b[0m     cache_array \u001b[39m=\u001b[39m _maybe_cache(arg, \u001b[39mformat\u001b[39m, cache, convert_listlike)\n\u001b[0;32m   1065\u001b[0m     \u001b[39mif\u001b[39;00m \u001b[39mnot\u001b[39;00m cache_array\u001b[39m.\u001b[39mempty:\n\u001b[0;32m   1066\u001b[0m         result \u001b[39m=\u001b[39m arg\u001b[39m.\u001b[39mmap(cache_array)\n",
      "File \u001b[1;32mc:\\Users\\bryan\\anaconda3\\envs\\dev\\Lib\\site-packages\\pandas\\core\\tools\\datetimes.py:229\u001b[0m, in \u001b[0;36m_maybe_cache\u001b[1;34m(arg, format, cache, convert_listlike)\u001b[0m\n\u001b[0;32m    227\u001b[0m unique_dates \u001b[39m=\u001b[39m unique(arg)\n\u001b[0;32m    228\u001b[0m \u001b[39mif\u001b[39;00m \u001b[39mlen\u001b[39m(unique_dates) \u001b[39m<\u001b[39m \u001b[39mlen\u001b[39m(arg):\n\u001b[1;32m--> 229\u001b[0m     cache_dates \u001b[39m=\u001b[39m convert_listlike(unique_dates, \u001b[39mformat\u001b[39m)\n\u001b[0;32m    230\u001b[0m     \u001b[39m# GH#45319\u001b[39;00m\n\u001b[0;32m    231\u001b[0m     \u001b[39mtry\u001b[39;00m:\n",
      "File \u001b[1;32mc:\\Users\\bryan\\anaconda3\\envs\\dev\\Lib\\site-packages\\pandas\\core\\tools\\datetimes.py:438\u001b[0m, in \u001b[0;36m_convert_listlike_datetimes\u001b[1;34m(arg, format, name, tz, unit, errors, infer_datetime_format, dayfirst, yearfirst, exact)\u001b[0m\n\u001b[0;32m    436\u001b[0m \u001b[39massert\u001b[39;00m \u001b[39mformat\u001b[39m \u001b[39mis\u001b[39;00m \u001b[39mNone\u001b[39;00m \u001b[39mor\u001b[39;00m infer_datetime_format\n\u001b[0;32m    437\u001b[0m utc \u001b[39m=\u001b[39m tz \u001b[39m==\u001b[39m \u001b[39m\"\u001b[39m\u001b[39mutc\u001b[39m\u001b[39m\"\u001b[39m\n\u001b[1;32m--> 438\u001b[0m result, tz_parsed \u001b[39m=\u001b[39m objects_to_datetime64ns(\n\u001b[0;32m    439\u001b[0m     arg,\n\u001b[0;32m    440\u001b[0m     dayfirst\u001b[39m=\u001b[39mdayfirst,\n\u001b[0;32m    441\u001b[0m     yearfirst\u001b[39m=\u001b[39myearfirst,\n\u001b[0;32m    442\u001b[0m     utc\u001b[39m=\u001b[39mutc,\n\u001b[0;32m    443\u001b[0m     errors\u001b[39m=\u001b[39merrors,\n\u001b[0;32m    444\u001b[0m     require_iso8601\u001b[39m=\u001b[39mrequire_iso8601,\n\u001b[0;32m    445\u001b[0m     allow_object\u001b[39m=\u001b[39m\u001b[39mTrue\u001b[39;00m,\n\u001b[0;32m    446\u001b[0m )\n\u001b[0;32m    448\u001b[0m \u001b[39mif\u001b[39;00m tz_parsed \u001b[39mis\u001b[39;00m \u001b[39mnot\u001b[39;00m \u001b[39mNone\u001b[39;00m:\n\u001b[0;32m    449\u001b[0m     \u001b[39m# We can take a shortcut since the datetime64 numpy array\u001b[39;00m\n\u001b[0;32m    450\u001b[0m     \u001b[39m# is in UTC\u001b[39;00m\n\u001b[0;32m    451\u001b[0m     dta \u001b[39m=\u001b[39m DatetimeArray(result, dtype\u001b[39m=\u001b[39mtz_to_dtype(tz_parsed))\n",
      "File \u001b[1;32mc:\\Users\\bryan\\anaconda3\\envs\\dev\\Lib\\site-packages\\pandas\\core\\arrays\\datetimes.py:2177\u001b[0m, in \u001b[0;36mobjects_to_datetime64ns\u001b[1;34m(data, dayfirst, yearfirst, utc, errors, require_iso8601, allow_object, allow_mixed)\u001b[0m\n\u001b[0;32m   2175\u001b[0m order: Literal[\u001b[39m\"\u001b[39m\u001b[39mF\u001b[39m\u001b[39m\"\u001b[39m, \u001b[39m\"\u001b[39m\u001b[39mC\u001b[39m\u001b[39m\"\u001b[39m] \u001b[39m=\u001b[39m \u001b[39m\"\u001b[39m\u001b[39mF\u001b[39m\u001b[39m\"\u001b[39m \u001b[39mif\u001b[39;00m flags\u001b[39m.\u001b[39mf_contiguous \u001b[39melse\u001b[39;00m \u001b[39m\"\u001b[39m\u001b[39mC\u001b[39m\u001b[39m\"\u001b[39m\n\u001b[0;32m   2176\u001b[0m \u001b[39mtry\u001b[39;00m:\n\u001b[1;32m-> 2177\u001b[0m     result, tz_parsed \u001b[39m=\u001b[39m tslib\u001b[39m.\u001b[39marray_to_datetime(\n\u001b[0;32m   2178\u001b[0m         data\u001b[39m.\u001b[39mravel(\u001b[39m\"\u001b[39m\u001b[39mK\u001b[39m\u001b[39m\"\u001b[39m),\n\u001b[0;32m   2179\u001b[0m         errors\u001b[39m=\u001b[39merrors,\n\u001b[0;32m   2180\u001b[0m         utc\u001b[39m=\u001b[39mutc,\n\u001b[0;32m   2181\u001b[0m         dayfirst\u001b[39m=\u001b[39mdayfirst,\n\u001b[0;32m   2182\u001b[0m         yearfirst\u001b[39m=\u001b[39myearfirst,\n\u001b[0;32m   2183\u001b[0m         require_iso8601\u001b[39m=\u001b[39mrequire_iso8601,\n\u001b[0;32m   2184\u001b[0m         allow_mixed\u001b[39m=\u001b[39mallow_mixed,\n\u001b[0;32m   2185\u001b[0m     )\n\u001b[0;32m   2186\u001b[0m     result \u001b[39m=\u001b[39m result\u001b[39m.\u001b[39mreshape(data\u001b[39m.\u001b[39mshape, order\u001b[39m=\u001b[39morder)\n\u001b[0;32m   2187\u001b[0m \u001b[39mexcept\u001b[39;00m \u001b[39mOverflowError\u001b[39;00m \u001b[39mas\u001b[39;00m err:\n\u001b[0;32m   2188\u001b[0m     \u001b[39m# Exception is raised when a part of date is greater than 32 bit signed int\u001b[39;00m\n",
      "File \u001b[1;32mc:\\Users\\bryan\\anaconda3\\envs\\dev\\Lib\\site-packages\\pandas\\_libs\\tslib.pyx:427\u001b[0m, in \u001b[0;36mpandas._libs.tslib.array_to_datetime\u001b[1;34m()\u001b[0m\n",
      "File \u001b[1;32mc:\\Users\\bryan\\anaconda3\\envs\\dev\\Lib\\site-packages\\pandas\\_libs\\tslib.pyx:683\u001b[0m, in \u001b[0;36mpandas._libs.tslib.array_to_datetime\u001b[1;34m()\u001b[0m\n",
      "File \u001b[1;32mc:\\Users\\bryan\\anaconda3\\envs\\dev\\Lib\\site-packages\\pandas\\_libs\\tslib.pyx:829\u001b[0m, in \u001b[0;36mpandas._libs.tslib._array_to_datetime_object\u001b[1;34m()\u001b[0m\n",
      "File \u001b[1;32mc:\\Users\\bryan\\anaconda3\\envs\\dev\\Lib\\site-packages\\pandas\\_libs\\tslib.pyx:819\u001b[0m, in \u001b[0;36mpandas._libs.tslib._array_to_datetime_object\u001b[1;34m()\u001b[0m\n",
      "File \u001b[1;32mc:\\Users\\bryan\\anaconda3\\envs\\dev\\Lib\\site-packages\\pandas\\_libs\\tslibs\\parsing.pyx:318\u001b[0m, in \u001b[0;36mpandas._libs.tslibs.parsing.parse_datetime_string\u001b[1;34m()\u001b[0m\n",
      "File \u001b[1;32mc:\\Users\\bryan\\anaconda3\\envs\\dev\\Lib\\site-packages\\dateutil\\parser\\_parser.py:1368\u001b[0m, in \u001b[0;36mparse\u001b[1;34m(timestr, parserinfo, **kwargs)\u001b[0m\n\u001b[0;32m   1366\u001b[0m     \u001b[39mreturn\u001b[39;00m parser(parserinfo)\u001b[39m.\u001b[39mparse(timestr, \u001b[39m*\u001b[39m\u001b[39m*\u001b[39mkwargs)\n\u001b[0;32m   1367\u001b[0m \u001b[39melse\u001b[39;00m:\n\u001b[1;32m-> 1368\u001b[0m     \u001b[39mreturn\u001b[39;00m DEFAULTPARSER\u001b[39m.\u001b[39mparse(timestr, \u001b[39m*\u001b[39m\u001b[39m*\u001b[39mkwargs)\n",
      "File \u001b[1;32mc:\\Users\\bryan\\anaconda3\\envs\\dev\\Lib\\site-packages\\dateutil\\parser\\_parser.py:643\u001b[0m, in \u001b[0;36mparser.parse\u001b[1;34m(self, timestr, default, ignoretz, tzinfos, **kwargs)\u001b[0m\n\u001b[0;32m    640\u001b[0m res, skipped_tokens \u001b[39m=\u001b[39m \u001b[39mself\u001b[39m\u001b[39m.\u001b[39m_parse(timestr, \u001b[39m*\u001b[39m\u001b[39m*\u001b[39mkwargs)\n\u001b[0;32m    642\u001b[0m \u001b[39mif\u001b[39;00m res \u001b[39mis\u001b[39;00m \u001b[39mNone\u001b[39;00m:\n\u001b[1;32m--> 643\u001b[0m     \u001b[39mraise\u001b[39;00m ParserError(\u001b[39m\"\u001b[39m\u001b[39mUnknown string format: \u001b[39m\u001b[39m%s\u001b[39;00m\u001b[39m\"\u001b[39m, timestr)\n\u001b[0;32m    645\u001b[0m \u001b[39mif\u001b[39;00m \u001b[39mlen\u001b[39m(res) \u001b[39m==\u001b[39m \u001b[39m0\u001b[39m:\n\u001b[0;32m    646\u001b[0m     \u001b[39mraise\u001b[39;00m ParserError(\u001b[39m\"\u001b[39m\u001b[39mString does not contain a date: \u001b[39m\u001b[39m%s\u001b[39;00m\u001b[39m\"\u001b[39m, timestr)\n",
      "\u001b[1;31mParserError\u001b[0m: Unknown string format: Unknown present at position 263"
     ]
    }
   ],
   "source": [
    "#  Import and read the data if you screwed up :)\n",
    "# movies_df = pd.read_csv(\"./Resources/movies_formatted_imdb.csv\")\n",
    "# movies_df = movies_df[['ReleaseDate', 'Movie', 'ProductionBudget', 'DomesticGross', 'WorldwideGross', \n",
    "#                        'OMDB_Title', 'OMDB_Rated','OMDB_Released', 'OMDB_Runtime', 'OMDB_Genre', 'OMDB_Director',\n",
    "#                        'OMDB_Writer', 'OMDB_Actors', 'OMDB_Language', 'OMDB_Country', 'OMDB_Metascore', \n",
    "#                        'OMDB_imdbRating', 'OMDB_imdbVotes', 'OMDB_BoxOffice', 'OMDB_Production']]\n",
    "# Change date to datetime type (Note \"ReleaseDate\" has inconsistent formatting / typos)\n",
    "merged_movies[\"ReleaseDate\"] = pd.to_datetime(merged_movies[\"ReleaseDate\"])\n",
    "merged_movies"
   ]
  },
  {
   "cell_type": "code",
   "execution_count": 14,
   "metadata": {
    "tags": []
   },
   "outputs": [
    {
     "data": {
      "text/plain": [
       "ReleaseDate         object\n",
       "Movie               object\n",
       "ProductionBudget    object\n",
       "DomesticGross       object\n",
       "WorldwideGross      object\n",
       "dtype: object"
      ]
     },
     "execution_count": 14,
     "metadata": {},
     "output_type": "execute_result"
    }
   ],
   "source": [
    "merged_movies.dtypes"
   ]
  },
  {
   "cell_type": "markdown",
   "metadata": {},
   "source": [
    "## Look at what values should be consolidated"
   ]
  },
  {
   "cell_type": "code",
   "execution_count": 23,
   "metadata": {
    "tags": []
   },
   "outputs": [
    {
     "data": {
      "text/plain": [
       "Index(['ReleaseDate', 'Movie', 'ProductionBudget', 'DomesticGross',\n",
       "       'WorldwideGross'],\n",
       "      dtype='object')"
      ]
     },
     "execution_count": 23,
     "metadata": {},
     "output_type": "execute_result"
    }
   ],
   "source": [
    "movies_df.columns"
   ]
  },
  {
   "cell_type": "code",
   "execution_count": 70,
   "metadata": {
    "tags": []
   },
   "outputs": [
    {
     "data": {
      "text/plain": [
       "Series([], Name: OMDB_Rated, dtype: int64)"
      ]
     },
     "execution_count": 70,
     "metadata": {},
     "output_type": "execute_result"
    }
   ],
   "source": [
    "# Look at Rated values to see if consolidation would be beneficial\n",
    "movies_df['OMDB_Rated'].value_counts()"
   ]
  },
  {
   "cell_type": "code",
   "execution_count": 39,
   "metadata": {
    "tags": []
   },
   "outputs": [
    {
     "name": "stdout",
     "output_type": "stream",
     "text": [
      "Number of movies in dataset: 8981\n"
     ]
    },
    {
     "data": {
      "image/png": "[encoded data removed]",
      "text/plain": [
       "<Figure size 640x480 with 1 Axes>"
      ]
     },
     "metadata": {},
     "output_type": "display_data"
    }
   ],
   "source": [
    "# for index, row in movies_df.iterrows():\n",
    "#     movie_year = row['ReleaseYear']\n",
    "#     if movie_year <= 1970:\n",
    "#         movies_df.at[index,'ReleaseYear'] = '1970 or before'\n",
    "\n",
    "# movies_df['ReleaseYear'].value_counts()\n",
    "\n",
    "# Drop the earlier movies (low count and significant $ differences)\n",
    "\n",
    "print(f'Number of movies in dataset: {len(merged_movies)}')\n",
    "year_hist2 = merged_movies['startYear'].hist(bins=11, legend=True)"
   ]
  },
  {
   "cell_type": "markdown",
   "metadata": {},
   "source": [
    "# Investigate distribution and relationships of potential outcomes"
   ]
  },
  {
   "cell_type": "code",
   "execution_count": 77,
   "metadata": {
    "tags": []
   },
   "outputs": [
    {
     "data": {
      "image/png": "[encoded data removed]",
      "text/plain": [
       "<Figure size 640x480 with 1 Axes>"
      ]
     },
     "metadata": {},
     "output_type": "display_data"
    }
   ],
   "source": [
    "meta_hist = movies_df['OMDB_Metascore'].hist(bins=11, legend=True)"
   ]
  },
  {
   "cell_type": "code",
   "execution_count": 78,
   "metadata": {
    "tags": []
   },
   "outputs": [
    {
     "data": {
      "image/png": "[encoded data removed]",
      "text/plain": [
       "<Figure size 640x480 with 1 Axes>"
      ]
     },
     "metadata": {},
     "output_type": "display_data"
    }
   ],
   "source": [
    "imdb_rating_hist = movies_df['OMDB_imdbRating'].hist(bins=11, legend=True)"
   ]
  },
  {
   "cell_type": "code",
   "execution_count": 79,
   "metadata": {
    "tags": []
   },
   "outputs": [
    {
     "data": {
      "image/png": "[encoded data removed]",
      "text/plain": [
       "<Figure size 640x480 with 1 Axes>"
      ]
     },
     "metadata": {},
     "output_type": "display_data"
    }
   ],
   "source": [
    "box_office_hist = movies_df['OMDB_BoxOffice'].hist(bins=33, legend=True)"
   ]
  },
  {
   "cell_type": "code",
   "execution_count": 82,
   "metadata": {
    "tags": []
   },
   "outputs": [
    {
     "name": "stdout",
     "output_type": "stream",
     "text": [
      "Number of movies in dataset: 4739\n"
     ]
    },
    {
     "data": {
      "image/png": "[encoded data removed]",
      "text/plain": [
       "<Figure size 640x480 with 1 Axes>"
      ]
     },
     "metadata": {},
     "output_type": "display_data"
    }
   ],
   "source": [
    "lower_boxoffice_movies_df = movies_df[movies_df['OMDB_BoxOffice'] <= 200000000]\n",
    "print(f'Number of movies in dataset: {len(lower_boxoffice_movies_df)}')\n",
    "lower_box_office_hist = lower_boxoffice_movies_df['OMDB_BoxOffice'].hist(bins=11, legend=True)"
   ]
  },
  {
   "cell_type": "markdown",
   "metadata": {},
   "source": [
    "### Verify assumed Metascore & IMDB Rating correlation"
   ]
  },
  {
   "cell_type": "code",
   "execution_count": 89,
   "metadata": {
    "tags": []
   },
   "outputs": [
    {
     "name": "stdout",
     "output_type": "stream",
     "text": [
      "y = nanx + nan\n",
      "The r-squared is: nan\n"
     ]
    },
    {
     "data": {
      "image/png": "[encoded data removed]",
      "text/plain": [
       "<Figure size 640x480 with 1 Axes>"
      ]
     },
     "metadata": {},
     "output_type": "display_data"
    }
   ],
   "source": [
    "# Plot the different factors in a scatter plot\n",
    "x_values = movies_df_no_nan['OMDB_Metascore']\n",
    "y_values = movies_df_no_nan['OMDB_imdbRating']\n",
    "\n",
    "(slope, intercept, rvalue, pvalue, stderr) = linregress(x_values, y_values)\n",
    "regress_values = x_values * slope + intercept\n",
    "line_eq = \"y = \" + str(round(slope,2)) + \"x + \" + str(round(intercept,2))\n",
    "\n",
    "plt.scatter(x_values,y_values)\n",
    "plt.plot(x_values,regress_values,\"r-\")\n",
    "plt.annotate(line_eq,(0,50),fontsize=15,color=\"red\")\n",
    "plt.xlabel('Metascore')\n",
    "plt.ylabel('IMDB Rating')\n",
    "\n",
    "print(line_eq)\n",
    "print(f\"The r-squared is: {rvalue**2}\")\n",
    "plt.show()"
   ]
  },
  {
   "cell_type": "code",
   "execution_count": 90,
   "metadata": {
    "tags": []
   },
   "outputs": [
    {
     "name": "stdout",
     "output_type": "stream",
     "text": [
      "y = 0.04x + 4.22\n",
      "The r-squared is: 0.5439566348155748\n"
     ]
    },
    {
     "data": {
      "image/png": "[encoded data removed]",
      "text/plain": [
       "<Figure size 640x480 with 1 Axes>"
      ]
     },
     "metadata": {},
     "output_type": "display_data"
    }
   ],
   "source": [
    "# Plot the different factors in a scatter plot\n",
    "movies_df_no_nan = movies_df[['OMDB_Metascore', 'OMDB_imdbRating']]\n",
    "movies_df_no_nan = movies_df_no_nan.dropna()\n",
    "\n",
    "x_values = movies_df_no_nan['OMDB_Metascore']\n",
    "y_values = movies_df_no_nan['OMDB_imdbRating']\n",
    "\n",
    "(slope, intercept, rvalue, pvalue, stderr) = linregress(x_values, y_values)\n",
    "regress_values = x_values * slope + intercept\n",
    "line_eq = \"y = \" + str(round(slope,2)) + \"x + \" + str(round(intercept,2))\n",
    "\n",
    "plt.scatter(x_values,y_values)\n",
    "plt.plot(x_values,regress_values,\"r-\")\n",
    "plt.annotate(line_eq,(0,50),fontsize=15,color=\"red\")\n",
    "plt.xlabel('Metascore')\n",
    "plt.ylabel('IMDB Rating')\n",
    "\n",
    "print(line_eq)\n",
    "print(f\"The r-squared is: {rvalue**2}\")\n",
    "plt.show()"
   ]
  },
  {
   "cell_type": "markdown",
   "metadata": {},
   "source": [
    "### Check for relationship of production budget vs. IMDB rating / MetaScore / BoxOffice"
   ]
  },
  {
   "cell_type": "code",
   "execution_count": 91,
   "metadata": {
    "tags": []
   },
   "outputs": [
    {
     "name": "stdout",
     "output_type": "stream",
     "text": [
      "y = 0.0x + 6.25\n",
      "The r-squared is: 0.013850825879718294\n"
     ]
    },
    {
     "data": {
      "image/png": "[encoded data removed]",
      "text/plain": [
       "<Figure size 640x480 with 1 Axes>"
      ]
     },
     "metadata": {},
     "output_type": "display_data"
    }
   ],
   "source": [
    "# Plot the different factors in a scatter plot\n",
    "movies_df_no_nan = movies_df[['ProductionBudget', 'OMDB_imdbRating']]\n",
    "movies_df_no_nan = movies_df_no_nan.dropna()\n",
    "\n",
    "x_values = movies_df_no_nan['ProductionBudget']\n",
    "y_values = movies_df_no_nan['OMDB_imdbRating']\n",
    "\n",
    "(slope, intercept, rvalue, pvalue, stderr) = linregress(x_values, y_values)\n",
    "regress_values = x_values * slope + intercept\n",
    "line_eq = \"y = \" + str(round(slope,2)) + \"x + \" + str(round(intercept,2))\n",
    "\n",
    "plt.scatter(x_values,y_values)\n",
    "plt.plot(x_values,regress_values,\"r-\")\n",
    "plt.annotate(line_eq,(0,50),fontsize=15,color=\"red\")\n",
    "plt.xlabel('Production Budget')\n",
    "plt.ylabel('IMDB Rating')\n",
    "\n",
    "print(line_eq)\n",
    "print(f\"The r-squared is: {rvalue**2}\")\n",
    "plt.show()"
   ]
  },
  {
   "cell_type": "code",
   "execution_count": 93,
   "metadata": {
    "tags": []
   },
   "outputs": [
    {
     "name": "stdout",
     "output_type": "stream",
     "text": [
      "y = 0.0x + 54.34\n",
      "The r-squared is: 0.00018681924883646024\n"
     ]
    },
    {
     "data": {
      "image/png": "[encoded data removed]",
      "text/plain": [
       "<Figure size 640x480 with 1 Axes>"
      ]
     },
     "metadata": {},
     "output_type": "display_data"
    }
   ],
   "source": [
    "# Plot the different factors in a scatter plot\n",
    "movies_df_no_nan = movies_df[['ProductionBudget', 'OMDB_Metascore']]\n",
    "movies_df_no_nan = movies_df_no_nan.dropna()\n",
    "\n",
    "x_values = movies_df_no_nan['ProductionBudget']\n",
    "y_values = movies_df_no_nan['OMDB_Metascore']\n",
    "\n",
    "(slope, intercept, rvalue, pvalue, stderr) = linregress(x_values, y_values)\n",
    "regress_values = x_values * slope + intercept\n",
    "line_eq = \"y = \" + str(round(slope,2)) + \"x + \" + str(round(intercept,2))\n",
    "\n",
    "plt.scatter(x_values,y_values)\n",
    "plt.plot(x_values,regress_values,\"r-\")\n",
    "plt.annotate(line_eq,(0,50),fontsize=15,color=\"red\")\n",
    "plt.xlabel('Production Budget')\n",
    "plt.ylabel('Metascore')\n",
    "\n",
    "print(line_eq)\n",
    "print(f\"The r-squared is: {rvalue**2}\")\n",
    "plt.show()"
   ]
  },
  {
   "cell_type": "code",
   "execution_count": 94,
   "metadata": {
    "tags": []
   },
   "outputs": [
    {
     "name": "stdout",
     "output_type": "stream",
     "text": [
      "y = 1.1x + 9030813.49\n",
      "The r-squared is: 0.4452612442399615\n"
     ]
    },
    {
     "data": {
      "image/png": "[encoded data removed]",
      "text/plain": [
       "<Figure size 640x480 with 1 Axes>"
      ]
     },
     "metadata": {},
     "output_type": "display_data"
    }
   ],
   "source": [
    "# Plot the different factors in a scatter plot\n",
    "movies_df_no_nan = movies_df[['ProductionBudget', 'OMDB_BoxOffice']]\n",
    "movies_df_no_nan = movies_df_no_nan.dropna()\n",
    "\n",
    "x_values = movies_df_no_nan['ProductionBudget']\n",
    "y_values = movies_df_no_nan['OMDB_BoxOffice']\n",
    "\n",
    "(slope, intercept, rvalue, pvalue, stderr) = linregress(x_values, y_values)\n",
    "regress_values = x_values * slope + intercept\n",
    "line_eq = \"y = \" + str(round(slope,2)) + \"x + \" + str(round(intercept,2))\n",
    "\n",
    "plt.scatter(x_values,y_values)\n",
    "plt.plot(x_values,regress_values,\"r-\")\n",
    "plt.annotate(line_eq,(0,50),fontsize=15,color=\"red\")\n",
    "plt.xlabel('Production Budget')\n",
    "plt.ylabel('OMDB_BoxOffice')\n",
    "\n",
    "print(line_eq)\n",
    "print(f\"The r-squared is: {rvalue**2}\")\n",
    "plt.show()"
   ]
  },
  {
   "cell_type": "code",
   "execution_count": 95,
   "metadata": {
    "tags": []
   },
   "outputs": [],
   "source": [
    "movies_df.to_csv(\"./Resources/movies_processed.csv\")"
   ]
  },
  {
   "cell_type": "code",
   "execution_count": null,
   "metadata": {},
   "outputs": [],
   "source": []
  }
 ],
 "metadata": {
  "kernelspec": {
   "display_name": "Python 3 (ipykernel)",
   "language": "python",
   "name": "python3"
  },
  "language_info": {
   "codemirror_mode": {
    "name": "ipython",
    "version": 3
   },
   "file_extension": ".py",
   "mimetype": "text/x-python",
   "name": "python",
   "nbconvert_exporter": "python",
   "pygments_lexer": "ipython3",
   "version": "3.10.11"
  },
  "vscode": {
   "interpreter": {
    "hash": "31f2aee4e71d21fbe5cf8b01ff0e069b9275f58929596ceb00d14d90e3e16cd6"
   }
  }
 },
 "nbformat": 4,
 "nbformat_minor": 4
}
